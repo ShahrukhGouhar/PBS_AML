{
 "cells": [
  {
   "cell_type": "code",
   "execution_count": 1,
   "metadata": {},
   "outputs": [],
   "source": [
    "import pandas as pd\n",
    "import numpy as np\n",
    "import matplotlib.pyplot as plt\n",
    "import seaborn as sns\n",
    "from sklearn.svm import SVC, SVR\n",
    "from sklearn.model_selection import RandomizedSearchCV,GridSearchCV, train_test_split\n",
    "from sklearn.metrics import confusion_matrix, cohen_kappa_score, accuracy_score,make_scorer "
   ]
  },
  {
   "cell_type": "code",
   "execution_count": 3,
   "metadata": {},
   "outputs": [],
   "source": [
    "# !pip install shap\n",
    "import shap"
   ]
  },
  {
   "cell_type": "code",
   "execution_count": 4,
   "metadata": {},
   "outputs": [
    {
     "data": {
      "text/html": [
       "<div>\n",
       "<style scoped>\n",
       "    .dataframe tbody tr th:only-of-type {\n",
       "        vertical-align: middle;\n",
       "    }\n",
       "\n",
       "    .dataframe tbody tr th {\n",
       "        vertical-align: top;\n",
       "    }\n",
       "\n",
       "    .dataframe thead th {\n",
       "        text-align: right;\n",
       "    }\n",
       "</style>\n",
       "<table border=\"1\" class=\"dataframe\">\n",
       "  <thead>\n",
       "    <tr style=\"text-align: right;\">\n",
       "      <th></th>\n",
       "      <th>0</th>\n",
       "      <th>1</th>\n",
       "      <th>2</th>\n",
       "      <th>3</th>\n",
       "      <th>4</th>\n",
       "      <th>5</th>\n",
       "      <th>6</th>\n",
       "      <th>7</th>\n",
       "      <th>8</th>\n",
       "      <th>9</th>\n",
       "      <th>...</th>\n",
       "      <th>64</th>\n",
       "      <th>65</th>\n",
       "      <th>66</th>\n",
       "      <th>67</th>\n",
       "      <th>68</th>\n",
       "      <th>69</th>\n",
       "      <th>70</th>\n",
       "      <th>71</th>\n",
       "      <th>72</th>\n",
       "      <th>73</th>\n",
       "    </tr>\n",
       "  </thead>\n",
       "  <tbody>\n",
       "    <tr>\n",
       "      <th>0</th>\n",
       "      <td>1/1/1998</td>\n",
       "      <td>0.8</td>\n",
       "      <td>1.8</td>\n",
       "      <td>2.4</td>\n",
       "      <td>2.1</td>\n",
       "      <td>2.0</td>\n",
       "      <td>2.1</td>\n",
       "      <td>1.5</td>\n",
       "      <td>1.7</td>\n",
       "      <td>1.9</td>\n",
       "      <td>...</td>\n",
       "      <td>0.15</td>\n",
       "      <td>10.67</td>\n",
       "      <td>-1.56</td>\n",
       "      <td>5795.0</td>\n",
       "      <td>-12.10</td>\n",
       "      <td>17.9</td>\n",
       "      <td>10330.0</td>\n",
       "      <td>-55.0</td>\n",
       "      <td>0.00</td>\n",
       "      <td>0.0</td>\n",
       "    </tr>\n",
       "    <tr>\n",
       "      <th>1</th>\n",
       "      <td>1/2/1998</td>\n",
       "      <td>2.8</td>\n",
       "      <td>3.2</td>\n",
       "      <td>3.3</td>\n",
       "      <td>2.7</td>\n",
       "      <td>3.3</td>\n",
       "      <td>3.2</td>\n",
       "      <td>2.9</td>\n",
       "      <td>2.8</td>\n",
       "      <td>3.1</td>\n",
       "      <td>...</td>\n",
       "      <td>0.48</td>\n",
       "      <td>8.39</td>\n",
       "      <td>3.84</td>\n",
       "      <td>5805.0</td>\n",
       "      <td>14.05</td>\n",
       "      <td>29.0</td>\n",
       "      <td>10275.0</td>\n",
       "      <td>-55.0</td>\n",
       "      <td>0.00</td>\n",
       "      <td>0.0</td>\n",
       "    </tr>\n",
       "    <tr>\n",
       "      <th>2</th>\n",
       "      <td>1/3/1998</td>\n",
       "      <td>2.9</td>\n",
       "      <td>2.8</td>\n",
       "      <td>2.6</td>\n",
       "      <td>2.1</td>\n",
       "      <td>2.2</td>\n",
       "      <td>2.5</td>\n",
       "      <td>2.5</td>\n",
       "      <td>2.7</td>\n",
       "      <td>2.2</td>\n",
       "      <td>...</td>\n",
       "      <td>0.60</td>\n",
       "      <td>6.94</td>\n",
       "      <td>9.80</td>\n",
       "      <td>5790.0</td>\n",
       "      <td>17.90</td>\n",
       "      <td>41.3</td>\n",
       "      <td>10235.0</td>\n",
       "      <td>-40.0</td>\n",
       "      <td>0.00</td>\n",
       "      <td>0.0</td>\n",
       "    </tr>\n",
       "    <tr>\n",
       "      <th>3</th>\n",
       "      <td>1/4/1998</td>\n",
       "      <td>4.7</td>\n",
       "      <td>3.8</td>\n",
       "      <td>3.7</td>\n",
       "      <td>3.8</td>\n",
       "      <td>2.9</td>\n",
       "      <td>3.1</td>\n",
       "      <td>2.8</td>\n",
       "      <td>2.5</td>\n",
       "      <td>2.4</td>\n",
       "      <td>...</td>\n",
       "      <td>0.49</td>\n",
       "      <td>8.73</td>\n",
       "      <td>10.54</td>\n",
       "      <td>5775.0</td>\n",
       "      <td>31.15</td>\n",
       "      <td>51.7</td>\n",
       "      <td>10195.0</td>\n",
       "      <td>-40.0</td>\n",
       "      <td>2.08</td>\n",
       "      <td>0.0</td>\n",
       "    </tr>\n",
       "    <tr>\n",
       "      <th>4</th>\n",
       "      <td>1/5/1998</td>\n",
       "      <td>2.6</td>\n",
       "      <td>2.1</td>\n",
       "      <td>1.6</td>\n",
       "      <td>1.4</td>\n",
       "      <td>0.9</td>\n",
       "      <td>1.5</td>\n",
       "      <td>1.2</td>\n",
       "      <td>1.4</td>\n",
       "      <td>1.3</td>\n",
       "      <td>...</td>\n",
       "      <td>NaN</td>\n",
       "      <td>NaN</td>\n",
       "      <td>NaN</td>\n",
       "      <td>NaN</td>\n",
       "      <td>NaN</td>\n",
       "      <td>NaN</td>\n",
       "      <td>NaN</td>\n",
       "      <td>NaN</td>\n",
       "      <td>0.58</td>\n",
       "      <td>0.0</td>\n",
       "    </tr>\n",
       "  </tbody>\n",
       "</table>\n",
       "<p>5 rows × 74 columns</p>\n",
       "</div>"
      ],
      "text/plain": [
       "         0    1    2    3    4    5    6    7    8    9   ...    64     65  \\\n",
       "0  1/1/1998  0.8  1.8  2.4  2.1  2.0  2.1  1.5  1.7  1.9  ...  0.15  10.67   \n",
       "1  1/2/1998  2.8  3.2  3.3  2.7  3.3  3.2  2.9  2.8  3.1  ...  0.48   8.39   \n",
       "2  1/3/1998  2.9  2.8  2.6  2.1  2.2  2.5  2.5  2.7  2.2  ...  0.60   6.94   \n",
       "3  1/4/1998  4.7  3.8  3.7  3.8  2.9  3.1  2.8  2.5  2.4  ...  0.49   8.73   \n",
       "4  1/5/1998  2.6  2.1  1.6  1.4  0.9  1.5  1.2  1.4  1.3  ...   NaN    NaN   \n",
       "\n",
       "      66      67     68    69       70    71    72   73  \n",
       "0  -1.56  5795.0 -12.10  17.9  10330.0 -55.0  0.00  0.0  \n",
       "1   3.84  5805.0  14.05  29.0  10275.0 -55.0  0.00  0.0  \n",
       "2   9.80  5790.0  17.90  41.3  10235.0 -40.0  0.00  0.0  \n",
       "3  10.54  5775.0  31.15  51.7  10195.0 -40.0  2.08  0.0  \n",
       "4    NaN     NaN    NaN   NaN      NaN   NaN  0.58  0.0  \n",
       "\n",
       "[5 rows x 74 columns]"
      ]
     },
     "execution_count": 4,
     "metadata": {},
     "output_type": "execute_result"
    }
   ],
   "source": [
    "path = 'https://archive.ics.uci.edu/ml/machine-learning-databases/ozone/eighthr.data'\n",
    "data = pd.read_csv(path, header=None,na_values=['?','##'])\n",
    "# data = pd.read_csv(path, header=None,na_values='?')\n",
    "data.head()"
   ]
  },
  {
   "cell_type": "code",
   "execution_count": 5,
   "metadata": {},
   "outputs": [
    {
     "data": {
      "text/plain": [
       "(2534, 74)"
      ]
     },
     "execution_count": 5,
     "metadata": {},
     "output_type": "execute_result"
    }
   ],
   "source": [
    "data.shape"
   ]
  },
  {
   "cell_type": "code",
   "execution_count": 6,
   "metadata": {},
   "outputs": [
    {
     "name": "stdout",
     "output_type": "stream",
     "text": [
      "<class 'pandas.core.frame.DataFrame'>\n",
      "RangeIndex: 2534 entries, 0 to 2533\n",
      "Data columns (total 74 columns):\n",
      " #   Column  Non-Null Count  Dtype  \n",
      "---  ------  --------------  -----  \n",
      " 0   0       2534 non-null   object \n",
      " 1   1       2235 non-null   float64\n",
      " 2   2       2242 non-null   float64\n",
      " 3   3       2240 non-null   float64\n",
      " 4   4       2242 non-null   float64\n",
      " 5   5       2241 non-null   float64\n",
      " 6   6       2242 non-null   float64\n",
      " 7   7       2243 non-null   float64\n",
      " 8   8       2245 non-null   float64\n",
      " 9   9       2244 non-null   float64\n",
      " 10  10      2247 non-null   float64\n",
      " 11  11      2246 non-null   float64\n",
      " 12  12      2242 non-null   float64\n",
      " 13  13      2247 non-null   float64\n",
      " 14  14      2246 non-null   float64\n",
      " 15  15      2246 non-null   float64\n",
      " 16  16      2248 non-null   float64\n",
      " 17  17      2250 non-null   float64\n",
      " 18  18      2251 non-null   float64\n",
      " 19  19      2248 non-null   float64\n",
      " 20  20      2242 non-null   float64\n",
      " 21  21      2240 non-null   float64\n",
      " 22  22      2241 non-null   float64\n",
      " 23  23      2234 non-null   float64\n",
      " 24  24      2237 non-null   float64\n",
      " 25  25      2261 non-null   float64\n",
      " 26  26      2261 non-null   float64\n",
      " 27  27      2344 non-null   float64\n",
      " 28  28      2349 non-null   float64\n",
      " 29  29      2347 non-null   float64\n",
      " 30  30      2350 non-null   float64\n",
      " 31  31      2350 non-null   float64\n",
      " 32  32      2351 non-null   float64\n",
      " 33  33      2351 non-null   float64\n",
      " 34  34      2351 non-null   float64\n",
      " 35  35      2349 non-null   float64\n",
      " 36  36      2349 non-null   float64\n",
      " 37  37      2346 non-null   float64\n",
      " 38  38      2342 non-null   float64\n",
      " 39  39      2345 non-null   float64\n",
      " 40  40      2343 non-null   float64\n",
      " 41  41      2342 non-null   float64\n",
      " 42  42      2347 non-null   float64\n",
      " 43  43      2350 non-null   float64\n",
      " 44  44      2352 non-null   float64\n",
      " 45  45      2350 non-null   float64\n",
      " 46  46      2346 non-null   float64\n",
      " 47  47      2345 non-null   float64\n",
      " 48  48      2349 non-null   float64\n",
      " 49  49      2342 non-null   float64\n",
      " 50  50      2345 non-null   float64\n",
      " 51  51      2359 non-null   float64\n",
      " 52  52      2359 non-null   float64\n",
      " 53  53      2435 non-null   float64\n",
      " 54  54      2429 non-null   float64\n",
      " 55  55      2354 non-null   float64\n",
      " 56  56      2354 non-null   float64\n",
      " 57  57      2439 non-null   float64\n",
      " 58  58      2427 non-null   float64\n",
      " 59  59      2419 non-null   float64\n",
      " 60  60      2377 non-null   float64\n",
      " 61  61      2377 non-null   float64\n",
      " 62  62      2434 non-null   float64\n",
      " 63  63      2419 non-null   float64\n",
      " 64  64      2409 non-null   float64\n",
      " 65  65      2324 non-null   float64\n",
      " 66  66      2324 non-null   float64\n",
      " 67  67      2422 non-null   float64\n",
      " 68  68      2398 non-null   float64\n",
      " 69  69      2409 non-null   float64\n",
      " 70  70      2439 non-null   float64\n",
      " 71  71      2376 non-null   float64\n",
      " 72  72      2532 non-null   float64\n",
      " 73  73      2534 non-null   float64\n",
      "dtypes: float64(73), object(1)\n",
      "memory usage: 1.4+ MB\n"
     ]
    }
   ],
   "source": [
    "data.info()"
   ]
  },
  {
   "cell_type": "code",
   "execution_count": 7,
   "metadata": {},
   "outputs": [
    {
     "data": {
      "text/plain": [
       "b'1,0 | two classes 1: ozone day, 0: normal day\\r\\n\\r\\nDate:     ignore.\\r\\nWSR0:     continuous.\\r\\nWSR1:     continuous.\\r\\nWSR2:     continuous.\\r\\nWSR3:     continuous.\\r\\nWSR4:     continuous.\\r\\nWSR5:     continuous.\\r\\nWSR6:     continuous.\\r\\nWSR7:     continuous.\\r\\nWSR8:     continuous.\\r\\nWSR9:     continuous.\\r\\nWSR10:     continuous.\\r\\nWSR11:     continuous.\\r\\nWSR12:     continuous.\\r\\nWSR13:     continuous.\\r\\nWSR14:     continuous.\\r\\nWSR15:     continuous.\\r\\nWSR16:     continuous.\\r\\nWSR17:     continuous.\\r\\nWSR18:     continuous.\\r\\nWSR19:     continuous.\\r\\nWSR20:     continuous.\\r\\nWSR21:     continuous.\\r\\nWSR22:     continuous.\\r\\nWSR23:     continuous.\\r\\nWSR_PK:     continuous.\\r\\nWSR_AV:     continuous.\\r\\nT0:     continuous.\\r\\nT1:     continuous.\\r\\nT2:     continuous.\\r\\nT3:     continuous.\\r\\nT4:     continuous.\\r\\nT5:     continuous.\\r\\nT6:     continuous.\\r\\nT7:     continuous.\\r\\nT8:     continuous.\\r\\nT9:     continuous.\\r\\nT10:     continuous.\\r\\nT11:     continuous.\\r\\nT12:     continuous.\\r\\nT13:     continuous.\\r\\nT14:     continuous.\\r\\nT15:     continuous.\\r\\nT16:     continuous.\\r\\nT17:     continuous.\\r\\nT18:     continuous.\\r\\nT19:     continuous.\\r\\nT20:     continuous.\\r\\nT21:     continuous.\\r\\nT22:     continuous.\\r\\nT23:     continuous.\\r\\nT_PK:     continuous.\\r\\nT_AV:     continuous.\\r\\nT85:     continuous.\\r\\nRH85:     continuous.\\r\\nU85:     continuous.\\r\\nV85:     continuous.\\r\\nHT85:     continuous.\\r\\nT70:     continuous.\\r\\nRH70:     continuous.\\r\\nU70:     continuous.\\r\\nV70:     continuous.\\r\\nHT70:     continuous.\\r\\nT50:     continuous.\\r\\nRH50:     continuous.\\r\\nU50:     continuous.\\r\\nV50:     continuous.\\r\\nHT50:     continuous.\\r\\nKI:     continuous.\\r\\nTT:     continuous.\\r\\nSLP:     continuous.\\r\\nSLP_:     continuous.\\r\\nPrecp:    continuous.\\r\\n'"
      ]
     },
     "execution_count": 7,
     "metadata": {},
     "output_type": "execute_result"
    }
   ],
   "source": [
    "var_name_path ='https://archive.ics.uci.edu/ml/machine-learning-databases/ozone/eighthr.names'\n",
    "from urllib.request import urlopen\n",
    "f = urlopen(var_name_path).read()\n",
    "f"
   ]
  },
  {
   "cell_type": "code",
   "execution_count": 8,
   "metadata": {},
   "outputs": [],
   "source": [
    "import re"
   ]
  },
  {
   "cell_type": "code",
   "execution_count": 9,
   "metadata": {},
   "outputs": [
    {
     "data": {
      "text/plain": [
       "(55, 59)"
      ]
     },
     "execution_count": 9,
     "metadata": {},
     "output_type": "execute_result"
    }
   ],
   "source": [
    "starting_point = re.search('Date',str(f))\n",
    "starting_point.span()"
   ]
  },
  {
   "cell_type": "code",
   "execution_count": 10,
   "metadata": {},
   "outputs": [
    {
     "data": {
      "text/plain": [
       "<re.Match object; span=(55, 59), match='Date'>"
      ]
     },
     "execution_count": 10,
     "metadata": {},
     "output_type": "execute_result"
    }
   ],
   "source": [
    "starting_point"
   ]
  },
  {
   "cell_type": "code",
   "execution_count": 11,
   "metadata": {},
   "outputs": [
    {
     "data": {
      "text/plain": [
       "\"Date:     ignore.\\\\r\\\\nWSR0:     continuous.\\\\r\\\\nWSR1:     continuous.\\\\r\\\\nWSR2:     continuous.\\\\r\\\\nWSR3:     continuous.\\\\r\\\\nWSR4:     continuous.\\\\r\\\\nWSR5:     continuous.\\\\r\\\\nWSR6:     continuous.\\\\r\\\\nWSR7:     continuous.\\\\r\\\\nWSR8:     continuous.\\\\r\\\\nWSR9:     continuous.\\\\r\\\\nWSR10:     continuous.\\\\r\\\\nWSR11:     continuous.\\\\r\\\\nWSR12:     continuous.\\\\r\\\\nWSR13:     continuous.\\\\r\\\\nWSR14:     continuous.\\\\r\\\\nWSR15:     continuous.\\\\r\\\\nWSR16:     continuous.\\\\r\\\\nWSR17:     continuous.\\\\r\\\\nWSR18:     continuous.\\\\r\\\\nWSR19:     continuous.\\\\r\\\\nWSR20:     continuous.\\\\r\\\\nWSR21:     continuous.\\\\r\\\\nWSR22:     continuous.\\\\r\\\\nWSR23:     continuous.\\\\r\\\\nWSR_PK:     continuous.\\\\r\\\\nWSR_AV:     continuous.\\\\r\\\\nT0:     continuous.\\\\r\\\\nT1:     continuous.\\\\r\\\\nT2:     continuous.\\\\r\\\\nT3:     continuous.\\\\r\\\\nT4:     continuous.\\\\r\\\\nT5:     continuous.\\\\r\\\\nT6:     continuous.\\\\r\\\\nT7:     continuous.\\\\r\\\\nT8:     continuous.\\\\r\\\\nT9:     continuous.\\\\r\\\\nT10:     continuous.\\\\r\\\\nT11:     continuous.\\\\r\\\\nT12:     continuous.\\\\r\\\\nT13:     continuous.\\\\r\\\\nT14:     continuous.\\\\r\\\\nT15:     continuous.\\\\r\\\\nT16:     continuous.\\\\r\\\\nT17:     continuous.\\\\r\\\\nT18:     continuous.\\\\r\\\\nT19:     continuous.\\\\r\\\\nT20:     continuous.\\\\r\\\\nT21:     continuous.\\\\r\\\\nT22:     continuous.\\\\r\\\\nT23:     continuous.\\\\r\\\\nT_PK:     continuous.\\\\r\\\\nT_AV:     continuous.\\\\r\\\\nT85:     continuous.\\\\r\\\\nRH85:     continuous.\\\\r\\\\nU85:     continuous.\\\\r\\\\nV85:     continuous.\\\\r\\\\nHT85:     continuous.\\\\r\\\\nT70:     continuous.\\\\r\\\\nRH70:     continuous.\\\\r\\\\nU70:     continuous.\\\\r\\\\nV70:     continuous.\\\\r\\\\nHT70:     continuous.\\\\r\\\\nT50:     continuous.\\\\r\\\\nRH50:     continuous.\\\\r\\\\nU50:     continuous.\\\\r\\\\nV50:     continuous.\\\\r\\\\nHT50:     continuous.\\\\r\\\\nKI:     continuous.\\\\r\\\\nTT:     continuous.\\\\r\\\\nSLP:     continuous.\\\\r\\\\nSLP_:     continuous.\\\\r\\\\nPrecp:    continuous.\\\\r\\\\n'\""
      ]
     },
     "execution_count": 11,
     "metadata": {},
     "output_type": "execute_result"
    }
   ],
   "source": [
    "f1 = str(f)[starting_point.span()[0]:]  # starting from 55 till the end of f\n",
    "f1"
   ]
  },
  {
   "cell_type": "code",
   "execution_count": 12,
   "metadata": {},
   "outputs": [
    {
     "name": "stdout",
     "output_type": "stream",
     "text": [
      "73\n",
      "['Date', 'nWSR0', 'nWSR1', 'nWSR2', 'nWSR3', 'nWSR4', 'nWSR5', 'nWSR6', 'nWSR7', 'nWSR8', 'nWSR9', 'nWSR10', 'nWSR11', 'nWSR12', 'nWSR13', 'nWSR14', 'nWSR15', 'nWSR16', 'nWSR17', 'nWSR18', 'nWSR19', 'nWSR20', 'nWSR21', 'nWSR22', 'nWSR23', 'nWSR_PK', 'nWSR_AV', 'nT0', 'nT1', 'nT2', 'nT3', 'nT4', 'nT5', 'nT6', 'nT7', 'nT8', 'nT9', 'nT10', 'nT11', 'nT12', 'nT13', 'nT14', 'nT15', 'nT16', 'nT17', 'nT18', 'nT19', 'nT20', 'nT21', 'nT22', 'nT23', 'nT_PK', 'nT_AV', 'nT85', 'nRH85', 'nU85', 'nV85', 'nHT85', 'nT70', 'nRH70', 'nU70', 'nV70', 'nHT70', 'nT50', 'nRH50', 'nU50', 'nV50', 'nHT50', 'nKI', 'nTT', 'nSLP', 'nSLP_', 'nPrecp', 'Class']\n"
     ]
    }
   ],
   "source": [
    "var_names = re.findall(\"[A-Za-z0-9_]+(?=:)\",f1)\n",
    "print(len(var_names))\n",
    "var_names.append('Class')\n",
    "print(var_names)"
   ]
  },
  {
   "cell_type": "code",
   "execution_count": 13,
   "metadata": {},
   "outputs": [
    {
     "data": {
      "text/plain": [
       "74"
      ]
     },
     "execution_count": 13,
     "metadata": {},
     "output_type": "execute_result"
    }
   ],
   "source": [
    "len(var_names)"
   ]
  },
  {
   "cell_type": "code",
   "execution_count": 14,
   "metadata": {},
   "outputs": [
    {
     "data": {
      "text/html": [
       "<div>\n",
       "<style scoped>\n",
       "    .dataframe tbody tr th:only-of-type {\n",
       "        vertical-align: middle;\n",
       "    }\n",
       "\n",
       "    .dataframe tbody tr th {\n",
       "        vertical-align: top;\n",
       "    }\n",
       "\n",
       "    .dataframe thead th {\n",
       "        text-align: right;\n",
       "    }\n",
       "</style>\n",
       "<table border=\"1\" class=\"dataframe\">\n",
       "  <thead>\n",
       "    <tr style=\"text-align: right;\">\n",
       "      <th></th>\n",
       "      <th>Date</th>\n",
       "      <th>nWSR0</th>\n",
       "      <th>nWSR1</th>\n",
       "      <th>nWSR2</th>\n",
       "      <th>nWSR3</th>\n",
       "      <th>nWSR4</th>\n",
       "      <th>nWSR5</th>\n",
       "      <th>nWSR6</th>\n",
       "      <th>nWSR7</th>\n",
       "      <th>nWSR8</th>\n",
       "      <th>...</th>\n",
       "      <th>nRH50</th>\n",
       "      <th>nU50</th>\n",
       "      <th>nV50</th>\n",
       "      <th>nHT50</th>\n",
       "      <th>nKI</th>\n",
       "      <th>nTT</th>\n",
       "      <th>nSLP</th>\n",
       "      <th>nSLP_</th>\n",
       "      <th>nPrecp</th>\n",
       "      <th>Class</th>\n",
       "    </tr>\n",
       "  </thead>\n",
       "  <tbody>\n",
       "    <tr>\n",
       "      <th>0</th>\n",
       "      <td>1/1/1998</td>\n",
       "      <td>0.8</td>\n",
       "      <td>1.8</td>\n",
       "      <td>2.4</td>\n",
       "      <td>2.1</td>\n",
       "      <td>2.0</td>\n",
       "      <td>2.1</td>\n",
       "      <td>1.5</td>\n",
       "      <td>1.7</td>\n",
       "      <td>1.9</td>\n",
       "      <td>...</td>\n",
       "      <td>0.15</td>\n",
       "      <td>10.67</td>\n",
       "      <td>-1.56</td>\n",
       "      <td>5795.0</td>\n",
       "      <td>-12.10</td>\n",
       "      <td>17.9</td>\n",
       "      <td>10330.0</td>\n",
       "      <td>-55.0</td>\n",
       "      <td>0.00</td>\n",
       "      <td>0.0</td>\n",
       "    </tr>\n",
       "    <tr>\n",
       "      <th>1</th>\n",
       "      <td>1/2/1998</td>\n",
       "      <td>2.8</td>\n",
       "      <td>3.2</td>\n",
       "      <td>3.3</td>\n",
       "      <td>2.7</td>\n",
       "      <td>3.3</td>\n",
       "      <td>3.2</td>\n",
       "      <td>2.9</td>\n",
       "      <td>2.8</td>\n",
       "      <td>3.1</td>\n",
       "      <td>...</td>\n",
       "      <td>0.48</td>\n",
       "      <td>8.39</td>\n",
       "      <td>3.84</td>\n",
       "      <td>5805.0</td>\n",
       "      <td>14.05</td>\n",
       "      <td>29.0</td>\n",
       "      <td>10275.0</td>\n",
       "      <td>-55.0</td>\n",
       "      <td>0.00</td>\n",
       "      <td>0.0</td>\n",
       "    </tr>\n",
       "    <tr>\n",
       "      <th>2</th>\n",
       "      <td>1/3/1998</td>\n",
       "      <td>2.9</td>\n",
       "      <td>2.8</td>\n",
       "      <td>2.6</td>\n",
       "      <td>2.1</td>\n",
       "      <td>2.2</td>\n",
       "      <td>2.5</td>\n",
       "      <td>2.5</td>\n",
       "      <td>2.7</td>\n",
       "      <td>2.2</td>\n",
       "      <td>...</td>\n",
       "      <td>0.60</td>\n",
       "      <td>6.94</td>\n",
       "      <td>9.80</td>\n",
       "      <td>5790.0</td>\n",
       "      <td>17.90</td>\n",
       "      <td>41.3</td>\n",
       "      <td>10235.0</td>\n",
       "      <td>-40.0</td>\n",
       "      <td>0.00</td>\n",
       "      <td>0.0</td>\n",
       "    </tr>\n",
       "    <tr>\n",
       "      <th>3</th>\n",
       "      <td>1/4/1998</td>\n",
       "      <td>4.7</td>\n",
       "      <td>3.8</td>\n",
       "      <td>3.7</td>\n",
       "      <td>3.8</td>\n",
       "      <td>2.9</td>\n",
       "      <td>3.1</td>\n",
       "      <td>2.8</td>\n",
       "      <td>2.5</td>\n",
       "      <td>2.4</td>\n",
       "      <td>...</td>\n",
       "      <td>0.49</td>\n",
       "      <td>8.73</td>\n",
       "      <td>10.54</td>\n",
       "      <td>5775.0</td>\n",
       "      <td>31.15</td>\n",
       "      <td>51.7</td>\n",
       "      <td>10195.0</td>\n",
       "      <td>-40.0</td>\n",
       "      <td>2.08</td>\n",
       "      <td>0.0</td>\n",
       "    </tr>\n",
       "    <tr>\n",
       "      <th>4</th>\n",
       "      <td>1/5/1998</td>\n",
       "      <td>2.6</td>\n",
       "      <td>2.1</td>\n",
       "      <td>1.6</td>\n",
       "      <td>1.4</td>\n",
       "      <td>0.9</td>\n",
       "      <td>1.5</td>\n",
       "      <td>1.2</td>\n",
       "      <td>1.4</td>\n",
       "      <td>1.3</td>\n",
       "      <td>...</td>\n",
       "      <td>NaN</td>\n",
       "      <td>NaN</td>\n",
       "      <td>NaN</td>\n",
       "      <td>NaN</td>\n",
       "      <td>NaN</td>\n",
       "      <td>NaN</td>\n",
       "      <td>NaN</td>\n",
       "      <td>NaN</td>\n",
       "      <td>0.58</td>\n",
       "      <td>0.0</td>\n",
       "    </tr>\n",
       "  </tbody>\n",
       "</table>\n",
       "<p>5 rows × 74 columns</p>\n",
       "</div>"
      ],
      "text/plain": [
       "       Date  nWSR0  nWSR1  nWSR2  nWSR3  nWSR4  nWSR5  nWSR6  nWSR7  nWSR8  \\\n",
       "0  1/1/1998    0.8    1.8    2.4    2.1    2.0    2.1    1.5    1.7    1.9   \n",
       "1  1/2/1998    2.8    3.2    3.3    2.7    3.3    3.2    2.9    2.8    3.1   \n",
       "2  1/3/1998    2.9    2.8    2.6    2.1    2.2    2.5    2.5    2.7    2.2   \n",
       "3  1/4/1998    4.7    3.8    3.7    3.8    2.9    3.1    2.8    2.5    2.4   \n",
       "4  1/5/1998    2.6    2.1    1.6    1.4    0.9    1.5    1.2    1.4    1.3   \n",
       "\n",
       "   ...  nRH50   nU50   nV50   nHT50    nKI   nTT     nSLP  nSLP_  nPrecp  \\\n",
       "0  ...   0.15  10.67  -1.56  5795.0 -12.10  17.9  10330.0  -55.0    0.00   \n",
       "1  ...   0.48   8.39   3.84  5805.0  14.05  29.0  10275.0  -55.0    0.00   \n",
       "2  ...   0.60   6.94   9.80  5790.0  17.90  41.3  10235.0  -40.0    0.00   \n",
       "3  ...   0.49   8.73  10.54  5775.0  31.15  51.7  10195.0  -40.0    2.08   \n",
       "4  ...    NaN    NaN    NaN     NaN    NaN   NaN      NaN    NaN    0.58   \n",
       "\n",
       "   Class  \n",
       "0    0.0  \n",
       "1    0.0  \n",
       "2    0.0  \n",
       "3    0.0  \n",
       "4    0.0  \n",
       "\n",
       "[5 rows x 74 columns]"
      ]
     },
     "execution_count": 14,
     "metadata": {},
     "output_type": "execute_result"
    }
   ],
   "source": [
    "data.columns = var_names\n",
    "data.head()"
   ]
  },
  {
   "cell_type": "code",
   "execution_count": 15,
   "metadata": {},
   "outputs": [
    {
     "data": {
      "text/plain": [
       "0.0    2374\n",
       "1.0     160\n",
       "Name: Class, dtype: int64"
      ]
     },
     "execution_count": 15,
     "metadata": {},
     "output_type": "execute_result"
    }
   ],
   "source": [
    "data.Class.value_counts()"
   ]
  },
  {
   "cell_type": "code",
   "execution_count": 16,
   "metadata": {},
   "outputs": [
    {
     "data": {
      "text/plain": [
       "Date        0\n",
       "nWSR0     299\n",
       "nWSR1     292\n",
       "nWSR2     294\n",
       "nWSR3     292\n",
       "         ... \n",
       "nTT       125\n",
       "nSLP       95\n",
       "nSLP_     158\n",
       "nPrecp      2\n",
       "Class       0\n",
       "Length: 74, dtype: int64"
      ]
     },
     "execution_count": 16,
     "metadata": {},
     "output_type": "execute_result"
    }
   ],
   "source": [
    "data.isnull().sum()"
   ]
  },
  {
   "cell_type": "code",
   "execution_count": 17,
   "metadata": {},
   "outputs": [
    {
     "data": {
      "text/plain": [
       "14937"
      ]
     },
     "execution_count": 17,
     "metadata": {},
     "output_type": "execute_result"
    }
   ],
   "source": [
    "data.isnull().sum().sum()"
   ]
  },
  {
   "cell_type": "code",
   "execution_count": 18,
   "metadata": {},
   "outputs": [
    {
     "data": {
      "text/plain": [
       "0.271112865035517"
      ]
     },
     "execution_count": 18,
     "metadata": {},
     "output_type": "execute_result"
    }
   ],
   "source": [
    "1 - len(data.dropna())/len(data)  # % of information loss"
   ]
  },
  {
   "cell_type": "code",
   "execution_count": 19,
   "metadata": {},
   "outputs": [],
   "source": [
    "# missing value imputation"
   ]
  },
  {
   "cell_type": "code",
   "execution_count": 20,
   "metadata": {},
   "outputs": [],
   "source": [
    "from sklearn.experimental import enable_iterative_imputer\n",
    "from sklearn.impute import IterativeImputer\n",
    "from sklearn.ensemble import GradientBoostingRegressor as GBR, AdaBoostRegressor as ABR"
   ]
  },
  {
   "cell_type": "code",
   "execution_count": 21,
   "metadata": {},
   "outputs": [],
   "source": [
    "imputer = IterativeImputer(estimator=ABR(),max_iter=20)  # google mice"
   ]
  },
  {
   "cell_type": "code",
   "execution_count": 22,
   "metadata": {},
   "outputs": [],
   "source": [
    "x_train,x_test, y_train, y_test=train_test_split(data.iloc[:,1:73],\n",
    "                                                data.iloc[:,73],\n",
    "                                                test_size=0.3,\n",
    "                                                random_state=12345)"
   ]
  },
  {
   "cell_type": "code",
   "execution_count": 23,
   "metadata": {},
   "outputs": [
    {
     "name": "stderr",
     "output_type": "stream",
     "text": [
      "[IterativeImputer] Early stopping criterion not reached.\n"
     ]
    }
   ],
   "source": [
    "x_train_complete = imputer.fit_transform(x_train)\n",
    "x_test_complete = imputer.transform(x_test)"
   ]
  },
  {
   "cell_type": "code",
   "execution_count": 24,
   "metadata": {},
   "outputs": [
    {
     "data": {
      "text/plain": [
       "array([[ 1.8000e+00,  1.3000e+00,  1.3000e+00, ...,  1.0135e+04,\n",
       "        -2.0000e+01,  0.0000e+00],\n",
       "       [ 1.1000e+00,  6.0000e-01,  6.0000e-01, ...,  1.0260e+04,\n",
       "        -5.5000e+01,  0.0000e+00],\n",
       "       [ 2.6000e+00,  2.5000e+00,  1.5000e+00, ...,  1.0155e+04,\n",
       "         1.5000e+01,  0.0000e+00],\n",
       "       ...,\n",
       "       [ 6.2000e+00,  6.8000e+00,  5.4000e+00, ...,  1.0070e+04,\n",
       "         4.5000e+01,  0.0000e+00],\n",
       "       [ 1.4000e+00,  1.4000e+00,  1.1000e+00, ...,  1.0270e+04,\n",
       "         6.0000e+01,  0.0000e+00],\n",
       "       [ 2.4000e+00,  2.5000e+00,  3.2000e+00, ...,  1.0140e+04,\n",
       "        -1.0000e+01,  0.0000e+00]])"
      ]
     },
     "execution_count": 24,
     "metadata": {},
     "output_type": "execute_result"
    }
   ],
   "source": [
    "x_train_complete"
   ]
  },
  {
   "cell_type": "code",
   "execution_count": 25,
   "metadata": {},
   "outputs": [],
   "source": [
    "df_train = pd.DataFrame(data=x_train_complete,columns=data.columns[1:73])"
   ]
  },
  {
   "cell_type": "code",
   "execution_count": 26,
   "metadata": {},
   "outputs": [],
   "source": [
    "df_test = pd.DataFrame(data=x_test_complete,columns=data.columns[1:73])"
   ]
  },
  {
   "cell_type": "code",
   "execution_count": 27,
   "metadata": {},
   "outputs": [
    {
     "data": {
      "text/plain": [
       "((1773, 72), (761, 72))"
      ]
     },
     "execution_count": 27,
     "metadata": {},
     "output_type": "execute_result"
    }
   ],
   "source": [
    "df_train.shape, df_test.shape"
   ]
  },
  {
   "cell_type": "code",
   "execution_count": 28,
   "metadata": {},
   "outputs": [],
   "source": [
    "from sklearn.preprocessing import StandardScaler"
   ]
  },
  {
   "cell_type": "code",
   "execution_count": 29,
   "metadata": {},
   "outputs": [],
   "source": [
    "sc = StandardScaler()"
   ]
  },
  {
   "cell_type": "code",
   "execution_count": 30,
   "metadata": {},
   "outputs": [],
   "source": [
    "x_train_complete_norm = sc.fit_transform(x_train_complete)\n",
    "x_test_complete_norm = sc.transform(x_test_complete)"
   ]
  },
  {
   "cell_type": "code",
   "execution_count": 31,
   "metadata": {},
   "outputs": [],
   "source": [
    "svm = SVC()"
   ]
  },
  {
   "cell_type": "code",
   "execution_count": 32,
   "metadata": {},
   "outputs": [],
   "source": [
    "svm_param = {'C':[1.0,10.0,20.0,50.0,75],\n",
    "             'gamma':[0.0001, 0.001,0.01,0.1],\n",
    "            'kernel':['liner','poly','rbf','sigmoid'],\n",
    "            }"
   ]
  },
  {
   "cell_type": "code",
   "execution_count": 33,
   "metadata": {},
   "outputs": [],
   "source": [
    "def kappa(y_act, y_pred):\n",
    "    return cohen_kappa_score(y_act, y_pred)\n",
    "Kappa = make_scorer(kappa)"
   ]
  },
  {
   "cell_type": "code",
   "execution_count": 34,
   "metadata": {},
   "outputs": [],
   "source": [
    "best_svm = RandomizedSearchCV(estimator=svm,\n",
    "                              param_distributions=svm_param,\n",
    "                             n_iter=100,\n",
    "                             n_jobs=-1,\n",
    "                             scoring=Kappa, cv=5,random_state=123456)"
   ]
  },
  {
   "cell_type": "code",
   "execution_count": 35,
   "metadata": {},
   "outputs": [
    {
     "name": "stderr",
     "output_type": "stream",
     "text": [
      "The total space of parameters 80 is smaller than n_iter=100. Running 80 iterations. For exhaustive searches, use GridSearchCV.\n",
      "\n",
      "100 fits failed out of a total of 400.\n",
      "The score on these train-test partitions for these parameters will be set to nan.\n",
      "If these failures are not expected, you can try to debug them by setting error_score='raise'.\n",
      "\n",
      "Below are more details about the failures:\n",
      "--------------------------------------------------------------------------------\n",
      "100 fits failed with the following error:\n",
      "Traceback (most recent call last):\n",
      "  File \"C:\\Users\\SHAHRUKH\\AppData\\Roaming\\Python\\Python39\\site-packages\\sklearn\\model_selection\\_validation.py\", line 681, in _fit_and_score\n",
      "    estimator.fit(X_train, y_train, **fit_params)\n",
      "  File \"C:\\Users\\SHAHRUKH\\AppData\\Roaming\\Python\\Python39\\site-packages\\sklearn\\svm\\_base.py\", line 255, in fit\n",
      "    fit(X, y, sample_weight, solver_type, kernel, random_seed=seed)\n",
      "  File \"C:\\Users\\SHAHRUKH\\AppData\\Roaming\\Python\\Python39\\site-packages\\sklearn\\svm\\_base.py\", line 315, in _dense_fit\n",
      "    ) = libsvm.fit(\n",
      "  File \"sklearn\\svm\\_libsvm.pyx\", line 176, in sklearn.svm._libsvm.fit\n",
      "ValueError: 'liner' is not in list\n",
      "\n",
      "One or more of the test scores are non-finite: [        nan  0.          0.          0.                 nan  0.\n",
      "  0.          0.                 nan  0.          0.         -0.00108136\n",
      "         nan  0.30803133  0.05724725  0.03371447         nan  0.\n",
      "  0.          0.                 nan  0.          0.          0.\n",
      "         nan  0.23037619  0.31861227  0.22291195         nan  0.30803133\n",
      "  0.22037939  0.01847795         nan  0.          0.          0.\n",
      "         nan  0.          0.          0.                 nan  0.33811346\n",
      "  0.33726241  0.18954281         nan  0.30803133  0.22037939  0.01847795\n",
      "         nan  0.          0.          0.                 nan  0.\n",
      "  0.20517162  0.                 nan  0.35354275  0.35297254  0.21804535\n",
      "         nan  0.30803133  0.22037939  0.01847795         nan  0.\n",
      "  0.          0.                 nan  0.          0.27421117  0.03306521\n",
      "         nan  0.3263759   0.34607157  0.21534676         nan  0.30803133\n",
      "  0.22037939  0.0181023 ]\n"
     ]
    },
    {
     "data": {
      "text/plain": [
       "RandomizedSearchCV(cv=5, estimator=SVC(), n_iter=100, n_jobs=-1,\n",
       "                   param_distributions={'C': [1.0, 10.0, 20.0, 50.0, 75],\n",
       "                                        'gamma': [0.0001, 0.001, 0.01, 0.1],\n",
       "                                        'kernel': ['liner', 'poly', 'rbf',\n",
       "                                                   'sigmoid']},\n",
       "                   random_state=123456, scoring=make_scorer(kappa))"
      ]
     },
     "execution_count": 35,
     "metadata": {},
     "output_type": "execute_result"
    }
   ],
   "source": [
    "best_svm.fit(X=x_train_complete_norm,y=y_train)"
   ]
  },
  {
   "cell_type": "code",
   "execution_count": 36,
   "metadata": {},
   "outputs": [
    {
     "data": {
      "text/plain": [
       "{'kernel': 'poly', 'gamma': 0.01, 'C': 50.0}"
      ]
     },
     "execution_count": 36,
     "metadata": {},
     "output_type": "execute_result"
    }
   ],
   "source": [
    "best_svm.best_params_"
   ]
  },
  {
   "cell_type": "code",
   "execution_count": 37,
   "metadata": {},
   "outputs": [],
   "source": [
    "pred_svm = best_svm.best_estimator_.predict(x_test_complete_norm)"
   ]
  },
  {
   "cell_type": "code",
   "execution_count": 38,
   "metadata": {},
   "outputs": [
    {
     "data": {
      "text/plain": [
       "array([[690,  18],\n",
       "       [ 36,  17]], dtype=int64)"
      ]
     },
     "execution_count": 38,
     "metadata": {},
     "output_type": "execute_result"
    }
   ],
   "source": [
    "confusion_matrix(y_test, pred_svm)"
   ]
  },
  {
   "cell_type": "code",
   "execution_count": 39,
   "metadata": {},
   "outputs": [
    {
     "data": {
      "text/plain": [
       "array([0., 0., 0., 0., 0., 0., 0., 0., 0., 0., 0., 0., 0., 0., 1., 0., 0.,\n",
       "       0., 0., 0., 0., 0., 0., 0., 0., 0., 0., 0., 0., 0., 0., 0., 1., 0.,\n",
       "       0., 0., 0., 0., 0., 0., 0., 0., 0., 0., 0., 0., 0., 1., 0., 0., 0.,\n",
       "       0., 0., 0., 0., 0., 0., 0., 0., 0., 0., 0., 0., 0., 0., 0., 0., 0.,\n",
       "       1., 0., 1., 0., 0., 0., 0., 0., 0., 0., 0., 0., 0., 1., 0., 0., 0.,\n",
       "       0., 0., 0., 0., 0., 0., 0., 0., 0., 0., 0., 0., 0., 0., 0., 0., 0.,\n",
       "       0., 0., 0., 0., 0., 0., 0., 0., 0., 0., 0., 0., 0., 0., 0., 0., 0.,\n",
       "       0., 0., 0., 0., 0., 0., 0., 0., 0., 0., 0., 0., 0., 0., 0., 0., 0.,\n",
       "       0., 0., 0., 0., 0., 0., 0., 0., 0., 0., 0., 0., 0., 0., 0., 0., 0.,\n",
       "       0., 0., 0., 0., 0., 1., 0., 0., 0., 0., 0., 0., 0., 0., 0., 0., 0.,\n",
       "       0., 1., 0., 0., 0., 0., 0., 0., 0., 0., 0., 0., 0., 0., 0., 0., 0.,\n",
       "       0., 0., 0., 0., 0., 0., 0., 0., 0., 0., 0., 0., 0., 0., 0., 0., 0.,\n",
       "       0., 0., 0., 0., 0., 0., 0., 0., 0., 1., 0., 0., 0., 0., 0., 0., 0.,\n",
       "       0., 0., 0., 0., 0., 0., 0., 0., 0., 0., 0., 0., 0., 0., 0., 0., 1.,\n",
       "       0., 0., 0., 0., 0., 0., 0., 1., 0., 0., 0., 0., 0., 0., 0., 0., 0.,\n",
       "       0., 0., 0., 0., 0., 0., 0., 0., 0., 0., 0., 0., 0., 0., 0., 0., 0.,\n",
       "       0., 0., 0., 0., 0., 0., 0., 0., 0., 0., 0., 0., 0., 0., 0., 0., 0.,\n",
       "       0., 0., 0., 0., 0., 0., 0., 0., 0., 0., 0., 0., 0., 0., 0., 0., 0.,\n",
       "       0., 0., 0., 0., 0., 0., 0., 0., 0., 0., 0., 0., 0., 0., 1., 0., 0.,\n",
       "       0., 0., 0., 0., 0., 0., 0., 0., 0., 0., 0., 0., 0., 0., 0., 0., 0.,\n",
       "       0., 0., 0., 0., 0., 0., 0., 0., 0., 0., 0., 0., 1., 0., 0., 0., 0.,\n",
       "       0., 0., 0., 0., 0., 0., 0., 0., 0., 0., 0., 0., 0., 0., 0., 0., 0.,\n",
       "       0., 0., 0., 0., 0., 0., 0., 0., 0., 0., 1., 0., 0., 0., 0., 0., 0.,\n",
       "       0., 0., 0., 0., 0., 0., 0., 0., 0., 0., 0., 0., 0., 0., 0., 0., 0.,\n",
       "       0., 0., 0., 0., 0., 0., 0., 0., 0., 0., 0., 0., 0., 0., 0., 0., 0.,\n",
       "       0., 0., 0., 0., 0., 0., 0., 0., 0., 0., 0., 0., 0., 0., 0., 0., 0.,\n",
       "       1., 0., 0., 0., 0., 0., 0., 1., 0., 0., 0., 0., 0., 0., 0., 0., 0.,\n",
       "       0., 0., 0., 0., 0., 0., 0., 0., 0., 0., 0., 0., 0., 0., 0., 0., 0.,\n",
       "       0., 0., 0., 0., 0., 0., 0., 0., 1., 0., 0., 0., 0., 0., 0., 0., 0.,\n",
       "       0., 1., 0., 1., 0., 0., 0., 0., 0., 0., 0., 0., 0., 0., 0., 0., 0.,\n",
       "       0., 1., 0., 0., 0., 0., 0., 0., 0., 0., 0., 0., 0., 0., 1., 0., 1.,\n",
       "       0., 0., 1., 1., 0., 0., 0., 0., 0., 0., 0., 0., 0., 0., 0., 0., 0.,\n",
       "       0., 0., 0., 0., 0., 0., 0., 0., 0., 0., 0., 0., 0., 0., 1., 0., 0.,\n",
       "       0., 0., 0., 0., 0., 0., 1., 0., 0., 0., 0., 0., 0., 0., 0., 0., 0.,\n",
       "       0., 0., 0., 0., 0., 0., 0., 0., 0., 0., 0., 1., 0., 0., 1., 0., 0.,\n",
       "       0., 0., 0., 0., 0., 0., 0., 0., 0., 0., 0., 0., 0., 0., 0., 0., 0.,\n",
       "       0., 0., 0., 0., 0., 0., 0., 0., 0., 0., 0., 0., 0., 0., 0., 0., 0.,\n",
       "       0., 0., 0., 0., 0., 0., 0., 0., 0., 0., 0., 0., 0., 1., 1., 0., 0.,\n",
       "       0., 0., 0., 0., 0., 0., 0., 0., 0., 0., 0., 1., 0., 0., 0., 0., 0.,\n",
       "       0., 0., 0., 0., 0., 0., 0., 0., 0., 0., 0., 0., 0., 0., 0., 0., 1.,\n",
       "       0., 0., 0., 0., 0., 0., 0., 0., 1., 0., 0., 0., 0., 0., 0., 0., 0.,\n",
       "       1., 0., 0., 0., 0., 0., 0., 0., 0., 0., 0., 0., 0., 0., 0., 0., 0.,\n",
       "       0., 0., 0., 0., 0., 0., 0., 0., 0., 0., 0., 0., 0., 0., 0., 0., 0.,\n",
       "       0., 0., 0., 0., 0., 0., 0., 0., 0., 0., 0., 0., 0., 0., 0., 0., 0.,\n",
       "       0., 0., 0., 0., 0., 0., 0., 0., 1., 0., 0., 0., 0.])"
      ]
     },
     "execution_count": 39,
     "metadata": {},
     "output_type": "execute_result"
    }
   ],
   "source": [
    "pred_svm"
   ]
  },
  {
   "cell_type": "code",
   "execution_count": null,
   "metadata": {},
   "outputs": [],
   "source": []
  }
 ],
 "metadata": {
  "kernelspec": {
   "display_name": "Python 3.9.2 64-bit",
   "language": "python",
   "name": "python3"
  },
  "language_info": {
   "codemirror_mode": {
    "name": "ipython",
    "version": 3
   },
   "file_extension": ".py",
   "mimetype": "text/x-python",
   "name": "python",
   "nbconvert_exporter": "python",
   "pygments_lexer": "ipython3",
   "version": "3.9.2"
  },
  "vscode": {
   "interpreter": {
    "hash": "11938c6bc6919ae2720b4d5011047913343b08a43b18698fd82dedb0d4417594"
   }
  }
 },
 "nbformat": 4,
 "nbformat_minor": 4
}
