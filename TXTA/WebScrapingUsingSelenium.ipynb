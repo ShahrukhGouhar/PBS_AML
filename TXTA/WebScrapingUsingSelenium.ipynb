{
 "cells": [
  {
   "cell_type": "code",
   "execution_count": 1,
   "metadata": {},
   "outputs": [
    {
     "name": "stdout",
     "output_type": "stream",
     "text": [
      "Collecting selenium\n",
      "  Downloading selenium-3.141.0-py2.py3-none-any.whl (904 kB)\n",
      "Requirement already satisfied: urllib3 in c:\\programdata\\anaconda3\\lib\\site-packages (from selenium) (1.25.11)\n",
      "Installing collected packages: selenium\n",
      "Successfully installed selenium-3.141.0\n"
     ]
    }
   ],
   "source": [
    "# !pip install selenium"
   ]
  },
  {
   "cell_type": "code",
   "execution_count": 1,
   "metadata": {},
   "outputs": [],
   "source": [
    "from selenium.webdriver import Chrome"
   ]
  },
  {
   "cell_type": "code",
   "execution_count": 2,
   "metadata": {},
   "outputs": [],
   "source": [
    "import re"
   ]
  },
  {
   "cell_type": "code",
   "execution_count": 3,
   "metadata": {},
   "outputs": [],
   "source": [
    "browser = Chrome(executable_path='chromedriver.exe')"
   ]
  },
  {
   "cell_type": "code",
   "execution_count": 4,
   "metadata": {},
   "outputs": [],
   "source": [
    "webpath = 'https://www.imdb.com/title/tt9777666/reviews/?ref_=tt_ql_urv'"
   ]
  },
  {
   "cell_type": "code",
   "execution_count": 5,
   "metadata": {},
   "outputs": [],
   "source": [
    "browser.get(webpath)"
   ]
  },
  {
   "cell_type": "code",
   "execution_count": 6,
   "metadata": {},
   "outputs": [],
   "source": [
    "browser.find_element_by_xpath(\"//button[@class='ipl-load-more__button']\").click()"
   ]
  },
  {
   "cell_type": "code",
   "execution_count": 7,
   "metadata": {},
   "outputs": [],
   "source": [
    "import time"
   ]
  },
  {
   "cell_type": "code",
   "execution_count": 12,
   "metadata": {},
   "outputs": [],
   "source": [
    "for _ in range(4):\n",
    "    browser.find_element_by_xpath(\"//button[@class='ipl-load-more__button']\").click()\n",
    "    time.sleep(5)"
   ]
  },
  {
   "cell_type": "code",
   "execution_count": 13,
   "metadata": {},
   "outputs": [],
   "source": [
    "xx = browser.find_elements_by_xpath(\"//div[@class='expander-icon-wrapper show-more__control']\")"
   ]
  },
  {
   "cell_type": "code",
   "execution_count": 14,
   "metadata": {},
   "outputs": [
    {
     "data": {
      "text/plain": [
       "125"
      ]
     },
     "execution_count": 14,
     "metadata": {},
     "output_type": "execute_result"
    }
   ],
   "source": [
    "len(xx)"
   ]
  },
  {
   "cell_type": "code",
   "execution_count": 15,
   "metadata": {},
   "outputs": [],
   "source": [
    "def click(p):\n",
    "    try:\n",
    "        p.click()\n",
    "#         time.sleep(5)\n",
    "    except:\n",
    "        pass"
   ]
  },
  {
   "cell_type": "code",
   "execution_count": 16,
   "metadata": {},
   "outputs": [],
   "source": [
    "q = [click(y) for y in xx[0:126]]"
   ]
  },
  {
   "cell_type": "code",
   "execution_count": 17,
   "metadata": {},
   "outputs": [
    {
     "data": {
      "text/plain": [
       "125"
      ]
     },
     "execution_count": 17,
     "metadata": {},
     "output_type": "execute_result"
    }
   ],
   "source": [
    "len(q)"
   ]
  },
  {
   "cell_type": "code",
   "execution_count": 18,
   "metadata": {},
   "outputs": [
    {
     "data": {
      "text/plain": [
       "[None, None, None, None, None]"
      ]
     },
     "execution_count": 18,
     "metadata": {},
     "output_type": "execute_result"
    }
   ],
   "source": [
    "q[0:5]"
   ]
  },
  {
   "cell_type": "code",
   "execution_count": 19,
   "metadata": {},
   "outputs": [],
   "source": [
    "yy = browser.find_elements_by_xpath(\"//div[@class='expander-icon-wrapper spoiler-warning__control']\")"
   ]
  },
  {
   "cell_type": "code",
   "execution_count": 20,
   "metadata": {},
   "outputs": [],
   "source": [
    "z = [click(y) for y in yy]"
   ]
  },
  {
   "cell_type": "code",
   "execution_count": 21,
   "metadata": {},
   "outputs": [
    {
     "data": {
      "text/plain": [
       "150"
      ]
     },
     "execution_count": 21,
     "metadata": {},
     "output_type": "execute_result"
    }
   ],
   "source": [
    "containers = browser.find_elements_by_xpath(\"//div[@class='review-container']\")\n",
    "len(containers)"
   ]
  },
  {
   "cell_type": "code",
   "execution_count": 22,
   "metadata": {},
   "outputs": [],
   "source": [
    "container = containers[0]"
   ]
  },
  {
   "cell_type": "code",
   "execution_count": 23,
   "metadata": {},
   "outputs": [
    {
     "data": {
      "text/plain": [
       "'\\n        <div class=\"lister-item-content\">\\n    <div class=\"ipl-ratings-bar\">\\n            <span class=\"rating-other-user-rating\">\\n            <svg class=\"ipl-icon ipl-star-icon  \" xmlns=\"http://www.w3.org/2000/svg\" fill=\"#000000\" height=\"24\" viewBox=\"0 0 24 24\" width=\"24\">\\n                <path d=\"M0 0h24v24H0z\" fill=\"none\"></path>\\n                <path d=\"M12 17.27L18.18 21l-1.64-7.03L22 9.24l-7.19-.61L12 2 9.19 8.63 2 9.24l5.46 4.73L5.82 21z\"></path>\\n                <path d=\"M0 0h24v24H0z\" fill=\"none\"></path>\\n            </svg>\\n                <span>6</span><span class=\"point-scale\">/10</span>\\n            </span>\\n    </div>\\n<a href=\"/review/rw7085191/?ref_=tt_urv\" class=\"title\"> One thing I just can\\'t get over..\\n</a>            <div class=\"display-name-date\">\\n                    <span class=\"display-name-link\"><a href=\"/user/ur102857718/?ref_=tt_urv\">mackiesander</a></span><span class=\"review-date\">3 July 2021</span>\\n            </div>\\n                <span class=\"spoiler-warning\">Warning: Spoilers</span>\\n    <div class=\"ipl-expander ipl-expander--expanded\">\\n        <div class=\"ipl-expander__container\">\\n            <div class=\"expander-icon-wrapper spoiler-warning__control\">\\n                <svg class=\"ipl-expander__icon expander-icon \" width=\"12\" height=\"8\" viewBox=\"0 0 12 8\" xmlns=\"http://www.w3.org/2000/svg\">\\n                     <path d=\"M10.197 0L6 4.304 1.803 0 0 1.85 6 8l6-6.15\" fill=\"#2572B3\" fill-rule=\"evenodd\"></path>\\n                </svg>\\n            </div>\\n        </div>\\n    </div>\\n            <div class=\"content\" style=\"max-height: none;\">\\n                <div class=\"text show-more__control\">Acting was great, the concept was cool, the pace was fast and tense and exciting and honestly the cgi was so naturalistic and beautifully done, that I think the cgi alone makes this movie worth watching. BUT *spoilers ahead* I had so many issues with the basic logic in the plot. Once future Muri dies, basically nothing made any sense to me. Chris Pratt bringing the toxin back in time would erase future Muri\\'s timeline regardless of what he did with the toxin so he was never going to be able to go back there. I had assumed the whole time that their plan was to bring the toxin back in time and then just kill the aliens with it when they showed up in Chris\\'s timeline and then just solve the problem for humanity as a whole because of course Muri\\'s timeline will never be saved because that\\'s not how the writers decided time travel works. But of course, then Chris Pratt just kept telling us how he\\'s going to go back to future muri and save those 500,000 people instead of the other 8 billion, or about how \"he\\'s running out of time\" to stop the frozen aliens who we very well know aren\\'t going to wake up for another 30 years, and god damn him just running in to their space ship blindly and trying to take them on with their small ragtag crew instead of spending some portion of their next 30 safe years planning how to deal with the aliens safely just was like wait what!! Stop! Bring more people at the very least! Everyone in the world was convinced that \"people from the future came back and need help fighting aliens\" but they\\'re not going to believe that you found those aliens in a glacier??????????????? And I love how the toxin that was supposed to save humanity killed like 6 of the aliens in total, and they wound up just blowing the spaceship up instead.</div>\\n                \\n            <div class=\"actions text-muted\">\\n                    1,174 out of 1,412 found this helpful.\\n                        <span>\\n                            Was this review helpful? <a href=\"/registration/signin?ref_=urv\"> Sign in</a> to vote.\\n                        </span>\\n                        <br>\\n                    <a href=\"/review/rw7085191/?ref_=tt_urv\">Permalink</a>\\n                </div></div>\\n        </div>\\n        <div class=\"clear\"></div>\\n    '"
      ]
     },
     "execution_count": 23,
     "metadata": {},
     "output_type": "execute_result"
    }
   ],
   "source": [
    "container.get_attribute('innerHTML')"
   ]
  },
  {
   "cell_type": "code",
   "execution_count": 24,
   "metadata": {},
   "outputs": [],
   "source": [
    "# !pip install bs4"
   ]
  },
  {
   "cell_type": "code",
   "execution_count": 25,
   "metadata": {},
   "outputs": [],
   "source": [
    "from bs4 import BeautifulSoup"
   ]
  },
  {
   "cell_type": "code",
   "execution_count": 26,
   "metadata": {},
   "outputs": [],
   "source": [
    "bsObj = BeautifulSoup(container.get_attribute('innerHTML'))"
   ]
  },
  {
   "cell_type": "code",
   "execution_count": 27,
   "metadata": {},
   "outputs": [
    {
     "data": {
      "text/plain": [
       "<html><body><div class=\"lister-item-content\">\n",
       "<div class=\"ipl-ratings-bar\">\n",
       "<span class=\"rating-other-user-rating\">\n",
       "<svg class=\"ipl-icon ipl-star-icon\" fill=\"#000000\" height=\"24\" viewbox=\"0 0 24 24\" width=\"24\" xmlns=\"http://www.w3.org/2000/svg\">\n",
       "<path d=\"M0 0h24v24H0z\" fill=\"none\"></path>\n",
       "<path d=\"M12 17.27L18.18 21l-1.64-7.03L22 9.24l-7.19-.61L12 2 9.19 8.63 2 9.24l5.46 4.73L5.82 21z\"></path>\n",
       "<path d=\"M0 0h24v24H0z\" fill=\"none\"></path>\n",
       "</svg>\n",
       "<span>6</span><span class=\"point-scale\">/10</span>\n",
       "</span>\n",
       "</div>\n",
       "<a class=\"title\" href=\"/review/rw7085191/?ref_=tt_urv\"> One thing I just can't get over..\n",
       "</a> <div class=\"display-name-date\">\n",
       "<span class=\"display-name-link\"><a href=\"/user/ur102857718/?ref_=tt_urv\">mackiesander</a></span><span class=\"review-date\">3 July 2021</span>\n",
       "</div>\n",
       "<span class=\"spoiler-warning\">Warning: Spoilers</span>\n",
       "<div class=\"ipl-expander ipl-expander--expanded\">\n",
       "<div class=\"ipl-expander__container\">\n",
       "<div class=\"expander-icon-wrapper spoiler-warning__control\">\n",
       "<svg class=\"ipl-expander__icon expander-icon\" height=\"8\" viewbox=\"0 0 12 8\" width=\"12\" xmlns=\"http://www.w3.org/2000/svg\">\n",
       "<path d=\"M10.197 0L6 4.304 1.803 0 0 1.85 6 8l6-6.15\" fill=\"#2572B3\" fill-rule=\"evenodd\"></path>\n",
       "</svg>\n",
       "</div>\n",
       "</div>\n",
       "</div>\n",
       "<div class=\"content\" style=\"max-height: none;\">\n",
       "<div class=\"text show-more__control\">Acting was great, the concept was cool, the pace was fast and tense and exciting and honestly the cgi was so naturalistic and beautifully done, that I think the cgi alone makes this movie worth watching. BUT *spoilers ahead* I had so many issues with the basic logic in the plot. Once future Muri dies, basically nothing made any sense to me. Chris Pratt bringing the toxin back in time would erase future Muri's timeline regardless of what he did with the toxin so he was never going to be able to go back there. I had assumed the whole time that their plan was to bring the toxin back in time and then just kill the aliens with it when they showed up in Chris's timeline and then just solve the problem for humanity as a whole because of course Muri's timeline will never be saved because that's not how the writers decided time travel works. But of course, then Chris Pratt just kept telling us how he's going to go back to future muri and save those 500,000 people instead of the other 8 billion, or about how \"he's running out of time\" to stop the frozen aliens who we very well know aren't going to wake up for another 30 years, and god damn him just running in to their space ship blindly and trying to take them on with their small ragtag crew instead of spending some portion of their next 30 safe years planning how to deal with the aliens safely just was like wait what!! Stop! Bring more people at the very least! Everyone in the world was convinced that \"people from the future came back and need help fighting aliens\" but they're not going to believe that you found those aliens in a glacier??????????????? And I love how the toxin that was supposed to save humanity killed like 6 of the aliens in total, and they wound up just blowing the spaceship up instead.</div>\n",
       "<div class=\"actions text-muted\">\n",
       "                    1,174 out of 1,412 found this helpful.\n",
       "                        <span>\n",
       "                            Was this review helpful? <a href=\"/registration/signin?ref_=urv\"> Sign in</a> to vote.\n",
       "                        </span>\n",
       "<br/>\n",
       "<a href=\"/review/rw7085191/?ref_=tt_urv\">Permalink</a>\n",
       "</div></div>\n",
       "</div>\n",
       "<div class=\"clear\"></div>\n",
       "</body></html>"
      ]
     },
     "execution_count": 27,
     "metadata": {},
     "output_type": "execute_result"
    }
   ],
   "source": [
    "bsObj"
   ]
  },
  {
   "cell_type": "code",
   "execution_count": 28,
   "metadata": {},
   "outputs": [
    {
     "data": {
      "text/plain": [
       "'6/10'"
      ]
     },
     "execution_count": 28,
     "metadata": {},
     "output_type": "execute_result"
    }
   ],
   "source": [
    "re.sub(\"\\n\",\"\",bsObj.find('span',attrs={'class': 'rating-other-user-rating'}).text)"
   ]
  },
  {
   "cell_type": "code",
   "execution_count": 29,
   "metadata": {},
   "outputs": [
    {
     "data": {
      "text/plain": [
       "'Acting was great, the concept was cool, the pace was fast and tense and exciting and honestly the cgi was so naturalistic and beautifully done, that I think the cgi alone makes this movie worth watching. BUT *spoilers ahead* I had so many issues with the basic logic in the plot. Once future Muri dies, basically nothing made any sense to me. Chris Pratt bringing the toxin back in time would erase future Muri\\'s timeline regardless of what he did with the toxin so he was never going to be able to go back there. I had assumed the whole time that their plan was to bring the toxin back in time and then just kill the aliens with it when they showed up in Chris\\'s timeline and then just solve the problem for humanity as a whole because of course Muri\\'s timeline will never be saved because that\\'s not how the writers decided time travel works. But of course, then Chris Pratt just kept telling us how he\\'s going to go back to future muri and save those 500,000 people instead of the other 8 billion, or about how \"he\\'s running out of time\" to stop the frozen aliens who we very well know aren\\'t going to wake up for another 30 years, and god damn him just running in to their space ship blindly and trying to take them on with their small ragtag crew instead of spending some portion of their next 30 safe years planning how to deal with the aliens safely just was like wait what!! Stop! Bring more people at the very least! Everyone in the world was convinced that \"people from the future came back and need help fighting aliens\" but they\\'re not going to believe that you found those aliens in a glacier??????????????? And I love how the toxin that was supposed to save humanity killed like 6 of the aliens in total, and they wound up just blowing the spaceship up instead.'"
      ]
     },
     "execution_count": 29,
     "metadata": {},
     "output_type": "execute_result"
    }
   ],
   "source": [
    "bsObj.find('div',attrs={'class': 'text show-more__control'}).text"
   ]
  },
  {
   "cell_type": "code",
   "execution_count": 30,
   "metadata": {},
   "outputs": [
    {
     "name": "stdout",
     "output_type": "stream",
     "text": [
      "Acting was great, the concept was cool, the pace was fast and tense and exciting and honestly the cgi was so naturalistic and beautifully done, that I think the cgi alone makes this movie worth watching. BUT *spoilers ahead* I had so many issues with the basic logic in the plot. Once future Muri dies, basically nothing made any sense to me. Chris Pratt bringing the toxin back in time would erase future Muri's timeline regardless of what he did with the toxin so he was never going to be able to go back there. I had assumed the whole time that their plan was to bring the toxin back in time and then just kill the aliens with it when they showed up in Chris's timeline and then just solve the problem for humanity as a whole because of course Muri's timeline will never be saved because that's not how the writers decided time travel works. But of course, then Chris Pratt just kept telling us how he's going to go back to future muri and save those 500,000 people instead of the other 8 billion, or about how \"he's running out of time\" to stop the frozen aliens who we very well know aren't going to wake up for another 30 years, and god damn him just running in to their space ship blindly and trying to take them on with their small ragtag crew instead of spending some portion of their next 30 safe years planning how to deal with the aliens safely just was like wait what!! Stop! Bring more people at the very least! Everyone in the world was convinced that \"people from the future came back and need help fighting aliens\" but they're not going to believe that you found those aliens in a glacier??????????????? And I love how the toxin that was supposed to save humanity killed like 6 of the aliens in total, and they wound up just blowing the spaceship up instead.\n"
     ]
    }
   ],
   "source": [
    "print(bsObj.find('div',attrs={'class': 'text show-more__control'}).text)"
   ]
  },
  {
   "cell_type": "code",
   "execution_count": 31,
   "metadata": {},
   "outputs": [],
   "source": [
    "import pandas as pd"
   ]
  },
  {
   "cell_type": "code",
   "execution_count": 32,
   "metadata": {},
   "outputs": [],
   "source": [
    "rate_review_dict = {'rating':[],'review':[]}\n",
    "for i in range(len(containers)):\n",
    "    try:\n",
    "        container = containers[i]\n",
    "        container.get_attribute('innerHTML')\n",
    "        bsObj = BeautifulSoup(container.get_attribute('innerHTML'))\n",
    "        rate = re.sub(\"\\n\",\"\",bsObj.find('span',attrs={'class': 'rating-other-user-rating'}).text)\n",
    "        review = bsObj.find('div',attrs={'class': 'text show-more__control'}).text\n",
    "        rate_review_dict['rating'].append(rate)\n",
    "        rate_review_dict['review'].append(review)\n",
    "    except:\n",
    "        continue\n",
    "        \n",
    "# rate_review_dict"
   ]
  },
  {
   "cell_type": "code",
   "execution_count": 33,
   "metadata": {},
   "outputs": [
    {
     "data": {
      "text/html": [
       "<div>\n",
       "<style scoped>\n",
       "    .dataframe tbody tr th:only-of-type {\n",
       "        vertical-align: middle;\n",
       "    }\n",
       "\n",
       "    .dataframe tbody tr th {\n",
       "        vertical-align: top;\n",
       "    }\n",
       "\n",
       "    .dataframe thead th {\n",
       "        text-align: right;\n",
       "    }\n",
       "</style>\n",
       "<table border=\"1\" class=\"dataframe\">\n",
       "  <thead>\n",
       "    <tr style=\"text-align: right;\">\n",
       "      <th></th>\n",
       "      <th>rating</th>\n",
       "      <th>review</th>\n",
       "    </tr>\n",
       "  </thead>\n",
       "  <tbody>\n",
       "    <tr>\n",
       "      <th>0</th>\n",
       "      <td>6/10</td>\n",
       "      <td>Acting was great, the concept was cool, the pa...</td>\n",
       "    </tr>\n",
       "    <tr>\n",
       "      <th>1</th>\n",
       "      <td>5/10</td>\n",
       "      <td>Looks good, shame about the rampant stupidity....</td>\n",
       "    </tr>\n",
       "    <tr>\n",
       "      <th>2</th>\n",
       "      <td>6/10</td>\n",
       "      <td>Time travel movies are fun, aliens are fun and...</td>\n",
       "    </tr>\n",
       "    <tr>\n",
       "      <th>3</th>\n",
       "      <td>4/10</td>\n",
       "      <td>This movie really wants us to turn our brains ...</td>\n",
       "    </tr>\n",
       "    <tr>\n",
       "      <th>4</th>\n",
       "      <td>6/10</td>\n",
       "      <td>This is the best worst movie I've ever seen.SP...</td>\n",
       "    </tr>\n",
       "  </tbody>\n",
       "</table>\n",
       "</div>"
      ],
      "text/plain": [
       "  rating                                             review\n",
       "0   6/10  Acting was great, the concept was cool, the pa...\n",
       "1   5/10  Looks good, shame about the rampant stupidity....\n",
       "2   6/10  Time travel movies are fun, aliens are fun and...\n",
       "3   4/10  This movie really wants us to turn our brains ...\n",
       "4   6/10  This is the best worst movie I've ever seen.SP..."
      ]
     },
     "execution_count": 33,
     "metadata": {},
     "output_type": "execute_result"
    }
   ],
   "source": [
    "df = pd.DataFrame(rate_review_dict)\n",
    "df.head()"
   ]
  },
  {
   "cell_type": "code",
   "execution_count": 34,
   "metadata": {},
   "outputs": [],
   "source": [
    "# browser1 = Chrome(executable_path='chromedriver.exe')"
   ]
  },
  {
   "cell_type": "code",
   "execution_count": 35,
   "metadata": {},
   "outputs": [],
   "source": [
    "# browser1.get('https://www.magicbricks.com/property-for-rent/residential-real-estate?proptype=Multistorey-Apartment,Builder-Floor-Apartment,Penthouse,Studio-Apartment&cityName=Bangalore')"
   ]
  },
  {
   "cell_type": "code",
   "execution_count": 36,
   "metadata": {},
   "outputs": [],
   "source": [
    "# browser1.execute_script(\"window.scrollTo(0, document.body.scrollHeight)\")"
   ]
  },
  {
   "cell_type": "code",
   "execution_count": 11,
   "metadata": {},
   "outputs": [
    {
     "name": "stdout",
     "output_type": "stream",
     "text": [
      "Collecting gensim\n",
      "  Downloading gensim-4.0.1-cp38-cp38-win_amd64.whl (23.9 MB)\n",
      "Requirement already satisfied: numpy>=1.11.3 in c:\\programdata\\anaconda3\\lib\\site-packages (from gensim) (1.19.2)\n",
      "Requirement already satisfied: scipy>=0.18.1 in c:\\programdata\\anaconda3\\lib\\site-packages (from gensim) (1.5.2)\n",
      "Requirement already satisfied: Cython==0.29.21 in c:\\programdata\\anaconda3\\lib\\site-packages (from gensim) (0.29.21)\n",
      "Collecting smart-open>=1.8.1\n",
      "  Downloading smart_open-5.1.0-py3-none-any.whl (57 kB)\n",
      "Installing collected packages: smart-open, gensim\n",
      "Successfully installed gensim-4.0.1 smart-open-5.1.0\n"
     ]
    }
   ],
   "source": [
    "# !pip install gensim"
   ]
  },
  {
   "cell_type": "code",
   "execution_count": null,
   "metadata": {},
   "outputs": [],
   "source": [
    "# only_review"
   ]
  },
  {
   "cell_type": "code",
   "execution_count": 38,
   "metadata": {},
   "outputs": [
    {
     "data": {
      "text/plain": [
       "{'a': 1, 'b': 2, 'c': 3}"
      ]
     },
     "execution_count": 38,
     "metadata": {},
     "output_type": "execute_result"
    }
   ],
   "source": [
    "list1 = ['a','b','c']\n",
    "list2 = [1,2,3]\n",
    "dict(zip(list1,list2))"
   ]
  },
  {
   "cell_type": "code",
   "execution_count": null,
   "metadata": {},
   "outputs": [],
   "source": []
  }
 ],
 "metadata": {
  "kernelspec": {
   "display_name": "Python 3",
   "language": "python",
   "name": "python3"
  },
  "language_info": {
   "codemirror_mode": {
    "name": "ipython",
    "version": 3
   },
   "file_extension": ".py",
   "mimetype": "text/x-python",
   "name": "python",
   "nbconvert_exporter": "python",
   "pygments_lexer": "ipython3",
   "version": "3.8.5"
  }
 },
 "nbformat": 4,
 "nbformat_minor": 4
}
