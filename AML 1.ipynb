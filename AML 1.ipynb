{
 "cells": [
  {
   "cell_type": "code",
   "execution_count": 1,
   "metadata": {},
   "outputs": [],
   "source": [
    "import numpy as np\n",
    "import pandas as pd\n",
    "import matplotlib.pyplot as plt\n",
    "import seaborn as sns\n",
    "from xgboost import XGBClassifier\n",
    "from sklearn.decomposition import PCA, TruncatedSVD\n",
    "from sklearn.model_selection import train_test_split\n",
    "from sklearn.metrics import confusion_matrix, cohen_kappa_score, accuracy_score\n",
    "from sklearn.tree import DecisionTreeClassifier\n",
    "from sklearn.naive_bayes import GaussianNB\n",
    "from sklearn.neighbors import KNeighborsClassifier\n",
    "from sklearn.ensemble import BaggingClassifier, AdaBoostClassifier, GradientBoostingClassifier, RandomForestClassifier\n",
    "import time"
   ]
  },
  {
   "cell_type": "code",
   "execution_count": 2,
   "metadata": {},
   "outputs": [],
   "source": [
    "train_path = 'https://archive.ics.uci.edu/ml/machine-learning-databases/thyroid-disease/ann-train.data'\n",
    "test_path = 'https://archive.ics.uci.edu/ml/machine-learning-databases/thyroid-disease/ann-test.data'"
   ]
  },
  {
   "cell_type": "code",
   "execution_count": 3,
   "metadata": {},
   "outputs": [],
   "source": [
    "trainset = pd.read_table(train_path,header=None, sep='\\s+')\n",
    "testset = pd.read_table(test_path,header=None, sep='\\s+')"
   ]
  },
  {
   "cell_type": "code",
   "execution_count": 4,
   "metadata": {},
   "outputs": [
    {
     "data": {
      "text/plain": [
       "(3772, 22)"
      ]
     },
     "execution_count": 4,
     "metadata": {},
     "output_type": "execute_result"
    }
   ],
   "source": [
    "trainset.shape"
   ]
  },
  {
   "cell_type": "code",
   "execution_count": 5,
   "metadata": {},
   "outputs": [
    {
     "data": {
      "text/plain": [
       "['V0',\n",
       " 'V1',\n",
       " 'V2',\n",
       " 'V3',\n",
       " 'V4',\n",
       " 'V5',\n",
       " 'V6',\n",
       " 'V7',\n",
       " 'V8',\n",
       " 'V9',\n",
       " 'V10',\n",
       " 'V11',\n",
       " 'V12',\n",
       " 'V13',\n",
       " 'V14',\n",
       " 'V15',\n",
       " 'V16',\n",
       " 'V17',\n",
       " 'V18',\n",
       " 'V19',\n",
       " 'V20',\n",
       " 'V21']"
      ]
     },
     "execution_count": 5,
     "metadata": {},
     "output_type": "execute_result"
    }
   ],
   "source": [
    "var_names = [\"V\"+str(i) for i in range(trainset.shape[1])]\n",
    "var_names"
   ]
  },
  {
   "cell_type": "code",
   "execution_count": 6,
   "metadata": {},
   "outputs": [],
   "source": [
    "trainset.columns = var_names\n",
    "testset.columns = var_names"
   ]
  },
  {
   "cell_type": "code",
   "execution_count": 7,
   "metadata": {},
   "outputs": [
    {
     "data": {
      "text/html": [
       "<div>\n",
       "<style scoped>\n",
       "    .dataframe tbody tr th:only-of-type {\n",
       "        vertical-align: middle;\n",
       "    }\n",
       "\n",
       "    .dataframe tbody tr th {\n",
       "        vertical-align: top;\n",
       "    }\n",
       "\n",
       "    .dataframe thead th {\n",
       "        text-align: right;\n",
       "    }\n",
       "</style>\n",
       "<table border=\"1\" class=\"dataframe\">\n",
       "  <thead>\n",
       "    <tr style=\"text-align: right;\">\n",
       "      <th></th>\n",
       "      <th>V0</th>\n",
       "      <th>V1</th>\n",
       "      <th>V2</th>\n",
       "      <th>V3</th>\n",
       "      <th>V4</th>\n",
       "      <th>V5</th>\n",
       "      <th>V6</th>\n",
       "      <th>V7</th>\n",
       "      <th>V8</th>\n",
       "      <th>V9</th>\n",
       "      <th>...</th>\n",
       "      <th>V12</th>\n",
       "      <th>V13</th>\n",
       "      <th>V14</th>\n",
       "      <th>V15</th>\n",
       "      <th>V16</th>\n",
       "      <th>V17</th>\n",
       "      <th>V18</th>\n",
       "      <th>V19</th>\n",
       "      <th>V20</th>\n",
       "      <th>V21</th>\n",
       "    </tr>\n",
       "  </thead>\n",
       "  <tbody>\n",
       "    <tr>\n",
       "      <th>0</th>\n",
       "      <td>0.73</td>\n",
       "      <td>0</td>\n",
       "      <td>1</td>\n",
       "      <td>0</td>\n",
       "      <td>0</td>\n",
       "      <td>0</td>\n",
       "      <td>0</td>\n",
       "      <td>0</td>\n",
       "      <td>1</td>\n",
       "      <td>0</td>\n",
       "      <td>...</td>\n",
       "      <td>0</td>\n",
       "      <td>0</td>\n",
       "      <td>0</td>\n",
       "      <td>0</td>\n",
       "      <td>0.00060</td>\n",
       "      <td>0.015</td>\n",
       "      <td>0.120</td>\n",
       "      <td>0.082</td>\n",
       "      <td>0.146</td>\n",
       "      <td>3</td>\n",
       "    </tr>\n",
       "    <tr>\n",
       "      <th>1</th>\n",
       "      <td>0.24</td>\n",
       "      <td>0</td>\n",
       "      <td>0</td>\n",
       "      <td>0</td>\n",
       "      <td>0</td>\n",
       "      <td>0</td>\n",
       "      <td>0</td>\n",
       "      <td>0</td>\n",
       "      <td>0</td>\n",
       "      <td>0</td>\n",
       "      <td>...</td>\n",
       "      <td>0</td>\n",
       "      <td>0</td>\n",
       "      <td>0</td>\n",
       "      <td>0</td>\n",
       "      <td>0.00025</td>\n",
       "      <td>0.030</td>\n",
       "      <td>0.143</td>\n",
       "      <td>0.133</td>\n",
       "      <td>0.108</td>\n",
       "      <td>3</td>\n",
       "    </tr>\n",
       "    <tr>\n",
       "      <th>2</th>\n",
       "      <td>0.47</td>\n",
       "      <td>0</td>\n",
       "      <td>0</td>\n",
       "      <td>0</td>\n",
       "      <td>0</td>\n",
       "      <td>0</td>\n",
       "      <td>0</td>\n",
       "      <td>0</td>\n",
       "      <td>0</td>\n",
       "      <td>0</td>\n",
       "      <td>...</td>\n",
       "      <td>0</td>\n",
       "      <td>0</td>\n",
       "      <td>0</td>\n",
       "      <td>0</td>\n",
       "      <td>0.00190</td>\n",
       "      <td>0.024</td>\n",
       "      <td>0.102</td>\n",
       "      <td>0.131</td>\n",
       "      <td>0.078</td>\n",
       "      <td>3</td>\n",
       "    </tr>\n",
       "    <tr>\n",
       "      <th>3</th>\n",
       "      <td>0.64</td>\n",
       "      <td>1</td>\n",
       "      <td>0</td>\n",
       "      <td>0</td>\n",
       "      <td>0</td>\n",
       "      <td>0</td>\n",
       "      <td>0</td>\n",
       "      <td>0</td>\n",
       "      <td>0</td>\n",
       "      <td>0</td>\n",
       "      <td>...</td>\n",
       "      <td>0</td>\n",
       "      <td>0</td>\n",
       "      <td>0</td>\n",
       "      <td>0</td>\n",
       "      <td>0.00090</td>\n",
       "      <td>0.017</td>\n",
       "      <td>0.077</td>\n",
       "      <td>0.090</td>\n",
       "      <td>0.085</td>\n",
       "      <td>3</td>\n",
       "    </tr>\n",
       "    <tr>\n",
       "      <th>4</th>\n",
       "      <td>0.23</td>\n",
       "      <td>0</td>\n",
       "      <td>0</td>\n",
       "      <td>0</td>\n",
       "      <td>0</td>\n",
       "      <td>0</td>\n",
       "      <td>0</td>\n",
       "      <td>0</td>\n",
       "      <td>0</td>\n",
       "      <td>0</td>\n",
       "      <td>...</td>\n",
       "      <td>0</td>\n",
       "      <td>0</td>\n",
       "      <td>0</td>\n",
       "      <td>0</td>\n",
       "      <td>0.00025</td>\n",
       "      <td>0.026</td>\n",
       "      <td>0.139</td>\n",
       "      <td>0.090</td>\n",
       "      <td>0.153</td>\n",
       "      <td>3</td>\n",
       "    </tr>\n",
       "  </tbody>\n",
       "</table>\n",
       "<p>5 rows × 22 columns</p>\n",
       "</div>"
      ],
      "text/plain": [
       "     V0  V1  V2  V3  V4  V5  V6  V7  V8  V9  ...  V12  V13  V14  V15      V16  \\\n",
       "0  0.73   0   1   0   0   0   0   0   1   0  ...    0    0    0    0  0.00060   \n",
       "1  0.24   0   0   0   0   0   0   0   0   0  ...    0    0    0    0  0.00025   \n",
       "2  0.47   0   0   0   0   0   0   0   0   0  ...    0    0    0    0  0.00190   \n",
       "3  0.64   1   0   0   0   0   0   0   0   0  ...    0    0    0    0  0.00090   \n",
       "4  0.23   0   0   0   0   0   0   0   0   0  ...    0    0    0    0  0.00025   \n",
       "\n",
       "     V17    V18    V19    V20  V21  \n",
       "0  0.015  0.120  0.082  0.146    3  \n",
       "1  0.030  0.143  0.133  0.108    3  \n",
       "2  0.024  0.102  0.131  0.078    3  \n",
       "3  0.017  0.077  0.090  0.085    3  \n",
       "4  0.026  0.139  0.090  0.153    3  \n",
       "\n",
       "[5 rows x 22 columns]"
      ]
     },
     "execution_count": 7,
     "metadata": {},
     "output_type": "execute_result"
    }
   ],
   "source": [
    "trainset.head()"
   ]
  },
  {
   "cell_type": "code",
   "execution_count": 8,
   "metadata": {},
   "outputs": [
    {
     "data": {
      "text/plain": [
       "3    3488\n",
       "2     191\n",
       "1      93\n",
       "Name: V21, dtype: int64"
      ]
     },
     "execution_count": 8,
     "metadata": {},
     "output_type": "execute_result"
    }
   ],
   "source": [
    "trainset[\"V21\"].value_counts()"
   ]
  },
  {
   "cell_type": "code",
   "execution_count": 9,
   "metadata": {},
   "outputs": [
    {
     "data": {
      "text/html": [
       "<div>\n",
       "<style scoped>\n",
       "    .dataframe tbody tr th:only-of-type {\n",
       "        vertical-align: middle;\n",
       "    }\n",
       "\n",
       "    .dataframe tbody tr th {\n",
       "        vertical-align: top;\n",
       "    }\n",
       "\n",
       "    .dataframe thead th {\n",
       "        text-align: right;\n",
       "    }\n",
       "</style>\n",
       "<table border=\"1\" class=\"dataframe\">\n",
       "  <thead>\n",
       "    <tr style=\"text-align: right;\">\n",
       "      <th></th>\n",
       "      <th>V0</th>\n",
       "      <th>V1</th>\n",
       "      <th>V2</th>\n",
       "      <th>V3</th>\n",
       "      <th>V4</th>\n",
       "      <th>V5</th>\n",
       "      <th>V6</th>\n",
       "      <th>V7</th>\n",
       "      <th>V8</th>\n",
       "      <th>V9</th>\n",
       "      <th>...</th>\n",
       "      <th>V12</th>\n",
       "      <th>V13</th>\n",
       "      <th>V14</th>\n",
       "      <th>V15</th>\n",
       "      <th>V16</th>\n",
       "      <th>V17</th>\n",
       "      <th>V18</th>\n",
       "      <th>V19</th>\n",
       "      <th>V20</th>\n",
       "      <th>V21</th>\n",
       "    </tr>\n",
       "  </thead>\n",
       "  <tbody>\n",
       "    <tr>\n",
       "      <th>count</th>\n",
       "      <td>3772.000000</td>\n",
       "      <td>3772.000000</td>\n",
       "      <td>3772.000000</td>\n",
       "      <td>3772.000000</td>\n",
       "      <td>3772.000000</td>\n",
       "      <td>3772.000000</td>\n",
       "      <td>3772.000000</td>\n",
       "      <td>3772.000000</td>\n",
       "      <td>3772.000000</td>\n",
       "      <td>3772.000000</td>\n",
       "      <td>...</td>\n",
       "      <td>3772.000000</td>\n",
       "      <td>3772.000000</td>\n",
       "      <td>3772.000000</td>\n",
       "      <td>3772.000000</td>\n",
       "      <td>3772.000000</td>\n",
       "      <td>3772.000000</td>\n",
       "      <td>3772.000000</td>\n",
       "      <td>3772.000000</td>\n",
       "      <td>3772.000000</td>\n",
       "      <td>3772.000000</td>\n",
       "    </tr>\n",
       "    <tr>\n",
       "      <th>mean</th>\n",
       "      <td>0.515102</td>\n",
       "      <td>0.303022</td>\n",
       "      <td>0.123277</td>\n",
       "      <td>0.012990</td>\n",
       "      <td>0.011400</td>\n",
       "      <td>0.038441</td>\n",
       "      <td>0.014051</td>\n",
       "      <td>0.014316</td>\n",
       "      <td>0.015111</td>\n",
       "      <td>0.062036</td>\n",
       "      <td>...</td>\n",
       "      <td>0.008749</td>\n",
       "      <td>0.025186</td>\n",
       "      <td>0.000265</td>\n",
       "      <td>0.049311</td>\n",
       "      <td>0.004761</td>\n",
       "      <td>0.020191</td>\n",
       "      <td>0.108286</td>\n",
       "      <td>0.099288</td>\n",
       "      <td>0.110154</td>\n",
       "      <td>2.900053</td>\n",
       "    </tr>\n",
       "    <tr>\n",
       "      <th>std</th>\n",
       "      <td>0.189525</td>\n",
       "      <td>0.459626</td>\n",
       "      <td>0.328798</td>\n",
       "      <td>0.113248</td>\n",
       "      <td>0.106174</td>\n",
       "      <td>0.192284</td>\n",
       "      <td>0.117716</td>\n",
       "      <td>0.118806</td>\n",
       "      <td>0.122012</td>\n",
       "      <td>0.241253</td>\n",
       "      <td>...</td>\n",
       "      <td>0.093137</td>\n",
       "      <td>0.156709</td>\n",
       "      <td>0.016282</td>\n",
       "      <td>0.216545</td>\n",
       "      <td>0.023308</td>\n",
       "      <td>0.007421</td>\n",
       "      <td>0.034488</td>\n",
       "      <td>0.018612</td>\n",
       "      <td>0.033493</td>\n",
       "      <td>0.373236</td>\n",
       "    </tr>\n",
       "    <tr>\n",
       "      <th>min</th>\n",
       "      <td>0.010000</td>\n",
       "      <td>0.000000</td>\n",
       "      <td>0.000000</td>\n",
       "      <td>0.000000</td>\n",
       "      <td>0.000000</td>\n",
       "      <td>0.000000</td>\n",
       "      <td>0.000000</td>\n",
       "      <td>0.000000</td>\n",
       "      <td>0.000000</td>\n",
       "      <td>0.000000</td>\n",
       "      <td>...</td>\n",
       "      <td>0.000000</td>\n",
       "      <td>0.000000</td>\n",
       "      <td>0.000000</td>\n",
       "      <td>0.000000</td>\n",
       "      <td>0.000000</td>\n",
       "      <td>0.000500</td>\n",
       "      <td>0.002000</td>\n",
       "      <td>0.019000</td>\n",
       "      <td>0.002000</td>\n",
       "      <td>1.000000</td>\n",
       "    </tr>\n",
       "    <tr>\n",
       "      <th>25%</th>\n",
       "      <td>0.360000</td>\n",
       "      <td>0.000000</td>\n",
       "      <td>0.000000</td>\n",
       "      <td>0.000000</td>\n",
       "      <td>0.000000</td>\n",
       "      <td>0.000000</td>\n",
       "      <td>0.000000</td>\n",
       "      <td>0.000000</td>\n",
       "      <td>0.000000</td>\n",
       "      <td>0.000000</td>\n",
       "      <td>...</td>\n",
       "      <td>0.000000</td>\n",
       "      <td>0.000000</td>\n",
       "      <td>0.000000</td>\n",
       "      <td>0.000000</td>\n",
       "      <td>0.000600</td>\n",
       "      <td>0.017000</td>\n",
       "      <td>0.089000</td>\n",
       "      <td>0.089000</td>\n",
       "      <td>0.093000</td>\n",
       "      <td>3.000000</td>\n",
       "    </tr>\n",
       "    <tr>\n",
       "      <th>50%</th>\n",
       "      <td>0.540000</td>\n",
       "      <td>0.000000</td>\n",
       "      <td>0.000000</td>\n",
       "      <td>0.000000</td>\n",
       "      <td>0.000000</td>\n",
       "      <td>0.000000</td>\n",
       "      <td>0.000000</td>\n",
       "      <td>0.000000</td>\n",
       "      <td>0.000000</td>\n",
       "      <td>0.000000</td>\n",
       "      <td>...</td>\n",
       "      <td>0.000000</td>\n",
       "      <td>0.000000</td>\n",
       "      <td>0.000000</td>\n",
       "      <td>0.000000</td>\n",
       "      <td>0.001600</td>\n",
       "      <td>0.020600</td>\n",
       "      <td>0.105500</td>\n",
       "      <td>0.099000</td>\n",
       "      <td>0.108000</td>\n",
       "      <td>3.000000</td>\n",
       "    </tr>\n",
       "    <tr>\n",
       "      <th>75%</th>\n",
       "      <td>0.670000</td>\n",
       "      <td>1.000000</td>\n",
       "      <td>0.000000</td>\n",
       "      <td>0.000000</td>\n",
       "      <td>0.000000</td>\n",
       "      <td>0.000000</td>\n",
       "      <td>0.000000</td>\n",
       "      <td>0.000000</td>\n",
       "      <td>0.000000</td>\n",
       "      <td>0.000000</td>\n",
       "      <td>...</td>\n",
       "      <td>0.000000</td>\n",
       "      <td>0.000000</td>\n",
       "      <td>0.000000</td>\n",
       "      <td>0.000000</td>\n",
       "      <td>0.002400</td>\n",
       "      <td>0.023000</td>\n",
       "      <td>0.123000</td>\n",
       "      <td>0.107000</td>\n",
       "      <td>0.122000</td>\n",
       "      <td>3.000000</td>\n",
       "    </tr>\n",
       "    <tr>\n",
       "      <th>max</th>\n",
       "      <td>0.940000</td>\n",
       "      <td>1.000000</td>\n",
       "      <td>1.000000</td>\n",
       "      <td>1.000000</td>\n",
       "      <td>1.000000</td>\n",
       "      <td>1.000000</td>\n",
       "      <td>1.000000</td>\n",
       "      <td>1.000000</td>\n",
       "      <td>1.000000</td>\n",
       "      <td>1.000000</td>\n",
       "      <td>...</td>\n",
       "      <td>1.000000</td>\n",
       "      <td>1.000000</td>\n",
       "      <td>1.000000</td>\n",
       "      <td>1.000000</td>\n",
       "      <td>0.530000</td>\n",
       "      <td>0.105900</td>\n",
       "      <td>0.430000</td>\n",
       "      <td>0.232000</td>\n",
       "      <td>0.612000</td>\n",
       "      <td>3.000000</td>\n",
       "    </tr>\n",
       "  </tbody>\n",
       "</table>\n",
       "<p>8 rows × 22 columns</p>\n",
       "</div>"
      ],
      "text/plain": [
       "                V0           V1           V2           V3           V4  \\\n",
       "count  3772.000000  3772.000000  3772.000000  3772.000000  3772.000000   \n",
       "mean      0.515102     0.303022     0.123277     0.012990     0.011400   \n",
       "std       0.189525     0.459626     0.328798     0.113248     0.106174   \n",
       "min       0.010000     0.000000     0.000000     0.000000     0.000000   \n",
       "25%       0.360000     0.000000     0.000000     0.000000     0.000000   \n",
       "50%       0.540000     0.000000     0.000000     0.000000     0.000000   \n",
       "75%       0.670000     1.000000     0.000000     0.000000     0.000000   \n",
       "max       0.940000     1.000000     1.000000     1.000000     1.000000   \n",
       "\n",
       "                V5           V6           V7           V8           V9  ...  \\\n",
       "count  3772.000000  3772.000000  3772.000000  3772.000000  3772.000000  ...   \n",
       "mean      0.038441     0.014051     0.014316     0.015111     0.062036  ...   \n",
       "std       0.192284     0.117716     0.118806     0.122012     0.241253  ...   \n",
       "min       0.000000     0.000000     0.000000     0.000000     0.000000  ...   \n",
       "25%       0.000000     0.000000     0.000000     0.000000     0.000000  ...   \n",
       "50%       0.000000     0.000000     0.000000     0.000000     0.000000  ...   \n",
       "75%       0.000000     0.000000     0.000000     0.000000     0.000000  ...   \n",
       "max       1.000000     1.000000     1.000000     1.000000     1.000000  ...   \n",
       "\n",
       "               V12          V13          V14          V15          V16  \\\n",
       "count  3772.000000  3772.000000  3772.000000  3772.000000  3772.000000   \n",
       "mean      0.008749     0.025186     0.000265     0.049311     0.004761   \n",
       "std       0.093137     0.156709     0.016282     0.216545     0.023308   \n",
       "min       0.000000     0.000000     0.000000     0.000000     0.000000   \n",
       "25%       0.000000     0.000000     0.000000     0.000000     0.000600   \n",
       "50%       0.000000     0.000000     0.000000     0.000000     0.001600   \n",
       "75%       0.000000     0.000000     0.000000     0.000000     0.002400   \n",
       "max       1.000000     1.000000     1.000000     1.000000     0.530000   \n",
       "\n",
       "               V17          V18          V19          V20          V21  \n",
       "count  3772.000000  3772.000000  3772.000000  3772.000000  3772.000000  \n",
       "mean      0.020191     0.108286     0.099288     0.110154     2.900053  \n",
       "std       0.007421     0.034488     0.018612     0.033493     0.373236  \n",
       "min       0.000500     0.002000     0.019000     0.002000     1.000000  \n",
       "25%       0.017000     0.089000     0.089000     0.093000     3.000000  \n",
       "50%       0.020600     0.105500     0.099000     0.108000     3.000000  \n",
       "75%       0.023000     0.123000     0.107000     0.122000     3.000000  \n",
       "max       0.105900     0.430000     0.232000     0.612000     3.000000  \n",
       "\n",
       "[8 rows x 22 columns]"
      ]
     },
     "execution_count": 9,
     "metadata": {},
     "output_type": "execute_result"
    }
   ],
   "source": [
    "trainset.describe()"
   ]
  },
  {
   "cell_type": "code",
   "execution_count": 10,
   "metadata": {},
   "outputs": [
    {
     "data": {
      "text/plain": [
       "<AxesSubplot:>"
      ]
     },
     "execution_count": 10,
     "metadata": {},
     "output_type": "execute_result"
    },
    {
     "data": {
      "image/png": "[encoded data removed]",
      "text/plain": [
       "<Figure size 720x720 with 2 Axes>"
      ]
     },
     "metadata": {
      "needs_background": "light"
     },
     "output_type": "display_data"
    }
   ],
   "source": [
    "plt.figure(figsize=(10,10))\n",
    "sns.heatmap(data=trainset.drop('V21', axis=1).corr())"
   ]
  },
  {
   "cell_type": "code",
   "execution_count": 11,
   "metadata": {},
   "outputs": [
    {
     "data": {
      "text/plain": [
       "DecisionTreeClassifier(max_depth=2)"
      ]
     },
     "execution_count": 11,
     "metadata": {},
     "output_type": "execute_result"
    }
   ],
   "source": [
    "# Base classifiers for the ensemble methods\n",
    "nb = GaussianNB()\n",
    "knn = KNeighborsClassifier(p=1, n_neighbors=1)\n",
    "tree = DecisionTreeClassifier(max_depth=2)\n",
    "tree"
   ]
  },
  {
   "cell_type": "code",
   "execution_count": 18,
   "metadata": {},
   "outputs": [
    {
     "name": "stdout",
     "output_type": "stream",
     "text": [
      "4\n"
     ]
    }
   ],
   "source": [
    "import multiprocessing\n",
    "n_jobs = multiprocessing.cpu_count()\n",
    "print(n_jobs)"
   ]
  },
  {
   "cell_type": "code",
   "execution_count": 19,
   "metadata": {},
   "outputs": [
    {
     "data": {
      "text/plain": [
       "BaggingClassifier(base_estimator=DecisionTreeClassifier(max_depth=2),\n",
       "                  n_estimators=50, n_jobs=-1, random_state=1234)"
      ]
     },
     "execution_count": 19,
     "metadata": {},
     "output_type": "execute_result"
    }
   ],
   "source": [
    "# Bagg_nb = BaggingClassifier(base_estimator=nb, n_estimators=50, n_jobs=10, random_state=1234)\n",
    "# Bagg_tree = BaggingClassifier(base_estimator=tree, n_estimators=50, n_jobs=10, random_state=1234)\n",
    "# Bagg_knn = BaggingClassifier(base_estimator=knn, n_estimators=50, n_jobs=10, random_state=1234)\n",
    "\n",
    "Bagg_nb = BaggingClassifier(base_estimator=nb, n_estimators=50, n_jobs=4, random_state=1234)\n",
    "Bagg_tree = BaggingClassifier(base_estimator=tree, n_estimators=50, n_jobs=-1, random_state=1234)\n",
    "Bagg_knn = BaggingClassifier(base_estimator=knn, n_estimators=50, n_jobs=4, random_state=1234)\n",
    "Bagg_tree"
   ]
  },
  {
   "cell_type": "code",
   "execution_count": 20,
   "metadata": {},
   "outputs": [],
   "source": [
    "# dividing trainset in 70:30 ratio\n",
    "x_train, x_test, y_train, y_test = train_test_split(trainset.iloc[:,:21], trainset['V21'], \n",
    "                                                    test_size=0.3, random_state=1234)"
   ]
  },
  {
   "cell_type": "code",
   "execution_count": 21,
   "metadata": {},
   "outputs": [
    {
     "data": {
      "text/plain": [
       "((2640, 21), (2640,))"
      ]
     },
     "execution_count": 21,
     "metadata": {},
     "output_type": "execute_result"
    }
   ],
   "source": [
    "x_train.shape, y_train.shape"
   ]
  },
  {
   "cell_type": "code",
   "execution_count": 22,
   "metadata": {},
   "outputs": [
    {
     "name": "stdout",
     "output_type": "stream",
     "text": [
      "98.1 ms ± 3.08 ms per loop (mean ± std. dev. of 7 runs, 1 loop each)\n"
     ]
    }
   ],
   "source": [
    "%%timeit\n",
    "\n",
    "Bagg_nb.fit(X=x_train, y=y_train)"
   ]
  },
  {
   "cell_type": "code",
   "execution_count": 23,
   "metadata": {},
   "outputs": [],
   "source": [
    "pred_bagg_nb = Bagg_nb.predict(x_test)"
   ]
  },
  {
   "cell_type": "code",
   "execution_count": 24,
   "metadata": {},
   "outputs": [
    {
     "data": {
      "text/plain": [
       "array([[ 26,   1,   1],\n",
       "       [ 41,  10,   0],\n",
       "       [791, 212,  50]], dtype=int64)"
      ]
     },
     "execution_count": 24,
     "metadata": {},
     "output_type": "execute_result"
    }
   ],
   "source": [
    "confusion_matrix(y_test, pred_bagg_nb)"
   ]
  },
  {
   "cell_type": "code",
   "execution_count": 25,
   "metadata": {},
   "outputs": [
    {
     "name": "stdout",
     "output_type": "stream",
     "text": [
      "[[  17    5    6]\n",
      " [   0   11   40]\n",
      " [   3   22 1028]]\n",
      "[[  17    5    6]\n",
      " [   0   11   40]\n",
      " [   3   22 1028]]\n",
      "[[  17    5    6]\n",
      " [   0   11   40]\n",
      " [   3   22 1028]]\n",
      "[[  17    5    6]\n",
      " [   0   11   40]\n",
      " [   3   22 1028]]\n",
      "[[  17    5    6]\n",
      " [   0   11   40]\n",
      " [   3   22 1028]]\n",
      "[[  17    5    6]\n",
      " [   0   11   40]\n",
      " [   3   22 1028]]\n",
      "[[  17    5    6]\n",
      " [   0   11   40]\n",
      " [   3   22 1028]]\n",
      "[[  17    5    6]\n",
      " [   0   11   40]\n",
      " [   3   22 1028]]\n",
      "2.24 s ± 159 ms per loop (mean ± std. dev. of 7 runs, 1 loop each)\n"
     ]
    }
   ],
   "source": [
    "%%timeit\n",
    "\n",
    "Bagg_knn.fit(X=x_train, y=y_train)\n",
    "pred_bagg_knn = Bagg_knn.predict(x_test)\n",
    "print(confusion_matrix(y_test, pred_bagg_knn))"
   ]
  },
  {
   "cell_type": "code",
   "execution_count": 26,
   "metadata": {},
   "outputs": [
    {
     "name": "stdout",
     "output_type": "stream",
     "text": [
      "[[  28    0    0]\n",
      " [   0   51    0]\n",
      " [   4   20 1029]]\n",
      "[[  28    0    0]\n",
      " [   0   51    0]\n",
      " [   4   20 1029]]\n",
      "[[  28    0    0]\n",
      " [   0   51    0]\n",
      " [   4   20 1029]]\n",
      "[[  28    0    0]\n",
      " [   0   51    0]\n",
      " [   4   20 1029]]\n",
      "[[  28    0    0]\n",
      " [   0   51    0]\n",
      " [   4   20 1029]]\n",
      "[[  28    0    0]\n",
      " [   0   51    0]\n",
      " [   4   20 1029]]\n",
      "[[  28    0    0]\n",
      " [   0   51    0]\n",
      " [   4   20 1029]]\n",
      "[[  28    0    0]\n",
      " [   0   51    0]\n",
      " [   4   20 1029]]\n",
      "[[  28    0    0]\n",
      " [   0   51    0]\n",
      " [   4   20 1029]]\n",
      "[[  28    0    0]\n",
      " [   0   51    0]\n",
      " [   4   20 1029]]\n",
      "[[  28    0    0]\n",
      " [   0   51    0]\n",
      " [   4   20 1029]]\n",
      "[[  28    0    0]\n",
      " [   0   51    0]\n",
      " [   4   20 1029]]\n",
      "[[  28    0    0]\n",
      " [   0   51    0]\n",
      " [   4   20 1029]]\n",
      "[[  28    0    0]\n",
      " [   0   51    0]\n",
      " [   4   20 1029]]\n",
      "[[  28    0    0]\n",
      " [   0   51    0]\n",
      " [   4   20 1029]]\n",
      "[[  28    0    0]\n",
      " [   0   51    0]\n",
      " [   4   20 1029]]\n",
      "[[  28    0    0]\n",
      " [   0   51    0]\n",
      " [   4   20 1029]]\n",
      "[[  28    0    0]\n",
      " [   0   51    0]\n",
      " [   4   20 1029]]\n",
      "[[  28    0    0]\n",
      " [   0   51    0]\n",
      " [   4   20 1029]]\n",
      "[[  28    0    0]\n",
      " [   0   51    0]\n",
      " [   4   20 1029]]\n",
      "[[  28    0    0]\n",
      " [   0   51    0]\n",
      " [   4   20 1029]]\n",
      "[[  28    0    0]\n",
      " [   0   51    0]\n",
      " [   4   20 1029]]\n",
      "[[  28    0    0]\n",
      " [   0   51    0]\n",
      " [   4   20 1029]]\n",
      "[[  28    0    0]\n",
      " [   0   51    0]\n",
      " [   4   20 1029]]\n",
      "[[  28    0    0]\n",
      " [   0   51    0]\n",
      " [   4   20 1029]]\n",
      "[[  28    0    0]\n",
      " [   0   51    0]\n",
      " [   4   20 1029]]\n",
      "[[  28    0    0]\n",
      " [   0   51    0]\n",
      " [   4   20 1029]]\n",
      "[[  28    0    0]\n",
      " [   0   51    0]\n",
      " [   4   20 1029]]\n",
      "[[  28    0    0]\n",
      " [   0   51    0]\n",
      " [   4   20 1029]]\n",
      "[[  28    0    0]\n",
      " [   0   51    0]\n",
      " [   4   20 1029]]\n",
      "[[  28    0    0]\n",
      " [   0   51    0]\n",
      " [   4   20 1029]]\n",
      "[[  28    0    0]\n",
      " [   0   51    0]\n",
      " [   4   20 1029]]\n",
      "[[  28    0    0]\n",
      " [   0   51    0]\n",
      " [   4   20 1029]]\n",
      "[[  28    0    0]\n",
      " [   0   51    0]\n",
      " [   4   20 1029]]\n",
      "[[  28    0    0]\n",
      " [   0   51    0]\n",
      " [   4   20 1029]]\n",
      "[[  28    0    0]\n",
      " [   0   51    0]\n",
      " [   4   20 1029]]\n",
      "[[  28    0    0]\n",
      " [   0   51    0]\n",
      " [   4   20 1029]]\n",
      "[[  28    0    0]\n",
      " [   0   51    0]\n",
      " [   4   20 1029]]\n",
      "[[  28    0    0]\n",
      " [   0   51    0]\n",
      " [   4   20 1029]]\n",
      "[[  28    0    0]\n",
      " [   0   51    0]\n",
      " [   4   20 1029]]\n",
      "[[  28    0    0]\n",
      " [   0   51    0]\n",
      " [   4   20 1029]]\n",
      "[[  28    0    0]\n",
      " [   0   51    0]\n",
      " [   4   20 1029]]\n",
      "[[  28    0    0]\n",
      " [   0   51    0]\n",
      " [   4   20 1029]]\n",
      "[[  28    0    0]\n",
      " [   0   51    0]\n",
      " [   4   20 1029]]\n",
      "[[  28    0    0]\n",
      " [   0   51    0]\n",
      " [   4   20 1029]]\n",
      "[[  28    0    0]\n",
      " [   0   51    0]\n",
      " [   4   20 1029]]\n",
      "[[  28    0    0]\n",
      " [   0   51    0]\n",
      " [   4   20 1029]]\n",
      "[[  28    0    0]\n",
      " [   0   51    0]\n",
      " [   4   20 1029]]\n",
      "[[  28    0    0]\n",
      " [   0   51    0]\n",
      " [   4   20 1029]]\n",
      "[[  28    0    0]\n",
      " [   0   51    0]\n",
      " [   4   20 1029]]\n",
      "[[  28    0    0]\n",
      " [   0   51    0]\n",
      " [   4   20 1029]]\n",
      "[[  28    0    0]\n",
      " [   0   51    0]\n",
      " [   4   20 1029]]\n",
      "[[  28    0    0]\n",
      " [   0   51    0]\n",
      " [   4   20 1029]]\n",
      "[[  28    0    0]\n",
      " [   0   51    0]\n",
      " [   4   20 1029]]\n",
      "[[  28    0    0]\n",
      " [   0   51    0]\n",
      " [   4   20 1029]]\n",
      "[[  28    0    0]\n",
      " [   0   51    0]\n",
      " [   4   20 1029]]\n",
      "[[  28    0    0]\n",
      " [   0   51    0]\n",
      " [   4   20 1029]]\n",
      "[[  28    0    0]\n",
      " [   0   51    0]\n",
      " [   4   20 1029]]\n",
      "[[  28    0    0]\n",
      " [   0   51    0]\n",
      " [   4   20 1029]]\n",
      "[[  28    0    0]\n",
      " [   0   51    0]\n",
      " [   4   20 1029]]\n",
      "[[  28    0    0]\n",
      " [   0   51    0]\n",
      " [   4   20 1029]]\n",
      "[[  28    0    0]\n",
      " [   0   51    0]\n",
      " [   4   20 1029]]\n",
      "[[  28    0    0]\n",
      " [   0   51    0]\n",
      " [   4   20 1029]]\n",
      "[[  28    0    0]\n",
      " [   0   51    0]\n",
      " [   4   20 1029]]\n",
      "[[  28    0    0]\n",
      " [   0   51    0]\n",
      " [   4   20 1029]]\n",
      "[[  28    0    0]\n",
      " [   0   51    0]\n",
      " [   4   20 1029]]\n",
      "[[  28    0    0]\n",
      " [   0   51    0]\n",
      " [   4   20 1029]]\n",
      "[[  28    0    0]\n",
      " [   0   51    0]\n",
      " [   4   20 1029]]\n",
      "[[  28    0    0]\n",
      " [   0   51    0]\n",
      " [   4   20 1029]]\n",
      "[[  28    0    0]\n",
      " [   0   51    0]\n",
      " [   4   20 1029]]\n",
      "[[  28    0    0]\n",
      " [   0   51    0]\n",
      " [   4   20 1029]]\n",
      "[[  28    0    0]\n",
      " [   0   51    0]\n",
      " [   4   20 1029]]\n",
      "[[  28    0    0]\n",
      " [   0   51    0]\n",
      " [   4   20 1029]]\n",
      "[[  28    0    0]\n",
      " [   0   51    0]\n",
      " [   4   20 1029]]\n",
      "[[  28    0    0]\n",
      " [   0   51    0]\n",
      " [   4   20 1029]]\n",
      "[[  28    0    0]\n",
      " [   0   51    0]\n",
      " [   4   20 1029]]\n",
      "[[  28    0    0]\n",
      " [   0   51    0]\n",
      " [   4   20 1029]]\n",
      "[[  28    0    0]\n",
      " [   0   51    0]\n",
      " [   4   20 1029]]\n",
      "[[  28    0    0]\n",
      " [   0   51    0]\n",
      " [   4   20 1029]]\n",
      "[[  28    0    0]\n",
      " [   0   51    0]\n",
      " [   4   20 1029]]\n",
      "[[  28    0    0]\n",
      " [   0   51    0]\n",
      " [   4   20 1029]]\n",
      "156 ms ± 24.3 ms per loop (mean ± std. dev. of 7 runs, 10 loops each)\n"
     ]
    }
   ],
   "source": [
    "%%timeit\n",
    "\n",
    "Bagg_tree.fit(X=x_train, y=y_train)\n",
    "pred_bagg_tree = Bagg_tree.predict(x_test)\n",
    "print(confusion_matrix(y_test, pred_bagg_tree))"
   ]
  },
  {
   "cell_type": "code",
   "execution_count": 27,
   "metadata": {},
   "outputs": [
    {
     "data": {
      "text/plain": [
       "array([[  73,    0,    0],\n",
       "       [   0,  177,    0],\n",
       "       [  11,   87, 3080]], dtype=int64)"
      ]
     },
     "execution_count": 27,
     "metadata": {},
     "output_type": "execute_result"
    }
   ],
   "source": [
    "# testing model on test data\n",
    "pred_tree_bag = Bagg_tree.predict(testset.iloc[:,:21])\n",
    "confusion_matrix(testset['V21'], pred_tree_bag)"
   ]
  },
  {
   "cell_type": "code",
   "execution_count": 30,
   "metadata": {},
   "outputs": [],
   "source": [
    "boost_nb = AdaBoostClassifier(base_estimator=nb, n_estimators=150, random_state=1234)\n",
    "boost_tree = AdaBoostClassifier(base_estimator=tree, n_estimators=150, random_state=1234)"
   ]
  },
  {
   "cell_type": "code",
   "execution_count": 31,
   "metadata": {},
   "outputs": [
    {
     "data": {
      "text/plain": [
       "array([[ 21,   5,   2],\n",
       "       [  1,  30,  20],\n",
       "       [ 17, 142, 894]], dtype=int64)"
      ]
     },
     "execution_count": 31,
     "metadata": {},
     "output_type": "execute_result"
    }
   ],
   "source": [
    "boost_nb.fit(x_train, y_train)\n",
    "confusion_matrix(y_test, boost_nb.predict(x_test))"
   ]
  },
  {
   "cell_type": "code",
   "execution_count": 32,
   "metadata": {},
   "outputs": [
    {
     "data": {
      "text/plain": [
       "array([[  28,    0,    0],\n",
       "       [   0,   50,    1],\n",
       "       [   4,    1, 1048]], dtype=int64)"
      ]
     },
     "execution_count": 32,
     "metadata": {},
     "output_type": "execute_result"
    }
   ],
   "source": [
    "boost_tree.fit(x_train, y_train)\n",
    "confusion_matrix(y_test, boost_tree.predict(x_test))"
   ]
  },
  {
   "cell_type": "code",
   "execution_count": 33,
   "metadata": {},
   "outputs": [
    {
     "data": {
      "text/plain": [
       "array([[  70,    0,    3],\n",
       "       [   0,  176,    1],\n",
       "       [  11,   10, 3157]], dtype=int64)"
      ]
     },
     "execution_count": 33,
     "metadata": {},
     "output_type": "execute_result"
    }
   ],
   "source": [
    "# testing model on test data\n",
    "confusion_matrix(testset['V21'], boost_tree.predict(testset.iloc[:,:21]))"
   ]
  },
  {
   "cell_type": "code",
   "execution_count": 46,
   "metadata": {},
   "outputs": [],
   "source": [
    "rf = RandomForestClassifier(max_depth=10, max_features=6, n_jobs=4, random_state=1234)\n",
    "gbm = GradientBoostingClassifier()\n",
    "# xgb = XGBClassifier(n_estimators=100, n_jobs=-1)\n",
    "xgb = XGBClassifier(n_estimators=100, n_jobs=-1, num_parallel_tree=1)"
   ]
  },
  {
   "cell_type": "code",
   "execution_count": 47,
   "metadata": {},
   "outputs": [
    {
     "name": "stderr",
     "output_type": "stream",
     "text": [
      "C:\\ProgramData\\Anaconda3\\lib\\site-packages\\xgboost\\sklearn.py:1146: UserWarning: The use of label encoder in XGBClassifier is deprecated and will be removed in a future release. To remove this warning, do the following: 1) Pass option use_label_encoder=False when constructing XGBClassifier object; and 2) Encode your labels (y) as integers starting with 0, i.e. 0, 1, 2, ..., [num_class - 1].\n",
      "  warnings.warn(label_encoder_deprecation_msg, UserWarning)\n"
     ]
    },
    {
     "name": "stdout",
     "output_type": "stream",
     "text": [
      "[13:21:07] WARNING: C:/Users/Administrator/workspace/xgboost-win64_release_1.4.0/src/learner.cc:1095: Starting in XGBoost 1.3.0, the default evaluation metric used with the objective 'multi:softprob' was changed from 'merror' to 'mlogloss'. Explicitly set eval_metric if you'd like to restore the old behavior.\n"
     ]
    },
    {
     "data": {
      "text/plain": [
       "XGBClassifier(base_score=0.5, booster='gbtree', colsample_bylevel=1,\n",
       "              colsample_bynode=1, colsample_bytree=1, gamma=0, gpu_id=-1,\n",
       "              importance_type='gain', interaction_constraints='',\n",
       "              learning_rate=0.300000012, max_delta_step=0, max_depth=6,\n",
       "              min_child_weight=1, missing=nan, monotone_constraints='()',\n",
       "              n_estimators=100, n_jobs=-1, num_parallel_tree=1,\n",
       "              objective='multi:softprob', random_state=0, reg_alpha=0,\n",
       "              reg_lambda=1, scale_pos_weight=None, subsample=1,\n",
       "              tree_method='exact', validate_parameters=1, verbosity=None)"
      ]
     },
     "execution_count": 47,
     "metadata": {},
     "output_type": "execute_result"
    }
   ],
   "source": [
    "rf.fit(x_train, y_train)\n",
    "gbm.fit(x_train, y_train)\n",
    "xgb.fit(x_train, y_train)"
   ]
  },
  {
   "cell_type": "code",
   "execution_count": 48,
   "metadata": {},
   "outputs": [
    {
     "name": "stdout",
     "output_type": "stream",
     "text": [
      "[[  70    2    1]\n",
      " [   0  177    0]\n",
      " [  11   16 3151]]\n",
      "[[  66    4    3]\n",
      " [   0  177    0]\n",
      " [  11   13 3154]]\n",
      "[[  72    0    1]\n",
      " [   0  176    1]\n",
      " [  11   11 3156]]\n"
     ]
    }
   ],
   "source": [
    "print(confusion_matrix(testset['V21'], rf.predict(testset.iloc[:,:21])))\n",
    "print(confusion_matrix(testset['V21'], gbm.predict(testset.iloc[:,:21])))\n",
    "print(confusion_matrix(testset['V21'], xgb.predict(testset.iloc[:,:21])))"
   ]
  },
  {
   "cell_type": "code",
   "execution_count": 49,
   "metadata": {},
   "outputs": [
    {
     "data": {
      "text/plain": [
       "PCA(n_components=2)"
      ]
     },
     "execution_count": 49,
     "metadata": {},
     "output_type": "execute_result"
    }
   ],
   "source": [
    "pca = PCA(n_components=2)\n",
    "pca.fit(trainset.iloc[:,:21])"
   ]
  },
  {
   "cell_type": "code",
   "execution_count": 50,
   "metadata": {},
   "outputs": [],
   "source": [
    "pca_mat = pca.transform(trainset.iloc[:,:21])"
   ]
  },
  {
   "cell_type": "code",
   "execution_count": 51,
   "metadata": {},
   "outputs": [
    {
     "data": {
      "image/png": "[encoded data removed]",
      "text/plain": [
       "<Figure size 432x288 with 1 Axes>"
      ]
     },
     "metadata": {
      "needs_background": "light"
     },
     "output_type": "display_data"
    }
   ],
   "source": [
    "plt.scatter(pca_mat[:,0], pca_mat[:,1], c=trainset['V21'], alpha=0.3)\n",
    "plt.show()"
   ]
  },
  {
   "cell_type": "code",
   "execution_count": 52,
   "metadata": {},
   "outputs": [],
   "source": [
    "svd = TruncatedSVD(n_components=2)"
   ]
  },
  {
   "cell_type": "code",
   "execution_count": 53,
   "metadata": {},
   "outputs": [],
   "source": [
    "svd_mat = svd.fit_transform(trainset.iloc[:,:21])"
   ]
  },
  {
   "cell_type": "code",
   "execution_count": 54,
   "metadata": {},
   "outputs": [
    {
     "data": {
      "image/png": "[encoded data removed]",
      "text/plain": [
       "<Figure size 432x288 with 1 Axes>"
      ]
     },
     "metadata": {
      "needs_background": "light"
     },
     "output_type": "display_data"
    }
   ],
   "source": [
    "plt.scatter(svd_mat[:,0], svd_mat[:,1], c=trainset['V21'], alpha=0.2)\n",
    "plt.show()"
   ]
  },
  {
   "cell_type": "code",
   "execution_count": null,
   "metadata": {},
   "outputs": [],
   "source": []
  }
 ],
 "metadata": {
  "kernelspec": {
   "display_name": "Python 3",
   "language": "python",
   "name": "python3"
  },
  "language_info": {
   "codemirror_mode": {
    "name": "ipython",
    "version": 3
   },
   "file_extension": ".py",
   "mimetype": "text/x-python",
   "name": "python",
   "nbconvert_exporter": "python",
   "pygments_lexer": "ipython3",
   "version": "3.8.5"
  }
 },
 "nbformat": 4,
 "nbformat_minor": 5
}
