{
 "cells": [
  {
   "cell_type": "code",
   "execution_count": 1,
   "metadata": {},
   "outputs": [],
   "source": [
    "import random\n",
    "from xgboost import XGBClassifier"
   ]
  },
  {
   "cell_type": "code",
   "execution_count": 2,
   "metadata": {},
   "outputs": [],
   "source": [
    "from sklearn.model_selection import train_test_split, cross_val_score\n",
    "from sklearn.metrics import cohen_kappa_score, make_scorer"
   ]
  },
  {
   "cell_type": "code",
   "execution_count": 3,
   "metadata": {},
   "outputs": [],
   "source": [
    "from sklearn.datasets import load_digits"
   ]
  },
  {
   "cell_type": "code",
   "execution_count": 4,
   "metadata": {},
   "outputs": [],
   "source": [
    "x_train, y_train = load_digits()['data'], load_digits()['target']"
   ]
  },
  {
   "cell_type": "code",
   "execution_count": 5,
   "metadata": {},
   "outputs": [
    {
     "data": {
      "text/plain": [
       "(1797, 64)"
      ]
     },
     "execution_count": 5,
     "metadata": {},
     "output_type": "execute_result"
    }
   ],
   "source": [
    "x_train.shape"
   ]
  },
  {
   "cell_type": "code",
   "execution_count": 6,
   "metadata": {},
   "outputs": [],
   "source": [
    "img_1 = x_train[100].reshape((8,8))"
   ]
  },
  {
   "cell_type": "code",
   "execution_count": 7,
   "metadata": {},
   "outputs": [
    {
     "data": {
      "text/plain": [
       "<matplotlib.image.AxesImage at 0x7f21638b8a60>"
      ]
     },
     "execution_count": 7,
     "metadata": {},
     "output_type": "execute_result"
    },
    {
     "data": {
      "image/png": "[encoded data removed]",
      "text/plain": [
       "<Figure size 432x288 with 1 Axes>"
      ]
     },
     "metadata": {
      "needs_background": "light"
     },
     "output_type": "display_data"
    }
   ],
   "source": [
    "plt.imshow(img_1)"
   ]
  },
  {
   "cell_type": "code",
   "execution_count": 8,
   "metadata": {},
   "outputs": [],
   "source": [
    "from deap import tools, base, creator, algorithms"
   ]
  },
  {
   "cell_type": "code",
   "execution_count": 9,
   "metadata": {},
   "outputs": [],
   "source": [
    "creator.create(\"FitnessMax\", base=base.Fitness, weights = (1.0,)) # Fitness function\n",
    "creator.create(\"Individual\",list,fitness = creator.FitnessMax) # Chromosome"
   ]
  },
  {
   "cell_type": "code",
   "execution_count": 10,
   "metadata": {},
   "outputs": [],
   "source": [
    "def bin_array_to_int(bin_array):\n",
    "    n = len(bin_array)\n",
    "    int_val = 0.0\n",
    "    for i in range(n):\n",
    "        int_val += (2**(n-1-i)) * (bin_array[i])\n",
    "    return int_val"
   ]
  },
  {
   "cell_type": "code",
   "execution_count": 11,
   "metadata": {},
   "outputs": [],
   "source": [
    "def kappa_score(y_act, y_pred):\n",
    "    return cohen_kappa_score(y_act, y_pred)\n",
    "\n",
    "Kappa = make_scorer(kappa_score)"
   ]
  },
  {
   "cell_type": "code",
   "execution_count": 12,
   "metadata": {},
   "outputs": [],
   "source": [
    "nGenes = 10\n",
    "def evaluateFitness(individual, x_train=x_train, y_train=y_train):\n",
    "#     print(individual)\n",
    "    lr = np.round(1/(bin_array_to_int(individual[:int(nGenes/2)])+1e-4),3)\n",
    "    n_estimators = int(bin_array_to_int(individual[int(nGenes/2):])+2)\n",
    "    \n",
    "#     print(lr, n_estimators)\n",
    "    \n",
    "    xgb = XGBClassifier(n_estimators= n_estimators, learning_rate=lr)\n",
    "    \n",
    "    return cross_val_score(xgb, X = x_train, y = y_train, cv=5, scoring=Kappa, n_jobs=-1).mean()    "
   ]
  },
  {
   "cell_type": "code",
   "execution_count": 13,
   "metadata": {},
   "outputs": [],
   "source": [
    "toolbox = base.Toolbox()\n",
    "toolbox.register(\"bool_attr\", random.randint,0,1) # Gene\n",
    "toolbox.register(\"individual\", tools.initRepeat, creator.Individual, toolbox.bool_attr, nGenes)\n",
    "toolbox.register('population', tools.initRepeat, list, toolbox.individual)\n",
    "toolbox.register(\"mate\", tools.cxUniform)\n",
    "toolbox.register(\"mutate\", tools.mutFlipBit,indpb = 0.05)\n",
    "toolbox.register(\"select\",tools.selTournament, tournsize=3)\n",
    "toolbox.register(\"evaluate\", evaluateFitness)"
   ]
  },
  {
   "cell_type": "code",
   "execution_count": 14,
   "metadata": {},
   "outputs": [],
   "source": [
    "pop = toolbox.population(n=10)\n",
    "fitnesses = list(map(toolbox.evaluate, pop))\n",
    "\n",
    "for ind, fit in zip(pop, fitnesses):\n",
    "    ind.fitness.values = [fit]\n",
    "    \n",
    "# fits = [ind.fitness.values[0] for ind in pop]\n",
    "# fits"
   ]
  },
  {
   "cell_type": "code",
   "execution_count": 15,
   "metadata": {},
   "outputs": [
    {
     "data": {
      "text/plain": [
       "deap.creator.FitnessMax((0.8194860444709351,))"
      ]
     },
     "execution_count": 15,
     "metadata": {},
     "output_type": "execute_result"
    }
   ],
   "source": [
    "ind.fitness"
   ]
  },
  {
   "cell_type": "code",
   "execution_count": 16,
   "metadata": {},
   "outputs": [
    {
     "name": "stdout",
     "output_type": "stream",
     "text": [
      "--Generation 1--\n",
      "--Generation 2--\n",
      "--Generation 3--\n",
      "--Generation 4--\n",
      "--Generation 5--\n",
      "--Generation 6--\n",
      "--Generation 7--\n",
      "--Generation 8--\n",
      "--Generation 9--\n",
      "--Generation 10--\n"
     ]
    }
   ],
   "source": [
    "gen = 0\n",
    "max_gen = 10\n",
    "CXPB = 0.7\n",
    "MUTPB = 0.2\n",
    "\n",
    "while gen < max_gen:\n",
    "    gen += 1\n",
    "    print(\"--Generation %i--\" %gen)\n",
    "    \n",
    "    children = toolbox.select(pop, len(pop))\n",
    "    children = list(map(toolbox.clone, children))\n",
    "    \n",
    "    for child1, child2 in zip(children[::2], children[1::2]):\n",
    "        if random.random() < CXPB:\n",
    "            toolbox.mate(child1, child2,indpb=0.7)\n",
    "            del child1.fitness.values\n",
    "            del child2.fitness.values\n",
    "            \n",
    "    for mutant in children:\n",
    "        if random.random() < MUTPB:\n",
    "            toolbox.mutate(mutant)\n",
    "            del mutant.fitness.values\n",
    "            \n",
    "    invalid_ind = [ind for ind in children if not ind.fitness.values]\n",
    "    fitnesses = map(toolbox.evaluate, invalid_ind)\n",
    "    for ind, fit in zip(invalid_ind, fitnesses):\n",
    "        ind.fitness.values = [fit]\n",
    "        \n",
    "    pop[:] = children"
   ]
  },
  {
   "cell_type": "code",
   "execution_count": 17,
   "metadata": {},
   "outputs": [
    {
     "data": {
      "text/plain": [
       "[0.9023175761926778,\n",
       " 0.9023175761926778,\n",
       " 0.9023175761926778,\n",
       " 0.9023175761926778,\n",
       " 0.9023175761926778,\n",
       " 0.9023175761926778,\n",
       " 0.9035549054274663,\n",
       " 0.9023175761926778,\n",
       " 0.8973674767587962,\n",
       " 0.8979864776964469]"
      ]
     },
     "execution_count": 17,
     "metadata": {},
     "output_type": "execute_result"
    }
   ],
   "source": [
    "fits = [ind.fitness.values[0] for ind in pop]\n",
    "fits"
   ]
  },
  {
   "cell_type": "code",
   "execution_count": 23,
   "metadata": {},
   "outputs": [
    {
     "data": {
      "text/plain": [
       "[]"
      ]
     },
     "execution_count": 23,
     "metadata": {},
     "output_type": "execute_result"
    }
   ],
   "source": []
  },
  {
   "cell_type": "code",
   "execution_count": 18,
   "metadata": {},
   "outputs": [
    {
     "data": {
      "text/plain": [
       "[[0, 0, 1, 0, 0, 1, 0, 1, 0, 0],\n",
       " [0, 0, 1, 0, 0, 1, 0, 1, 0, 0],\n",
       " [0, 0, 1, 0, 0, 1, 0, 1, 0, 0],\n",
       " [0, 0, 1, 0, 0, 1, 0, 1, 0, 0],\n",
       " [0, 0, 1, 0, 0, 1, 0, 1, 0, 0],\n",
       " [0, 0, 1, 0, 0, 1, 0, 1, 0, 0],\n",
       " [0, 0, 1, 0, 0, 1, 1, 0, 0, 0],\n",
       " [0, 0, 1, 0, 0, 1, 0, 1, 0, 0],\n",
       " [0, 0, 1, 0, 1, 1, 0, 1, 0, 0],\n",
       " [0, 0, 1, 0, 1, 1, 0, 1, 0, 1]]"
      ]
     },
     "execution_count": 18,
     "metadata": {},
     "output_type": "execute_result"
    }
   ],
   "source": [
    "pop\n",
    "# xxx.fitness.values = [fitnesses[1]]"
   ]
  },
  {
   "cell_type": "code",
   "execution_count": 20,
   "metadata": {},
   "outputs": [
    {
     "data": {
      "text/plain": [
       "(4.0, 24.0)"
      ]
     },
     "execution_count": 20,
     "metadata": {},
     "output_type": "execute_result"
    }
   ],
   "source": [
    "bin_array_to_int(pop[6][:int(nGenes/2)]), bin_array_to_int(pop[6][int(nGenes/2):])"
   ]
  },
  {
   "cell_type": "code",
   "execution_count": null,
   "metadata": {},
   "outputs": [],
   "source": [
    "1/22"
   ]
  },
  {
   "cell_type": "markdown",
   "metadata": {},
   "source": [
    "# EM Clustering (Gaussian Mixture Model)"
   ]
  },
  {
   "cell_type": "code",
   "execution_count": 35,
   "metadata": {},
   "outputs": [],
   "source": [
    "from sklearn.mixture import GaussianMixture\n",
    "from sklearn.metrics import silhouette_score"
   ]
  },
  {
   "cell_type": "code",
   "execution_count": 43,
   "metadata": {},
   "outputs": [],
   "source": [
    "from tqdm import tqdm, tqdm_notebook"
   ]
  },
  {
   "cell_type": "code",
   "execution_count": 46,
   "metadata": {},
   "outputs": [
    {
     "name": "stderr",
     "output_type": "stream",
     "text": [
      "100%|██████████| 19/19 [03:20<00:00, 10.53s/it]\n"
     ]
    }
   ],
   "source": [
    "best_cluster = []\n",
    "for nCluster in tqdm(range(2,21)):\n",
    "    gmm = GaussianMixture(n_components=nCluster, max_iter=1000, n_init=30)\n",
    "    gmm.fit(X = x_train)\n",
    "    clus_gmm = gmm.predict(x_train)\n",
    "    s = silhouette_score(X=x_train, labels=clus_gmm)\n",
    "    best_cluster.append([s,clus_gmm, gmm])    "
   ]
  },
  {
   "cell_type": "code",
   "execution_count": 57,
   "metadata": {},
   "outputs": [
    {
     "name": "stdout",
     "output_type": "stream",
     "text": [
      "0 0.06451647703199051\n",
      "1 0.029099319792413703\n",
      "2 0.04296758052399649\n",
      "3 0.05446245943157245\n",
      "4 0.10238002308842767\n",
      "5 0.06805893237505788\n",
      "6 0.1304186037199928\n",
      "7 0.13789505123193865\n",
      "8 0.15613200683407744\n",
      "9 0.14133115738901653\n",
      "10 0.1438761524793432\n",
      "11 0.15515168480249822\n",
      "12 0.14984305768864434\n",
      "13 0.1229552732322325\n",
      "14 0.13049089947547726\n",
      "15 0.17502251746816855\n",
      "16 0.18099945726381594\n",
      "17 0.18188729411840426\n",
      "18 0.16216681314301695\n"
     ]
    },
    {
     "data": {
      "text/plain": [
       "GaussianMixture(max_iter=1000, n_components=19, n_init=30)"
      ]
     },
     "execution_count": 57,
     "metadata": {},
     "output_type": "execute_result"
    }
   ],
   "source": [
    "for j in range(len(best_cluster)):\n",
    "    print(j, best_cluster[j][0])\n",
    "best_cluster[17][2]"
   ]
  },
  {
   "cell_type": "code",
   "execution_count": null,
   "metadata": {},
   "outputs": [],
   "source": [
    "# Optimum number of clusters is 19 as per GMM"
   ]
  },
  {
   "cell_type": "code",
   "execution_count": 48,
   "metadata": {},
   "outputs": [],
   "source": [
    "from sklearn.manifold import TSNE"
   ]
  },
  {
   "cell_type": "code",
   "execution_count": 49,
   "metadata": {},
   "outputs": [],
   "source": [
    "tsne = TSNE()"
   ]
  },
  {
   "cell_type": "code",
   "execution_count": 50,
   "metadata": {},
   "outputs": [],
   "source": [
    "tsne_mat = tsne.fit_transform(x_train)"
   ]
  },
  {
   "cell_type": "code",
   "execution_count": 53,
   "metadata": {},
   "outputs": [
    {
     "data": {
      "text/plain": [
       "<matplotlib.collections.PathCollection at 0x7f6e90143890>"
      ]
     },
     "execution_count": 53,
     "metadata": {},
     "output_type": "execute_result"
    },
    {
     "data": {
      "image/png": "[encoded data removed]",
      "text/plain": [
       "<Figure size 432x288 with 1 Axes>"
      ]
     },
     "metadata": {
      "needs_background": "light"
     },
     "output_type": "display_data"
    }
   ],
   "source": [
    "plt.scatter(tsne_mat[:,0],tsne_mat[:,1], c=y_train)"
   ]
  }
 ],
 "metadata": {
  "kernelspec": {
   "display_name": "Python 3.9.2 64-bit",
   "language": "python",
   "name": "python3"
  },
  "language_info": {
   "codemirror_mode": {
    "name": "ipython",
    "version": 3
   },
   "file_extension": ".py",
   "mimetype": "text/x-python",
   "name": "python",
   "nbconvert_exporter": "python",
   "pygments_lexer": "ipython3",
   "version": "3.9.2"
  },
  "vscode": {
   "interpreter": {
    "hash": "11938c6bc6919ae2720b4d5011047913343b08a43b18698fd82dedb0d4417594"
   }
  }
 },
 "nbformat": 4,
 "nbformat_minor": 4
}
