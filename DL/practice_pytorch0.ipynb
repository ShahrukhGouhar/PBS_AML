{
  "cells": [
    {
      "cell_type": "markdown",
      "metadata": {
        "id": "OhMRvr30SBgQ"
      },
      "source": [
        "# INTRO TO Simple Perceptrop and MLP"
      ]
    },
    {
      "cell_type": "code",
      "execution_count": null,
      "metadata": {
        "id": "WZK8XCWkFqop"
      },
      "outputs": [],
      "source": [
        "from torch.optim import Adam, RMSprop\n",
        "import numpy as np\n",
        "import torch"
      ]
    },
    {
      "cell_type": "code",
      "execution_count": null,
      "metadata": {
        "id": "nOCNGIvoF3w7"
      },
      "outputs": [],
      "source": [
        "import torch.nn as nn\n",
        "import torch.nn.functional as F"
      ]
    },
    {
      "cell_type": "code",
      "execution_count": null,
      "metadata": {
        "id": "n2htaLL2LUT8"
      },
      "outputs": [],
      "source": [
        "import matplotlib.pyplot as plt\n",
        "import seaborn as sns"
      ]
    },
    {
      "cell_type": "code",
      "execution_count": null,
      "metadata": {
        "id": "d7bLBxmCNAlO"
      },
      "outputs": [],
      "source": [
        "if True:\n",
        "    del model"
      ]
    },
    {
      "cell_type": "code",
      "execution_count": null,
      "metadata": {
        "id": "8qSwlguNGFIT"
      },
      "outputs": [],
      "source": [
        "class MLP(nn.Module):\n",
        "\n",
        "    \n",
        "    def __init__(self):\n",
        "        super(MLP,self).__init__()\n",
        "        self.h1 = nn.Linear(in_features=1, out_features=5)\n",
        "        self.h2 = nn.Linear(in_features=5, out_features=8)\n",
        "        self.out = nn.Linear(in_features=8, out_features=1)\n",
        "\n",
        "    def forward(self, x):\n",
        "        x = self.h1(x)\n",
        "        x = F.leaky_relu(x)\n",
        "        x = self.h2(x)\n",
        "        x = F.softmax(x)\n",
        "        x = self.out(x)\n",
        "        # x = F.sigmoid(x)\n",
        "        \n",
        "        return x\n",
        "\n",
        "model = MLP()\n"
      ]
    },
    {
      "cell_type": "code",
      "execution_count": null,
      "metadata": {
        "id": "op3JwIW_GwrU"
      },
      "outputs": [],
      "source": [
        "x = np.linspace(0,2*np.pi,num=500)\n",
        "x_tensor = torch.from_numpy(x)\n",
        "y = np.sin(x)\n",
        "y_tensor = torch.from_numpy(y)"
      ]
    },
    {
      "cell_type": "code",
      "execution_count": null,
      "metadata": {
        "id": "waBpmSlrHhhg"
      },
      "outputs": [],
      "source": [
        "opt = Adam(model.parameters(), lr = 0.01)\n",
        "device = torch.device('cpu')"
      ]
    },
    {
      "cell_type": "code",
      "execution_count": null,
      "metadata": {
        "id": "NWH3NYpEH2js"
      },
      "outputs": [],
      "source": [
        "model = model.to(device)"
      ]
    },
    {
      "cell_type": "code",
      "execution_count": null,
      "metadata": {
        "colab": {
          "base_uri": "https://localhost:8080/"
        },
        "id": "QXr0HOQ6G9Dc",
        "outputId": "b52d109b-8757-4aa9-fd33-4e9bc0d57569"
      },
      "outputs": [
        {
          "name": "stderr",
          "output_type": "stream",
          "text": [
            "/usr/local/lib/python3.7/dist-packages/ipykernel_launcher.py:14: UserWarning: Implicit dimension choice for softmax has been deprecated. Change the call to include dim=X as an argument.\n",
            "  \n"
          ]
        },
        {
          "name": "stdout",
          "output_type": "stream",
          "text": [
            "0 === 4.238245189189911\n",
            "1 === 3.0779048576951027\n",
            "2 === 2.5545881763100624\n",
            "3 === 2.4173691011965275\n",
            "4 === 2.4338306672871113\n",
            "5 === 2.473633598536253\n",
            "6 === 2.493449404835701\n",
            "7 === 2.4991968981921673\n",
            "8 === 2.4961445033550262\n",
            "9 === 2.4853549040853977\n",
            "10 === 2.477187242358923\n",
            "11 === 2.467047840356827\n",
            "12 === 2.4533247761428356\n",
            "13 === 2.4456688538193703\n",
            "14 === 2.435595106333494\n",
            "15 === 2.4102470576763153\n",
            "16 === 2.3633599802851677\n",
            "17 === 2.2568867318332195\n",
            "18 === 2.0042086392641068\n",
            "19 === 1.690279295668006\n",
            "20 === 1.3448315262794495\n",
            "21 === 1.0482599381357431\n",
            "22 === 0.4077894757501781\n",
            "23 === 0.8206094950437546\n",
            "24 === 0.5988427195698023\n",
            "25 === 0.32833350263535976\n",
            "26 === 0.4728530324064195\n",
            "27 === 0.2246705216821283\n",
            "28 === 0.390213861130178\n",
            "29 === 0.2937804185785353\n",
            "30 === 0.26578486035577953\n",
            "31 === 0.2758266255259514\n",
            "32 === 0.284582678694278\n",
            "33 === 0.24049729574471712\n",
            "34 === 0.23509274749085307\n",
            "35 === 0.2292516464367509\n",
            "36 === 0.21469525527209044\n",
            "37 === 0.23140082834288478\n",
            "38 === 0.21690411632880569\n",
            "39 === 0.20741345267742872\n",
            "40 === 0.196219845674932\n",
            "41 === 0.21977036143653095\n",
            "42 === 0.22032319195568562\n",
            "43 === 0.194454207085073\n",
            "44 === 0.19417312368750572\n",
            "45 === 0.18663134844973683\n",
            "46 === 0.18620725721120834\n",
            "47 === 0.1927543142810464\n",
            "48 === 0.18104865262284875\n",
            "49 === 0.17271759663708508\n",
            "50 === 0.22423327527940273\n",
            "51 === 0.17256997409276664\n",
            "52 === 0.1622900941874832\n",
            "53 === 0.2089585717767477\n",
            "54 === 0.16220797260757536\n",
            "55 === 0.16058559739030898\n",
            "56 === 0.25277496222406626\n",
            "57 === 0.17040607129456475\n",
            "58 === 0.38317331415601075\n",
            "59 === 0.3789507383480668\n",
            "60 === 0.2291176994331181\n",
            "61 === 0.23731396812945604\n",
            "62 === 0.29339993675239384\n",
            "63 === 0.1365615443792194\n",
            "64 === 0.22230600682087243\n",
            "65 === 0.5570995626039803\n",
            "66 === 0.18795041227713227\n",
            "67 === 0.3246439494541846\n",
            "68 === 0.3253088374622166\n",
            "69 === 0.27733199298381805\n",
            "70 === 0.16478695184923708\n",
            "71 === 0.13437447603791952\n",
            "72 === 0.255884048063308\n",
            "73 === 0.32314781192690134\n",
            "74 === 0.16576299839653075\n",
            "75 === 0.14896543556824327\n",
            "76 === 0.1533009773120284\n",
            "77 === 0.19712453242391348\n",
            "78 === 0.14774035336449742\n",
            "79 === 0.1362227527424693\n",
            "80 === 0.26842451374977827\n",
            "81 === 0.23560476303100586\n",
            "82 === 0.26545511465519667\n",
            "83 === 0.24075046787038445\n",
            "84 === 0.1909753675572574\n",
            "85 === 0.19035732233896852\n",
            "86 === 0.2733885543420911\n",
            "87 === 0.26613813964650035\n",
            "88 === 0.16288261115550995\n",
            "89 === 0.25017252285033464\n",
            "90 === 0.34263884951360524\n",
            "91 === 0.19088152097538114\n",
            "92 === 0.1970596108585596\n",
            "93 === 0.30951862526126206\n",
            "94 === 0.1433379310183227\n",
            "95 === 0.13151574792573228\n",
            "96 === 0.18948781257495284\n",
            "97 === 0.40524029242806137\n",
            "98 === 0.13366767298430204\n",
            "99 === 0.1726404547225684\n",
            "100 === 0.44559689285233617\n",
            "101 === 0.1677080006338656\n",
            "102 === 0.15409628371708095\n",
            "103 === 0.1581159378401935\n",
            "104 === 0.15810001641511917\n",
            "105 === 0.5551123060286045\n",
            "106 === 0.21108395420014858\n",
            "107 === 0.2308110180310905\n",
            "108 === 0.31516643590293825\n",
            "109 === 0.15956201078370214\n",
            "110 === 0.2096291803754866\n",
            "111 === 0.1412607270758599\n",
            "112 === 0.1311884701717645\n",
            "113 === 0.1455978136509657\n",
            "114 === 0.24315754044800997\n",
            "115 === 0.1502335622208193\n",
            "116 === 0.3258067090064287\n",
            "117 === 0.20418190862983465\n",
            "118 === 0.15264626848511398\n",
            "119 === 0.13863333337940276\n",
            "120 === 0.13558856584131718\n",
            "121 === 0.12046558444853872\n",
            "122 === 0.16418023267760873\n",
            "123 === 0.19093188922852278\n",
            "124 === 0.1369548635557294\n",
            "125 === 0.09186599403619766\n",
            "126 === 0.22040220187045634\n",
            "127 === 0.2821913445368409\n",
            "128 === 0.19967039627954364\n",
            "129 === 0.38737597689032555\n",
            "130 === 0.3378353826701641\n",
            "131 === 0.11984201124869287\n",
            "132 === 0.12864280305802822\n",
            "133 === 0.3155793431214988\n",
            "134 === 0.13381169235799462\n",
            "135 === 0.18315064255148172\n",
            "136 === 0.24451363179832697\n",
            "137 === 0.3457375760190189\n",
            "138 === 0.11973910604137927\n",
            "139 === 0.12153828726150095\n",
            "140 === 0.21968005876988173\n",
            "141 === 0.23602051846683025\n",
            "142 === 0.1250549495453015\n",
            "143 === 0.2453307220712304\n",
            "144 === 0.4291940522380173\n",
            "145 === 0.15073330840095878\n",
            "146 === 0.14666373189538717\n",
            "147 === 0.347104970831424\n",
            "148 === 0.16974077571649104\n",
            "149 === 0.22077441355213523\n",
            "150 === 0.2637300845235586\n",
            "151 === 0.14428342203609645\n",
            "152 === 0.25227126758545637\n",
            "153 === 0.16589354071766138\n",
            "154 === 0.38964162301272154\n",
            "155 === 0.2283689882606268\n",
            "156 === 0.1225643299985677\n",
            "157 === 0.2941480509471148\n",
            "158 === 0.35096013406291604\n",
            "159 === 0.11557062156498432\n",
            "160 === 0.117605539271608\n",
            "161 === 0.20951632084324956\n",
            "162 === 0.1636838330887258\n",
            "163 === 0.3416726468130946\n",
            "164 === 0.16835865890607238\n",
            "165 === 0.13651891611516476\n",
            "166 === 0.11502322473097593\n",
            "167 === 0.1098868630360812\n",
            "168 === 0.3042651768773794\n",
            "169 === 0.1923747609835118\n",
            "170 === 0.2629638114012778\n",
            "171 === 0.12867363961413503\n",
            "172 === 0.47892053704708815\n",
            "173 === 0.1426332932896912\n",
            "174 === 0.2016714015044272\n",
            "175 === 0.19023949513211846\n",
            "176 === 0.41943453112617135\n",
            "177 === 0.3060157299041748\n",
            "178 === 0.11247923038899899\n",
            "179 === 0.11965907935518771\n",
            "180 === 0.22026324179023504\n",
            "181 === 0.20840004924684763\n",
            "182 === 0.36269705928862095\n",
            "183 === 0.13152778637595475\n",
            "184 === 0.12909514736384153\n",
            "185 === 0.14613829972222447\n",
            "186 === 0.12854357063770294\n",
            "187 === 0.14201714319642633\n",
            "188 === 0.161844318266958\n",
            "189 === 0.2839824298862368\n",
            "190 === 0.10774067649617791\n",
            "191 === 0.3831239668652415\n",
            "192 === 0.22870886698365211\n",
            "193 === 0.12544370931573212\n",
            "194 === 0.3161020530387759\n",
            "195 === 0.22885967791080475\n",
            "196 === 0.12621226662304252\n",
            "197 === 0.3664023894816637\n",
            "198 === 0.2070865712594241\n",
            "199 === 0.11688303831033409\n",
            "200 === 0.17378650419414043\n",
            "201 === 0.32120652263984084\n",
            "202 === 0.2367838704958558\n",
            "203 === 0.10780856758356094\n",
            "204 === 0.3175663221627474\n",
            "205 === 0.2130275648087263\n",
            "206 === 0.17969252716284245\n",
            "207 === 0.2742062241304666\n",
            "208 === 0.14970546890981495\n",
            "209 === 0.19800974091049284\n",
            "210 === 0.12294424441643059\n",
            "211 === 0.24339423002675176\n",
            "212 === 0.21274678129702806\n",
            "213 === 0.23548343451693654\n",
            "214 === 0.32227704115211964\n",
            "215 === 0.12048096023499966\n",
            "216 === 0.14023556967731565\n",
            "217 === 0.11086953012272716\n",
            "218 === 0.10837845038622618\n",
            "219 === 0.09460728266276419\n",
            "220 === 0.3352018455043435\n",
            "221 === 0.16538259282242507\n",
            "222 === 0.12511193484533578\n",
            "223 === 0.14275238837581128\n",
            "224 === 0.13806742732413113\n",
            "225 === 0.15571890491992235\n",
            "226 === 0.10130842996295542\n",
            "227 === 0.13981988816522062\n",
            "228 === 0.10702106403186917\n",
            "229 === 0.37633237848058343\n",
            "230 === 0.11751905269920826\n",
            "231 === 0.10788195941131562\n",
            "232 === 0.08612621165229939\n",
            "233 === 0.3401654176414013\n",
            "234 === 0.13352778321132064\n",
            "235 === 0.17535789078101516\n",
            "236 === 0.31788781471550465\n",
            "237 === 0.31335587054491043\n",
            "238 === 0.11037940019741654\n",
            "239 === 0.17729431635234505\n",
            "240 === 0.18019204470328987\n",
            "241 === 0.6444397559389472\n",
            "242 === 0.17289881891338155\n",
            "243 === 0.3041439140215516\n",
            "244 === 0.14831665030214936\n",
            "245 === 0.2901695864275098\n",
            "246 === 0.27340090181678534\n",
            "247 === 0.12072610412724316\n",
            "248 === 0.22232134034857154\n",
            "249 === 0.1746728951111436\n",
            "250 === 0.3040543096140027\n",
            "251 === 0.10614405758678913\n",
            "252 === 0.22052914090454578\n",
            "253 === 0.22609871113672853\n",
            "254 === 0.2647547491360456\n",
            "255 === 0.2049624418723397\n",
            "256 === 0.12506863940507174\n",
            "257 === 0.47505522705614567\n",
            "258 === 0.16642463131574914\n",
            "259 === 0.1786584798246622\n",
            "260 === 0.43190738232806325\n",
            "261 === 0.12400867522228509\n",
            "262 === 0.11179100978188217\n",
            "263 === 0.11583013460040092\n",
            "264 === 0.27003587898798287\n",
            "265 === 0.14780564792454243\n",
            "266 === 0.34949271380901337\n",
            "267 === 0.15917944442480803\n",
            "268 === 0.1026727631688118\n",
            "269 === 0.16175581514835358\n",
            "270 === 0.16650589858181775\n",
            "271 === 0.2713138535618782\n",
            "272 === 0.18190995324403048\n",
            "273 === 0.4069731730851345\n",
            "274 === 0.30979889864102006\n",
            "275 === 0.21386611554771662\n",
            "276 === 0.21127638430334628\n",
            "277 === 0.20715055987238884\n",
            "278 === 0.3229209397104569\n",
            "279 === 0.14728075172752142\n",
            "280 === 0.10526863171253353\n",
            "281 === 0.22371325735002756\n",
            "282 === 0.33699983544647694\n",
            "283 === 0.12700462131761014\n",
            "284 === 0.09312767256051302\n",
            "285 === 0.2229558932594955\n",
            "286 === 0.36829177383333445\n",
            "287 === 0.11447620391845703\n",
            "288 === 0.10327880806289613\n",
            "289 === 0.10912588343489915\n",
            "290 === 0.1171585344709456\n",
            "291 === 0.2871962856443133\n",
            "292 === 0.2980633364059031\n",
            "293 === 0.12305653840303421\n",
            "294 === 0.17817657493287697\n",
            "295 === 0.13060586154460907\n",
            "296 === 0.22340133134275675\n",
            "297 === 0.27950497111305594\n",
            "298 === 0.1725707690929994\n",
            "299 === 0.18823608430102468\n"
          ]
        }
      ],
      "source": [
        "for epoch in range(300):\n",
        "    tloss = 0\n",
        "    i = 0\n",
        "    for _ in range(0,10):\n",
        "        x_ = x_tensor[i:i+10].reshape(-1,1).to(device).float()\n",
        "        x_ = x_.reshape(-1,1)\n",
        "        x_ = x_.to(device).float()\n",
        "        y_ = y_tensor[i:i+10].reshape(-1,1).to(device).float()\n",
        "        # print(x_)\n",
        "        # print('*****************')\n",
        "        # print(y_)\n",
        "        i += 10\n",
        "        out = model(x_)\n",
        "        # print(out)\n",
        "        loss = F.l1_loss(out,y_)\n",
        "\n",
        "        opt.zero_grad()\n",
        "\n",
        "        loss.backward()\n",
        "        opt.step()\n",
        "\n",
        "        kk = loss.item()\n",
        "        \n",
        "        tloss += kk\n",
        "    print(epoch,'===',tloss)\n",
        "\n"
      ]
    },
    {
      "cell_type": "code",
      "execution_count": null,
      "metadata": {
        "colab": {
          "base_uri": "https://localhost:8080/"
        },
        "id": "OjuAbdVEIpRx",
        "outputId": "978cbfb1-c47d-478f-e6f5-4286c67a69d7"
      },
      "outputs": [
        {
          "name": "stderr",
          "output_type": "stream",
          "text": [
            "/usr/local/lib/python3.7/dist-packages/ipykernel_launcher.py:14: UserWarning: Implicit dimension choice for softmax has been deprecated. Change the call to include dim=X as an argument.\n",
            "  \n"
          ]
        }
      ],
      "source": [
        "y_pred = model(x_tensor.to(device).float().reshape(-1,1)).detach().cpu().numpy()\n",
        "y_pred = y_pred.reshape(1,-1)[0]"
      ]
    },
    {
      "cell_type": "code",
      "execution_count": null,
      "metadata": {
        "colab": {
          "base_uri": "https://localhost:8080/",
          "height": 265
        },
        "id": "W9q_I4BhLcZd",
        "outputId": "1ba8ca05-8bec-4599-b37f-24cf93d5c9a0"
      },
      "outputs": [
        {
          "data": {
            "image/png": "[encoded data removed]",
            "text/plain": [
              "<Figure size 432x288 with 1 Axes>"
            ]
          },
          "metadata": {
            "needs_background": "light"
          },
          "output_type": "display_data"
        }
      ],
      "source": [
        "sns.scatterplot(x=x,y=y)\n",
        "sns.scatterplot(x=x,y=y_pred)\n",
        "plt.show()\n"
      ]
    },
    {
      "cell_type": "markdown",
      "metadata": {
        "id": "NRiohKDbR-F2"
      },
      "source": [
        "# AUTOMPG DATASET"
      ]
    },
    {
      "cell_type": "code",
      "execution_count": null,
      "metadata": {
        "id": "v6Fj-XKTSSlw"
      },
      "outputs": [],
      "source": [
        "import pandas as pd\n",
        "device = torch.device('cpu')"
      ]
    },
    {
      "cell_type": "code",
      "execution_count": null,
      "metadata": {
        "colab": {
          "base_uri": "https://localhost:8080/"
        },
        "id": "x4VmLDZ9Lgy1",
        "outputId": "656bc8ce-dbf2-41ad-b771-39b23e96741b"
      },
      "outputs": [
        {
          "data": {
            "text/plain": [
              "(398, 9)"
            ]
          },
          "execution_count": 59,
          "metadata": {},
          "output_type": "execute_result"
        }
      ],
      "source": [
        "columns = ['mpg','cylinders','disp','hp','weight','acc','model year','origin','carname']\n",
        "df = pd.read_csv('https://archive.ics.uci.edu/ml/machine-learning-databases/auto-mpg/auto-mpg.data',sep='\\s+',names=columns,header=None)\n",
        "df.shape"
      ]
    },
    {
      "cell_type": "code",
      "execution_count": null,
      "metadata": {
        "colab": {
          "base_uri": "https://localhost:8080/",
          "height": 204
        },
        "id": "WqnbQxg0SQk6",
        "outputId": "d692a559-4640-4e2c-b0c9-39bacf3f53d6"
      },
      "outputs": [
        {
          "data": {
            "text/html": [
              "<div>\n",
              "<style scoped>\n",
              "    .dataframe tbody tr th:only-of-type {\n",
              "        vertical-align: middle;\n",
              "    }\n",
              "\n",
              "    .dataframe tbody tr th {\n",
              "        vertical-align: top;\n",
              "    }\n",
              "\n",
              "    .dataframe thead th {\n",
              "        text-align: right;\n",
              "    }\n",
              "</style>\n",
              "<table border=\"1\" class=\"dataframe\">\n",
              "  <thead>\n",
              "    <tr style=\"text-align: right;\">\n",
              "      <th></th>\n",
              "      <th>mpg</th>\n",
              "      <th>cylinders</th>\n",
              "      <th>disp</th>\n",
              "      <th>hp</th>\n",
              "      <th>weight</th>\n",
              "      <th>acc</th>\n",
              "      <th>model year</th>\n",
              "      <th>origin</th>\n",
              "      <th>carname</th>\n",
              "    </tr>\n",
              "  </thead>\n",
              "  <tbody>\n",
              "    <tr>\n",
              "      <th>0</th>\n",
              "      <td>18.0</td>\n",
              "      <td>8</td>\n",
              "      <td>307.0</td>\n",
              "      <td>130.0</td>\n",
              "      <td>3504.0</td>\n",
              "      <td>12.0</td>\n",
              "      <td>70</td>\n",
              "      <td>1</td>\n",
              "      <td>chevrolet chevelle malibu</td>\n",
              "    </tr>\n",
              "    <tr>\n",
              "      <th>1</th>\n",
              "      <td>15.0</td>\n",
              "      <td>8</td>\n",
              "      <td>350.0</td>\n",
              "      <td>165.0</td>\n",
              "      <td>3693.0</td>\n",
              "      <td>11.5</td>\n",
              "      <td>70</td>\n",
              "      <td>1</td>\n",
              "      <td>buick skylark 320</td>\n",
              "    </tr>\n",
              "    <tr>\n",
              "      <th>2</th>\n",
              "      <td>18.0</td>\n",
              "      <td>8</td>\n",
              "      <td>318.0</td>\n",
              "      <td>150.0</td>\n",
              "      <td>3436.0</td>\n",
              "      <td>11.0</td>\n",
              "      <td>70</td>\n",
              "      <td>1</td>\n",
              "      <td>plymouth satellite</td>\n",
              "    </tr>\n",
              "    <tr>\n",
              "      <th>3</th>\n",
              "      <td>16.0</td>\n",
              "      <td>8</td>\n",
              "      <td>304.0</td>\n",
              "      <td>150.0</td>\n",
              "      <td>3433.0</td>\n",
              "      <td>12.0</td>\n",
              "      <td>70</td>\n",
              "      <td>1</td>\n",
              "      <td>amc rebel sst</td>\n",
              "    </tr>\n",
              "    <tr>\n",
              "      <th>4</th>\n",
              "      <td>17.0</td>\n",
              "      <td>8</td>\n",
              "      <td>302.0</td>\n",
              "      <td>140.0</td>\n",
              "      <td>3449.0</td>\n",
              "      <td>10.5</td>\n",
              "      <td>70</td>\n",
              "      <td>1</td>\n",
              "      <td>ford torino</td>\n",
              "    </tr>\n",
              "  </tbody>\n",
              "</table>\n",
              "</div>"
            ],
            "text/plain": [
              "    mpg  cylinders   disp  ... model year  origin                    carname\n",
              "0  18.0          8  307.0  ...         70       1  chevrolet chevelle malibu\n",
              "1  15.0          8  350.0  ...         70       1          buick skylark 320\n",
              "2  18.0          8  318.0  ...         70       1         plymouth satellite\n",
              "3  16.0          8  304.0  ...         70       1              amc rebel sst\n",
              "4  17.0          8  302.0  ...         70       1                ford torino\n",
              "\n",
              "[5 rows x 9 columns]"
            ]
          },
          "execution_count": 60,
          "metadata": {},
          "output_type": "execute_result"
        }
      ],
      "source": [
        "df.head()"
      ]
    },
    {
      "cell_type": "code",
      "execution_count": null,
      "metadata": {
        "id": "IOlZX_hpTSCL"
      },
      "outputs": [],
      "source": [
        "df.replace(['?','_','-',' ','.'],np.nan, inplace=True)"
      ]
    },
    {
      "cell_type": "code",
      "execution_count": null,
      "metadata": {
        "id": "2kgu2THJT0DK"
      },
      "outputs": [],
      "source": [
        "df.drop(columns=['carname','model year','origin'],inplace=True)"
      ]
    },
    {
      "cell_type": "code",
      "execution_count": null,
      "metadata": {
        "id": "S1Veb08GTUzE"
      },
      "outputs": [],
      "source": [
        "df.dropna(how='any',inplace=True)"
      ]
    },
    {
      "cell_type": "code",
      "execution_count": null,
      "metadata": {
        "id": "VGCs-pz2Tqap"
      },
      "outputs": [],
      "source": [
        "df = df.astype(np.float64)"
      ]
    },
    {
      "cell_type": "code",
      "execution_count": null,
      "metadata": {
        "colab": {
          "base_uri": "https://localhost:8080/"
        },
        "id": "LpeKcisfYmBZ",
        "outputId": "c1c3fd02-3a49-44a3-adf2-2f50bea3107b"
      },
      "outputs": [
        {
          "name": "stdout",
          "output_type": "stream",
          "text": [
            "<class 'pandas.core.frame.DataFrame'>\n",
            "Int64Index: 392 entries, 0 to 397\n",
            "Data columns (total 6 columns):\n",
            " #   Column     Non-Null Count  Dtype  \n",
            "---  ------     --------------  -----  \n",
            " 0   mpg        392 non-null    float64\n",
            " 1   cylinders  392 non-null    float64\n",
            " 2   disp       392 non-null    float64\n",
            " 3   hp         392 non-null    float64\n",
            " 4   weight     392 non-null    float64\n",
            " 5   acc        392 non-null    float64\n",
            "dtypes: float64(6)\n",
            "memory usage: 21.4 KB\n"
          ]
        }
      ],
      "source": [
        "df.info()"
      ]
    },
    {
      "cell_type": "code",
      "execution_count": null,
      "metadata": {
        "id": "JHIFfP1bSU8q"
      },
      "outputs": [],
      "source": [
        "X = np.array(df.iloc[:,1:6])\n",
        "Y = np.array(df.iloc[:,[0]]).reshape(-1,1)\n",
        "X = torch.from_numpy(X).to(device).float()\n",
        "Y = torch.from_numpy(Y).to(device).float()"
      ]
    },
    {
      "cell_type": "code",
      "execution_count": null,
      "metadata": {
        "colab": {
          "base_uri": "https://localhost:8080/"
        },
        "id": "wCMjemeUUN72",
        "outputId": "e025a1d7-af5b-4596-c7b6-97b6774706e7"
      },
      "outputs": [
        {
          "data": {
            "text/plain": [
              "(torch.Size([392, 5]), torch.Size([392, 1]))"
            ]
          },
          "execution_count": 71,
          "metadata": {},
          "output_type": "execute_result"
        }
      ],
      "source": [
        "X.size(), Y.size()"
      ]
    },
    {
      "cell_type": "code",
      "execution_count": null,
      "metadata": {
        "id": "DqqgSI05UoyV"
      },
      "outputs": [],
      "source": [
        "try:\n",
        "    del model\n",
        "except:\n",
        "    pass"
      ]
    },
    {
      "cell_type": "code",
      "execution_count": null,
      "metadata": {
        "id": "btsYfQvES_hq"
      },
      "outputs": [],
      "source": [
        "class MLP(nn.Module):\n",
        "\n",
        "    def __init__(self):\n",
        "        super(MLP, self).__init__()\n",
        "        self.h1 = nn.Linear(in_features=5,out_features=8)\n",
        "        self.out = nn.Linear(in_features=8, out_features=1)\n",
        "\n",
        "    def forward(self,x):\n",
        "        x = torch.relu(self.h1(x))\n",
        "        x = self.out(x)\n",
        "        return x\n",
        "\n",
        "\n",
        "\n",
        "model = MLP()\n",
        "model = model.to(device)"
      ]
    },
    {
      "cell_type": "code",
      "execution_count": null,
      "metadata": {
        "id": "kCxlaWHhU-7h"
      },
      "outputs": [],
      "source": [
        "from torch.optim import Adam\n",
        "opt = Adam(params=model.parameters(), lr = 0.0001)"
      ]
    },
    {
      "cell_type": "code",
      "execution_count": null,
      "metadata": {
        "colab": {
          "base_uri": "https://localhost:8080/"
        },
        "id": "ttLwox4tS7T9",
        "outputId": "489da4ca-a104-40b1-a5a6-00271a67b935"
      },
      "outputs": [
        {
          "name": "stdout",
          "output_type": "stream",
          "text": [
            "29.398731231689453\n",
            "29.300151824951172\n",
            "29.198577880859375\n",
            "29.098039627075195\n",
            "28.99435043334961\n",
            "28.888608932495117\n",
            "28.781068801879883\n",
            "28.671070098876953\n",
            "28.559106826782227\n",
            "28.445709228515625\n"
          ]
        }
      ],
      "source": [
        "for epoch in range(5000):\n",
        "    out = model(X)\n",
        "    loss = F.mse_loss(out,Y)\n",
        "    loss.backward()\n",
        "    opt.step()\n",
        "    opt.zero_grad()\n",
        "\n",
        "    if epoch % 500 == 0:\n",
        "        print(loss.item())"
      ]
    },
    {
      "cell_type": "code",
      "execution_count": null,
      "metadata": {
        "colab": {
          "base_uri": "https://localhost:8080/"
        },
        "id": "aQne_bo5Vdv-",
        "outputId": "366d5d66-22b0-473d-fdd4-aeb5731482bb"
      },
      "outputs": [
        {
          "data": {
            "text/plain": [
              "16.60359"
            ]
          },
          "execution_count": 107,
          "metadata": {},
          "output_type": "execute_result"
        }
      ],
      "source": [
        "y_pred = model(X).detach().cpu().numpy().reshape(1,-1)\n",
        "y_pred[0][0]"
      ]
    },
    {
      "cell_type": "code",
      "execution_count": null,
      "metadata": {
        "colab": {
          "base_uri": "https://localhost:8080/",
          "height": 384
        },
        "id": "7dC-lgvBbkMP",
        "outputId": "8fef6d8a-917b-4711-d30c-6193e597b064"
      },
      "outputs": [
        {
          "name": "stderr",
          "output_type": "stream",
          "text": [
            "/usr/local/lib/python3.7/dist-packages/seaborn/_decorators.py:43: FutureWarning: Pass the following variables as keyword args: x, y. From version 0.12, the only valid positional argument will be `data`, and passing other arguments without an explicit keyword will result in an error or misinterpretation.\n",
            "  FutureWarning\n",
            "/usr/local/lib/python3.7/dist-packages/seaborn/_decorators.py:43: FutureWarning: Pass the following variables as keyword args: x, y. From version 0.12, the only valid positional argument will be `data`, and passing other arguments without an explicit keyword will result in an error or misinterpretation.\n",
            "  FutureWarning\n"
          ]
        },
        {
          "data": {
            "text/plain": [
              "<matplotlib.axes._subplots.AxesSubplot at 0x7f668eb565d0>"
            ]
          },
          "execution_count": 109,
          "metadata": {},
          "output_type": "execute_result"
        },
        {
          "data": {
            "image/png": "[encoded data removed]",
            "text/plain": [
              "<Figure size 432x288 with 1 Axes>"
            ]
          },
          "metadata": {
            "needs_background": "light"
          },
          "output_type": "display_data"
        }
      ],
      "source": [
        "sns.scatterplot(df['hp'],df['mpg'])\n",
        "sns.scatterplot(df['hp'],y_pred[0])\n"
      ]
    },
    {
      "cell_type": "markdown",
      "metadata": {
        "id": "Mz_mEGjgc1dz"
      },
      "source": [
        "# MNIST DATASET CLASSIFICATION WITH DNN"
      ]
    },
    {
      "cell_type": "code",
      "execution_count": null,
      "metadata": {
        "colab": {
          "base_uri": "https://localhost:8080/"
        },
        "id": "H3h7uvz5bw8z",
        "outputId": "ebe0f49b-3f54-4282-8aaf-fabc607dff59"
      },
      "outputs": [
        {
          "name": "stdout",
          "output_type": "stream",
          "text": [
            "--2021-10-28 19:50:15--  https://raw.githubusercontent.com/MorvanZhou/PyTorch-Tutorial/master/tutorial-contents-notebooks/mnist/processed/training.pt\n",
            "Resolving raw.githubusercontent.com (raw.githubusercontent.com)... 185.199.108.133, 185.199.109.133, 185.199.110.133, ...\n",
            "Connecting to raw.githubusercontent.com (raw.githubusercontent.com)|185.199.108.133|:443... connected.\n",
            "HTTP request sent, awaiting response... 200 OK\n",
            "Length: 47520431 (45M) [application/octet-stream]\n",
            "Saving to: ‘training.pt’\n",
            "\n",
            "training.pt         100%[===================>]  45.32M   142MB/s    in 0.3s    \n",
            "\n",
            "2021-10-28 19:50:19 (142 MB/s) - ‘training.pt’ saved [47520431/47520431]\n",
            "\n",
            "--2021-10-28 19:50:19--  https://raw.githubusercontent.com/MorvanZhou/PyTorch-Tutorial/master/tutorial-contents-notebooks/mnist/processed/test.pt\n",
            "Resolving raw.githubusercontent.com (raw.githubusercontent.com)... 185.199.108.133, 185.199.111.133, 185.199.110.133, ...\n",
            "Connecting to raw.githubusercontent.com (raw.githubusercontent.com)|185.199.108.133|:443... connected.\n",
            "HTTP request sent, awaiting response... 200 OK\n",
            "Length: 7920431 (7.6M) [application/octet-stream]\n",
            "Saving to: ‘test.pt’\n",
            "\n",
            "test.pt             100%[===================>]   7.55M  --.-KB/s    in 0.1s    \n",
            "\n",
            "2021-10-28 19:50:21 (69.3 MB/s) - ‘test.pt’ saved [7920431/7920431]\n",
            "\n"
          ]
        }
      ],
      "source": [
        "!wget https://raw.githubusercontent.com/MorvanZhou/PyTorch-Tutorial/master/tutorial-contents-notebooks/mnist/processed/training.pt\n",
        "!wget https://raw.githubusercontent.com/MorvanZhou/PyTorch-Tutorial/master/tutorial-contents-notebooks/mnist/processed/test.pt"
      ]
    },
    {
      "cell_type": "code",
      "execution_count": null,
      "metadata": {
        "id": "7aBCl6Atc-rl"
      },
      "outputs": [],
      "source": [
        "import torch\n",
        "from torch.optim import Adam\n",
        "import torch.nn as nn\n",
        "import torch.nn.functional as F\n",
        "import numpy as np\n",
        "import matplotlib.pyplot as plt\n",
        "from sklearn.metrics import confusion_matrix,accuracy_score\n",
        "from tqdm.auto import tqdm\n",
        "from torch.utils.data import DataLoader, TensorDataset\n",
        "device = torch.device('cpu')"
      ]
    },
    {
      "cell_type": "code",
      "execution_count": null,
      "metadata": {
        "colab": {
          "base_uri": "https://localhost:8080/"
        },
        "id": "fXw2XdPWdacn",
        "outputId": "f9513bf8-a225-46a0-e3d1-6d3127e81ae2"
      },
      "outputs": [
        {
          "data": {
            "text/plain": [
              "(torch.Size([60000, 28, 28]), torch.Size([60000]))"
            ]
          },
          "execution_count": 129,
          "metadata": {},
          "output_type": "execute_result"
        }
      ],
      "source": [
        "data = torch.load('training.pt')\n",
        "x_train, y_train = data\n",
        "x_train.size(),y_train.size()"
      ]
    },
    {
      "cell_type": "code",
      "execution_count": null,
      "metadata": {
        "colab": {
          "base_uri": "https://localhost:8080/"
        },
        "id": "ss_B81qfdjS1",
        "outputId": "6104ad79-0ba0-44e6-e720-999ad003b028"
      },
      "outputs": [
        {
          "data": {
            "text/plain": [
              "(torch.Size([10000, 28, 28]), torch.Size([10000]))"
            ]
          },
          "execution_count": 130,
          "metadata": {},
          "output_type": "execute_result"
        }
      ],
      "source": [
        "data = torch.load('test.pt')\n",
        "x_test, y_test = data\n",
        "x_test.size(),y_test.size()"
      ]
    },
    {
      "cell_type": "code",
      "execution_count": null,
      "metadata": {
        "id": "QuF5uv1Ad_ZH"
      },
      "outputs": [],
      "source": [
        "training_data_loader = DataLoader(TensorDataset(x_train.reshape(-1,28*28),y_train),\n",
        "                                  batch_size=512,\n",
        "                                  shuffle=True)"
      ]
    },
    {
      "cell_type": "code",
      "execution_count": null,
      "metadata": {
        "colab": {
          "base_uri": "https://localhost:8080/",
          "height": 282
        },
        "id": "iovDK0b3eTQp",
        "outputId": "97a97726-d9e9-4193-e00f-09520cdea248"
      },
      "outputs": [
        {
          "name": "stdout",
          "output_type": "stream",
          "text": [
            "tensor(5)\n"
          ]
        },
        {
          "data": {
            "image/png": "[encoded data removed]",
            "text/plain": [
              "<Figure size 432x288 with 1 Axes>"
            ]
          },
          "metadata": {
            "needs_background": "light"
          },
          "output_type": "display_data"
        }
      ],
      "source": [
        "plt.imshow(x_train[0])\n",
        "print(y_train[0])"
      ]
    },
    {
      "cell_type": "code",
      "execution_count": null,
      "metadata": {
        "id": "bL7PzHEeeYxo"
      },
      "outputs": [],
      "source": [
        "class MNIST_DNN(nn.Module):\n",
        "\n",
        "    def __init__(self):\n",
        "\n",
        "        super(MNIST_DNN,self).__init__()\n",
        "        self.bn1 = nn.BatchNorm1d(num_features=28*28)\n",
        "        self.h1 = nn.Linear(in_features=28*28, out_features=128)\n",
        "        self.bn2 = nn.BatchNorm1d(num_features=128)\n",
        "        self.h2 = nn.Linear(in_features=128, out_features=256)\n",
        "        self.out = nn.Linear(in_features=256, out_features=10)\n",
        "\n",
        "        self.drop = nn.Dropout(p=0.2)\n",
        "\n",
        "    \n",
        "    def forward(self,x):\n",
        "\n",
        "        x = self.bn1(x)\n",
        "        x = self.h1(x)\n",
        "        x = F.leaky_relu(x)\n",
        "\n",
        "        x = self.bn2(x)\n",
        "        x = self.h2(x)\n",
        "        x = F.leaky_relu(x)\n",
        "        x = self.drop(x)\n",
        "\n",
        "        x = self.out(x)\n",
        "\n",
        "        return x"
      ]
    },
    {
      "cell_type": "code",
      "execution_count": null,
      "metadata": {
        "colab": {
          "base_uri": "https://localhost:8080/"
        },
        "id": "CTNWiZ1igZjJ",
        "outputId": "8bdb93bf-dcf2-4cba-b5fd-0473f7bc5e38"
      },
      "outputs": [
        {
          "name": "stdout",
          "output_type": "stream",
          "text": [
            "previous model deleted\n"
          ]
        }
      ],
      "source": [
        "try:\n",
        "    del model\n",
        "except:\n",
        "    print('No previous model')\n",
        "else:\n",
        "    print('previous model deleted')\n",
        "finally:\n",
        "    model = MNIST_DNN()\n",
        "    model = model.to(device)"
      ]
    },
    {
      "cell_type": "code",
      "execution_count": null,
      "metadata": {
        "id": "23ysDRKKhmjM"
      },
      "outputs": [],
      "source": [
        "opt = Adam(model.parameters(),lr=0.001)"
      ]
    },
    {
      "cell_type": "code",
      "execution_count": null,
      "metadata": {
        "id": "O568izCik0GI"
      },
      "outputs": [],
      "source": [
        "x_test = x_test.reshape(-1,28*28)"
      ]
    },
    {
      "cell_type": "code",
      "execution_count": null,
      "metadata": {
        "colab": {
          "base_uri": "https://localhost:8080/",
          "height": 1000,
          "referenced_widgets": [
            "52120dc33c854f8c92ac088ae1782ab0",
            "b6c9ff7fa5d6462095fa4b7e646008ce",
            "3a129e36e70049c2a1da8bb53373f0de",
            "659688482f00477aa8f522f3b4effa07",
            "1e7d0e49231249abb9aaccc5bd876a79",
            "1e17459d1b8b4a3e86f1cbef522df95a",
            "a814ebfddfb74b62996203d180d272c7",
            "42f478063a0e4641975e3e4734a560b7",
            "b84171895e3e470586e63e42c7926dab",
            "318372d487f240b0b92081ec1fe5ec9a",
            "c610cb90d02d45c0bc9e2d4e8e2349f9"
          ]
        },
        "id": "7FwzrEMRfUGz",
        "outputId": "af5e1d31-58f0-4000-9c99-1bb5f34f5f9a"
      },
      "outputs": [
        {
          "data": {
            "application/vnd.jupyter.widget-view+json": {
              "model_id": "52120dc33c854f8c92ac088ae1782ab0",
              "version_major": 2,
              "version_minor": 0
            },
            "text/plain": [
              "  0%|          | 0/100 [00:00<?, ?it/s]"
            ]
          },
          "metadata": {},
          "output_type": "display_data"
        },
        {
          "name": "stdout",
          "output_type": "stream",
          "text": [
            "training loss: 7.788717657327652 and test loss: 0.11976468563079834\n",
            "training loss: 5.3992276806384325 and test loss: 0.11224871873855591\n",
            "training loss: 4.011037070304155 and test loss: 0.11813520640134811\n",
            "training loss: 3.0513035063631833 and test loss: 0.12243825942277908\n",
            "training loss: 2.4628470623865724 and test loss: 0.13140219449996948\n",
            "training loss: 2.4341533086262643 and test loss: 0.12208962440490723\n",
            "training loss: 1.880171311320737 and test loss: 0.13505855202674866\n",
            "training loss: 1.7180145662277937 and test loss: 0.1403743475675583\n",
            "training loss: 1.4072171601001173 and test loss: 0.14732980728149414\n",
            "training loss: 1.264614885672927 and test loss: 0.1385488659143448\n",
            "training loss: 0.957549104350619 and test loss: 0.1362522691488266\n",
            "training loss: 0.9493960734689608 and test loss: 0.13904617726802826\n",
            "training loss: 1.1763493872713298 and test loss: 0.14712181687355042\n",
            "training loss: 1.1560931983403862 and test loss: 0.14904235303401947\n",
            "training loss: 1.1317309751175344 and test loss: 0.1668473482131958\n",
            "training loss: 0.9600926908897236 and test loss: 0.15258489549160004\n",
            "training loss: 1.3563063914189115 and test loss: 0.17340977489948273\n",
            "training loss: 0.8485091248876415 and test loss: 0.1617710441350937\n",
            "training loss: 0.8192404470173642 and test loss: 0.17889916896820068\n",
            "training loss: 0.7674379458039766 and test loss: 0.16992585361003876\n",
            "training loss: 0.5485841612389777 and test loss: 0.16559267044067383\n",
            "training loss: 0.6030682473501656 and test loss: 0.17703543603420258\n",
            "training loss: 0.524818031990435 and test loss: 0.16902799904346466\n",
            "training loss: 0.46335860033286735 and test loss: 0.16001470386981964\n",
            "training loss: 0.36677515118935844 and test loss: 0.1761499047279358\n",
            "training loss: 0.4178970070788637 and test loss: 0.17267699539661407\n",
            "training loss: 0.43717939298949204 and test loss: 0.17901156842708588\n",
            "training loss: 1.1616752790869214 and test loss: 0.1822304129600525\n",
            "training loss: 0.9247981249936856 and test loss: 0.1792563498020172\n",
            "training loss: 0.7714657817268744 and test loss: 0.17301221191883087\n",
            "training loss: 0.6943617244251072 and test loss: 0.18129290640354156\n",
            "training loss: 0.774371738138143 and test loss: 0.19114698469638824\n",
            "training loss: 0.987022603629157 and test loss: 0.1863962560892105\n",
            "training loss: 0.4791610895481426 and test loss: 0.17111894488334656\n",
            "training loss: 0.4718539187015267 and test loss: 0.17943693697452545\n",
            "training loss: 0.28682292040321045 and test loss: 0.17952565848827362\n",
            "training loss: 0.22931562308804132 and test loss: 0.16580751538276672\n",
            "training loss: 0.15476336867141072 and test loss: 0.17783008515834808\n",
            "training loss: 0.13804390008590417 and test loss: 0.17809592187404633\n",
            "training loss: 0.253525417901983 and test loss: 0.18227051198482513\n",
            "training loss: 0.41093931475188583 and test loss: 0.1925559788942337\n",
            "training loss: 0.47718659187376034 and test loss: 0.20279894769191742\n",
            "training loss: 0.5382714507322817 and test loss: 0.19321654736995697\n",
            "training loss: 0.7046929396310588 and test loss: 0.20391438901424408\n",
            "training loss: 0.6932041407417273 and test loss: 0.18028409779071808\n",
            "training loss: 0.9721194683515932 and test loss: 0.17924532294273376\n",
            "training loss: 0.6114843867835589 and test loss: 0.17620927095413208\n",
            "training loss: 0.48084171537630027 and test loss: 0.17970097064971924\n",
            "training loss: 0.4263004323001951 and test loss: 0.17576391994953156\n",
            "training loss: 0.5651252486713929 and test loss: 0.18766804039478302\n",
            "training loss: 0.49452613075845875 and test loss: 0.18615534901618958\n",
            "training loss: 0.5406414718891028 and test loss: 0.1809520274400711\n",
            "training loss: 0.27910821073601255 and test loss: 0.18070398271083832\n",
            "training loss: 0.18770695327111753 and test loss: 0.17875936627388\n",
            "training loss: 0.17372350705045392 and test loss: 0.17763185501098633\n",
            "training loss: 0.1719473887460481 and test loss: 0.1821325570344925\n",
            "training loss: 0.16434402665800008 and test loss: 0.17111805081367493\n",
            "training loss: 0.18236618882292532 and test loss: 0.17890961468219757\n",
            "training loss: 0.41032859296683455 and test loss: 0.17716875672340393\n",
            "training loss: 0.5092659766378347 and test loss: 0.19438450038433075\n",
            "training loss: 0.5872659018423292 and test loss: 0.18455596268177032\n",
            "training loss: 0.6088955125014763 and test loss: 0.18376852571964264\n",
            "training loss: 0.6654419389960822 and test loss: 0.1851191222667694\n",
            "training loss: 0.3701179190466064 and test loss: 0.17017574608325958\n",
            "training loss: 0.31873261653163354 and test loss: 0.17787052690982819\n",
            "training loss: 0.21660824784885335 and test loss: 0.18208786845207214\n",
            "training loss: 0.15793204443980358 and test loss: 0.1836363971233368\n",
            "training loss: 0.21447763488686178 and test loss: 0.17739684879779816\n",
            "training loss: 0.1290604872538097 and test loss: 0.1731824427843094\n",
            "training loss: 0.21676503899470845 and test loss: 0.18333441019058228\n",
            "training loss: 0.4388808625662932 and test loss: 0.18555866181850433\n",
            "training loss: 0.6040583575231722 and test loss: 0.1943056583404541\n",
            "training loss: 0.5985863959672315 and test loss: 0.1938934624195099\n",
            "training loss: 0.3371620409816387 and test loss: 0.1851343810558319\n",
            "training loss: 0.2581116208812091 and test loss: 0.17964167892932892\n",
            "training loss: 0.17906747096640174 and test loss: 0.17823296785354614\n",
            "training loss: 0.07679829369226354 and test loss: 0.1769033968448639\n",
            "training loss: 0.12566311706723354 and test loss: 0.17531506717205048\n",
            "training loss: 0.15039522369625047 and test loss: 0.18264706432819366\n",
            "training loss: 0.19866268327314174 and test loss: 0.1947108507156372\n",
            "training loss: 0.4009279670608521 and test loss: 0.18943481147289276\n",
            "training loss: 0.4732505430729361 and test loss: 0.18984828889369965\n",
            "training loss: 0.34310867681051604 and test loss: 0.1899072825908661\n",
            "training loss: 0.22384358732051624 and test loss: 0.1921117603778839\n",
            "training loss: 0.236003743018955 and test loss: 0.19589655101299286\n",
            "training loss: 0.2003490731040074 and test loss: 0.19718524813652039\n",
            "training loss: 0.4884644384837884 and test loss: 0.19913162291049957\n",
            "training loss: 0.28755702806301997 and test loss: 0.19133086502552032\n",
            "training loss: 0.4665639158229169 and test loss: 0.1932416707277298\n",
            "training loss: 0.2602306456283259 and test loss: 0.20272590219974518\n",
            "training loss: 0.27028689548387774 and test loss: 0.19251680374145508\n",
            "training loss: 0.27599651523996727 and test loss: 0.18057742714881897\n",
            "training loss: 0.3039599153707968 and test loss: 0.19980844855308533\n",
            "training loss: 0.27138133503103745 and test loss: 0.1903599351644516\n",
            "training loss: 0.10801565495967225 and test loss: 0.18666046857833862\n",
            "training loss: 0.18701258976579993 and test loss: 0.2089569866657257\n",
            "training loss: 0.13383156429154042 and test loss: 0.19990073144435883\n",
            "training loss: 0.16490011969062834 and test loss: 0.21184836328029633\n",
            "training loss: 0.28199046294503205 and test loss: 0.21129272878170013\n",
            "training loss: 0.6086548002904237 and test loss: 0.2065470665693283\n"
          ]
        }
      ],
      "source": [
        "tq = tqdm(range(100))\n",
        "\n",
        "l = 0\n",
        "for i in tq:\n",
        "    tq.set_description(desc='{}'.format(l))\n",
        "    training_loss = 0\n",
        "    test_loss = 0\n",
        "    for batch , target in training_data_loader:\n",
        "        batch = batch.float().to(device)\n",
        "        target = target.to(device)\n",
        "        opt.zero_grad()\n",
        "\n",
        "        out = model(batch)\n",
        "        loss = F.cross_entropy(out,target)\n",
        "\n",
        "        loss.backward()\n",
        "        opt.step()\n",
        "        ll = loss.item()\n",
        "        training_loss += ll\n",
        "    l = training_loss \n",
        "\n",
        "    test_x = x_test.float().to(device)\n",
        "    test_y = y_test.to(device)\n",
        "    out_t = model(test_x)\n",
        "    loss_t = F.cross_entropy(out_t,test_y)\n",
        "    test_loss += loss_t.item()\n",
        "    print(training loss: {0} and test loss: {1}'.format(training_loss,test_loss))\n"
      ]
    },
    {
      "cell_type": "code",
      "execution_count": null,
      "metadata": {
        "colab": {
          "base_uri": "https://localhost:8080/"
        },
        "id": "35rVYy38nakk",
        "outputId": "10ed2e08-e027-49a1-faaf-499c92447a89"
      },
      "outputs": [
        {
          "data": {
            "text/plain": [
              "3"
            ]
          },
          "execution_count": 194,
          "metadata": {},
          "output_type": "execute_result"
        }
      ],
      "source": [
        "np.argmax(output_test_prob,axis=1)[30]"
      ]
    },
    {
      "cell_type": "code",
      "execution_count": null,
      "metadata": {
        "colab": {
          "base_uri": "https://localhost:8080/",
          "height": 282
        },
        "id": "p98JtbZ0hPUl",
        "outputId": "b2776204-3fdc-4842-f27b-d9234a8d9ed1"
      },
      "outputs": [
        {
          "name": "stdout",
          "output_type": "stream",
          "text": [
            "tensor(3)\n"
          ]
        },
        {
          "data": {
            "image/png": "[encoded data removed]",
            "text/plain": [
              "<Figure size 432x288 with 1 Axes>"
            ]
          },
          "metadata": {
            "needs_background": "light"
          },
          "output_type": "display_data"
        }
      ],
      "source": [
        "y_pred = model(x_test.reshape(-1,28*28).float().to(device))\n",
        "output_test_prob = F.softmax(y_pred, dim=1).detach().cpu().numpy()\n",
        "\n",
        "plt.show()\n",
        "plt.imshow(x_train[30])\n",
        "print(y_train[30])"
      ]
    },
    {
      "cell_type": "code",
      "execution_count": null,
      "metadata": {
        "colab": {
          "base_uri": "https://localhost:8080/"
        },
        "id": "ra5BMf8bm4-j",
        "outputId": "93629a88-06aa-45a2-b9f2-43d2286abd0e"
      },
      "outputs": [
        {
          "data": {
            "text/plain": [
              "array([[ 972,    0,    2,    0,    1,    5,    5,    1,    3,    2],\n",
              "       [   0, 1125,    5,    0,    0,    0,    1,    6,    2,    2],\n",
              "       [   1,    2, 1002,    5,    5,    0,    1,    7,    0,    1],\n",
              "       [   0,    1,    3,  991,    1,    8,    1,    2,    7,    4],\n",
              "       [   0,    0,    1,    0,  954,    0,    2,    1,    4,   13],\n",
              "       [   1,    1,    1,    5,    0,  867,    6,    0,   10,    2],\n",
              "       [   3,    3,    5,    0,    5,    4,  940,    0,    5,    0],\n",
              "       [   1,    1,    7,    6,    6,    5,    0, 1008,    5,   16],\n",
              "       [   2,    2,    6,    2,    0,    2,    1,    1,  934,    3],\n",
              "       [   0,    0,    0,    1,   10,    1,    1,    2,    4,  966]])"
            ]
          },
          "execution_count": 192,
          "metadata": {},
          "output_type": "execute_result"
        }
      ],
      "source": [
        "confusion_matrix(np.argmax(output_test_prob, axis=1),\n",
        "                 y_test.detach().cpu().numpy())"
      ]
    },
    {
      "cell_type": "code",
      "execution_count": null,
      "metadata": {
        "colab": {
          "base_uri": "https://localhost:8080/"
        },
        "id": "SpzHPOCLpQ0N",
        "outputId": "d733fbc1-e809-4fd5-f88c-1584cbde0de2"
      },
      "outputs": [
        {
          "data": {
            "text/plain": [
              "0.9769"
            ]
          },
          "execution_count": 196,
          "metadata": {},
          "output_type": "execute_result"
        }
      ],
      "source": [
        "accuracy_score(np.argmax(output_test_prob, axis=1),\n",
        "                 y_test.detach().cpu().numpy())"
      ]
    },
    {
      "cell_type": "code",
      "execution_count": null,
      "metadata": {
        "id": "fQZWWX5upaYs"
      },
      "outputs": [],
      "source": []
    },
    {
      "cell_type": "markdown",
      "metadata": {
        "id": "u4NAUkS3rKjS"
      },
      "source": [
        "# CNN ON MNIST"
      ]
    },
    {
      "cell_type": "code",
      "execution_count": null,
      "metadata": {
        "colab": {
          "base_uri": "https://localhost:8080/"
        },
        "id": "gs0SL2Swrmnj",
        "outputId": "1fb13c58-9682-42b4-848f-60004af1a80a"
      },
      "outputs": [
        {
          "name": "stdout",
          "output_type": "stream",
          "text": [
            "--2021-10-28 20:56:09--  https://raw.githubusercontent.com/MorvanZhou/PyTorch-Tutorial/master/tutorial-contents-notebooks/mnist/processed/training.pt\n",
            "Resolving raw.githubusercontent.com (raw.githubusercontent.com)... 185.199.111.133, 185.199.108.133, 185.199.109.133, ...\n",
            "Connecting to raw.githubusercontent.com (raw.githubusercontent.com)|185.199.111.133|:443... connected.\n",
            "HTTP request sent, awaiting response... 200 OK\n",
            "Length: 47520431 (45M) [application/octet-stream]\n",
            "Saving to: ‘training.pt’\n",
            "\n",
            "training.pt         100%[===================>]  45.32M   139MB/s    in 0.3s    \n",
            "\n",
            "2021-10-28 20:56:09 (139 MB/s) - ‘training.pt’ saved [47520431/47520431]\n",
            "\n",
            "--2021-10-28 20:56:09--  https://raw.githubusercontent.com/MorvanZhou/PyTorch-Tutorial/master/tutorial-contents-notebooks/mnist/processed/test.pt\n",
            "Resolving raw.githubusercontent.com (raw.githubusercontent.com)... 185.199.108.133, 185.199.109.133, 185.199.110.133, ...\n",
            "Connecting to raw.githubusercontent.com (raw.githubusercontent.com)|185.199.108.133|:443... connected.\n",
            "HTTP request sent, awaiting response... 200 OK\n",
            "Length: 7920431 (7.6M) [application/octet-stream]\n",
            "Saving to: ‘test.pt’\n",
            "\n",
            "test.pt             100%[===================>]   7.55M  --.-KB/s    in 0.1s    \n",
            "\n",
            "2021-10-28 20:56:09 (60.7 MB/s) - ‘test.pt’ saved [7920431/7920431]\n",
            "\n"
          ]
        }
      ],
      "source": [
        "!wget https://raw.githubusercontent.com/MorvanZhou/PyTorch-Tutorial/master/tutorial-contents-notebooks/mnist/processed/training.pt\n",
        "!wget https://raw.githubusercontent.com/MorvanZhou/PyTorch-Tutorial/master/tutorial-contents-notebooks/mnist/processed/test.pt"
      ]
    },
    {
      "cell_type": "code",
      "execution_count": null,
      "metadata": {
        "id": "iWvdlVZnrtXz"
      },
      "outputs": [],
      "source": [
        "import torch\n",
        "import torch.nn as nn\n",
        "import torch.nn.functional as F\n",
        "from torch.optim import Adam\n",
        "from torch.utils.data import DataLoader, TensorDataset\n",
        "from tqdm.auto import tqdm\n",
        "\n",
        "import numpy as np\n",
        "import matplotlib.pyplot as plt"
      ]
    },
    {
      "cell_type": "code",
      "execution_count": null,
      "metadata": {
        "id": "4QJxUD46suue"
      },
      "outputs": [],
      "source": [
        "data = torch.load('training.pt')\n",
        "x_train, y_train = data\n",
        "\n",
        "data = torch.load('test.pt')\n",
        "x_test, y_test = data"
      ]
    },
    {
      "cell_type": "code",
      "execution_count": null,
      "metadata": {
        "id": "nGXaYhUavR-s"
      },
      "outputs": [],
      "source": [
        "x_train, x_test = x_train.reshape(-1,1,28,28), x_test.reshape(-1,1,28,28)"
      ]
    },
    {
      "cell_type": "code",
      "execution_count": null,
      "metadata": {
        "id": "bxhD9Cj9s_FI"
      },
      "outputs": [],
      "source": [
        "train_data_loader = DataLoader(TensorDataset(x_train,y_train), batch_size=512,shuffle=True)"
      ]
    },
    {
      "cell_type": "code",
      "execution_count": null,
      "metadata": {
        "id": "vU8ng8BFtbAH"
      },
      "outputs": [],
      "source": [
        "class MNIST_CNN(nn.Module):\n",
        "\n",
        "    def __init__(self):\n",
        "\n",
        "        super(MNIST_CNN,self).__init__()\n",
        "        self.c1 = None\n",
        "\n",
        "        self.conv1 = nn.Conv2d(in_channels=1, out_channels=16, kernel_size=3,\n",
        "                               padding=1,stride=1)\n",
        "        \n",
        "        self.maxpool = nn.MaxPool2d(kernel_size=2,stride=2)\n",
        "        self.bn1 = nn.BatchNorm2d(num_features=16)\n",
        "        self.drop = nn.Dropout2d(p=0.2)\n",
        "\n",
        "\n",
        "        self.conv2 = nn.Conv2d(in_channels=16, out_channels=32, kernel_size=3,\n",
        "                               padding=1,stride=1)\n",
        "        self.bn2 = nn.BatchNorm2d(num_features=32)\n",
        "\n",
        "\n",
        "        self.conv3 = nn.Conv2d(in_channels=32, out_channels=64, kernel_size=3,\n",
        "                               padding=1,stride=1)\n",
        "        self.bn3 = nn.BatchNorm2d(num_features=64)\n",
        "\n",
        "\n",
        "        self.conv4 = nn.Conv2d(in_channels=64, out_channels=128, kernel_size=3,\n",
        "                               padding=1,stride=1)\n",
        "\n",
        "\n",
        "        self.fc1 = nn.Linear(in_features=1*1*128, out_features=128)\n",
        "        self.fc2 = nn.Linear(in_features=128, out_features=10)\n",
        "\n",
        "\n",
        "    def forward(self, x):\n",
        "\n",
        "        x = self.conv1(x)\n",
        "        x = F.relu(x)\n",
        "        self.c1 = x\n",
        "        x = self.maxpool(x)\n",
        "        x = self.bn1(x)\n",
        "\n",
        "        x = self.conv2(x)\n",
        "        x = F.relu(x)\n",
        "        x = self.maxpool(x)\n",
        "        x = self.bn2(x)\n",
        "\n",
        "        x = self.conv3(x)\n",
        "        x = F.relu(x)\n",
        "        x = self.maxpool(x)\n",
        "        x = self.bn3(x)\n",
        "\n",
        "        x = self.conv4(x)\n",
        "        x = F.relu(x)\n",
        "        x = self.maxpool(x)\n",
        "        x = self.drop(x)\n",
        "        # print(x.size())\n",
        "\n",
        "        x = x.view(x.size()[0],-1) # Similar to numpy flatten, Important to flatten the data for dense layer\n",
        "        x = self.fc1(x)\n",
        "        x = F.relu(x)\n",
        "        x = self.drop(x)\n",
        "        x = self.fc2(x)  # if softmax applied then it will return probabilities values\n",
        "\n",
        "        return x"
      ]
    },
    {
      "cell_type": "code",
      "execution_count": null,
      "metadata": {
        "colab": {
          "base_uri": "https://localhost:8080/"
        },
        "id": "tOWIfqUXzAzE",
        "outputId": "4f840d5b-ac19-41aa-be5e-6f4b2fbd5c5c"
      },
      "outputs": [
        {
          "name": "stdout",
          "output_type": "stream",
          "text": [
            "Previous model deleted\n",
            "model created\n"
          ]
        }
      ],
      "source": [
        "device = torch.device('cpu')\n",
        "\n",
        "try:\n",
        "    del model\n",
        "except:\n",
        "    print('No model found')\n",
        "else:\n",
        "    print('Previous model deleted')\n",
        "finally:\n",
        "    model = MNIST_CNN()\n",
        "    model = model.to(device)\n",
        "    print('model created')"
      ]
    },
    {
      "cell_type": "code",
      "execution_count": null,
      "metadata": {
        "id": "pQd0jghQ0McG"
      },
      "outputs": [],
      "source": [
        "opt = Adam(params=model.parameters(),lr=0.01)"
      ]
    },
    {
      "cell_type": "code",
      "execution_count": null,
      "metadata": {
        "colab": {
          "base_uri": "https://localhost:8080/",
          "height": 294,
          "referenced_widgets": [
            "df75745379fb45138aaf869e85806660",
            "411c69dcfa2d4bbaa556e6e62f6dbb4e",
            "4580a5380543456191b9e46515b00d69",
            "b17ff05532144a45847d19c128341697",
            "3ed29aa899c6405ea9dc421aeeeb5d4a",
            "a74a0bcff2ae4627b33f2e1fffffeddf",
            "ef811b1baffc4518b4938ea061d838d1",
            "9827d5da3627497abb33feefb1f86365",
            "93b63232c5e74dadaa3f8df75779e5d1",
            "6fa143224ecb4f2ea8fc4c95c3fd9011",
            "fcddbfa59c104f3995b1171b2c26e9dc",
            "1785213621e64c2a9821d673fc181212",
            "d34f760f4d004ea6bf6437d1b8c1eeef",
            "255d9b40b7ff46428cb1127bc1f20348",
            "6989a4001f9a4eb6a4f9eeece1b1f358",
            "7888968a004f40db8f5b22d2c101e0c5",
            "d30f18c0caa7406986f4fda952351ed9",
            "68cd1522a88842d48a22134c69b806ef",
            "e36a27a4e7384c38ab8e4a4d37eab5fe",
            "cbb99d85988c4b66b3d358b0bc8de764",
            "427368407c9443fc9e707a7ce6590067",
            "743dc29c5dc0472783ea362c7a419635",
            "7a8c6ea871a644c9b020c657fabcb0f7",
            "c5da6bfdd79449dd82a607f413bbccf0",
            "8c67d33f25404b40b7738af024de78a3",
            "8e6f76ad5cc342e3b4f29ed7896fe055",
            "54afd2f4dc3941108da6db315a1baecf",
            "87404e0da2044119aa60c1d712e5708c",
            "d913f3e7f0a24f49abe89fe94ffc777e",
            "7a12370800fc461da12998064adf3e15",
            "399163198dfb440f93455c50277b8b86",
            "28f0c192ad5748959da2ef18f79d5496",
            "a9388f49ec5a447087b4922add997930",
            "a132e8f15a8648f58bbc5f07b4142042",
            "d9a99d9e866a4da0ba9c5714e9e64b78",
            "bf1aee7a9b094b7fb3d466274bd5e1e2",
            "92ac9fe2757d4f66af158d6fbfa86870",
            "c6020b797dbb4513bf4a95c270df7f64",
            "a25807b9b20b4c9bbea41fcd758fb1ca",
            "7a78ae4332a54caeabb6a257aa830346",
            "768280e1ab9b4259973020becd8cc7c2",
            "5a618d744d6c4d6e9d6aec1f9bd0becf",
            "f32a1c7a72b747a8a10744d115f44ad5",
            "df7b4757acf04e0db5a0bc8f68f6cc55",
            "70806fe21e0d4a8999c4aa42c854241b",
            "5b192c858d2548c4844c2b9d432857d3",
            "fed8f24af9224153980fb9a154b3b7de",
            "c5c4197966514ca3ba61ad20a1da0271",
            "ef9ec9ac67fc48878f885a43bb5fec70",
            "e8ee55f81ee44cafb406df58556b6ff7",
            "83ae790c1cbf4f2eac908b4d076b90cf",
            "42a38bde729044b1bc36db1aa94fb7ae",
            "1c0ba0bfbd6d491ca4d222c24b906fbb",
            "2c5b68a5d9e94b909549c2efd242e191",
            "09f38a6ecc6c45bfab0a1fed7650a7ef",
            "698f38c5768441fbada620dfe9521119",
            "dc4d36c1290242e1875b662f7123f2cf",
            "d7c6dee034a6488a82ef3eae1c07c284",
            "3b303aca08a24fcdbc2c5ec021990bf1",
            "2a921a8dbd86409080eff7a4e37e9e28",
            "0c58fd93094949448869e8167955e8ea",
            "8f6b1e7c2c1d4de49e36d7818fbad34d",
            "50b9c86f709344aa8a25b4dc11f4eb23",
            "b5032a83e39149539719e3e4724330a1",
            "cea85dfee7db43c4a79fc2ce6cf222f4",
            "34a523e789164b2eab7b350bc4441066"
          ]
        },
        "id": "7FJEC53UzPRB",
        "outputId": "71e9a433-df08-46aa-832d-f55be482f614"
      },
      "outputs": [
        {
          "data": {
            "application/vnd.jupyter.widget-view+json": {
              "model_id": "df75745379fb45138aaf869e85806660",
              "version_major": 2,
              "version_minor": 0
            },
            "text/plain": [
              "  0%|          | 0/5 [00:00<?, ?it/s]"
            ]
          },
          "metadata": {},
          "output_type": "display_data"
        },
        {
          "data": {
            "application/vnd.jupyter.widget-view+json": {
              "model_id": "1785213621e64c2a9821d673fc181212",
              "version_major": 2,
              "version_minor": 0
            },
            "text/plain": [
              "  0%|          | 0/118 [00:00<?, ?it/s]"
            ]
          },
          "metadata": {},
          "output_type": "display_data"
        },
        {
          "name": "stdout",
          "output_type": "stream",
          "text": [
            "training loss: 2276.4241015911102 and  test loss: 2.8472776412963867\n"
          ]
        },
        {
          "data": {
            "application/vnd.jupyter.widget-view+json": {
              "model_id": "7a8c6ea871a644c9b020c657fabcb0f7",
              "version_major": 2,
              "version_minor": 0
            },
            "text/plain": [
              "  0%|          | 0/118 [00:00<?, ?it/s]"
            ]
          },
          "metadata": {},
          "output_type": "display_data"
        },
        {
          "name": "stdout",
          "output_type": "stream",
          "text": [
            "training loss: 2761.333009958267 and  test loss: 2.749746322631836\n"
          ]
        },
        {
          "data": {
            "application/vnd.jupyter.widget-view+json": {
              "model_id": "a132e8f15a8648f58bbc5f07b4142042",
              "version_major": 2,
              "version_minor": 0
            },
            "text/plain": [
              "  0%|          | 0/118 [00:00<?, ?it/s]"
            ]
          },
          "metadata": {},
          "output_type": "display_data"
        },
        {
          "name": "stdout",
          "output_type": "stream",
          "text": [
            "training loss: 318.5346608161926 and  test loss: 2.736936092376709\n"
          ]
        },
        {
          "data": {
            "application/vnd.jupyter.widget-view+json": {
              "model_id": "70806fe21e0d4a8999c4aa42c854241b",
              "version_major": 2,
              "version_minor": 0
            },
            "text/plain": [
              "  0%|          | 0/118 [00:00<?, ?it/s]"
            ]
          },
          "metadata": {},
          "output_type": "display_data"
        },
        {
          "name": "stdout",
          "output_type": "stream",
          "text": [
            "training loss: 346.27897119522095 and  test loss: 3.0111336708068848\n"
          ]
        },
        {
          "data": {
            "application/vnd.jupyter.widget-view+json": {
              "model_id": "698f38c5768441fbada620dfe9521119",
              "version_major": 2,
              "version_minor": 0
            },
            "text/plain": [
              "  0%|          | 0/118 [00:00<?, ?it/s]"
            ]
          },
          "metadata": {},
          "output_type": "display_data"
        },
        {
          "name": "stdout",
          "output_type": "stream",
          "text": [
            "training loss: 335.0207839012146 and  test loss: 2.687030792236328\n"
          ]
        }
      ],
      "source": [
        "epoch = 5\n",
        "tq = tqdm(range(epoch))\n",
        "\n",
        "desc = 0\n",
        "for i in tq:\n",
        "    tq.set_description(desc=f'epoch: {i} ==> training loss: {desc}    ')\n",
        "    training_loss = 0\n",
        "    test_loss = 0\n",
        "    for batch, target in tqdm(train_data_loader):\n",
        "        batch = batch.float().to(device)\n",
        "        target = target.to(device)\n",
        "\n",
        "        out = model(batch)\n",
        "        opt.zero_grad\n",
        "        loss = F.cross_entropy(out,target)\n",
        "        loss.backward()\n",
        "        training_loss += loss.item()\n",
        "        opt.step()\n",
        "\n",
        "    desc = training_loss\n",
        "\n",
        "    out_t = model(x_test.float().to(device))\n",
        "    test_loss = F.cross_entropy(out_t,y_test.to(device))\n",
        "    print(f'training loss: {training_loss} and  test loss: {test_loss}') \n"
      ]
    },
    {
      "cell_type": "code",
      "execution_count": null,
      "metadata": {
        "id": "HPr-lp3I2Nch"
      },
      "outputs": [],
      "source": [
        "output_1 = model(x_test[:2].float().to(device))"
      ]
    },
    {
      "cell_type": "code",
      "execution_count": null,
      "metadata": {
        "colab": {
          "base_uri": "https://localhost:8080/"
        },
        "id": "2oT5vpkb4bxX",
        "outputId": "dc7d8cb7-513d-4a07-d879-7f27fcbe820f"
      },
      "outputs": [
        {
          "data": {
            "text/plain": [
              "array([7, 7])"
            ]
          },
          "execution_count": 57,
          "metadata": {},
          "output_type": "execute_result"
        }
      ],
      "source": [
        "np.argmax(torch.softmax(output_1,dim=1).detach().cpu().numpy(), axis=1)"
      ]
    },
    {
      "cell_type": "code",
      "execution_count": null,
      "metadata": {
        "colab": {
          "base_uri": "https://localhost:8080/"
        },
        "id": "kJ-dA3eQ4el_",
        "outputId": "fd32d67a-c1be-48ff-e3fb-55a9c226a0b2"
      },
      "outputs": [
        {
          "data": {
            "text/plain": [
              "tensor([7, 2])"
            ]
          },
          "execution_count": 58,
          "metadata": {},
          "output_type": "execute_result"
        }
      ],
      "source": [
        "y_test[:2]"
      ]
    },
    {
      "cell_type": "markdown",
      "metadata": {
        "id": "nmqH9L3p5_rz"
      },
      "source": [
        "# CATS AND DOGS"
      ]
    },
    {
      "cell_type": "code",
      "execution_count": null,
      "metadata": {
        "colab": {
          "base_uri": "https://localhost:8080/"
        },
        "id": "YcgGimql7t3m",
        "outputId": "1c2fd2a8-1ad6-49c1-a3f7-33d1576c3926"
      },
      "outputs": [
        {
          "name": "stdout",
          "output_type": "stream",
          "text": [
            "Drive already mounted at /content/drive; to attempt to forcibly remount, call drive.mount(\"/content/drive\", force_remount=True).\n"
          ]
        }
      ],
      "source": [
        "from google.colab import drive\n",
        "drive.mount('/content/drive')"
      ]
    },
    {
      "cell_type": "code",
      "execution_count": null,
      "metadata": {
        "id": "xQ2k6K2L6BkE"
      },
      "outputs": [],
      "source": [
        "import torch\n",
        "import torch.nn as nn\n",
        "import torch.nn.functional as F\n",
        "from torch.optim import Adam\n",
        "from torch.utils.data import DataLoader, TensorDataset\n",
        "from torchvision import transforms, datasets\n",
        "import PIL\n",
        "import matplotlib.pyplot as plt\n",
        "from tqdm.auto import tqdm\n",
        "import numpy as np"
      ]
    },
    {
      "cell_type": "code",
      "execution_count": null,
      "metadata": {
        "id": "zfhITHyA8cul"
      },
      "outputs": [],
      "source": [
        "train_data_path = '/content/drive/MyDrive/Colab Notebooks/DEEPLEARNING_AI/Train/'\n",
        "test_data_path = '/content/drive/MyDrive/Colab Notebooks/DEEPLEARNING_AI/Test/'"
      ]
    },
    {
      "cell_type": "code",
      "execution_count": null,
      "metadata": {
        "colab": {
          "base_uri": "https://localhost:8080/",
          "height": 269
        },
        "id": "GPRMzaK7FeRV",
        "outputId": "1b04eca4-bed8-44d7-c5fb-90f72e5ce06c"
      },
      "outputs": [
        {
          "data": {
            "image/png": "[encoded data removed]",
            "text/plain": [
              "<Figure size 432x288 with 1 Axes>"
            ]
          },
          "metadata": {
            "needs_background": "light"
          },
          "output_type": "display_data"
        }
      ],
      "source": [
        "img_x = PIL.Image.open(train_data_path+'Cat/cat.0.jpg')\n",
        "plt.imshow(img_x)\n",
        "plt.show()"
      ]
    },
    {
      "cell_type": "code",
      "execution_count": null,
      "metadata": {
        "id": "mNocX3-UFxLz"
      },
      "outputs": [],
      "source": [
        "transformers = transforms.Compose(\n",
        "    [\n",
        "        transforms.Resize([128,128]),\n",
        "        transforms.ToTensor()\n",
        "    ]\n",
        ")"
      ]
    },
    {
      "cell_type": "code",
      "execution_count": null,
      "metadata": {
        "id": "pcCy15jGGTz2"
      },
      "outputs": [],
      "source": [
        "train_dataset = datasets.ImageFolder(train_data_path,transform=transformers)\n",
        "test_dataset = datasets.ImageFolder(test_data_path,transform=transformers)"
      ]
    },
    {
      "cell_type": "code",
      "execution_count": null,
      "metadata": {
        "id": "iiBTiOOzG2GZ"
      },
      "outputs": [],
      "source": [
        "train_data_loader = DataLoader(dataset=train_dataset,batch_size=64,shuffle=True)\n",
        "test_data_loader = DataLoader(dataset=test_dataset,batch_size=64,shuffle=True)"
      ]
    },
    {
      "cell_type": "code",
      "execution_count": null,
      "metadata": {
        "colab": {
          "base_uri": "https://localhost:8080/"
        },
        "id": "rzuigfOjGiPa",
        "outputId": "8a98515a-cfa9-4cc8-b97f-1fed2501c813"
      },
      "outputs": [
        {
          "name": "stdout",
          "output_type": "stream",
          "text": [
            "torch.Size([3, 128, 128]) torch.Size([])\n",
            "********************************************************************************\n",
            "tensor([[[0.4078, 0.4471, 0.5843,  ..., 0.6627, 0.6588, 0.6588],\n",
            "         [0.5059, 0.5255, 0.5412,  ..., 0.6784, 0.6627, 0.6706],\n",
            "         [0.5412, 0.5569, 0.5647,  ..., 0.6824, 0.6784, 0.6824],\n",
            "         ...,\n",
            "         [0.6157, 0.6157, 0.6118,  ..., 0.3765, 0.3804, 0.3373],\n",
            "         [0.6078, 0.6078, 0.5922,  ..., 0.3843, 0.3647, 0.3490],\n",
            "         [0.5765, 0.5882, 0.5451,  ..., 0.3804, 0.3490, 0.3373]],\n",
            "\n",
            "        [[0.0784, 0.1373, 0.2745,  ..., 0.6667, 0.6627, 0.6627],\n",
            "         [0.0627, 0.0863, 0.0980,  ..., 0.6824, 0.6667, 0.6745],\n",
            "         [0.0745, 0.0784, 0.0784,  ..., 0.6863, 0.6824, 0.6863],\n",
            "         ...,\n",
            "         [0.5255, 0.5255, 0.5255,  ..., 0.3333, 0.3294, 0.2863],\n",
            "         [0.5176, 0.5176, 0.5059,  ..., 0.3294, 0.3059, 0.2902],\n",
            "         [0.5020, 0.5098, 0.4667,  ..., 0.3098, 0.2863, 0.2745]],\n",
            "\n",
            "        [[0.0667, 0.1294, 0.2667,  ..., 0.6471, 0.6431, 0.6431],\n",
            "         [0.0510, 0.0784, 0.0863,  ..., 0.6588, 0.6471, 0.6549],\n",
            "         [0.0471, 0.0431, 0.0353,  ..., 0.6627, 0.6627, 0.6667],\n",
            "         ...,\n",
            "         [0.3529, 0.3490, 0.3373,  ..., 0.2471, 0.2510, 0.2118],\n",
            "         [0.3451, 0.3451, 0.3216,  ..., 0.2353, 0.2314, 0.2157],\n",
            "         [0.3216, 0.3412, 0.3020,  ..., 0.2196, 0.2000, 0.1922]]])\n"
          ]
        }
      ],
      "source": [
        "i = 0\n",
        "for data, target in train_data_loader:\n",
        "    print(data[0].shape, target[0].shape)\n",
        "\n",
        "    print('*'*80)\n",
        "    print(data[0])\n",
        "    i += 1\n",
        "\n",
        "    if i == 1:\n",
        "        break"
      ]
    },
    {
      "cell_type": "code",
      "execution_count": null,
      "metadata": {
        "id": "koOe7LLyHgqt"
      },
      "outputs": [],
      "source": [
        "torch.cuda.empty_cache()"
      ]
    },
    {
      "cell_type": "markdown",
      "metadata": {
        "id": "y4KHb0VH6tkd"
      },
      "source": [
        "## Deep learning model"
      ]
    },
    {
      "cell_type": "markdown",
      "metadata": {
        "id": "xFAvE9rY6tke"
      },
      "source": [
        "$$W_o = \\frac{W_{in} - K + 2P}{S} + 1$$"
      ]
    },
    {
      "cell_type": "markdown",
      "metadata": {
        "id": "O4oVTRFc6tke"
      },
      "source": [
        "$$For\\ the\\ first\\ layer $$ \n",
        "$$W_1 = \\frac{128 - 5 + 2*2}{1} + 1 = 128$$"
      ]
    },
    {
      "cell_type": "markdown",
      "metadata": {
        "id": "DIFnmLZn6tke"
      },
      "source": [
        "`Here we are not reducing the size of the image in the convolution layers, but it can be done by changing the kernel_size, stride or setting a padding`"
      ]
    },
    {
      "cell_type": "markdown",
      "metadata": {
        "id": "RGFu0erF6tkf"
      },
      "source": [
        "$$W_{in} = Input\\ dim\\ of\\ image \\\\ W_o = Output\\ dim\\ of\\ image \\\\ K = Kernel\\ size \\\\ P = Padding \\\\ S = Stride$$"
      ]
    },
    {
      "cell_type": "code",
      "execution_count": null,
      "metadata": {
        "id": "8H5HY7VYH2kG"
      },
      "outputs": [],
      "source": [
        "class catsAndDogs(nn.Module):\n",
        "\n",
        "\n",
        "    def __init__(self):\n",
        "        super(catsAndDogs,self).__init__()\n",
        "        self.c1 = None\n",
        "        \"\"\"\n",
        "        Convolution layers:\n",
        "\n",
        "        in_channels = no. of layers in the image when incoming to the convolution layer\n",
        "        kernel_size = size of convolution filter (k*k) \n",
        "        padding = no. of cells to leave at each size of the image\n",
        "        stride = the step by which the convolution filter moves, deafult = 1\n",
        "        out_channels = no. of layers in the image when outgoing from the convolution layer, i.e. no. of filters(convolution layers)\n",
        "\n",
        "\n",
        "        Batch normalization layers:\n",
        "\n",
        "        num_features = no. of channels in the image\n",
        "\n",
        "\n",
        "        Pooling layers:\n",
        "\n",
        "        kernel_size = the size of the matrix to be considered for taking pooling\n",
        "        stride = step size taken while moving the kernel\n",
        "\n",
        "        \"\"\"\n",
        "\n",
        "        self.bn1 = nn.BatchNorm2d(num_features=3)\n",
        "        self.conv1 = nn.Conv2d(in_channels=3,out_channels=16,kernel_size=3, padding=1,stride=1)\n",
        "\n",
        "        \"\"\"\n",
        "        No learning for pooling and dropout layers\n",
        "        \"\"\"\n",
        "        self.maxpool = nn.MaxPool2d(kernel_size=2,stride=2)\n",
        "        self.drop = nn.Dropout2d(p=0.3)\n",
        "\n",
        "        self.bn2 = nn.BatchNorm2d(num_features=16)\n",
        "        self.conv2 = nn.Conv2d(in_channels=16,out_channels=32,kernel_size=3, padding=1,stride=1)\n",
        "\n",
        "        self.bn3 = nn.BatchNorm2d(num_features=32)\n",
        "        self.conv3 = nn.Conv2d(in_channels=32,out_channels=64,kernel_size=3, padding=1,stride=1)\n",
        "\n",
        "        # self.bn4 = nn.BatchNorm2d(num_features=3)\n",
        "        # self.conv4 = nn.Conv2d(in_channels=64,out_channels=128,kernel_size=3, padding=1,stride=1)\n",
        "\n",
        "        # self.bn5 = nn.BatchNorm2d(num_features=3)\n",
        "        # self.conv5 = nn.Conv2d(in_channels=128,out_channels=256,kernel_size=3, padding=1,stride=1)\n",
        "\n",
        "        self.fc1 = nn.Linear(in_features=64*16*16, out_features=64)\n",
        "        self.fc2 = nn.Linear(in_features=64, out_features=32)\n",
        "        self.fc3 = nn.Linear(in_features=32, out_features=2)\n",
        "    \n",
        "\n",
        "    def forward(self,x):\n",
        "\n",
        "        x = self.bn1(x)\n",
        "        x = self.conv1(x)\n",
        "        x = F.relu(x)\n",
        "        self.c1 = x\n",
        "        x = self.maxpool(x)\n",
        "\n",
        "        x = self.bn2(x)\n",
        "        x = self.conv2(x)\n",
        "        x = F.relu(x)\n",
        "        x = self.maxpool(x)\n",
        "\n",
        "        x = self.bn3(x)\n",
        "        x = self.conv3(x)\n",
        "        x = F.relu(x)\n",
        "        x = self.maxpool(x)\n",
        "\n",
        "        x = x.view(x.size()[0],-1)\n",
        "        x = self.fc1(x)\n",
        "        x = F.relu(x)\n",
        "        x = self.fc2(x)\n",
        "        x = F.relu(x)\n",
        "        x = self.fc3(x)\n",
        "\n",
        "        # x = F.softmax(x) # Does this required ?\n",
        "        return x\n"
      ]
    },
    {
      "cell_type": "code",
      "execution_count": null,
      "metadata": {
        "colab": {
          "base_uri": "https://localhost:8080/"
        },
        "id": "9xG1GEczMOXV",
        "outputId": "edf7466c-2e4e-4423-a8ef-aa7513ab38c4"
      },
      "outputs": [
        {
          "name": "stdout",
          "output_type": "stream",
          "text": [
            "Previous model deleted\n",
            "model created\n"
          ]
        }
      ],
      "source": [
        "device = torch.device('cpu')\n",
        "\n",
        "try:\n",
        "    del model\n",
        "except:\n",
        "    print('No model found')\n",
        "else:\n",
        "    print('Previous model deleted')\n",
        "finally:\n",
        "    model = catsAndDogs()\n",
        "    model = model.to(device)\n",
        "    print('model created')"
      ]
    },
    {
      "cell_type": "code",
      "execution_count": null,
      "metadata": {
        "id": "Sf6KqrXvMbzh"
      },
      "outputs": [],
      "source": [
        "# Train and validation Method\n",
        "\n",
        "def train(train_dataloader:DataLoader,\n",
        "          model:nn.Module,\n",
        "          optimizer:torch.optim.Optimizer,\n",
        "          epoch_idx:int):\n",
        "    \n",
        "    training_loss = np.array([])\n",
        "    training_accuracy = np.array([])\n",
        "\n",
        "    for train_idx, (data, target) in enumerate(tqdm(train_dataloader)):\n",
        "\n",
        "        data = data.to(device)\n",
        "        target = target.to(device)\n",
        "\n",
        "        out = model(data)\n",
        "        loss = F.cross_entropy(out,target)\n",
        "\n",
        "        loss.backward()\n",
        "        optimizer.step()\n",
        "        optimizer.zero_grad()\n",
        "\n",
        "        training_loss = np.append(training_loss, loss.item())\n",
        "\n",
        "        out_prob = F.softmax(out)\n",
        "        pred = out_prob.argmax(axis=1)\n",
        "        correct = pred.cpu().eq(target.cpu()).sum()\n",
        "        acc = float(correct)/float(len(target))\n",
        "\n",
        "        training_accuracy = np.append(training_accuracy,acc)\n",
        "\n",
        "        if train_idx%100 == 0:\n",
        "            print(f\"Training epoch {epoch_idx} Training loss: {loss.item()} Training accuracy: {acc}\")\n",
        "\n",
        "    return training_loss.sum(), training_accuracy.mean()"
      ]
    },
    {
      "cell_type": "code",
      "execution_count": null,
      "metadata": {
        "id": "JHoUrH2RPAkV"
      },
      "outputs": [],
      "source": [
        "def validate(test_dataloader:DataLoader,\n",
        "             model:nn.Module):\n",
        "    \n",
        "    val_loss = np.array([])\n",
        "    val_accuracy = np.array([])\n",
        "\n",
        "    for val_idx, (data, target) in enumerate(test_dataloader):\n",
        "\n",
        "        data = data.to(device)\n",
        "        target = target.to(device)\n",
        "\n",
        "        out = model(data)\n",
        "        loss = F.cross_entropy(out,target)\n",
        "\n",
        "\n",
        "        val_loss = np.append(val_loss, loss.item())\n",
        "\n",
        "        out_prob = F.softmax(out)\n",
        "        pred = out_prob.argmax(axis=1)\n",
        "        correct = pred.cpu().eq(target.cpu()).sum()\n",
        "        acc = float(correct)/float(len(target))\n",
        "\n",
        "        val_accuracy = np.append(val_accuracy,acc)\n",
        "\n",
        "        if val_idx%100 == 0:\n",
        "            print(f\"Validation loss: {loss.item()} Validation accuracy: {acc}\")\n",
        "\n",
        "    return val_loss.sum(), val_loss.mean()"
      ]
    },
    {
      "cell_type": "code",
      "execution_count": null,
      "metadata": {
        "colab": {
          "base_uri": "https://localhost:8080/",
          "height": 763,
          "referenced_widgets": [
            "6c1aed62e4424b64b47f22d833f35188",
            "e3435bc6bdce4134a8d522861a4ae4ab",
            "fcb34b2801c946678c88ff95b998fae3",
            "331a77f83ddc45cda3d40eda146f9a94",
            "3c67987f6137499185ce53348febc78a",
            "1605451e25b9485c9499a001b8259bef",
            "815ac39f6fc94fa1890179752a6f4aad",
            "bda8d306f96245f5a5683303514fc5e2",
            "8a7d63270c6349efb0a163a17494cc84",
            "c5e4408ca3e64dc4b35d1d539eb79ba9",
            "0d6d2c17f31b49cbbc2002481b1bf4c6",
            "2b4c6b1b9ea14eaaae6a2c35dddbaa28",
            "5ab027a9dc2e4c0289159a62616875f6",
            "4dfc5c3f69e04ae6af0a3f30cc87b44a",
            "83ba589a9a344f02a4eb13bb3533e286",
            "c5a568e9be5549f7862f9bac33c27be9",
            "6d88c270f7684b56a28c4b51db3e460b",
            "151d285a31a34303802fcf00b8a3ca9a",
            "d4797dfae4db4d57aeb3876a460cc986",
            "b2bef5c36a9748d4b55bea17eea4731e",
            "d4e09c81612c4143bb72df266bcf2837",
            "a4dcc580b94b43079e2ff7a2a61a0994",
            "a8b04ef5d3a446fda65c0c060254dde6",
            "22c9cf694c48425e82eaf7c36db67b30",
            "dde20482879548c8b114c3f086899191",
            "8ea87e65046e4839b56f57131eda74bf",
            "682cddcbf0434fce99803c058c427379",
            "e330915318674e209e3930981a90d7a9",
            "6455a0433a774e25b8ce148a72808b0d",
            "13daebeabfe4455fa09c86052a448bd9",
            "8ae75ccca4e64efd8551c0b5e968e0c9",
            "9ec8d93f6ccc4c26b156a0a3835f3d17",
            "c23a11e8d4124b31b678fea1130eea22",
            "74a0c14e658040ed8d7874864f84707b",
            "53293dc4e85a490c8bf2454204144e21",
            "49c8e17539b4499098aec7e43af25107",
            "86615c396f494e91b978e887903cd774",
            "e677674d202e4972914369ed9f359400",
            "beeee14a485942aa8bfad303bd85d0cf",
            "21266506204a4037ae8660fa829cd59e",
            "088c7adcd0a84a95a8ecd4107ff03577",
            "2c554b572ef049a8aa0c043311ff1e45",
            "9a0cefe0ccce42fb858b3defda5d21dd",
            "37a1a51d368b4968873feb88fe28c125",
            "173bc0dc8db947e2b1193c4867015c15",
            "81f40c4130b0422aa7dba84b2a19c39b",
            "445ac49cfd464a7fa3c7824b88cf793f",
            "36a7dcbacfcf42c08344f0d38d9ebf3c",
            "6cf07a74f45e426397cf7e662395f7e7",
            "5305f1f14fbe4701bdd873579b8fddac",
            "bfd2016b4102488d809ad88396293f10",
            "6a6d732e1a8042919ae82b57e74bcd0c",
            "178398f9be8d418b8966fcae0ebbbf7b",
            "60e855c03145422e97c8ab37473655f1",
            "85da441232834505aafd91877dd5fc34",
            "9a29237575994982b284acf593a396cb",
            "f4efffa268b64d3e9e24e6f87ec63cdb",
            "8b7367c2a85e447588d4b61cd2640cba",
            "74bdfcfdedce41019723e44c9a029a24",
            "87fd61a7ac1d488b9a3c8c76c96640b9",
            "fdfaf67468a04b368872690b074c1f28",
            "e90af47c5c3847f485d32c1f73801e6d",
            "4468558157d94f35b6185d6a6e95c0c7",
            "6c2021b3b09f484d83a5f6b6bea6ea36",
            "bd32bc8486a6435b99ecec896580a6c0",
            "b90a02983f2b4b0c909dbeb71dcb85d1",
            "0355c41d17724dbf9411d096c9063d63",
            "dc6810171ff042c8a90c7af16cb79a62",
            "1dc009fdc44543e9b4ef176b67467188",
            "b883b35237a5479db15db87b0b7e5dae",
            "1cd2fd5719f34503b6c4a88be28d3198",
            "0faec364dba1431687fb147608c88b88",
            "b097d4b8046b4811a8109665e8c31bcb",
            "e8423e1d1b6e4fec8ab93dd3d372e830",
            "401af115a0d248449c9261be1953df66",
            "16a5fa3b007644ceb3acd7a8e53bf886",
            "a6b465d25839467f9d26b8a99c0269a3",
            "23a08ca81bff4fe2a48afd2143f265df",
            "887400c052d84c45b465dd4162e5cbf8",
            "c14a524c9f744855ac5d4c59a2938a87",
            "c8b0f02633244153a3312583f9d833bb",
            "51e5041dc11c4081b08f7b9b65fdabfd",
            "af63b4dc12634b99ab4bd39a26b90154",
            "cac8e638a10147879e0c820fd9951837",
            "d47a816d3a6044d596f023d4436d9c9a",
            "c31d349928b04a91960879f23dcc1e0d",
            "6b2c8e98fe4a4fb18d0738fe28acc802",
            "cb40d4d25ed94a359e5bde5bc2507e7c",
            "ceba4667fc3b4ad392c7b4c1ee87ce48",
            "0e507bd6864c40d0bcdab277f91d23b5",
            "f8af8824849d43428fd63129c498a080",
            "cc81378d25024821ad6facc567faae73",
            "7b4274c0c9e94dc58014e551c2de82f7",
            "b617fd931cf9445794deb3069e7d6979",
            "62da680cd1594662897c710603e4153d",
            "34ae8779a4774356ac7ab20cc2bff095",
            "5a40b9546ef2452cb729411fc22c64b0",
            "5e1a34f30e5d46449935a6f41684788d",
            "58d877dc01fd4733a5ece97096b46a19",
            "407f0a61283348009a923874fae290b8",
            "e3e246b023004f63b5cf15b6584ffe22",
            "aa95a99db583426dad0ccc9aeac4fa30",
            "b4575ce02152483b81b1c840007e4e90",
            "f637e555cf334de4b5189b48aa6bf814",
            "30176967d7d64e629d3715df2a5ac31b",
            "61638aa6976548c19f649bd5570d91ce",
            "133d9ec8f9dd4d998bb5c873ec2c2add",
            "4fbd30fd6d7c4e988c8ae3fd5829b6b8",
            "d527aca70c4b4ae4ae0bd057ec4c49f2",
            "af2fb00d333346119fd59597948a9c0a",
            "5783fda541ad4dd5850714653789b032",
            "2caec280933e48808ced5ff13b38754c",
            "81e8464b063846769a77e2c15fef7e00",
            "1149d13e8adb4423b36daae6de359e39",
            "e2828459004949b9bfa067e962bf8eed",
            "297103a1212149ad9a133b19744e9068",
            "42e9c988951b41beaffde5705436c39c",
            "577e8b0e76d242f89e3dc963dbf8f39e",
            "950ed35e062e407685d7bbcf5c122d99",
            "380d562f242c416ab83f8653cbb61ca7",
            "4edd9cdeacfa45208ea0c0b0a01b6450"
          ]
        },
        "id": "lTq15nTWPj8R",
        "outputId": "4b8074f6-4768-42bf-8a46-8ba3e0b67113"
      },
      "outputs": [
        {
          "data": {
            "application/vnd.jupyter.widget-view+json": {
              "model_id": "6c1aed62e4424b64b47f22d833f35188",
              "version_major": 2,
              "version_minor": 0
            },
            "text/plain": [
              "  0%|          | 0/10 [00:00<?, ?it/s]"
            ]
          },
          "metadata": {},
          "output_type": "display_data"
        },
        {
          "data": {
            "application/vnd.jupyter.widget-view+json": {
              "model_id": "2b4c6b1b9ea14eaaae6a2c35dddbaa28",
              "version_major": 2,
              "version_minor": 0
            },
            "text/plain": [
              "  0%|          | 0/29 [00:00<?, ?it/s]"
            ]
          },
          "metadata": {},
          "output_type": "display_data"
        },
        {
          "name": "stderr",
          "output_type": "stream",
          "text": [
            "/usr/local/lib/python3.7/dist-packages/ipykernel_launcher.py:25: UserWarning: Implicit dimension choice for softmax has been deprecated. Change the call to include dim=X as an argument.\n"
          ]
        },
        {
          "name": "stdout",
          "output_type": "stream",
          "text": [
            "Training epoch 0 Training loss: 0.6111360192298889 Training accuracy: 0.671875\n"
          ]
        },
        {
          "name": "stderr",
          "output_type": "stream",
          "text": [
            "/usr/local/lib/python3.7/dist-packages/ipykernel_launcher.py:18: UserWarning: Implicit dimension choice for softmax has been deprecated. Change the call to include dim=X as an argument.\n"
          ]
        },
        {
          "name": "stdout",
          "output_type": "stream",
          "text": [
            "Validation loss: 0.5762143731117249 Validation accuracy: 0.75\n"
          ]
        },
        {
          "data": {
            "application/vnd.jupyter.widget-view+json": {
              "model_id": "a8b04ef5d3a446fda65c0c060254dde6",
              "version_major": 2,
              "version_minor": 0
            },
            "text/plain": [
              "  0%|          | 0/29 [00:00<?, ?it/s]"
            ]
          },
          "metadata": {},
          "output_type": "display_data"
        },
        {
          "name": "stdout",
          "output_type": "stream",
          "text": [
            "Training epoch 1 Training loss: 0.5761741399765015 Training accuracy: 0.6875\n",
            "Validation loss: 0.5435149669647217 Validation accuracy: 0.734375\n"
          ]
        },
        {
          "data": {
            "application/vnd.jupyter.widget-view+json": {
              "model_id": "74a0c14e658040ed8d7874864f84707b",
              "version_major": 2,
              "version_minor": 0
            },
            "text/plain": [
              "  0%|          | 0/29 [00:00<?, ?it/s]"
            ]
          },
          "metadata": {},
          "output_type": "display_data"
        },
        {
          "name": "stdout",
          "output_type": "stream",
          "text": [
            "Training epoch 2 Training loss: 0.5442204475402832 Training accuracy: 0.6875\n",
            "Validation loss: 0.3827785551548004 Validation accuracy: 0.84375\n"
          ]
        },
        {
          "data": {
            "application/vnd.jupyter.widget-view+json": {
              "model_id": "173bc0dc8db947e2b1193c4867015c15",
              "version_major": 2,
              "version_minor": 0
            },
            "text/plain": [
              "  0%|          | 0/29 [00:00<?, ?it/s]"
            ]
          },
          "metadata": {},
          "output_type": "display_data"
        },
        {
          "name": "stdout",
          "output_type": "stream",
          "text": [
            "Training epoch 3 Training loss: 0.40693485736846924 Training accuracy: 0.8125\n",
            "Validation loss: 0.35879582166671753 Validation accuracy: 0.859375\n"
          ]
        },
        {
          "data": {
            "application/vnd.jupyter.widget-view+json": {
              "model_id": "9a29237575994982b284acf593a396cb",
              "version_major": 2,
              "version_minor": 0
            },
            "text/plain": [
              "  0%|          | 0/29 [00:00<?, ?it/s]"
            ]
          },
          "metadata": {},
          "output_type": "display_data"
        },
        {
          "name": "stdout",
          "output_type": "stream",
          "text": [
            "Training epoch 4 Training loss: 0.37835994362831116 Training accuracy: 0.859375\n",
            "Validation loss: 0.2873409688472748 Validation accuracy: 0.8125\n"
          ]
        },
        {
          "data": {
            "application/vnd.jupyter.widget-view+json": {
              "model_id": "0355c41d17724dbf9411d096c9063d63",
              "version_major": 2,
              "version_minor": 0
            },
            "text/plain": [
              "  0%|          | 0/29 [00:00<?, ?it/s]"
            ]
          },
          "metadata": {},
          "output_type": "display_data"
        },
        {
          "name": "stdout",
          "output_type": "stream",
          "text": [
            "Training epoch 5 Training loss: 0.30932873487472534 Training accuracy: 0.8125\n",
            "Validation loss: 0.4155654013156891 Validation accuracy: 0.78125\n"
          ]
        },
        {
          "data": {
            "application/vnd.jupyter.widget-view+json": {
              "model_id": "23a08ca81bff4fe2a48afd2143f265df",
              "version_major": 2,
              "version_minor": 0
            },
            "text/plain": [
              "  0%|          | 0/29 [00:00<?, ?it/s]"
            ]
          },
          "metadata": {},
          "output_type": "display_data"
        },
        {
          "name": "stdout",
          "output_type": "stream",
          "text": [
            "Training epoch 6 Training loss: 0.4213915169239044 Training accuracy: 0.765625\n",
            "Validation loss: 0.21587887406349182 Validation accuracy: 0.921875\n"
          ]
        },
        {
          "data": {
            "application/vnd.jupyter.widget-view+json": {
              "model_id": "ceba4667fc3b4ad392c7b4c1ee87ce48",
              "version_major": 2,
              "version_minor": 0
            },
            "text/plain": [
              "  0%|          | 0/29 [00:00<?, ?it/s]"
            ]
          },
          "metadata": {},
          "output_type": "display_data"
        },
        {
          "name": "stdout",
          "output_type": "stream",
          "text": [
            "Training epoch 7 Training loss: 0.2331600785255432 Training accuracy: 0.890625\n",
            "Validation loss: 0.17808707058429718 Validation accuracy: 0.96875\n"
          ]
        },
        {
          "data": {
            "application/vnd.jupyter.widget-view+json": {
              "model_id": "407f0a61283348009a923874fae290b8",
              "version_major": 2,
              "version_minor": 0
            },
            "text/plain": [
              "  0%|          | 0/29 [00:00<?, ?it/s]"
            ]
          },
          "metadata": {},
          "output_type": "display_data"
        },
        {
          "name": "stdout",
          "output_type": "stream",
          "text": [
            "Training epoch 8 Training loss: 0.19601726531982422 Training accuracy: 0.890625\n",
            "Validation loss: 0.10215432196855545 Validation accuracy: 0.96875\n"
          ]
        },
        {
          "data": {
            "application/vnd.jupyter.widget-view+json": {
              "model_id": "5783fda541ad4dd5850714653789b032",
              "version_major": 2,
              "version_minor": 0
            },
            "text/plain": [
              "  0%|          | 0/29 [00:00<?, ?it/s]"
            ]
          },
          "metadata": {},
          "output_type": "display_data"
        },
        {
          "name": "stdout",
          "output_type": "stream",
          "text": [
            "Training epoch 9 Training loss: 0.09361539781093597 Training accuracy: 0.984375\n",
            "Validation loss: 0.09193636476993561 Validation accuracy: 0.96875\n"
          ]
        }
      ],
      "source": [
        "# Model training and evaluation\n",
        "training_perf = []\n",
        "validation_perf = []\n",
        "optimizer = Adam(params = model.parameters(), lr=0.001)\n",
        "\n",
        "\n",
        "for epoch in tqdm(range(10)):\n",
        "    train_loss, train_acc = train(train_dataloader=train_data_loader, model = model, optimizer=optimizer, epoch_idx=epoch)\n",
        "    val_loss, val_acc = validate(test_dataloader=test_data_loader, model = model)\n",
        "\n",
        "    training_perf.append((train_loss, train_acc))\n",
        "    validation_perf.append((val_loss, val_acc))"
      ]
    },
    {
      "cell_type": "code",
      "execution_count": null,
      "metadata": {
        "id": "jQBXbYJbP8po"
      },
      "outputs": [],
      "source": []
    },
    {
      "cell_type": "markdown",
      "metadata": {
        "id": "Zd5mwZrw6tkk"
      },
      "source": [
        "# Transfer learning using ResNet model"
      ]
    },
    {
      "cell_type": "code",
      "execution_count": null,
      "metadata": {
        "id": "blV_hjiI6tkk",
        "outputId": "98879d47-a3b2-4a31-d32d-6dd8c7fb724d"
      },
      "outputs": [
        {
          "name": "stderr",
          "output_type": "stream",
          "text": [
            "c:\\Users\\ADMIN\\Documents\\Codebase\\envs\\machine_L\\lib\\site-packages\\numpy\\_distributor_init.py:30: UserWarning: loaded more than 1 DLL from .libs:\n",
            "c:\\Users\\ADMIN\\Documents\\Codebase\\envs\\machine_L\\lib\\site-packages\\numpy\\.libs\\libopenblas.GK7GX5KEQ4F6UYO3P26ULGBQYHGQO7J4.gfortran-win_amd64.dll\n",
            "c:\\Users\\ADMIN\\Documents\\Codebase\\envs\\machine_L\\lib\\site-packages\\numpy\\.libs\\libopenblas.XWYDX2IKJW2NMTWSFYNGFUWKQU3LYTCZ.gfortran-win_amd64.dll\n",
            "  warnings.warn(\"loaded more than 1 DLL from .libs:\"\n"
          ]
        }
      ],
      "source": [
        "from torchvision.models import resnet50\n",
        "base_model = resnet50(pretrained=True, progress=False)"
      ]
    },
    {
      "cell_type": "code",
      "execution_count": null,
      "metadata": {
        "id": "V3vFb8356tkk",
        "outputId": "79a06b42-4386-4718-9b50-9bf954aeadc1"
      },
      "outputs": [
        {
          "name": "stdout",
          "output_type": "stream",
          "text": [
            "torch.Size([64, 3, 7, 7])\n",
            "torch.Size([64])\n",
            "torch.Size([64])\n",
            "torch.Size([64, 64, 1, 1])\n",
            "torch.Size([64])\n",
            "torch.Size([64])\n",
            "torch.Size([64, 64, 3, 3])\n",
            "torch.Size([64])\n",
            "torch.Size([64])\n",
            "torch.Size([256, 64, 1, 1])\n",
            "torch.Size([256])\n",
            "torch.Size([256])\n",
            "torch.Size([256, 64, 1, 1])\n",
            "torch.Size([256])\n",
            "torch.Size([256])\n",
            "torch.Size([64, 256, 1, 1])\n",
            "torch.Size([64])\n",
            "torch.Size([64])\n",
            "torch.Size([64, 64, 3, 3])\n",
            "torch.Size([64])\n",
            "torch.Size([64])\n",
            "torch.Size([256, 64, 1, 1])\n",
            "torch.Size([256])\n",
            "torch.Size([256])\n",
            "torch.Size([64, 256, 1, 1])\n",
            "torch.Size([64])\n",
            "torch.Size([64])\n",
            "torch.Size([64, 64, 3, 3])\n",
            "torch.Size([64])\n",
            "torch.Size([64])\n",
            "torch.Size([256, 64, 1, 1])\n",
            "torch.Size([256])\n",
            "torch.Size([256])\n",
            "torch.Size([128, 256, 1, 1])\n",
            "torch.Size([128])\n",
            "torch.Size([128])\n",
            "torch.Size([128, 128, 3, 3])\n",
            "torch.Size([128])\n",
            "torch.Size([128])\n",
            "torch.Size([512, 128, 1, 1])\n",
            "torch.Size([512])\n",
            "torch.Size([512])\n",
            "torch.Size([512, 256, 1, 1])\n",
            "torch.Size([512])\n",
            "torch.Size([512])\n",
            "torch.Size([128, 512, 1, 1])\n",
            "torch.Size([128])\n",
            "torch.Size([128])\n",
            "torch.Size([128, 128, 3, 3])\n",
            "torch.Size([128])\n",
            "torch.Size([128])\n",
            "torch.Size([512, 128, 1, 1])\n",
            "torch.Size([512])\n",
            "torch.Size([512])\n",
            "torch.Size([128, 512, 1, 1])\n",
            "torch.Size([128])\n",
            "torch.Size([128])\n",
            "torch.Size([128, 128, 3, 3])\n",
            "torch.Size([128])\n",
            "torch.Size([128])\n",
            "torch.Size([512, 128, 1, 1])\n",
            "torch.Size([512])\n",
            "torch.Size([512])\n",
            "torch.Size([128, 512, 1, 1])\n",
            "torch.Size([128])\n",
            "torch.Size([128])\n",
            "torch.Size([128, 128, 3, 3])\n",
            "torch.Size([128])\n",
            "torch.Size([128])\n",
            "torch.Size([512, 128, 1, 1])\n",
            "torch.Size([512])\n",
            "torch.Size([512])\n",
            "torch.Size([256, 512, 1, 1])\n",
            "torch.Size([256])\n",
            "torch.Size([256])\n",
            "torch.Size([256, 256, 3, 3])\n",
            "torch.Size([256])\n",
            "torch.Size([256])\n",
            "torch.Size([1024, 256, 1, 1])\n",
            "torch.Size([1024])\n",
            "torch.Size([1024])\n",
            "torch.Size([1024, 512, 1, 1])\n",
            "torch.Size([1024])\n",
            "torch.Size([1024])\n",
            "torch.Size([256, 1024, 1, 1])\n",
            "torch.Size([256])\n",
            "torch.Size([256])\n",
            "torch.Size([256, 256, 3, 3])\n",
            "torch.Size([256])\n",
            "torch.Size([256])\n",
            "torch.Size([1024, 256, 1, 1])\n",
            "torch.Size([1024])\n",
            "torch.Size([1024])\n",
            "torch.Size([256, 1024, 1, 1])\n",
            "torch.Size([256])\n",
            "torch.Size([256])\n",
            "torch.Size([256, 256, 3, 3])\n",
            "torch.Size([256])\n",
            "torch.Size([256])\n",
            "torch.Size([1024, 256, 1, 1])\n",
            "torch.Size([1024])\n",
            "torch.Size([1024])\n",
            "torch.Size([256, 1024, 1, 1])\n",
            "torch.Size([256])\n",
            "torch.Size([256])\n",
            "torch.Size([256, 256, 3, 3])\n",
            "torch.Size([256])\n",
            "torch.Size([256])\n",
            "torch.Size([1024, 256, 1, 1])\n",
            "torch.Size([1024])\n",
            "torch.Size([1024])\n",
            "torch.Size([256, 1024, 1, 1])\n",
            "torch.Size([256])\n",
            "torch.Size([256])\n",
            "torch.Size([256, 256, 3, 3])\n",
            "torch.Size([256])\n",
            "torch.Size([256])\n",
            "torch.Size([1024, 256, 1, 1])\n",
            "torch.Size([1024])\n",
            "torch.Size([1024])\n",
            "torch.Size([256, 1024, 1, 1])\n",
            "torch.Size([256])\n",
            "torch.Size([256])\n",
            "torch.Size([256, 256, 3, 3])\n",
            "torch.Size([256])\n",
            "torch.Size([256])\n",
            "torch.Size([1024, 256, 1, 1])\n",
            "torch.Size([1024])\n",
            "torch.Size([1024])\n",
            "torch.Size([512, 1024, 1, 1])\n",
            "torch.Size([512])\n",
            "torch.Size([512])\n",
            "torch.Size([512, 512, 3, 3])\n",
            "torch.Size([512])\n",
            "torch.Size([512])\n",
            "torch.Size([2048, 512, 1, 1])\n",
            "torch.Size([2048])\n",
            "torch.Size([2048])\n",
            "torch.Size([2048, 1024, 1, 1])\n",
            "torch.Size([2048])\n",
            "torch.Size([2048])\n",
            "torch.Size([512, 2048, 1, 1])\n",
            "torch.Size([512])\n",
            "torch.Size([512])\n",
            "torch.Size([512, 512, 3, 3])\n",
            "torch.Size([512])\n",
            "torch.Size([512])\n",
            "torch.Size([2048, 512, 1, 1])\n",
            "torch.Size([2048])\n",
            "torch.Size([2048])\n",
            "torch.Size([512, 2048, 1, 1])\n",
            "torch.Size([512])\n",
            "torch.Size([512])\n",
            "torch.Size([512, 512, 3, 3])\n",
            "torch.Size([512])\n",
            "torch.Size([512])\n",
            "torch.Size([2048, 512, 1, 1])\n",
            "torch.Size([2048])\n",
            "torch.Size([2048])\n",
            "torch.Size([1000, 2048])\n",
            "torch.Size([1000])\n"
          ]
        }
      ],
      "source": [
        "for param in base_model.parameters():\n",
        "    print(param.size())\n",
        "    param.requires_grad=False           #Freezing the weight parameters of the resnet model so that they are not updated during training"
      ]
    },
    {
      "cell_type": "code",
      "execution_count": null,
      "metadata": {
        "id": "1GPhS_Ix6tkl"
      },
      "outputs": [],
      "source": [
        "in_features = base_model.fc.in_features"
      ]
    },
    {
      "cell_type": "code",
      "execution_count": null,
      "metadata": {
        "id": "uerDX97J6tkl",
        "outputId": "831e9eae-e048-4533-8abc-184a52ecfe3c"
      },
      "outputs": [
        {
          "data": {
            "text/plain": [
              "2048"
            ]
          },
          "execution_count": 26,
          "metadata": {},
          "output_type": "execute_result"
        }
      ],
      "source": [
        "in_features"
      ]
    },
    {
      "cell_type": "code",
      "execution_count": null,
      "metadata": {
        "id": "LPwZssyk6tkl",
        "outputId": "bb751bd3-22c8-4111-b083-a15c9ea70c80"
      },
      "outputs": [
        {
          "data": {
            "text/plain": [
              "[Conv2d(3, 64, kernel_size=(7, 7), stride=(2, 2), padding=(3, 3), bias=False),\n",
              " BatchNorm2d(64, eps=1e-05, momentum=0.1, affine=True, track_running_stats=True),\n",
              " ReLU(inplace=True),\n",
              " MaxPool2d(kernel_size=3, stride=2, padding=1, dilation=1, ceil_mode=False),\n",
              " Sequential(\n",
              "   (0): Bottleneck(\n",
              "     (conv1): Conv2d(64, 64, kernel_size=(1, 1), stride=(1, 1), bias=False)\n",
              "     (bn1): BatchNorm2d(64, eps=1e-05, momentum=0.1, affine=True, track_running_stats=True)\n",
              "     (conv2): Conv2d(64, 64, kernel_size=(3, 3), stride=(1, 1), padding=(1, 1), bias=False)\n",
              "     (bn2): BatchNorm2d(64, eps=1e-05, momentum=0.1, affine=True, track_running_stats=True)\n",
              "     (conv3): Conv2d(64, 256, kernel_size=(1, 1), stride=(1, 1), bias=False)\n",
              "     (bn3): BatchNorm2d(256, eps=1e-05, momentum=0.1, affine=True, track_running_stats=True)\n",
              "     (relu): ReLU(inplace=True)\n",
              "     (downsample): Sequential(\n",
              "       (0): Conv2d(64, 256, kernel_size=(1, 1), stride=(1, 1), bias=False)\n",
              "       (1): BatchNorm2d(256, eps=1e-05, momentum=0.1, affine=True, track_running_stats=True)\n",
              "     )\n",
              "   )\n",
              "   (1): Bottleneck(\n",
              "     (conv1): Conv2d(256, 64, kernel_size=(1, 1), stride=(1, 1), bias=False)\n",
              "     (bn1): BatchNorm2d(64, eps=1e-05, momentum=0.1, affine=True, track_running_stats=True)\n",
              "     (conv2): Conv2d(64, 64, kernel_size=(3, 3), stride=(1, 1), padding=(1, 1), bias=False)\n",
              "     (bn2): BatchNorm2d(64, eps=1e-05, momentum=0.1, affine=True, track_running_stats=True)\n",
              "     (conv3): Conv2d(64, 256, kernel_size=(1, 1), stride=(1, 1), bias=False)\n",
              "     (bn3): BatchNorm2d(256, eps=1e-05, momentum=0.1, affine=True, track_running_stats=True)\n",
              "     (relu): ReLU(inplace=True)\n",
              "   )\n",
              "   (2): Bottleneck(\n",
              "     (conv1): Conv2d(256, 64, kernel_size=(1, 1), stride=(1, 1), bias=False)\n",
              "     (bn1): BatchNorm2d(64, eps=1e-05, momentum=0.1, affine=True, track_running_stats=True)\n",
              "     (conv2): Conv2d(64, 64, kernel_size=(3, 3), stride=(1, 1), padding=(1, 1), bias=False)\n",
              "     (bn2): BatchNorm2d(64, eps=1e-05, momentum=0.1, affine=True, track_running_stats=True)\n",
              "     (conv3): Conv2d(64, 256, kernel_size=(1, 1), stride=(1, 1), bias=False)\n",
              "     (bn3): BatchNorm2d(256, eps=1e-05, momentum=0.1, affine=True, track_running_stats=True)\n",
              "     (relu): ReLU(inplace=True)\n",
              "   )\n",
              " ),\n",
              " Sequential(\n",
              "   (0): Bottleneck(\n",
              "     (conv1): Conv2d(256, 128, kernel_size=(1, 1), stride=(1, 1), bias=False)\n",
              "     (bn1): BatchNorm2d(128, eps=1e-05, momentum=0.1, affine=True, track_running_stats=True)\n",
              "     (conv2): Conv2d(128, 128, kernel_size=(3, 3), stride=(2, 2), padding=(1, 1), bias=False)\n",
              "     (bn2): BatchNorm2d(128, eps=1e-05, momentum=0.1, affine=True, track_running_stats=True)\n",
              "     (conv3): Conv2d(128, 512, kernel_size=(1, 1), stride=(1, 1), bias=False)\n",
              "     (bn3): BatchNorm2d(512, eps=1e-05, momentum=0.1, affine=True, track_running_stats=True)\n",
              "     (relu): ReLU(inplace=True)\n",
              "     (downsample): Sequential(\n",
              "       (0): Conv2d(256, 512, kernel_size=(1, 1), stride=(2, 2), bias=False)\n",
              "       (1): BatchNorm2d(512, eps=1e-05, momentum=0.1, affine=True, track_running_stats=True)\n",
              "     )\n",
              "   )\n",
              "   (1): Bottleneck(\n",
              "     (conv1): Conv2d(512, 128, kernel_size=(1, 1), stride=(1, 1), bias=False)\n",
              "     (bn1): BatchNorm2d(128, eps=1e-05, momentum=0.1, affine=True, track_running_stats=True)\n",
              "     (conv2): Conv2d(128, 128, kernel_size=(3, 3), stride=(1, 1), padding=(1, 1), bias=False)\n",
              "     (bn2): BatchNorm2d(128, eps=1e-05, momentum=0.1, affine=True, track_running_stats=True)\n",
              "     (conv3): Conv2d(128, 512, kernel_size=(1, 1), stride=(1, 1), bias=False)\n",
              "     (bn3): BatchNorm2d(512, eps=1e-05, momentum=0.1, affine=True, track_running_stats=True)\n",
              "     (relu): ReLU(inplace=True)\n",
              "   )\n",
              "   (2): Bottleneck(\n",
              "     (conv1): Conv2d(512, 128, kernel_size=(1, 1), stride=(1, 1), bias=False)\n",
              "     (bn1): BatchNorm2d(128, eps=1e-05, momentum=0.1, affine=True, track_running_stats=True)\n",
              "     (conv2): Conv2d(128, 128, kernel_size=(3, 3), stride=(1, 1), padding=(1, 1), bias=False)\n",
              "     (bn2): BatchNorm2d(128, eps=1e-05, momentum=0.1, affine=True, track_running_stats=True)\n",
              "     (conv3): Conv2d(128, 512, kernel_size=(1, 1), stride=(1, 1), bias=False)\n",
              "     (bn3): BatchNorm2d(512, eps=1e-05, momentum=0.1, affine=True, track_running_stats=True)\n",
              "     (relu): ReLU(inplace=True)\n",
              "   )\n",
              "   (3): Bottleneck(\n",
              "     (conv1): Conv2d(512, 128, kernel_size=(1, 1), stride=(1, 1), bias=False)\n",
              "     (bn1): BatchNorm2d(128, eps=1e-05, momentum=0.1, affine=True, track_running_stats=True)\n",
              "     (conv2): Conv2d(128, 128, kernel_size=(3, 3), stride=(1, 1), padding=(1, 1), bias=False)\n",
              "     (bn2): BatchNorm2d(128, eps=1e-05, momentum=0.1, affine=True, track_running_stats=True)\n",
              "     (conv3): Conv2d(128, 512, kernel_size=(1, 1), stride=(1, 1), bias=False)\n",
              "     (bn3): BatchNorm2d(512, eps=1e-05, momentum=0.1, affine=True, track_running_stats=True)\n",
              "     (relu): ReLU(inplace=True)\n",
              "   )\n",
              " ),\n",
              " Sequential(\n",
              "   (0): Bottleneck(\n",
              "     (conv1): Conv2d(512, 256, kernel_size=(1, 1), stride=(1, 1), bias=False)\n",
              "     (bn1): BatchNorm2d(256, eps=1e-05, momentum=0.1, affine=True, track_running_stats=True)\n",
              "     (conv2): Conv2d(256, 256, kernel_size=(3, 3), stride=(2, 2), padding=(1, 1), bias=False)\n",
              "     (bn2): BatchNorm2d(256, eps=1e-05, momentum=0.1, affine=True, track_running_stats=True)\n",
              "     (conv3): Conv2d(256, 1024, kernel_size=(1, 1), stride=(1, 1), bias=False)\n",
              "     (bn3): BatchNorm2d(1024, eps=1e-05, momentum=0.1, affine=True, track_running_stats=True)\n",
              "     (relu): ReLU(inplace=True)\n",
              "     (downsample): Sequential(\n",
              "       (0): Conv2d(512, 1024, kernel_size=(1, 1), stride=(2, 2), bias=False)\n",
              "       (1): BatchNorm2d(1024, eps=1e-05, momentum=0.1, affine=True, track_running_stats=True)\n",
              "     )\n",
              "   )\n",
              "   (1): Bottleneck(\n",
              "     (conv1): Conv2d(1024, 256, kernel_size=(1, 1), stride=(1, 1), bias=False)\n",
              "     (bn1): BatchNorm2d(256, eps=1e-05, momentum=0.1, affine=True, track_running_stats=True)\n",
              "     (conv2): Conv2d(256, 256, kernel_size=(3, 3), stride=(1, 1), padding=(1, 1), bias=False)\n",
              "     (bn2): BatchNorm2d(256, eps=1e-05, momentum=0.1, affine=True, track_running_stats=True)\n",
              "     (conv3): Conv2d(256, 1024, kernel_size=(1, 1), stride=(1, 1), bias=False)\n",
              "     (bn3): BatchNorm2d(1024, eps=1e-05, momentum=0.1, affine=True, track_running_stats=True)\n",
              "     (relu): ReLU(inplace=True)\n",
              "   )\n",
              "   (2): Bottleneck(\n",
              "     (conv1): Conv2d(1024, 256, kernel_size=(1, 1), stride=(1, 1), bias=False)\n",
              "     (bn1): BatchNorm2d(256, eps=1e-05, momentum=0.1, affine=True, track_running_stats=True)\n",
              "     (conv2): Conv2d(256, 256, kernel_size=(3, 3), stride=(1, 1), padding=(1, 1), bias=False)\n",
              "     (bn2): BatchNorm2d(256, eps=1e-05, momentum=0.1, affine=True, track_running_stats=True)\n",
              "     (conv3): Conv2d(256, 1024, kernel_size=(1, 1), stride=(1, 1), bias=False)\n",
              "     (bn3): BatchNorm2d(1024, eps=1e-05, momentum=0.1, affine=True, track_running_stats=True)\n",
              "     (relu): ReLU(inplace=True)\n",
              "   )\n",
              "   (3): Bottleneck(\n",
              "     (conv1): Conv2d(1024, 256, kernel_size=(1, 1), stride=(1, 1), bias=False)\n",
              "     (bn1): BatchNorm2d(256, eps=1e-05, momentum=0.1, affine=True, track_running_stats=True)\n",
              "     (conv2): Conv2d(256, 256, kernel_size=(3, 3), stride=(1, 1), padding=(1, 1), bias=False)\n",
              "     (bn2): BatchNorm2d(256, eps=1e-05, momentum=0.1, affine=True, track_running_stats=True)\n",
              "     (conv3): Conv2d(256, 1024, kernel_size=(1, 1), stride=(1, 1), bias=False)\n",
              "     (bn3): BatchNorm2d(1024, eps=1e-05, momentum=0.1, affine=True, track_running_stats=True)\n",
              "     (relu): ReLU(inplace=True)\n",
              "   )\n",
              "   (4): Bottleneck(\n",
              "     (conv1): Conv2d(1024, 256, kernel_size=(1, 1), stride=(1, 1), bias=False)\n",
              "     (bn1): BatchNorm2d(256, eps=1e-05, momentum=0.1, affine=True, track_running_stats=True)\n",
              "     (conv2): Conv2d(256, 256, kernel_size=(3, 3), stride=(1, 1), padding=(1, 1), bias=False)\n",
              "     (bn2): BatchNorm2d(256, eps=1e-05, momentum=0.1, affine=True, track_running_stats=True)\n",
              "     (conv3): Conv2d(256, 1024, kernel_size=(1, 1), stride=(1, 1), bias=False)\n",
              "     (bn3): BatchNorm2d(1024, eps=1e-05, momentum=0.1, affine=True, track_running_stats=True)\n",
              "     (relu): ReLU(inplace=True)\n",
              "   )\n",
              "   (5): Bottleneck(\n",
              "     (conv1): Conv2d(1024, 256, kernel_size=(1, 1), stride=(1, 1), bias=False)\n",
              "     (bn1): BatchNorm2d(256, eps=1e-05, momentum=0.1, affine=True, track_running_stats=True)\n",
              "     (conv2): Conv2d(256, 256, kernel_size=(3, 3), stride=(1, 1), padding=(1, 1), bias=False)\n",
              "     (bn2): BatchNorm2d(256, eps=1e-05, momentum=0.1, affine=True, track_running_stats=True)\n",
              "     (conv3): Conv2d(256, 1024, kernel_size=(1, 1), stride=(1, 1), bias=False)\n",
              "     (bn3): BatchNorm2d(1024, eps=1e-05, momentum=0.1, affine=True, track_running_stats=True)\n",
              "     (relu): ReLU(inplace=True)\n",
              "   )\n",
              " ),\n",
              " Sequential(\n",
              "   (0): Bottleneck(\n",
              "     (conv1): Conv2d(1024, 512, kernel_size=(1, 1), stride=(1, 1), bias=False)\n",
              "     (bn1): BatchNorm2d(512, eps=1e-05, momentum=0.1, affine=True, track_running_stats=True)\n",
              "     (conv2): Conv2d(512, 512, kernel_size=(3, 3), stride=(2, 2), padding=(1, 1), bias=False)\n",
              "     (bn2): BatchNorm2d(512, eps=1e-05, momentum=0.1, affine=True, track_running_stats=True)\n",
              "     (conv3): Conv2d(512, 2048, kernel_size=(1, 1), stride=(1, 1), bias=False)\n",
              "     (bn3): BatchNorm2d(2048, eps=1e-05, momentum=0.1, affine=True, track_running_stats=True)\n",
              "     (relu): ReLU(inplace=True)\n",
              "     (downsample): Sequential(\n",
              "       (0): Conv2d(1024, 2048, kernel_size=(1, 1), stride=(2, 2), bias=False)\n",
              "       (1): BatchNorm2d(2048, eps=1e-05, momentum=0.1, affine=True, track_running_stats=True)\n",
              "     )\n",
              "   )\n",
              "   (1): Bottleneck(\n",
              "     (conv1): Conv2d(2048, 512, kernel_size=(1, 1), stride=(1, 1), bias=False)\n",
              "     (bn1): BatchNorm2d(512, eps=1e-05, momentum=0.1, affine=True, track_running_stats=True)\n",
              "     (conv2): Conv2d(512, 512, kernel_size=(3, 3), stride=(1, 1), padding=(1, 1), bias=False)\n",
              "     (bn2): BatchNorm2d(512, eps=1e-05, momentum=0.1, affine=True, track_running_stats=True)\n",
              "     (conv3): Conv2d(512, 2048, kernel_size=(1, 1), stride=(1, 1), bias=False)\n",
              "     (bn3): BatchNorm2d(2048, eps=1e-05, momentum=0.1, affine=True, track_running_stats=True)\n",
              "     (relu): ReLU(inplace=True)\n",
              "   )\n",
              "   (2): Bottleneck(\n",
              "     (conv1): Conv2d(2048, 512, kernel_size=(1, 1), stride=(1, 1), bias=False)\n",
              "     (bn1): BatchNorm2d(512, eps=1e-05, momentum=0.1, affine=True, track_running_stats=True)\n",
              "     (conv2): Conv2d(512, 512, kernel_size=(3, 3), stride=(1, 1), padding=(1, 1), bias=False)\n",
              "     (bn2): BatchNorm2d(512, eps=1e-05, momentum=0.1, affine=True, track_running_stats=True)\n",
              "     (conv3): Conv2d(512, 2048, kernel_size=(1, 1), stride=(1, 1), bias=False)\n",
              "     (bn3): BatchNorm2d(2048, eps=1e-05, momentum=0.1, affine=True, track_running_stats=True)\n",
              "     (relu): ReLU(inplace=True)\n",
              "   )\n",
              " ),\n",
              " AdaptiveAvgPool2d(output_size=(1, 1)),\n",
              " Linear(in_features=2048, out_features=1000, bias=True)]"
            ]
          },
          "execution_count": 27,
          "metadata": {},
          "output_type": "execute_result"
        }
      ],
      "source": [
        "list(base_model.children())"
      ]
    },
    {
      "cell_type": "code",
      "execution_count": null,
      "metadata": {
        "id": "NxBwGFnD6tkm"
      },
      "outputs": [],
      "source": [
        "new_model_modules = list(base_model.children())[:-1]        #Taking all the layers except the last fully connected layer, because we are using 3 FC layers with different no. of class outputs\n",
        "new_model = torch.nn.Sequential(*new_model_modules)\n",
        "new_model = new_model.to(device)"
      ]
    },
    {
      "cell_type": "code",
      "execution_count": null,
      "metadata": {
        "id": "_y-n1wcq6tkm"
      },
      "outputs": [],
      "source": [
        "class resnetcatsanddogs(torch.nn.Module):\n",
        "\n",
        "    def __init__(self):\n",
        "\n",
        "        super(resnetcatsanddogs, self).__init__()\n",
        "        \n",
        "        self.fc1 = torch.nn.Linear(in_features=in_features, out_features=128*2)     # Here the in_features are the no. of outputs of the 2nd last layers of the resnet50 model\n",
        "        self.fc2 = torch.nn.Linear(in_features = 128*2, out_features = 64*2)\n",
        "        self.fc3 = torch.nn.Linear(in_features=64*2, out_features=2)\n",
        "\n",
        "    def forward(self,x):\n",
        "\n",
        "        x = new_model(x)            # The resnet50 model upto the 2nd last layer\n",
        "\n",
        "        x = x.view(x.size()[0],-1)  # Flattening\n",
        "\n",
        "        x = self.fc1(x)             # CNN -> DNN\n",
        "        x = F.relu(x)\n",
        "    \n",
        "        x = self.fc2(x)\n",
        "        x = F.relu(x)\n",
        "\n",
        "        x = self.fc3(x)\n",
        "        x = F.relu(x)\n",
        "        x = F.softmax(x, dim=1)\n",
        "\n",
        "        return x\n",
        "\n",
        "\n",
        "resnet50model = resnetcatsanddogs()"
      ]
    },
    {
      "cell_type": "markdown",
      "metadata": {
        "id": "yiwAdamN6tkm"
      },
      "source": [
        "# Train and test functions"
      ]
    },
    {
      "cell_type": "code",
      "execution_count": null,
      "metadata": {
        "id": "9F0PvHDB6tkn"
      },
      "outputs": [],
      "source": [
        "def train(\n",
        "    train_dataloader: DataLoader,  #Changed from train_data_loader\n",
        "    model: torch.nn.Module,\n",
        "    optimizer: torch.optim.Optimizer,\n",
        "    epoch_idx: int):\n",
        "\n",
        "    #model.train()\n",
        "\n",
        "    training_loss = np.array([])\n",
        "    training_accuracy = np.array([])\n",
        "\n",
        "    for train_idx, (data, target) in enumerate(train_dataloader):\n",
        "        \n",
        "        data = data.to(device)\n",
        "        target = target.to(device)\n",
        "        \n",
        "        output_prob = model(data)\n",
        "        loss = F.cross_entropy(output_prob, target)\n",
        "\n",
        "        loss.backward()\n",
        "        optimizer.step()\n",
        "        optimizer.zero_grad()\n",
        "\n",
        "        training_loss = np.append(training_loss, loss.item())\n",
        "        \n",
        "        pred = output_prob.argmax(axis=1)\n",
        "        correct = pred.cpu().eq(target.cpu()).sum()\n",
        "        acc = float(correct)/float(len(target))\n",
        "        training_accuracy = np.append(training_accuracy, acc)\n",
        "\n",
        "        if train_idx %100 == 0:\n",
        "            print(f\"Training epoch {epoch_idx} Training loss: {loss.item()} Training accuracy: {acc}\")\n",
        "\n",
        "    return training_loss.mean(), training_accuracy.mean()\n",
        "\n",
        "\n",
        "\n",
        "\n",
        "\n",
        "def validate(\n",
        "    test_dataloader : DataLoader,\n",
        "    model: torch.nn.Module):\n",
        "    \n",
        "    #model.eval()\n",
        "\n",
        "    val_loss = np.array([])\n",
        "    val_accuracy = np.array([])\n",
        "\n",
        "    for val_idx, (data_test, target_test) in enumerate(test_dataloader):\n",
        "        data_test = data_test.to(device)\n",
        "        target_test = target_test.to(device)\n",
        "\n",
        "        output_prob_test = model(data_test)\n",
        "\n",
        "        loss_test = F.cross_entropy(output_prob_test, target_test)\n",
        "        val_loss = np.append(val_loss, loss_test.item())\n",
        "\n",
        "        pred_test = output_prob_test.argmax(axis=1)\n",
        "        correct_test = pred_test.cpu().eq(target_test.cpu()).sum()\n",
        "        acc_test = float(correct_test)/float(len(target_test))\n",
        "        val_accuracy = np.append(val_accuracy,acc_test)\n",
        "\n",
        "        if val_idx%100 == 0:\n",
        "            print(f\"Validation loss: {loss_test.item()} Validation accuracy: {acc_test}\")\n",
        "\n",
        "    return val_loss.mean(), val_accuracy.mean()        \n"
      ]
    },
    {
      "cell_type": "markdown",
      "metadata": {
        "id": "yJJxmkdX6tkn"
      },
      "source": [
        "# ResNet model testing"
      ]
    },
    {
      "cell_type": "code",
      "execution_count": null,
      "metadata": {
        "id": "Yemtg0iw6tkn",
        "outputId": "a6f7982d-0104-4cdc-9cd5-639c24d5d297"
      },
      "outputs": [
        {
          "name": "stdout",
          "output_type": "stream",
          "text": [
            "Training epoch 0 Training loss: 0.6931470632553101 Training accuracy: 0.59375\n",
            "Validation loss: 0.6931470632553101 Validation accuracy: 1.0\n",
            "Training epoch 1 Training loss: 0.6931470632553101 Training accuracy: 0.484375\n",
            "Validation loss: 0.6931470632553101 Validation accuracy: 1.0\n",
            "Training epoch 2 Training loss: 0.6931470632553101 Training accuracy: 0.53125\n",
            "Validation loss: 0.6931470632553101 Validation accuracy: 1.0\n",
            "Training epoch 3 Training loss: 0.6931470632553101 Training accuracy: 0.5\n",
            "Validation loss: 0.6931470632553101 Validation accuracy: 1.0\n",
            "Training epoch 4 Training loss: 0.6931470632553101 Training accuracy: 0.546875\n",
            "Validation loss: 0.6931470632553101 Validation accuracy: 1.0\n",
            "Training epoch 5 Training loss: 0.6931470632553101 Training accuracy: 0.375\n",
            "Validation loss: 0.6931470632553101 Validation accuracy: 1.0\n",
            "Training epoch 6 Training loss: 0.6931470632553101 Training accuracy: 0.609375\n",
            "Validation loss: 0.6931470632553101 Validation accuracy: 1.0\n",
            "Training epoch 7 Training loss: 0.6931470632553101 Training accuracy: 0.375\n",
            "Validation loss: 0.6931470632553101 Validation accuracy: 1.0\n",
            "Training epoch 8 Training loss: 0.6931470632553101 Training accuracy: 0.46875\n",
            "Validation loss: 0.6931470632553101 Validation accuracy: 1.0\n",
            "Training epoch 9 Training loss: 0.6931470632553101 Training accuracy: 0.46875\n",
            "Validation loss: 0.6931470632553101 Validation accuracy: 1.0\n"
          ]
        }
      ],
      "source": [
        "training_perf = []\n",
        "validation_perf = []\n",
        "\n",
        "model = resnet50model.to(device)\n",
        "optimizer = Adam(params = model.parameters(), lr=0.001)\n",
        "\n",
        "for epoch in range(10):\n",
        "    train_loss, train_acc = train(train_dataloader=train_data_loader, model = model, optimizer=optimizer, epoch_idx=epoch)\n",
        "    val_loss, val_acc = validate(test_dataloader=test_data_loader, model = model)\n",
        "\n",
        "    training_perf.append((train_loss, train_acc))\n",
        "    validation_perf.append((val_loss, val_acc))"
      ]
    },
    {
      "cell_type": "code",
      "execution_count": null,
      "metadata": {
        "id": "lmAe6jh7ULT0"
      },
      "outputs": [],
      "source": []
    },
    {
      "cell_type": "markdown",
      "metadata": {
        "id": "c8rA3D6uXbkL"
      },
      "source": [
        "# DNN AUTO ENCODER"
      ]
    },
    {
      "cell_type": "code",
      "execution_count": null,
      "metadata": {
        "colab": {
          "base_uri": "https://localhost:8080/"
        },
        "id": "3HlNIgTcXp8T",
        "outputId": "dfa2d4a4-4a0a-4cfd-8541-68778c484d00"
      },
      "outputs": [
        {
          "name": "stdout",
          "output_type": "stream",
          "text": [
            "--2021-10-29 00:13:21--  https://github.com/MorvanZhou/PyTorch-Tutorial/raw/master/tutorial-contents-notebooks/mnist/processed/training.pt\n",
            "Resolving github.com (github.com)... 140.82.114.4\n",
            "Connecting to github.com (github.com)|140.82.114.4|:443... connected.\n",
            "HTTP request sent, awaiting response... 302 Found\n",
            "Location: https://raw.githubusercontent.com/MorvanZhou/PyTorch-Tutorial/master/tutorial-contents-notebooks/mnist/processed/training.pt [following]\n",
            "--2021-10-29 00:13:21--  https://raw.githubusercontent.com/MorvanZhou/PyTorch-Tutorial/master/tutorial-contents-notebooks/mnist/processed/training.pt\n",
            "Resolving raw.githubusercontent.com (raw.githubusercontent.com)... 185.199.110.133, 185.199.111.133, 185.199.108.133, ...\n",
            "Connecting to raw.githubusercontent.com (raw.githubusercontent.com)|185.199.110.133|:443... connected.\n",
            "HTTP request sent, awaiting response... 200 OK\n",
            "Length: 47520431 (45M) [application/octet-stream]\n",
            "Saving to: ‘training.pt’\n",
            "\n",
            "training.pt         100%[===================>]  45.32M   115MB/s    in 0.4s    \n",
            "\n",
            "2021-10-29 00:13:22 (115 MB/s) - ‘training.pt’ saved [47520431/47520431]\n",
            "\n"
          ]
        }
      ],
      "source": [
        "!wget https://github.com/MorvanZhou/PyTorch-Tutorial/raw/master/tutorial-contents-notebooks/mnist/processed/training.pt"
      ]
    },
    {
      "cell_type": "code",
      "execution_count": null,
      "metadata": {
        "id": "tUi2SnghXrdJ"
      },
      "outputs": [],
      "source": [
        "import torch\n",
        "import torch.nn as nn\n",
        "import torch.nn.functional as F\n",
        "from torch.optim import Adam\n",
        "from torch.utils.data import DataLoader, TensorDataset\n",
        "# from torchvision import transforms, datasets\n",
        "# import PIL\n",
        "import matplotlib.pyplot as plt\n",
        "from tqdm.auto import tqdm\n",
        "import numpy as np"
      ]
    },
    {
      "cell_type": "code",
      "execution_count": null,
      "metadata": {
        "id": "HPK4Iq1XY3Ge"
      },
      "outputs": [],
      "source": [
        "x_train, y_train = torch.load('training.pt')\n",
        "x_train = x_train.float()\n",
        "x_train = x_train.reshape(-1,28*28)  # Important. Do this here and not inside loop i.e. (batch.reshape(..))"
      ]
    },
    {
      "cell_type": "code",
      "execution_count": null,
      "metadata": {
        "colab": {
          "base_uri": "https://localhost:8080/"
        },
        "id": "y89NywLyZCAb",
        "outputId": "c55e0bdb-2fed-4c97-a349-05b80fa6be25"
      },
      "outputs": [
        {
          "data": {
            "text/plain": [
              "(torch.Size([60000, 784]), torch.Size([60000]))"
            ]
          },
          "execution_count": 22,
          "metadata": {},
          "output_type": "execute_result"
        }
      ],
      "source": [
        "x_train.shape, y_train.shape"
      ]
    },
    {
      "cell_type": "code",
      "execution_count": null,
      "metadata": {
        "id": "aCv58kuWZTlQ"
      },
      "outputs": [],
      "source": [
        "train_data_loader = DataLoader(TensorDataset(x_train,x_train),batch_size=128, shuffle=True)"
      ]
    },
    {
      "cell_type": "code",
      "execution_count": null,
      "metadata": {
        "id": "X5wfHqEXZpxt"
      },
      "outputs": [],
      "source": [
        "class autoEncode(nn.Module):\n",
        "\n",
        "    def __init__(self):\n",
        "\n",
        "        super(autoEncode, self).__init__()\n",
        "        # self.bn1 = nn.BatchNorm2d(num_features=28*28)\n",
        "        self.en_fc1 = nn.Linear(in_features=28*28,out_features=128)\n",
        "        self.en_fc2 = nn.Linear(in_features=128,out_features=256)\n",
        "        self.en_fc3 = nn.Linear(in_features=256,out_features=25)\n",
        "\n",
        "        self.de_fc1 = nn.Linear(in_features=25,out_features=256)\n",
        "        self.de_fc2 = nn.Linear(in_features=256,out_features=128)\n",
        "        self.de_fc3 = nn.Linear(in_features=128,out_features=28*28)\n",
        "\n",
        "\n",
        "    def encoder(self,x):\n",
        "\n",
        "        x = self.en_fc1(x)\n",
        "        x = F.relu(x)\n",
        "        x= self.en_fc2(x)\n",
        "        x = F.relu(x)\n",
        "        x= self.en_fc3(x)\n",
        "        x = F.relu(x)\n",
        "\n",
        "        return x\n",
        "\n",
        "    \n",
        "    def decoder(self,x):\n",
        "\n",
        "        x = self.de_fc1(x)\n",
        "        x = F.relu(x)\n",
        "        x= self.de_fc2(x)\n",
        "        x = F.relu(x)\n",
        "        x= self.de_fc3(x)\n",
        "        x = F.relu(x)\n",
        "\n",
        "        return x \n",
        "\n",
        "    def forward(self,x):\n",
        "\n",
        "        x = self.encoder(x)\n",
        "        x = self.decoder(x)\n",
        "        return x"
      ]
    },
    {
      "cell_type": "code",
      "execution_count": null,
      "metadata": {
        "colab": {
          "base_uri": "https://localhost:8080/"
        },
        "id": "-jMTOIpsbOUg",
        "outputId": "c0a5a3fe-a212-41f2-b71a-450c56244bdf"
      },
      "outputs": [
        {
          "name": "stdout",
          "output_type": "stream",
          "text": [
            "model deleted\n",
            "model instantiated\n"
          ]
        }
      ],
      "source": [
        "device = torch.device('cpu')\n",
        "try:\n",
        "    del model\n",
        "except:\n",
        "    print('No model found')\n",
        "else:\n",
        "    print('model deleted')\n",
        "finally:\n",
        "    model = autoEncode()\n",
        "    model = model.to(device)\n",
        "    print('model instantiated')"
      ]
    },
    {
      "cell_type": "code",
      "execution_count": null,
      "metadata": {
        "id": "1JuA9EMTeMiO"
      },
      "outputs": [],
      "source": [
        "opt = Adam(model.parameters(), lr=0.001)"
      ]
    },
    {
      "cell_type": "code",
      "execution_count": null,
      "metadata": {
        "id": "GaBd5J4PcTa8"
      },
      "outputs": [],
      "source": [
        "def train(model:nn.Module,\n",
        "          data_loader:DataLoader,\n",
        "          optimizer = torch.optim.Optimizer):\n",
        "    \n",
        "    model.train()\n",
        "    training_loss = 0.0\n",
        "    for batch,target in data_loader:\n",
        "        batch = batch.to(device)\n",
        "        target = target.to(device)\n",
        "\n",
        "        out = model(batch)\n",
        "        loss = F.mse_loss(out/255,target/255)\n",
        "        loss.backward()\n",
        "        opt.step()\n",
        "        opt.zero_grad()\n",
        "\n",
        "        training_loss += loss.item()\n",
        "\n",
        "    return training_loss"
      ]
    },
    {
      "cell_type": "code",
      "execution_count": null,
      "metadata": {
        "colab": {
          "base_uri": "https://localhost:8080/",
          "height": 134,
          "referenced_widgets": [
            "b8809a72af1142f683f74c98008ccbaf",
            "c45f4e8fbdf344f781a80d3ecb2d1dba",
            "909bdd8bf5604e78a734334fd9dcdaf1",
            "b4dfb4fc9d92427eb01152f0c9f4d1a1",
            "b4fe78ba2ab8410a8880f66365eccd7d",
            "db6c285eef544f62a858a8be2e300f58",
            "a3f00092fac7493280bdfe9e49ccf6fe",
            "e506a6f79d5141fab066f8a8ac5a7be8",
            "4e95ecc2dc6b4f16951360ced9c0b9d6",
            "576507dbc45245579e1668195e734441",
            "5397d580c4f14709a98ae3882afc304d"
          ]
        },
        "id": "9qoIYAnqdxkM",
        "outputId": "fa30ba51-efc6-4074-98af-6dad66fa9012"
      },
      "outputs": [
        {
          "data": {
            "application/vnd.jupyter.widget-view+json": {
              "model_id": "b8809a72af1142f683f74c98008ccbaf",
              "version_major": 2,
              "version_minor": 0
            },
            "text/plain": [
              "  0%|          | 0/37 [00:00<?, ?it/s]"
            ]
          },
          "metadata": {},
          "output_type": "display_data"
        },
        {
          "name": "stdout",
          "output_type": "stream",
          "text": [
            "epoch:  5 training_loss:  7.78396952431649\n",
            "epoch:  10 training_loss:  7.681132068857551\n",
            "epoch:  15 training_loss:  7.603182698599994\n",
            "epoch:  20 training_loss:  7.529727151617408\n",
            "epoch:  25 training_loss:  7.473126131109893\n"
          ]
        }
      ],
      "source": [
        "tq = tqdm(range(37))\n",
        "\n",
        "training_loss = []\n",
        "\n",
        "desc = 0\n",
        "for epoch in tq:\n",
        "    tq.set_description(desc=f'training loss {desc}     |')\n",
        "    t_loss = train(model=model,data_loader=train_data_loader, optimizer=opt)\n",
        "    training_loss.append(t_loss)\n",
        "    desc = t_loss\n",
        "    if (epoch+1) in [5,10,15,20,25,50,55,75,105,250,300,400,550,600,750,800,850,900,950,1000,1100,1200,1300,1500,1700,1800,1950,2000]:\n",
        "        print('epoch: ',epoch+1, 'training_loss: ',training_loss[epoch])"
      ]
    },
    {
      "cell_type": "code",
      "execution_count": null,
      "metadata": {
        "colab": {
          "base_uri": "https://localhost:8080/",
          "height": 201
        },
        "id": "wqY1xhS7em-g",
        "outputId": "60f9db6b-4a02-42d9-b9fd-5cc94725a830"
      },
      "outputs": [
        {
          "data": {
            "image/png": "[encoded data removed]",
            "text/plain": [
              "<Figure size 432x1008 with 2 Axes>"
            ]
          },
          "metadata": {
            "needs_background": "light"
          },
          "output_type": "display_data"
        }
      ],
      "source": [
        "index = 500\n",
        "plt.figure(figsize=(6,14))\n",
        "plt.subplot(121)\n",
        "plt.imshow(x_train[index].reshape(28,28))\n",
        "plt.subplot(122)\n",
        "plt.imshow(model(x_train[index].float().to(device)).detach().cpu().numpy().reshape(28,28))\n",
        "plt.show()"
      ]
    },
    {
      "cell_type": "code",
      "execution_count": null,
      "metadata": {
        "colab": {
          "base_uri": "https://localhost:8080/"
        },
        "id": "p3z-NNUihCZ0",
        "outputId": "5563f63c-c5e1-49ac-da6a-7da5355d9f88"
      },
      "outputs": [
        {
          "data": {
            "text/plain": [
              "tensor([690.5579, 370.1202, 312.8164, 524.8813,   0.0000,   0.0000, 635.2734,\n",
              "        863.9130, 896.6096, 331.2693, 288.4486, 427.3430,  13.2084,   0.0000,\n",
              "        212.2908,   0.0000, 395.0901, 399.9066, 858.1096,   0.0000,   0.0000,\n",
              "          0.0000,   0.0000, 790.7642, 214.0469], grad_fn=<ReluBackward0>)"
            ]
          },
          "execution_count": 34,
          "metadata": {},
          "output_type": "execute_result"
        }
      ],
      "source": [
        "model.encoder(x_train[index].float().to(device))"
      ]
    },
    {
      "cell_type": "code",
      "execution_count": null,
      "metadata": {
        "id": "VmVtKX-_hK2g"
      },
      "outputs": [],
      "source": [
        "from sklearn.manifold import TSNE\n",
        "tsne = TSNE()"
      ]
    },
    {
      "cell_type": "code",
      "execution_count": null,
      "metadata": {
        "id": "Ggdn3gQWhLrM"
      },
      "outputs": [],
      "source": [
        "data_reduced = model.encoder(x_train.float().to(device))"
      ]
    },
    {
      "cell_type": "code",
      "execution_count": null,
      "metadata": {
        "id": "iIAFr8OnhPbT"
      },
      "outputs": [],
      "source": [
        "tsne_mat = tsne.fit_transform(data_reduced.detach().cpu().numpy()[:1000,:])"
      ]
    },
    {
      "cell_type": "code",
      "execution_count": null,
      "metadata": {
        "colab": {
          "base_uri": "https://localhost:8080/",
          "height": 265
        },
        "id": "7JJRFadEhVWC",
        "outputId": "60896b8f-cf4e-44ad-a8b0-e0241084f44e"
      },
      "outputs": [
        {
          "data": {
            "image/png": "[encoded data removed]",
            "text/plain": [
              "<Figure size 432x288 with 1 Axes>"
            ]
          },
          "metadata": {
            "needs_background": "light"
          },
          "output_type": "display_data"
        }
      ],
      "source": [
        "plt.scatter(tsne_mat[:,0], tsne_mat[:,1],c=y_train.numpy()[:1000])\n",
        "plt.show()"
      ]
    },
    {
      "cell_type": "code",
      "execution_count": null,
      "metadata": {
        "id": "msrubmVFhYyD"
      },
      "outputs": [],
      "source": []
    },
    {
      "cell_type": "markdown",
      "metadata": {
        "id": "FMqX91KOhpUw"
      },
      "source": [
        "# Noise removal (CNN AUTO ENCODER)"
      ]
    },
    {
      "cell_type": "code",
      "execution_count": null,
      "metadata": {
        "colab": {
          "base_uri": "https://localhost:8080/"
        },
        "id": "v6CBWmibhxT8",
        "outputId": "2fdcafdf-c7fb-4d76-8d24-7d9b582eb731"
      },
      "outputs": [
        {
          "name": "stdout",
          "output_type": "stream",
          "text": [
            "--2021-10-29 00:58:37--  https://github.com/MorvanZhou/PyTorch-Tutorial/raw/master/tutorial-contents-notebooks/mnist/processed/training.pt\n",
            "Resolving github.com (github.com)... 192.30.255.113\n",
            "Connecting to github.com (github.com)|192.30.255.113|:443... connected.\n",
            "HTTP request sent, awaiting response... 302 Found\n",
            "Location: https://raw.githubusercontent.com/MorvanZhou/PyTorch-Tutorial/master/tutorial-contents-notebooks/mnist/processed/training.pt [following]\n",
            "--2021-10-29 00:58:37--  https://raw.githubusercontent.com/MorvanZhou/PyTorch-Tutorial/master/tutorial-contents-notebooks/mnist/processed/training.pt\n",
            "Resolving raw.githubusercontent.com (raw.githubusercontent.com)... 185.199.110.133, 185.199.108.133, 185.199.111.133, ...\n",
            "Connecting to raw.githubusercontent.com (raw.githubusercontent.com)|185.199.110.133|:443... connected.\n",
            "HTTP request sent, awaiting response... 200 OK\n",
            "Length: 47520431 (45M) [application/octet-stream]\n",
            "Saving to: ‘training.pt’\n",
            "\n",
            "training.pt         100%[===================>]  45.32M   139MB/s    in 0.3s    \n",
            "\n",
            "2021-10-29 00:58:39 (139 MB/s) - ‘training.pt’ saved [47520431/47520431]\n",
            "\n"
          ]
        }
      ],
      "source": [
        "!wget https://github.com/MorvanZhou/PyTorch-Tutorial/raw/master/tutorial-contents-notebooks/mnist/processed/training.pt"
      ]
    },
    {
      "cell_type": "code",
      "execution_count": null,
      "metadata": {
        "id": "wPtoVkefjgDM"
      },
      "outputs": [],
      "source": [
        "import torch\n",
        "import torch.nn as nn\n",
        "import torch.nn.functional as F\n",
        "from torch.optim import Adam\n",
        "from torch.utils.data import DataLoader, TensorDataset\n",
        "# from torchvision import transforms, datasets\n",
        "# import PIL\n",
        "import matplotlib.pyplot as plt\n",
        "from tqdm.auto import tqdm\n",
        "import numpy as np"
      ]
    },
    {
      "cell_type": "code",
      "execution_count": null,
      "metadata": {
        "id": "r1fXj6HM85Ma"
      },
      "outputs": [],
      "source": [
        "x_train, y_train = torch.load('training.pt')"
      ]
    },
    {
      "cell_type": "code",
      "execution_count": null,
      "metadata": {
        "colab": {
          "base_uri": "https://localhost:8080/"
        },
        "id": "1cjqCxPO85ef",
        "outputId": "a7a34f75-2bb3-4ede-b1bb-051376f79225"
      },
      "outputs": [
        {
          "data": {
            "text/plain": [
              "tensor([[[0, 0, 0,  ..., 0, 0, 0],\n",
              "         [0, 0, 0,  ..., 0, 0, 0],\n",
              "         [0, 0, 0,  ..., 0, 0, 0],\n",
              "         ...,\n",
              "         [0, 0, 0,  ..., 0, 0, 0],\n",
              "         [0, 0, 0,  ..., 0, 0, 0],\n",
              "         [0, 0, 0,  ..., 0, 0, 0]],\n",
              "\n",
              "        [[0, 0, 0,  ..., 0, 0, 0],\n",
              "         [0, 0, 0,  ..., 0, 0, 0],\n",
              "         [0, 0, 0,  ..., 0, 0, 0],\n",
              "         ...,\n",
              "         [0, 0, 0,  ..., 0, 0, 0],\n",
              "         [0, 0, 0,  ..., 0, 0, 0],\n",
              "         [0, 0, 0,  ..., 0, 0, 0]]], dtype=torch.uint8)"
            ]
          },
          "execution_count": 4,
          "metadata": {},
          "output_type": "execute_result"
        }
      ],
      "source": [
        "x_train[:2]"
      ]
    },
    {
      "cell_type": "code",
      "execution_count": null,
      "metadata": {
        "id": "KesHEVUT9AOD"
      },
      "outputs": [],
      "source": [
        "def salt_n_pepper_noise(x):\n",
        "    return x + torch.rand(x.size())\n",
        "\n",
        "def gaussian_noise(x):\n",
        "    return x + torch.normal(0,0.15,size=x.size())\n",
        "\n",
        "def normalize(x):\n",
        "    return (x-x.min())/(x.max()-x.min())"
      ]
    },
    {
      "cell_type": "code",
      "execution_count": null,
      "metadata": {
        "id": "ARMpUPun_hAx"
      },
      "outputs": [],
      "source": [
        "x_train_norm = normalize(x_train)"
      ]
    },
    {
      "cell_type": "code",
      "execution_count": null,
      "metadata": {
        "colab": {
          "base_uri": "https://localhost:8080/"
        },
        "id": "4DI6qFwZ95CI",
        "outputId": "4205935e-0846-4a1c-fa77-469249cabe34"
      },
      "outputs": [
        {
          "data": {
            "text/plain": [
              "<matplotlib.image.AxesImage at 0x7fb81e362390>"
            ]
          },
          "execution_count": 7,
          "metadata": {},
          "output_type": "execute_result"
        },
        {
          "data": {
            "image/png": "[encoded data removed]",
            "text/plain": [
              "<Figure size 864x432 with 3 Axes>"
            ]
          },
          "metadata": {
            "needs_background": "light"
          },
          "output_type": "display_data"
        }
      ],
      "source": [
        "idx = 0\n",
        "plt.figure(figsize=(12,6))\n",
        "plt.subplot(1,3,1)\n",
        "plt.imshow(x_train_norm[idx])\n",
        "plt.subplot(1,3,2)\n",
        "plt.imshow(salt_n_pepper_noise(x_train_norm[idx]))\n",
        "plt.subplot(1,3,3)\n",
        "plt.imshow(gaussian_noise(x_train_norm[idx]))\n"
      ]
    },
    {
      "cell_type": "code",
      "execution_count": null,
      "metadata": {
        "id": "Vc6zkTRs-2fr"
      },
      "outputs": [],
      "source": [
        "class AE_CNN(nn.Module):\n",
        "\n",
        "    def __init__(self):\n",
        "\n",
        "        super(AE_CNN,self).__init__()\n",
        "        self.conv1 = nn.Conv2d(in_channels=1,out_channels=32,kernel_size=3,padding=1)\n",
        "        self.conv2 = nn.Conv2d(in_channels=32, out_channels=64, kernel_size=3, padding=1)\n",
        "        self.convt1 = nn.ConvTranspose2d(in_channels=64, out_channels=32, \n",
        "                                         kernel_size=2,padding=0,stride=2)\n",
        "        self.convt2 = nn.ConvTranspose2d(in_channels=32, out_channels=1, \n",
        "                                         kernel_size=2, padding=0,stride=2)\n",
        "\n",
        "        self.pool = nn.MaxPool2d(kernel_size=2, stride=2)\n",
        "    \n",
        "\n",
        "    def encoder(self,x):\n",
        "\n",
        "        x = self.conv1(x)\n",
        "        x = F.relu(x)\n",
        "        x = self.pool(x)\n",
        "        x = self.conv2(x)\n",
        "        x = F.relu(x)\n",
        "        x = self.pool(x)\n",
        "        # print(x.size())\n",
        "\n",
        "        return x\n",
        "\n",
        "\n",
        "    def decoder(self, x):\n",
        "\n",
        "        x = self.convt1(x)\n",
        "        x = F.relu(x)\n",
        "        x = self.convt2(x)\n",
        "        x = F.relu(x)\n",
        "\n",
        "        return x\n",
        "\n",
        "    def forward(self,x):\n",
        "        x = self.encoder(x)\n",
        "        x = self.decoder(x)\n",
        "\n",
        "        return x"
      ]
    },
    {
      "cell_type": "code",
      "execution_count": null,
      "metadata": {
        "id": "UYE5Y4d3EBwP"
      },
      "outputs": [],
      "source": [
        "ae_cnn_model = AE_CNN()"
      ]
    },
    {
      "cell_type": "code",
      "execution_count": null,
      "metadata": {
        "id": "GBGCCTVtEIzR"
      },
      "outputs": [],
      "source": [
        "sample_img = x_train_norm[0]\n",
        "sample_img = sample_img.reshape(-1,1,28,28)\n",
        "# ae_cnn_model(sample_img)"
      ]
    },
    {
      "cell_type": "code",
      "execution_count": null,
      "metadata": {
        "id": "XZG6PEXL88vC"
      },
      "outputs": [],
      "source": [
        "device = torch.device('cuda')"
      ]
    },
    {
      "cell_type": "code",
      "execution_count": null,
      "metadata": {
        "id": "UU2PBia3Ecu-"
      },
      "outputs": [],
      "source": [
        "ae_target = x_train_norm.reshape(-1,1,28,28)\n",
        "ae_train = salt_n_pepper_noise(x_train_norm).reshape(-1,1,28,28)"
      ]
    },
    {
      "cell_type": "code",
      "execution_count": null,
      "metadata": {
        "id": "vTBXQ8ZWG6tR"
      },
      "outputs": [],
      "source": [
        "train_loader = DataLoader(TensorDataset(ae_train, ae_target), batch_size=64, shuffle=True)"
      ]
    },
    {
      "cell_type": "code",
      "execution_count": null,
      "metadata": {
        "id": "nIZU63T8HNHy"
      },
      "outputs": [],
      "source": [
        "opt = Adam(ae_cnn_model.parameters(), lr=0.001)"
      ]
    },
    {
      "cell_type": "code",
      "execution_count": null,
      "metadata": {
        "id": "4StDGvGlHTnk"
      },
      "outputs": [],
      "source": [
        "ae_cnn__model = ae_cnn_model.to(device)"
      ]
    },
    {
      "cell_type": "code",
      "execution_count": null,
      "metadata": {
        "colab": {
          "base_uri": "https://localhost:8080/"
        },
        "id": "yZ_ReULAHaH6",
        "outputId": "e0b89b13-119a-4f14-b0e8-39a25d8f9e60"
      },
      "outputs": [
        {
          "name": "stderr",
          "output_type": "stream",
          "text": [
            "\r  0%|          | 0/50 [00:00<?, ?it/s]/usr/local/lib/python3.7/dist-packages/torch/nn/functional.py:718: UserWarning: Named tensors and all their associated APIs are an experimental feature and subject to change. Please do not use them for anything important until they are released as stable. (Triggered internally at  /pytorch/c10/core/TensorImpl.h:1156.)\n",
            "  return torch.max_pool2d(input, kernel_size, stride, padding, dilation, ceil_mode)\n",
            "  2%|▏         | 1/50 [00:10<08:30, 10.42s/it]"
          ]
        },
        {
          "name": "stdout",
          "output_type": "stream",
          "text": [
            "Training loss:  50.57551060989499\n"
          ]
        },
        {
          "name": "stderr",
          "output_type": "stream",
          "text": [
            "\r  4%|▍         | 2/50 [00:20<08:05, 10.11s/it]"
          ]
        },
        {
          "name": "stdout",
          "output_type": "stream",
          "text": [
            "Training loss:  42.46276589855552\n"
          ]
        },
        {
          "name": "stderr",
          "output_type": "stream",
          "text": [
            "\r  6%|▌         | 3/50 [00:30<07:50, 10.01s/it]"
          ]
        },
        {
          "name": "stdout",
          "output_type": "stream",
          "text": [
            "Training loss:  37.351125944405794\n"
          ]
        },
        {
          "name": "stderr",
          "output_type": "stream",
          "text": [
            "\r  8%|▊         | 4/50 [00:40<07:37,  9.95s/it]"
          ]
        },
        {
          "name": "stdout",
          "output_type": "stream",
          "text": [
            "Training loss:  37.01504489034414\n"
          ]
        },
        {
          "name": "stderr",
          "output_type": "stream",
          "text": [
            " 12%|█▏        | 6/50 [00:59<07:15,  9.91s/it]"
          ]
        },
        {
          "name": "stdout",
          "output_type": "stream",
          "text": [
            "Training loss:  6.156059650704265\n"
          ]
        },
        {
          "name": "stderr",
          "output_type": "stream",
          "text": [
            "\r 14%|█▍        | 7/50 [01:09<07:05,  9.90s/it]"
          ]
        },
        {
          "name": "stdout",
          "output_type": "stream",
          "text": [
            "Training loss:  5.845595871564001\n"
          ]
        },
        {
          "name": "stderr",
          "output_type": "stream",
          "text": [
            "\r 16%|█▌        | 8/50 [01:19<06:55,  9.89s/it]"
          ]
        },
        {
          "name": "stdout",
          "output_type": "stream",
          "text": [
            "Training loss:  5.693278030026704\n"
          ]
        },
        {
          "name": "stderr",
          "output_type": "stream",
          "text": [
            "\r 18%|█▊        | 9/50 [01:29<06:45,  9.89s/it]"
          ]
        },
        {
          "name": "stdout",
          "output_type": "stream",
          "text": [
            "Training loss:  5.595886900555342\n"
          ]
        },
        {
          "name": "stderr",
          "output_type": "stream",
          "text": [
            " 22%|██▏       | 11/50 [01:49<06:25,  9.89s/it]"
          ]
        },
        {
          "name": "stdout",
          "output_type": "stream",
          "text": [
            "Training loss:  5.469524255022407\n"
          ]
        },
        {
          "name": "stderr",
          "output_type": "stream",
          "text": [
            "\r 24%|██▍       | 12/50 [01:59<06:16,  9.90s/it]"
          ]
        },
        {
          "name": "stdout",
          "output_type": "stream",
          "text": [
            "Training loss:  5.420692593790591\n"
          ]
        },
        {
          "name": "stderr",
          "output_type": "stream",
          "text": [
            "\r 26%|██▌       | 13/50 [02:09<06:06,  9.89s/it]"
          ]
        },
        {
          "name": "stdout",
          "output_type": "stream",
          "text": [
            "Training loss:  5.383702283259481\n"
          ]
        },
        {
          "name": "stderr",
          "output_type": "stream",
          "text": [
            "\r 28%|██▊       | 14/50 [02:18<05:56,  9.90s/it]"
          ]
        },
        {
          "name": "stdout",
          "output_type": "stream",
          "text": [
            "Training loss:  5.345784303732216\n"
          ]
        },
        {
          "name": "stderr",
          "output_type": "stream",
          "text": [
            " 32%|███▏      | 16/50 [02:38<05:36,  9.90s/it]"
          ]
        },
        {
          "name": "stdout",
          "output_type": "stream",
          "text": [
            "Training loss:  5.272511232178658\n"
          ]
        },
        {
          "name": "stderr",
          "output_type": "stream",
          "text": [
            "\r 34%|███▍      | 17/50 [02:48<05:26,  9.90s/it]"
          ]
        },
        {
          "name": "stdout",
          "output_type": "stream",
          "text": [
            "Training loss:  5.240803041495383\n"
          ]
        },
        {
          "name": "stderr",
          "output_type": "stream",
          "text": [
            "\r 36%|███▌      | 18/50 [02:58<05:16,  9.90s/it]"
          ]
        },
        {
          "name": "stdout",
          "output_type": "stream",
          "text": [
            "Training loss:  5.2176582319661975\n"
          ]
        },
        {
          "name": "stderr",
          "output_type": "stream",
          "text": [
            "\r 38%|███▊      | 19/50 [03:08<05:07,  9.91s/it]"
          ]
        },
        {
          "name": "stdout",
          "output_type": "stream",
          "text": [
            "Training loss:  5.195421890821308\n"
          ]
        },
        {
          "name": "stderr",
          "output_type": "stream",
          "text": [
            " 42%|████▏     | 21/50 [03:28<04:47,  9.92s/it]"
          ]
        },
        {
          "name": "stdout",
          "output_type": "stream",
          "text": [
            "Training loss:  5.155637677758932\n"
          ]
        },
        {
          "name": "stderr",
          "output_type": "stream",
          "text": [
            "\r 44%|████▍     | 22/50 [03:38<04:37,  9.92s/it]"
          ]
        },
        {
          "name": "stdout",
          "output_type": "stream",
          "text": [
            "Training loss:  5.136290153488517\n"
          ]
        },
        {
          "name": "stderr",
          "output_type": "stream",
          "text": [
            "\r 46%|████▌     | 23/50 [03:48<04:27,  9.93s/it]"
          ]
        },
        {
          "name": "stdout",
          "output_type": "stream",
          "text": [
            "Training loss:  5.118983386084437\n"
          ]
        },
        {
          "name": "stderr",
          "output_type": "stream",
          "text": [
            "\r 48%|████▊     | 24/50 [03:58<04:18,  9.95s/it]"
          ]
        },
        {
          "name": "stdout",
          "output_type": "stream",
          "text": [
            "Training loss:  5.108953615650535\n"
          ]
        },
        {
          "name": "stderr",
          "output_type": "stream",
          "text": [
            " 52%|█████▏    | 26/50 [04:18<03:59,  9.97s/it]"
          ]
        },
        {
          "name": "stdout",
          "output_type": "stream",
          "text": [
            "Training loss:  5.0818060473538935\n"
          ]
        },
        {
          "name": "stderr",
          "output_type": "stream",
          "text": [
            "\r 54%|█████▍    | 27/50 [04:28<03:49,  9.98s/it]"
          ]
        },
        {
          "name": "stdout",
          "output_type": "stream",
          "text": [
            "Training loss:  5.066831453703344\n"
          ]
        },
        {
          "name": "stderr",
          "output_type": "stream",
          "text": [
            "\r 56%|█████▌    | 28/50 [04:38<03:39,  9.98s/it]"
          ]
        },
        {
          "name": "stdout",
          "output_type": "stream",
          "text": [
            "Training loss:  5.05781922955066\n"
          ]
        },
        {
          "name": "stderr",
          "output_type": "stream",
          "text": [
            "\r 58%|█████▊    | 29/50 [04:48<03:29,  9.97s/it]"
          ]
        },
        {
          "name": "stdout",
          "output_type": "stream",
          "text": [
            "Training loss:  5.048383772838861\n"
          ]
        },
        {
          "name": "stderr",
          "output_type": "stream",
          "text": [
            " 62%|██████▏   | 31/50 [05:08<03:09,  9.99s/it]"
          ]
        },
        {
          "name": "stdout",
          "output_type": "stream",
          "text": [
            "Training loss:  5.029920365661383\n"
          ]
        },
        {
          "name": "stderr",
          "output_type": "stream",
          "text": [
            "\r 64%|██████▍   | 32/50 [05:18<02:59,  9.99s/it]"
          ]
        },
        {
          "name": "stdout",
          "output_type": "stream",
          "text": [
            "Training loss:  5.019411398563534\n"
          ]
        },
        {
          "name": "stderr",
          "output_type": "stream",
          "text": [
            "\r 66%|██████▌   | 33/50 [05:28<02:49, 10.00s/it]"
          ]
        },
        {
          "name": "stdout",
          "output_type": "stream",
          "text": [
            "Training loss:  5.010416696313769\n"
          ]
        },
        {
          "name": "stderr",
          "output_type": "stream",
          "text": [
            "\r 68%|██████▊   | 34/50 [05:38<02:39, 10.00s/it]"
          ]
        },
        {
          "name": "stdout",
          "output_type": "stream",
          "text": [
            "Training loss:  5.005222929175943\n"
          ]
        },
        {
          "name": "stderr",
          "output_type": "stream",
          "text": [
            " 72%|███████▏  | 36/50 [05:58<02:20, 10.00s/it]"
          ]
        },
        {
          "name": "stdout",
          "output_type": "stream",
          "text": [
            "Training loss:  4.99072067020461\n"
          ]
        },
        {
          "name": "stderr",
          "output_type": "stream",
          "text": [
            "\r 74%|███████▍  | 37/50 [06:08<02:09, 10.00s/it]"
          ]
        },
        {
          "name": "stdout",
          "output_type": "stream",
          "text": [
            "Training loss:  4.98296407982707\n"
          ]
        },
        {
          "name": "stderr",
          "output_type": "stream",
          "text": [
            "\r 76%|███████▌  | 38/50 [06:18<01:59,  9.99s/it]"
          ]
        },
        {
          "name": "stdout",
          "output_type": "stream",
          "text": [
            "Training loss:  4.980653361417353\n"
          ]
        },
        {
          "name": "stderr",
          "output_type": "stream",
          "text": [
            "\r 78%|███████▊  | 39/50 [06:28<01:49,  9.98s/it]"
          ]
        },
        {
          "name": "stdout",
          "output_type": "stream",
          "text": [
            "Training loss:  4.970962296240032\n"
          ]
        },
        {
          "name": "stderr",
          "output_type": "stream",
          "text": [
            " 82%|████████▏ | 41/50 [06:47<01:29,  9.96s/it]"
          ]
        },
        {
          "name": "stdout",
          "output_type": "stream",
          "text": [
            "Training loss:  4.963167530950159\n"
          ]
        },
        {
          "name": "stderr",
          "output_type": "stream",
          "text": [
            "\r 84%|████████▍ | 42/50 [06:57<01:19,  9.95s/it]"
          ]
        },
        {
          "name": "stdout",
          "output_type": "stream",
          "text": [
            "Training loss:  4.960241459775716\n"
          ]
        },
        {
          "name": "stderr",
          "output_type": "stream",
          "text": [
            "\r 86%|████████▌ | 43/50 [07:07<01:09,  9.95s/it]"
          ]
        },
        {
          "name": "stdout",
          "output_type": "stream",
          "text": [
            "Training loss:  4.954115871340036\n"
          ]
        },
        {
          "name": "stderr",
          "output_type": "stream",
          "text": [
            "\r 88%|████████▊ | 44/50 [07:17<00:59,  9.93s/it]"
          ]
        },
        {
          "name": "stdout",
          "output_type": "stream",
          "text": [
            "Training loss:  4.9504223903641105\n"
          ]
        },
        {
          "name": "stderr",
          "output_type": "stream",
          "text": [
            " 92%|█████████▏| 46/50 [07:37<00:39,  9.93s/it]"
          ]
        },
        {
          "name": "stdout",
          "output_type": "stream",
          "text": [
            "Training loss:  4.939625726081431\n"
          ]
        },
        {
          "name": "stderr",
          "output_type": "stream",
          "text": [
            "\r 94%|█████████▍| 47/50 [07:47<00:29,  9.93s/it]"
          ]
        },
        {
          "name": "stdout",
          "output_type": "stream",
          "text": [
            "Training loss:  4.938877534586936\n"
          ]
        },
        {
          "name": "stderr",
          "output_type": "stream",
          "text": [
            "\r 96%|█████████▌| 48/50 [07:57<00:19,  9.92s/it]"
          ]
        },
        {
          "name": "stdout",
          "output_type": "stream",
          "text": [
            "Training loss:  4.940898044966161\n"
          ]
        },
        {
          "name": "stderr",
          "output_type": "stream",
          "text": [
            "\r 98%|█████████▊| 49/50 [08:07<00:09,  9.92s/it]"
          ]
        },
        {
          "name": "stdout",
          "output_type": "stream",
          "text": [
            "Training loss:  4.931453314609826\n"
          ]
        },
        {
          "name": "stderr",
          "output_type": "stream",
          "text": [
            "100%|██████████| 50/50 [08:17<00:00,  9.95s/it]\n"
          ]
        }
      ],
      "source": [
        "max_epochs = 50\n",
        "\n",
        "for epoch in tqdm(range(max_epochs)):\n",
        "    training_loss = 0.0\n",
        "\n",
        "    for batch, target in train_loader:\n",
        "        batch = batch.to(device)\n",
        "        target = target.to(device)\n",
        "\n",
        "        opt.zero_grad()\n",
        "\n",
        "        output = ae_cnn_model(batch)\n",
        "        loss = F.mse_loss(output, target)\n",
        "        loss.backward()\n",
        "\n",
        "        training_loss += loss.item()\n",
        "        opt.step()\n",
        "\n",
        "    if (epoch+1)%5:\n",
        "        print(\"Training loss: \",training_loss)"
      ]
    },
    {
      "cell_type": "code",
      "execution_count": null,
      "metadata": {
        "id": "bbsxEcy7Iy_8"
      },
      "outputs": [],
      "source": [
        "sample_img_gpu = ae_train[:2].to(device)"
      ]
    },
    {
      "cell_type": "code",
      "execution_count": null,
      "metadata": {
        "id": "MX9T7WAgLY4d"
      },
      "outputs": [],
      "source": [
        "denoised_img = ae_cnn_model(sample_img_gpu).detach().cpu().numpy()"
      ]
    },
    {
      "cell_type": "code",
      "execution_count": null,
      "metadata": {
        "colab": {
          "base_uri": "https://localhost:8080/"
        },
        "id": "HtYn8sxAL7mz",
        "outputId": "9eefd212-06e3-478c-d099-10df81ad3cd6"
      },
      "outputs": [
        {
          "data": {
            "text/plain": [
              "<matplotlib.image.AxesImage at 0x7fb81ac194d0>"
            ]
          },
          "execution_count": 19,
          "metadata": {},
          "output_type": "execute_result"
        },
        {
          "data": {
            "image/png": "[encoded data removed]",
            "text/plain": [
              "<Figure size 432x288 with 1 Axes>"
            ]
          },
          "metadata": {
            "needs_background": "light"
          },
          "output_type": "display_data"
        }
      ],
      "source": [
        "plt.imshow(ae_train[0][0])"
      ]
    },
    {
      "cell_type": "code",
      "execution_count": null,
      "metadata": {
        "colab": {
          "base_uri": "https://localhost:8080/"
        },
        "id": "1l74pLwBL2s6",
        "outputId": "5c15a5b3-a4bc-4d66-a56f-06af86666c78"
      },
      "outputs": [
        {
          "data": {
            "text/plain": [
              "<matplotlib.image.AxesImage at 0x7fb81b50b490>"
            ]
          },
          "execution_count": 20,
          "metadata": {},
          "output_type": "execute_result"
        },
        {
          "data": {
            "image/png": "[encoded data removed]",
            "text/plain": [
              "<Figure size 432x288 with 1 Axes>"
            ]
          },
          "metadata": {
            "needs_background": "light"
          },
          "output_type": "display_data"
        }
      ],
      "source": [
        "plt.imshow(ae_train[1][0])"
      ]
    },
    {
      "cell_type": "code",
      "execution_count": null,
      "metadata": {
        "colab": {
          "base_uri": "https://localhost:8080/"
        },
        "id": "LjZBeVkOLoGH",
        "outputId": "acf52ead-cb41-420b-c4c5-4ef33f15bd87"
      },
      "outputs": [
        {
          "data": {
            "text/plain": [
              "<matplotlib.image.AxesImage at 0x7fb81b543b10>"
            ]
          },
          "execution_count": 21,
          "metadata": {},
          "output_type": "execute_result"
        },
        {
          "data": {
            "image/png": "[encoded data removed]",
            "text/plain": [
              "<Figure size 432x288 with 1 Axes>"
            ]
          },
          "metadata": {
            "needs_background": "light"
          },
          "output_type": "display_data"
        }
      ],
      "source": [
        "plt.imshow(denoised_img[0][0])"
      ]
    },
    {
      "cell_type": "code",
      "execution_count": null,
      "metadata": {
        "colab": {
          "base_uri": "https://localhost:8080/"
        },
        "id": "GcVh5G11LxlZ",
        "outputId": "d1a84b83-9c6f-43f5-edbe-0d924f5f37a0"
      },
      "outputs": [
        {
          "data": {
            "text/plain": [
              "<matplotlib.image.AxesImage at 0x7fb81b459f90>"
            ]
          },
          "execution_count": 22,
          "metadata": {},
          "output_type": "execute_result"
        },
        {
          "data": {
            "image/png": "[encoded data removed]",
            "text/plain": [
              "<Figure size 432x288 with 1 Axes>"
            ]
          },
          "metadata": {
            "needs_background": "light"
          },
          "output_type": "display_data"
        }
      ],
      "source": [
        "plt.imshow(denoised_img[1][0])"
      ]
    },
    {
      "cell_type": "code",
      "execution_count": null,
      "metadata": {
        "colab": {
          "base_uri": "https://localhost:8080/"
        },
        "id": "winn0hEFL1Go",
        "outputId": "a7f3324c-c9f2-4fb1-bc3f-b1ff104db9cb"
      },
      "outputs": [
        {
          "data": {
            "image/png": "[encoded data removed]",
            "text/plain": [
              "<Figure size 864x432 with 3 Axes>"
            ]
          },
          "metadata": {
            "needs_background": "light"
          },
          "output_type": "display_data"
        }
      ],
      "source": [
        "idx = 0\n",
        "plt.figure(figsize=(12,6))\n",
        "\n",
        "plt.subplot(1,3,1)\n",
        "plt.imshow(x_train_norm[idx])\n",
        "\n",
        "plt.subplot(1,3,2)\n",
        "plt.imshow(ae_train[idx][0])\n",
        "\n",
        "plt.subplot(1,3,3)\n",
        "plt.imshow(denoised_img[idx][0])\n",
        "plt.show()"
      ]
    },
    {
      "cell_type": "code",
      "execution_count": null,
      "metadata": {
        "id": "FOl7eDj0MR0k"
      },
      "outputs": [],
      "source": []
    }
  ],
  "metadata": {
    "colab": {
      "collapsed_sections": [
        "OhMRvr30SBgQ",
        "NRiohKDbR-F2",
        "Mz_mEGjgc1dz",
        "u4NAUkS3rKjS",
        "nmqH9L3p5_rz",
        "Zd5mwZrw6tkk",
        "yiwAdamN6tkm",
        "yJJxmkdX6tkn",
        "c8rA3D6uXbkL"
      ],
      "name": "practice pytorch0.ipynb",
      "provenance": []
    },
    "kernelspec": {
      "display_name": "Python 3.9.2 64-bit",
      "language": "python",
      "name": "python3"
    },
    "language_info": {
      "name": "python",
      "version": "3.9.2"
    },
    "vscode": {
      "interpreter": {
        "hash": "11938c6bc6919ae2720b4d5011047913343b08a43b18698fd82dedb0d4417594"
      }
    },
    "widgets": {
      "application/vnd.jupyter.widget-state+json": {
        "0355c41d17724dbf9411d096c9063d63": {
          "model_module": "@jupyter-widgets/controls",
          "model_module_version": "1.5.0",
          "model_name": "HBoxModel",
          "state": {
            "_dom_classes": [],
            "_model_module": "@jupyter-widgets/controls",
            "_model_module_version": "1.5.0",
            "_model_name": "HBoxModel",
            "_view_count": null,
            "_view_module": "@jupyter-widgets/controls",
            "_view_module_version": "1.5.0",
            "_view_name": "HBoxView",
            "box_style": "",
            "children": [
              "IPY_MODEL_1dc009fdc44543e9b4ef176b67467188",
              "IPY_MODEL_b883b35237a5479db15db87b0b7e5dae",
              "IPY_MODEL_1cd2fd5719f34503b6c4a88be28d3198"
            ],
            "layout": "IPY_MODEL_dc6810171ff042c8a90c7af16cb79a62"
          }
        },
        "088c7adcd0a84a95a8ecd4107ff03577": {
          "model_module": "@jupyter-widgets/controls",
          "model_module_version": "1.5.0",
          "model_name": "ProgressStyleModel",
          "state": {
            "_model_module": "@jupyter-widgets/controls",
            "_model_module_version": "1.5.0",
            "_model_name": "ProgressStyleModel",
            "_view_count": null,
            "_view_module": "@jupyter-widgets/base",
            "_view_module_version": "1.2.0",
            "_view_name": "StyleView",
            "bar_color": null,
            "description_width": ""
          }
        },
        "09f38a6ecc6c45bfab0a1fed7650a7ef": {
          "model_module": "@jupyter-widgets/base",
          "model_module_version": "1.2.0",
          "model_name": "LayoutModel",
          "state": {
            "_model_module": "@jupyter-widgets/base",
            "_model_module_version": "1.2.0",
            "_model_name": "LayoutModel",
            "_view_count": null,
            "_view_module": "@jupyter-widgets/base",
            "_view_module_version": "1.2.0",
            "_view_name": "LayoutView",
            "align_content": null,
            "align_items": null,
            "align_self": null,
            "border": null,
            "bottom": null,
            "display": null,
            "flex": null,
            "flex_flow": null,
            "grid_area": null,
            "grid_auto_columns": null,
            "grid_auto_flow": null,
            "grid_auto_rows": null,
            "grid_column": null,
            "grid_gap": null,
            "grid_row": null,
            "grid_template_areas": null,
            "grid_template_columns": null,
            "grid_template_rows": null,
            "height": null,
            "justify_content": null,
            "justify_items": null,
            "left": null,
            "margin": null,
            "max_height": null,
            "max_width": null,
            "min_height": null,
            "min_width": null,
            "object_fit": null,
            "object_position": null,
            "order": null,
            "overflow": null,
            "overflow_x": null,
            "overflow_y": null,
            "padding": null,
            "right": null,
            "top": null,
            "visibility": null,
            "width": null
          }
        },
        "0c58fd93094949448869e8167955e8ea": {
          "model_module": "@jupyter-widgets/controls",
          "model_module_version": "1.5.0",
          "model_name": "DescriptionStyleModel",
          "state": {
            "_model_module": "@jupyter-widgets/controls",
            "_model_module_version": "1.5.0",
            "_model_name": "DescriptionStyleModel",
            "_view_count": null,
            "_view_module": "@jupyter-widgets/base",
            "_view_module_version": "1.2.0",
            "_view_name": "StyleView",
            "description_width": ""
          }
        },
        "0d6d2c17f31b49cbbc2002481b1bf4c6": {
          "model_module": "@jupyter-widgets/base",
          "model_module_version": "1.2.0",
          "model_name": "LayoutModel",
          "state": {
            "_model_module": "@jupyter-widgets/base",
            "_model_module_version": "1.2.0",
            "_model_name": "LayoutModel",
            "_view_count": null,
            "_view_module": "@jupyter-widgets/base",
            "_view_module_version": "1.2.0",
            "_view_name": "LayoutView",
            "align_content": null,
            "align_items": null,
            "align_self": null,
            "border": null,
            "bottom": null,
            "display": null,
            "flex": null,
            "flex_flow": null,
            "grid_area": null,
            "grid_auto_columns": null,
            "grid_auto_flow": null,
            "grid_auto_rows": null,
            "grid_column": null,
            "grid_gap": null,
            "grid_row": null,
            "grid_template_areas": null,
            "grid_template_columns": null,
            "grid_template_rows": null,
            "height": null,
            "justify_content": null,
            "justify_items": null,
            "left": null,
            "margin": null,
            "max_height": null,
            "max_width": null,
            "min_height": null,
            "min_width": null,
            "object_fit": null,
            "object_position": null,
            "order": null,
            "overflow": null,
            "overflow_x": null,
            "overflow_y": null,
            "padding": null,
            "right": null,
            "top": null,
            "visibility": null,
            "width": null
          }
        },
        "0e507bd6864c40d0bcdab277f91d23b5": {
          "model_module": "@jupyter-widgets/base",
          "model_module_version": "1.2.0",
          "model_name": "LayoutModel",
          "state": {
            "_model_module": "@jupyter-widgets/base",
            "_model_module_version": "1.2.0",
            "_model_name": "LayoutModel",
            "_view_count": null,
            "_view_module": "@jupyter-widgets/base",
            "_view_module_version": "1.2.0",
            "_view_name": "LayoutView",
            "align_content": null,
            "align_items": null,
            "align_self": null,
            "border": null,
            "bottom": null,
            "display": null,
            "flex": null,
            "flex_flow": null,
            "grid_area": null,
            "grid_auto_columns": null,
            "grid_auto_flow": null,
            "grid_auto_rows": null,
            "grid_column": null,
            "grid_gap": null,
            "grid_row": null,
            "grid_template_areas": null,
            "grid_template_columns": null,
            "grid_template_rows": null,
            "height": null,
            "justify_content": null,
            "justify_items": null,
            "left": null,
            "margin": null,
            "max_height": null,
            "max_width": null,
            "min_height": null,
            "min_width": null,
            "object_fit": null,
            "object_position": null,
            "order": null,
            "overflow": null,
            "overflow_x": null,
            "overflow_y": null,
            "padding": null,
            "right": null,
            "top": null,
            "visibility": null,
            "width": null
          }
        },
        "0faec364dba1431687fb147608c88b88": {
          "model_module": "@jupyter-widgets/controls",
          "model_module_version": "1.5.0",
          "model_name": "DescriptionStyleModel",
          "state": {
            "_model_module": "@jupyter-widgets/controls",
            "_model_module_version": "1.5.0",
            "_model_name": "DescriptionStyleModel",
            "_view_count": null,
            "_view_module": "@jupyter-widgets/base",
            "_view_module_version": "1.2.0",
            "_view_name": "StyleView",
            "description_width": ""
          }
        },
        "1149d13e8adb4423b36daae6de359e39": {
          "model_module": "@jupyter-widgets/controls",
          "model_module_version": "1.5.0",
          "model_name": "FloatProgressModel",
          "state": {
            "_dom_classes": [],
            "_model_module": "@jupyter-widgets/controls",
            "_model_module_version": "1.5.0",
            "_model_name": "FloatProgressModel",
            "_view_count": null,
            "_view_module": "@jupyter-widgets/controls",
            "_view_module_version": "1.5.0",
            "_view_name": "ProgressView",
            "bar_style": "success",
            "description": "",
            "description_tooltip": null,
            "layout": "IPY_MODEL_950ed35e062e407685d7bbcf5c122d99",
            "max": 29,
            "min": 0,
            "orientation": "horizontal",
            "style": "IPY_MODEL_577e8b0e76d242f89e3dc963dbf8f39e",
            "value": 29
          }
        },
        "133d9ec8f9dd4d998bb5c873ec2c2add": {
          "model_module": "@jupyter-widgets/controls",
          "model_module_version": "1.5.0",
          "model_name": "ProgressStyleModel",
          "state": {
            "_model_module": "@jupyter-widgets/controls",
            "_model_module_version": "1.5.0",
            "_model_name": "ProgressStyleModel",
            "_view_count": null,
            "_view_module": "@jupyter-widgets/base",
            "_view_module_version": "1.2.0",
            "_view_name": "StyleView",
            "bar_color": null,
            "description_width": ""
          }
        },
        "13daebeabfe4455fa09c86052a448bd9": {
          "model_module": "@jupyter-widgets/controls",
          "model_module_version": "1.5.0",
          "model_name": "ProgressStyleModel",
          "state": {
            "_model_module": "@jupyter-widgets/controls",
            "_model_module_version": "1.5.0",
            "_model_name": "ProgressStyleModel",
            "_view_count": null,
            "_view_module": "@jupyter-widgets/base",
            "_view_module_version": "1.2.0",
            "_view_name": "StyleView",
            "bar_color": null,
            "description_width": ""
          }
        },
        "151d285a31a34303802fcf00b8a3ca9a": {
          "model_module": "@jupyter-widgets/base",
          "model_module_version": "1.2.0",
          "model_name": "LayoutModel",
          "state": {
            "_model_module": "@jupyter-widgets/base",
            "_model_module_version": "1.2.0",
            "_model_name": "LayoutModel",
            "_view_count": null,
            "_view_module": "@jupyter-widgets/base",
            "_view_module_version": "1.2.0",
            "_view_name": "LayoutView",
            "align_content": null,
            "align_items": null,
            "align_self": null,
            "border": null,
            "bottom": null,
            "display": null,
            "flex": null,
            "flex_flow": null,
            "grid_area": null,
            "grid_auto_columns": null,
            "grid_auto_flow": null,
            "grid_auto_rows": null,
            "grid_column": null,
            "grid_gap": null,
            "grid_row": null,
            "grid_template_areas": null,
            "grid_template_columns": null,
            "grid_template_rows": null,
            "height": null,
            "justify_content": null,
            "justify_items": null,
            "left": null,
            "margin": null,
            "max_height": null,
            "max_width": null,
            "min_height": null,
            "min_width": null,
            "object_fit": null,
            "object_position": null,
            "order": null,
            "overflow": null,
            "overflow_x": null,
            "overflow_y": null,
            "padding": null,
            "right": null,
            "top": null,
            "visibility": null,
            "width": null
          }
        },
        "1605451e25b9485c9499a001b8259bef": {
          "model_module": "@jupyter-widgets/controls",
          "model_module_version": "1.5.0",
          "model_name": "DescriptionStyleModel",
          "state": {
            "_model_module": "@jupyter-widgets/controls",
            "_model_module_version": "1.5.0",
            "_model_name": "DescriptionStyleModel",
            "_view_count": null,
            "_view_module": "@jupyter-widgets/base",
            "_view_module_version": "1.2.0",
            "_view_name": "StyleView",
            "description_width": ""
          }
        },
        "16a5fa3b007644ceb3acd7a8e53bf886": {
          "model_module": "@jupyter-widgets/controls",
          "model_module_version": "1.5.0",
          "model_name": "DescriptionStyleModel",
          "state": {
            "_model_module": "@jupyter-widgets/controls",
            "_model_module_version": "1.5.0",
            "_model_name": "DescriptionStyleModel",
            "_view_count": null,
            "_view_module": "@jupyter-widgets/base",
            "_view_module_version": "1.2.0",
            "_view_name": "StyleView",
            "description_width": ""
          }
        },
        "173bc0dc8db947e2b1193c4867015c15": {
          "model_module": "@jupyter-widgets/controls",
          "model_module_version": "1.5.0",
          "model_name": "HBoxModel",
          "state": {
            "_dom_classes": [],
            "_model_module": "@jupyter-widgets/controls",
            "_model_module_version": "1.5.0",
            "_model_name": "HBoxModel",
            "_view_count": null,
            "_view_module": "@jupyter-widgets/controls",
            "_view_module_version": "1.5.0",
            "_view_name": "HBoxView",
            "box_style": "",
            "children": [
              "IPY_MODEL_445ac49cfd464a7fa3c7824b88cf793f",
              "IPY_MODEL_36a7dcbacfcf42c08344f0d38d9ebf3c",
              "IPY_MODEL_6cf07a74f45e426397cf7e662395f7e7"
            ],
            "layout": "IPY_MODEL_81f40c4130b0422aa7dba84b2a19c39b"
          }
        },
        "178398f9be8d418b8966fcae0ebbbf7b": {
          "model_module": "@jupyter-widgets/base",
          "model_module_version": "1.2.0",
          "model_name": "LayoutModel",
          "state": {
            "_model_module": "@jupyter-widgets/base",
            "_model_module_version": "1.2.0",
            "_model_name": "LayoutModel",
            "_view_count": null,
            "_view_module": "@jupyter-widgets/base",
            "_view_module_version": "1.2.0",
            "_view_name": "LayoutView",
            "align_content": null,
            "align_items": null,
            "align_self": null,
            "border": null,
            "bottom": null,
            "display": null,
            "flex": null,
            "flex_flow": null,
            "grid_area": null,
            "grid_auto_columns": null,
            "grid_auto_flow": null,
            "grid_auto_rows": null,
            "grid_column": null,
            "grid_gap": null,
            "grid_row": null,
            "grid_template_areas": null,
            "grid_template_columns": null,
            "grid_template_rows": null,
            "height": null,
            "justify_content": null,
            "justify_items": null,
            "left": null,
            "margin": null,
            "max_height": null,
            "max_width": null,
            "min_height": null,
            "min_width": null,
            "object_fit": null,
            "object_position": null,
            "order": null,
            "overflow": null,
            "overflow_x": null,
            "overflow_y": null,
            "padding": null,
            "right": null,
            "top": null,
            "visibility": null,
            "width": null
          }
        },
        "1785213621e64c2a9821d673fc181212": {
          "model_module": "@jupyter-widgets/controls",
          "model_module_version": "1.5.0",
          "model_name": "HBoxModel",
          "state": {
            "_dom_classes": [],
            "_model_module": "@jupyter-widgets/controls",
            "_model_module_version": "1.5.0",
            "_model_name": "HBoxModel",
            "_view_count": null,
            "_view_module": "@jupyter-widgets/controls",
            "_view_module_version": "1.5.0",
            "_view_name": "HBoxView",
            "box_style": "",
            "children": [
              "IPY_MODEL_255d9b40b7ff46428cb1127bc1f20348",
              "IPY_MODEL_6989a4001f9a4eb6a4f9eeece1b1f358",
              "IPY_MODEL_7888968a004f40db8f5b22d2c101e0c5"
            ],
            "layout": "IPY_MODEL_d34f760f4d004ea6bf6437d1b8c1eeef"
          }
        },
        "1c0ba0bfbd6d491ca4d222c24b906fbb": {
          "model_module": "@jupyter-widgets/base",
          "model_module_version": "1.2.0",
          "model_name": "LayoutModel",
          "state": {
            "_model_module": "@jupyter-widgets/base",
            "_model_module_version": "1.2.0",
            "_model_name": "LayoutModel",
            "_view_count": null,
            "_view_module": "@jupyter-widgets/base",
            "_view_module_version": "1.2.0",
            "_view_name": "LayoutView",
            "align_content": null,
            "align_items": null,
            "align_self": null,
            "border": null,
            "bottom": null,
            "display": null,
            "flex": null,
            "flex_flow": null,
            "grid_area": null,
            "grid_auto_columns": null,
            "grid_auto_flow": null,
            "grid_auto_rows": null,
            "grid_column": null,
            "grid_gap": null,
            "grid_row": null,
            "grid_template_areas": null,
            "grid_template_columns": null,
            "grid_template_rows": null,
            "height": null,
            "justify_content": null,
            "justify_items": null,
            "left": null,
            "margin": null,
            "max_height": null,
            "max_width": null,
            "min_height": null,
            "min_width": null,
            "object_fit": null,
            "object_position": null,
            "order": null,
            "overflow": null,
            "overflow_x": null,
            "overflow_y": null,
            "padding": null,
            "right": null,
            "top": null,
            "visibility": null,
            "width": null
          }
        },
        "1cd2fd5719f34503b6c4a88be28d3198": {
          "model_module": "@jupyter-widgets/controls",
          "model_module_version": "1.5.0",
          "model_name": "HTMLModel",
          "state": {
            "_dom_classes": [],
            "_model_module": "@jupyter-widgets/controls",
            "_model_module_version": "1.5.0",
            "_model_name": "HTMLModel",
            "_view_count": null,
            "_view_module": "@jupyter-widgets/controls",
            "_view_module_version": "1.5.0",
            "_view_name": "HTMLView",
            "description": "",
            "description_tooltip": null,
            "layout": "IPY_MODEL_a6b465d25839467f9d26b8a99c0269a3",
            "placeholder": "​",
            "style": "IPY_MODEL_16a5fa3b007644ceb3acd7a8e53bf886",
            "value": " 29/29 [00:35&lt;00:00,  1.04it/s]"
          }
        },
        "1dc009fdc44543e9b4ef176b67467188": {
          "model_module": "@jupyter-widgets/controls",
          "model_module_version": "1.5.0",
          "model_name": "HTMLModel",
          "state": {
            "_dom_classes": [],
            "_model_module": "@jupyter-widgets/controls",
            "_model_module_version": "1.5.0",
            "_model_name": "HTMLModel",
            "_view_count": null,
            "_view_module": "@jupyter-widgets/controls",
            "_view_module_version": "1.5.0",
            "_view_name": "HTMLView",
            "description": "",
            "description_tooltip": null,
            "layout": "IPY_MODEL_b097d4b8046b4811a8109665e8c31bcb",
            "placeholder": "​",
            "style": "IPY_MODEL_0faec364dba1431687fb147608c88b88",
            "value": "100%"
          }
        },
        "1e17459d1b8b4a3e86f1cbef522df95a": {
          "model_module": "@jupyter-widgets/controls",
          "model_module_version": "1.5.0",
          "model_name": "DescriptionStyleModel",
          "state": {
            "_model_module": "@jupyter-widgets/controls",
            "_model_module_version": "1.5.0",
            "_model_name": "DescriptionStyleModel",
            "_view_count": null,
            "_view_module": "@jupyter-widgets/base",
            "_view_module_version": "1.2.0",
            "_view_name": "StyleView",
            "description_width": ""
          }
        },
        "1e7d0e49231249abb9aaccc5bd876a79": {
          "model_module": "@jupyter-widgets/controls",
          "model_module_version": "1.5.0",
          "model_name": "HTMLModel",
          "state": {
            "_dom_classes": [],
            "_model_module": "@jupyter-widgets/controls",
            "_model_module_version": "1.5.0",
            "_model_name": "HTMLModel",
            "_view_count": null,
            "_view_module": "@jupyter-widgets/controls",
            "_view_module_version": "1.5.0",
            "_view_name": "HTMLView",
            "description": "",
            "description_tooltip": null,
            "layout": "IPY_MODEL_c610cb90d02d45c0bc9e2d4e8e2349f9",
            "placeholder": "​",
            "style": "IPY_MODEL_318372d487f240b0b92081ec1fe5ec9a",
            "value": " 100/100 [05:02&lt;00:00,  3.12s/it]"
          }
        },
        "21266506204a4037ae8660fa829cd59e": {
          "model_module": "@jupyter-widgets/base",
          "model_module_version": "1.2.0",
          "model_name": "LayoutModel",
          "state": {
            "_model_module": "@jupyter-widgets/base",
            "_model_module_version": "1.2.0",
            "_model_name": "LayoutModel",
            "_view_count": null,
            "_view_module": "@jupyter-widgets/base",
            "_view_module_version": "1.2.0",
            "_view_name": "LayoutView",
            "align_content": null,
            "align_items": null,
            "align_self": null,
            "border": null,
            "bottom": null,
            "display": null,
            "flex": null,
            "flex_flow": null,
            "grid_area": null,
            "grid_auto_columns": null,
            "grid_auto_flow": null,
            "grid_auto_rows": null,
            "grid_column": null,
            "grid_gap": null,
            "grid_row": null,
            "grid_template_areas": null,
            "grid_template_columns": null,
            "grid_template_rows": null,
            "height": null,
            "justify_content": null,
            "justify_items": null,
            "left": null,
            "margin": null,
            "max_height": null,
            "max_width": null,
            "min_height": null,
            "min_width": null,
            "object_fit": null,
            "object_position": null,
            "order": null,
            "overflow": null,
            "overflow_x": null,
            "overflow_y": null,
            "padding": null,
            "right": null,
            "top": null,
            "visibility": null,
            "width": null
          }
        },
        "22c9cf694c48425e82eaf7c36db67b30": {
          "model_module": "@jupyter-widgets/base",
          "model_module_version": "1.2.0",
          "model_name": "LayoutModel",
          "state": {
            "_model_module": "@jupyter-widgets/base",
            "_model_module_version": "1.2.0",
            "_model_name": "LayoutModel",
            "_view_count": null,
            "_view_module": "@jupyter-widgets/base",
            "_view_module_version": "1.2.0",
            "_view_name": "LayoutView",
            "align_content": null,
            "align_items": null,
            "align_self": null,
            "border": null,
            "bottom": null,
            "display": null,
            "flex": null,
            "flex_flow": null,
            "grid_area": null,
            "grid_auto_columns": null,
            "grid_auto_flow": null,
            "grid_auto_rows": null,
            "grid_column": null,
            "grid_gap": null,
            "grid_row": null,
            "grid_template_areas": null,
            "grid_template_columns": null,
            "grid_template_rows": null,
            "height": null,
            "justify_content": null,
            "justify_items": null,
            "left": null,
            "margin": null,
            "max_height": null,
            "max_width": null,
            "min_height": null,
            "min_width": null,
            "object_fit": null,
            "object_position": null,
            "order": null,
            "overflow": null,
            "overflow_x": null,
            "overflow_y": null,
            "padding": null,
            "right": null,
            "top": null,
            "visibility": null,
            "width": null
          }
        },
        "23a08ca81bff4fe2a48afd2143f265df": {
          "model_module": "@jupyter-widgets/controls",
          "model_module_version": "1.5.0",
          "model_name": "HBoxModel",
          "state": {
            "_dom_classes": [],
            "_model_module": "@jupyter-widgets/controls",
            "_model_module_version": "1.5.0",
            "_model_name": "HBoxModel",
            "_view_count": null,
            "_view_module": "@jupyter-widgets/controls",
            "_view_module_version": "1.5.0",
            "_view_name": "HBoxView",
            "box_style": "",
            "children": [
              "IPY_MODEL_c14a524c9f744855ac5d4c59a2938a87",
              "IPY_MODEL_c8b0f02633244153a3312583f9d833bb",
              "IPY_MODEL_51e5041dc11c4081b08f7b9b65fdabfd"
            ],
            "layout": "IPY_MODEL_887400c052d84c45b465dd4162e5cbf8"
          }
        },
        "255d9b40b7ff46428cb1127bc1f20348": {
          "model_module": "@jupyter-widgets/controls",
          "model_module_version": "1.5.0",
          "model_name": "HTMLModel",
          "state": {
            "_dom_classes": [],
            "_model_module": "@jupyter-widgets/controls",
            "_model_module_version": "1.5.0",
            "_model_name": "HTMLModel",
            "_view_count": null,
            "_view_module": "@jupyter-widgets/controls",
            "_view_module_version": "1.5.0",
            "_view_name": "HTMLView",
            "description": "",
            "description_tooltip": null,
            "layout": "IPY_MODEL_68cd1522a88842d48a22134c69b806ef",
            "placeholder": "​",
            "style": "IPY_MODEL_d30f18c0caa7406986f4fda952351ed9",
            "value": "100%"
          }
        },
        "28f0c192ad5748959da2ef18f79d5496": {
          "model_module": "@jupyter-widgets/controls",
          "model_module_version": "1.5.0",
          "model_name": "DescriptionStyleModel",
          "state": {
            "_model_module": "@jupyter-widgets/controls",
            "_model_module_version": "1.5.0",
            "_model_name": "DescriptionStyleModel",
            "_view_count": null,
            "_view_module": "@jupyter-widgets/base",
            "_view_module_version": "1.2.0",
            "_view_name": "StyleView",
            "description_width": ""
          }
        },
        "297103a1212149ad9a133b19744e9068": {
          "model_module": "@jupyter-widgets/controls",
          "model_module_version": "1.5.0",
          "model_name": "DescriptionStyleModel",
          "state": {
            "_model_module": "@jupyter-widgets/controls",
            "_model_module_version": "1.5.0",
            "_model_name": "DescriptionStyleModel",
            "_view_count": null,
            "_view_module": "@jupyter-widgets/base",
            "_view_module_version": "1.2.0",
            "_view_name": "StyleView",
            "description_width": ""
          }
        },
        "2a921a8dbd86409080eff7a4e37e9e28": {
          "model_module": "@jupyter-widgets/controls",
          "model_module_version": "1.5.0",
          "model_name": "HTMLModel",
          "state": {
            "_dom_classes": [],
            "_model_module": "@jupyter-widgets/controls",
            "_model_module_version": "1.5.0",
            "_model_name": "HTMLModel",
            "_view_count": null,
            "_view_module": "@jupyter-widgets/controls",
            "_view_module_version": "1.5.0",
            "_view_name": "HTMLView",
            "description": "",
            "description_tooltip": null,
            "layout": "IPY_MODEL_34a523e789164b2eab7b350bc4441066",
            "placeholder": "​",
            "style": "IPY_MODEL_cea85dfee7db43c4a79fc2ce6cf222f4",
            "value": " 118/118 [00:42&lt;00:00,  2.89it/s]"
          }
        },
        "2b4c6b1b9ea14eaaae6a2c35dddbaa28": {
          "model_module": "@jupyter-widgets/controls",
          "model_module_version": "1.5.0",
          "model_name": "HBoxModel",
          "state": {
            "_dom_classes": [],
            "_model_module": "@jupyter-widgets/controls",
            "_model_module_version": "1.5.0",
            "_model_name": "HBoxModel",
            "_view_count": null,
            "_view_module": "@jupyter-widgets/controls",
            "_view_module_version": "1.5.0",
            "_view_name": "HBoxView",
            "box_style": "",
            "children": [
              "IPY_MODEL_4dfc5c3f69e04ae6af0a3f30cc87b44a",
              "IPY_MODEL_83ba589a9a344f02a4eb13bb3533e286",
              "IPY_MODEL_c5a568e9be5549f7862f9bac33c27be9"
            ],
            "layout": "IPY_MODEL_5ab027a9dc2e4c0289159a62616875f6"
          }
        },
        "2c554b572ef049a8aa0c043311ff1e45": {
          "model_module": "@jupyter-widgets/base",
          "model_module_version": "1.2.0",
          "model_name": "LayoutModel",
          "state": {
            "_model_module": "@jupyter-widgets/base",
            "_model_module_version": "1.2.0",
            "_model_name": "LayoutModel",
            "_view_count": null,
            "_view_module": "@jupyter-widgets/base",
            "_view_module_version": "1.2.0",
            "_view_name": "LayoutView",
            "align_content": null,
            "align_items": null,
            "align_self": null,
            "border": null,
            "bottom": null,
            "display": null,
            "flex": null,
            "flex_flow": null,
            "grid_area": null,
            "grid_auto_columns": null,
            "grid_auto_flow": null,
            "grid_auto_rows": null,
            "grid_column": null,
            "grid_gap": null,
            "grid_row": null,
            "grid_template_areas": null,
            "grid_template_columns": null,
            "grid_template_rows": null,
            "height": null,
            "justify_content": null,
            "justify_items": null,
            "left": null,
            "margin": null,
            "max_height": null,
            "max_width": null,
            "min_height": null,
            "min_width": null,
            "object_fit": null,
            "object_position": null,
            "order": null,
            "overflow": null,
            "overflow_x": null,
            "overflow_y": null,
            "padding": null,
            "right": null,
            "top": null,
            "visibility": null,
            "width": null
          }
        },
        "2c5b68a5d9e94b909549c2efd242e191": {
          "model_module": "@jupyter-widgets/controls",
          "model_module_version": "1.5.0",
          "model_name": "DescriptionStyleModel",
          "state": {
            "_model_module": "@jupyter-widgets/controls",
            "_model_module_version": "1.5.0",
            "_model_name": "DescriptionStyleModel",
            "_view_count": null,
            "_view_module": "@jupyter-widgets/base",
            "_view_module_version": "1.2.0",
            "_view_name": "StyleView",
            "description_width": ""
          }
        },
        "2caec280933e48808ced5ff13b38754c": {
          "model_module": "@jupyter-widgets/base",
          "model_module_version": "1.2.0",
          "model_name": "LayoutModel",
          "state": {
            "_model_module": "@jupyter-widgets/base",
            "_model_module_version": "1.2.0",
            "_model_name": "LayoutModel",
            "_view_count": null,
            "_view_module": "@jupyter-widgets/base",
            "_view_module_version": "1.2.0",
            "_view_name": "LayoutView",
            "align_content": null,
            "align_items": null,
            "align_self": null,
            "border": null,
            "bottom": null,
            "display": null,
            "flex": null,
            "flex_flow": null,
            "grid_area": null,
            "grid_auto_columns": null,
            "grid_auto_flow": null,
            "grid_auto_rows": null,
            "grid_column": null,
            "grid_gap": null,
            "grid_row": null,
            "grid_template_areas": null,
            "grid_template_columns": null,
            "grid_template_rows": null,
            "height": null,
            "justify_content": null,
            "justify_items": null,
            "left": null,
            "margin": null,
            "max_height": null,
            "max_width": null,
            "min_height": null,
            "min_width": null,
            "object_fit": null,
            "object_position": null,
            "order": null,
            "overflow": null,
            "overflow_x": null,
            "overflow_y": null,
            "padding": null,
            "right": null,
            "top": null,
            "visibility": null,
            "width": null
          }
        },
        "30176967d7d64e629d3715df2a5ac31b": {
          "model_module": "@jupyter-widgets/controls",
          "model_module_version": "1.5.0",
          "model_name": "DescriptionStyleModel",
          "state": {
            "_model_module": "@jupyter-widgets/controls",
            "_model_module_version": "1.5.0",
            "_model_name": "DescriptionStyleModel",
            "_view_count": null,
            "_view_module": "@jupyter-widgets/base",
            "_view_module_version": "1.2.0",
            "_view_name": "StyleView",
            "description_width": ""
          }
        },
        "318372d487f240b0b92081ec1fe5ec9a": {
          "model_module": "@jupyter-widgets/controls",
          "model_module_version": "1.5.0",
          "model_name": "DescriptionStyleModel",
          "state": {
            "_model_module": "@jupyter-widgets/controls",
            "_model_module_version": "1.5.0",
            "_model_name": "DescriptionStyleModel",
            "_view_count": null,
            "_view_module": "@jupyter-widgets/base",
            "_view_module_version": "1.2.0",
            "_view_name": "StyleView",
            "description_width": ""
          }
        },
        "331a77f83ddc45cda3d40eda146f9a94": {
          "model_module": "@jupyter-widgets/controls",
          "model_module_version": "1.5.0",
          "model_name": "FloatProgressModel",
          "state": {
            "_dom_classes": [],
            "_model_module": "@jupyter-widgets/controls",
            "_model_module_version": "1.5.0",
            "_model_name": "FloatProgressModel",
            "_view_count": null,
            "_view_module": "@jupyter-widgets/controls",
            "_view_module_version": "1.5.0",
            "_view_name": "ProgressView",
            "bar_style": "success",
            "description": "",
            "description_tooltip": null,
            "layout": "IPY_MODEL_8a7d63270c6349efb0a163a17494cc84",
            "max": 10,
            "min": 0,
            "orientation": "horizontal",
            "style": "IPY_MODEL_bda8d306f96245f5a5683303514fc5e2",
            "value": 10
          }
        },
        "34a523e789164b2eab7b350bc4441066": {
          "model_module": "@jupyter-widgets/base",
          "model_module_version": "1.2.0",
          "model_name": "LayoutModel",
          "state": {
            "_model_module": "@jupyter-widgets/base",
            "_model_module_version": "1.2.0",
            "_model_name": "LayoutModel",
            "_view_count": null,
            "_view_module": "@jupyter-widgets/base",
            "_view_module_version": "1.2.0",
            "_view_name": "LayoutView",
            "align_content": null,
            "align_items": null,
            "align_self": null,
            "border": null,
            "bottom": null,
            "display": null,
            "flex": null,
            "flex_flow": null,
            "grid_area": null,
            "grid_auto_columns": null,
            "grid_auto_flow": null,
            "grid_auto_rows": null,
            "grid_column": null,
            "grid_gap": null,
            "grid_row": null,
            "grid_template_areas": null,
            "grid_template_columns": null,
            "grid_template_rows": null,
            "height": null,
            "justify_content": null,
            "justify_items": null,
            "left": null,
            "margin": null,
            "max_height": null,
            "max_width": null,
            "min_height": null,
            "min_width": null,
            "object_fit": null,
            "object_position": null,
            "order": null,
            "overflow": null,
            "overflow_x": null,
            "overflow_y": null,
            "padding": null,
            "right": null,
            "top": null,
            "visibility": null,
            "width": null
          }
        },
        "34ae8779a4774356ac7ab20cc2bff095": {
          "model_module": "@jupyter-widgets/controls",
          "model_module_version": "1.5.0",
          "model_name": "ProgressStyleModel",
          "state": {
            "_model_module": "@jupyter-widgets/controls",
            "_model_module_version": "1.5.0",
            "_model_name": "ProgressStyleModel",
            "_view_count": null,
            "_view_module": "@jupyter-widgets/base",
            "_view_module_version": "1.2.0",
            "_view_name": "StyleView",
            "bar_color": null,
            "description_width": ""
          }
        },
        "36a7dcbacfcf42c08344f0d38d9ebf3c": {
          "model_module": "@jupyter-widgets/controls",
          "model_module_version": "1.5.0",
          "model_name": "FloatProgressModel",
          "state": {
            "_dom_classes": [],
            "_model_module": "@jupyter-widgets/controls",
            "_model_module_version": "1.5.0",
            "_model_name": "FloatProgressModel",
            "_view_count": null,
            "_view_module": "@jupyter-widgets/controls",
            "_view_module_version": "1.5.0",
            "_view_name": "ProgressView",
            "bar_style": "success",
            "description": "",
            "description_tooltip": null,
            "layout": "IPY_MODEL_178398f9be8d418b8966fcae0ebbbf7b",
            "max": 29,
            "min": 0,
            "orientation": "horizontal",
            "style": "IPY_MODEL_6a6d732e1a8042919ae82b57e74bcd0c",
            "value": 29
          }
        },
        "37a1a51d368b4968873feb88fe28c125": {
          "model_module": "@jupyter-widgets/base",
          "model_module_version": "1.2.0",
          "model_name": "LayoutModel",
          "state": {
            "_model_module": "@jupyter-widgets/base",
            "_model_module_version": "1.2.0",
            "_model_name": "LayoutModel",
            "_view_count": null,
            "_view_module": "@jupyter-widgets/base",
            "_view_module_version": "1.2.0",
            "_view_name": "LayoutView",
            "align_content": null,
            "align_items": null,
            "align_self": null,
            "border": null,
            "bottom": null,
            "display": null,
            "flex": null,
            "flex_flow": null,
            "grid_area": null,
            "grid_auto_columns": null,
            "grid_auto_flow": null,
            "grid_auto_rows": null,
            "grid_column": null,
            "grid_gap": null,
            "grid_row": null,
            "grid_template_areas": null,
            "grid_template_columns": null,
            "grid_template_rows": null,
            "height": null,
            "justify_content": null,
            "justify_items": null,
            "left": null,
            "margin": null,
            "max_height": null,
            "max_width": null,
            "min_height": null,
            "min_width": null,
            "object_fit": null,
            "object_position": null,
            "order": null,
            "overflow": null,
            "overflow_x": null,
            "overflow_y": null,
            "padding": null,
            "right": null,
            "top": null,
            "visibility": null,
            "width": null
          }
        },
        "380d562f242c416ab83f8653cbb61ca7": {
          "model_module": "@jupyter-widgets/controls",
          "model_module_version": "1.5.0",
          "model_name": "DescriptionStyleModel",
          "state": {
            "_model_module": "@jupyter-widgets/controls",
            "_model_module_version": "1.5.0",
            "_model_name": "DescriptionStyleModel",
            "_view_count": null,
            "_view_module": "@jupyter-widgets/base",
            "_view_module_version": "1.2.0",
            "_view_name": "StyleView",
            "description_width": ""
          }
        },
        "399163198dfb440f93455c50277b8b86": {
          "model_module": "@jupyter-widgets/base",
          "model_module_version": "1.2.0",
          "model_name": "LayoutModel",
          "state": {
            "_model_module": "@jupyter-widgets/base",
            "_model_module_version": "1.2.0",
            "_model_name": "LayoutModel",
            "_view_count": null,
            "_view_module": "@jupyter-widgets/base",
            "_view_module_version": "1.2.0",
            "_view_name": "LayoutView",
            "align_content": null,
            "align_items": null,
            "align_self": null,
            "border": null,
            "bottom": null,
            "display": null,
            "flex": null,
            "flex_flow": null,
            "grid_area": null,
            "grid_auto_columns": null,
            "grid_auto_flow": null,
            "grid_auto_rows": null,
            "grid_column": null,
            "grid_gap": null,
            "grid_row": null,
            "grid_template_areas": null,
            "grid_template_columns": null,
            "grid_template_rows": null,
            "height": null,
            "justify_content": null,
            "justify_items": null,
            "left": null,
            "margin": null,
            "max_height": null,
            "max_width": null,
            "min_height": null,
            "min_width": null,
            "object_fit": null,
            "object_position": null,
            "order": null,
            "overflow": null,
            "overflow_x": null,
            "overflow_y": null,
            "padding": null,
            "right": null,
            "top": null,
            "visibility": null,
            "width": null
          }
        },
        "3a129e36e70049c2a1da8bb53373f0de": {
          "model_module": "@jupyter-widgets/controls",
          "model_module_version": "1.5.0",
          "model_name": "HTMLModel",
          "state": {
            "_dom_classes": [],
            "_model_module": "@jupyter-widgets/controls",
            "_model_module_version": "1.5.0",
            "_model_name": "HTMLModel",
            "_view_count": null,
            "_view_module": "@jupyter-widgets/controls",
            "_view_module_version": "1.5.0",
            "_view_name": "HTMLView",
            "description": "",
            "description_tooltip": null,
            "layout": "IPY_MODEL_a814ebfddfb74b62996203d180d272c7",
            "placeholder": "​",
            "style": "IPY_MODEL_1e17459d1b8b4a3e86f1cbef522df95a",
            "value": "0.28199046294503205: 100%"
          }
        },
        "3b303aca08a24fcdbc2c5ec021990bf1": {
          "model_module": "@jupyter-widgets/controls",
          "model_module_version": "1.5.0",
          "model_name": "FloatProgressModel",
          "state": {
            "_dom_classes": [],
            "_model_module": "@jupyter-widgets/controls",
            "_model_module_version": "1.5.0",
            "_model_name": "FloatProgressModel",
            "_view_count": null,
            "_view_module": "@jupyter-widgets/controls",
            "_view_module_version": "1.5.0",
            "_view_name": "ProgressView",
            "bar_style": "success",
            "description": "",
            "description_tooltip": null,
            "layout": "IPY_MODEL_b5032a83e39149539719e3e4724330a1",
            "max": 118,
            "min": 0,
            "orientation": "horizontal",
            "style": "IPY_MODEL_50b9c86f709344aa8a25b4dc11f4eb23",
            "value": 118
          }
        },
        "3c67987f6137499185ce53348febc78a": {
          "model_module": "@jupyter-widgets/controls",
          "model_module_version": "1.5.0",
          "model_name": "HTMLModel",
          "state": {
            "_dom_classes": [],
            "_model_module": "@jupyter-widgets/controls",
            "_model_module_version": "1.5.0",
            "_model_name": "HTMLModel",
            "_view_count": null,
            "_view_module": "@jupyter-widgets/controls",
            "_view_module_version": "1.5.0",
            "_view_name": "HTMLView",
            "description": "",
            "description_tooltip": null,
            "layout": "IPY_MODEL_0d6d2c17f31b49cbbc2002481b1bf4c6",
            "placeholder": "​",
            "style": "IPY_MODEL_c5e4408ca3e64dc4b35d1d539eb79ba9",
            "value": " 10/10 [06:06&lt;00:00, 36.55s/it]"
          }
        },
        "3ed29aa899c6405ea9dc421aeeeb5d4a": {
          "model_module": "@jupyter-widgets/controls",
          "model_module_version": "1.5.0",
          "model_name": "HTMLModel",
          "state": {
            "_dom_classes": [],
            "_model_module": "@jupyter-widgets/controls",
            "_model_module_version": "1.5.0",
            "_model_name": "HTMLModel",
            "_view_count": null,
            "_view_module": "@jupyter-widgets/controls",
            "_view_module_version": "1.5.0",
            "_view_name": "HTMLView",
            "description": "",
            "description_tooltip": null,
            "layout": "IPY_MODEL_fcddbfa59c104f3995b1171b2c26e9dc",
            "placeholder": "​",
            "style": "IPY_MODEL_6fa143224ecb4f2ea8fc4c95c3fd9011",
            "value": " 5/5 [03:49&lt;00:00, 45.78s/it]"
          }
        },
        "401af115a0d248449c9261be1953df66": {
          "model_module": "@jupyter-widgets/base",
          "model_module_version": "1.2.0",
          "model_name": "LayoutModel",
          "state": {
            "_model_module": "@jupyter-widgets/base",
            "_model_module_version": "1.2.0",
            "_model_name": "LayoutModel",
            "_view_count": null,
            "_view_module": "@jupyter-widgets/base",
            "_view_module_version": "1.2.0",
            "_view_name": "LayoutView",
            "align_content": null,
            "align_items": null,
            "align_self": null,
            "border": null,
            "bottom": null,
            "display": null,
            "flex": null,
            "flex_flow": null,
            "grid_area": null,
            "grid_auto_columns": null,
            "grid_auto_flow": null,
            "grid_auto_rows": null,
            "grid_column": null,
            "grid_gap": null,
            "grid_row": null,
            "grid_template_areas": null,
            "grid_template_columns": null,
            "grid_template_rows": null,
            "height": null,
            "justify_content": null,
            "justify_items": null,
            "left": null,
            "margin": null,
            "max_height": null,
            "max_width": null,
            "min_height": null,
            "min_width": null,
            "object_fit": null,
            "object_position": null,
            "order": null,
            "overflow": null,
            "overflow_x": null,
            "overflow_y": null,
            "padding": null,
            "right": null,
            "top": null,
            "visibility": null,
            "width": null
          }
        },
        "407f0a61283348009a923874fae290b8": {
          "model_module": "@jupyter-widgets/controls",
          "model_module_version": "1.5.0",
          "model_name": "HBoxModel",
          "state": {
            "_dom_classes": [],
            "_model_module": "@jupyter-widgets/controls",
            "_model_module_version": "1.5.0",
            "_model_name": "HBoxModel",
            "_view_count": null,
            "_view_module": "@jupyter-widgets/controls",
            "_view_module_version": "1.5.0",
            "_view_name": "HBoxView",
            "box_style": "",
            "children": [
              "IPY_MODEL_aa95a99db583426dad0ccc9aeac4fa30",
              "IPY_MODEL_b4575ce02152483b81b1c840007e4e90",
              "IPY_MODEL_f637e555cf334de4b5189b48aa6bf814"
            ],
            "layout": "IPY_MODEL_e3e246b023004f63b5cf15b6584ffe22"
          }
        },
        "411c69dcfa2d4bbaa556e6e62f6dbb4e": {
          "model_module": "@jupyter-widgets/base",
          "model_module_version": "1.2.0",
          "model_name": "LayoutModel",
          "state": {
            "_model_module": "@jupyter-widgets/base",
            "_model_module_version": "1.2.0",
            "_model_name": "LayoutModel",
            "_view_count": null,
            "_view_module": "@jupyter-widgets/base",
            "_view_module_version": "1.2.0",
            "_view_name": "LayoutView",
            "align_content": null,
            "align_items": null,
            "align_self": null,
            "border": null,
            "bottom": null,
            "display": null,
            "flex": null,
            "flex_flow": null,
            "grid_area": null,
            "grid_auto_columns": null,
            "grid_auto_flow": null,
            "grid_auto_rows": null,
            "grid_column": null,
            "grid_gap": null,
            "grid_row": null,
            "grid_template_areas": null,
            "grid_template_columns": null,
            "grid_template_rows": null,
            "height": null,
            "justify_content": null,
            "justify_items": null,
            "left": null,
            "margin": null,
            "max_height": null,
            "max_width": null,
            "min_height": null,
            "min_width": null,
            "object_fit": null,
            "object_position": null,
            "order": null,
            "overflow": null,
            "overflow_x": null,
            "overflow_y": null,
            "padding": null,
            "right": null,
            "top": null,
            "visibility": null,
            "width": null
          }
        },
        "427368407c9443fc9e707a7ce6590067": {
          "model_module": "@jupyter-widgets/controls",
          "model_module_version": "1.5.0",
          "model_name": "DescriptionStyleModel",
          "state": {
            "_model_module": "@jupyter-widgets/controls",
            "_model_module_version": "1.5.0",
            "_model_name": "DescriptionStyleModel",
            "_view_count": null,
            "_view_module": "@jupyter-widgets/base",
            "_view_module_version": "1.2.0",
            "_view_name": "StyleView",
            "description_width": ""
          }
        },
        "42a38bde729044b1bc36db1aa94fb7ae": {
          "model_module": "@jupyter-widgets/controls",
          "model_module_version": "1.5.0",
          "model_name": "ProgressStyleModel",
          "state": {
            "_model_module": "@jupyter-widgets/controls",
            "_model_module_version": "1.5.0",
            "_model_name": "ProgressStyleModel",
            "_view_count": null,
            "_view_module": "@jupyter-widgets/base",
            "_view_module_version": "1.2.0",
            "_view_name": "StyleView",
            "bar_color": null,
            "description_width": ""
          }
        },
        "42e9c988951b41beaffde5705436c39c": {
          "model_module": "@jupyter-widgets/base",
          "model_module_version": "1.2.0",
          "model_name": "LayoutModel",
          "state": {
            "_model_module": "@jupyter-widgets/base",
            "_model_module_version": "1.2.0",
            "_model_name": "LayoutModel",
            "_view_count": null,
            "_view_module": "@jupyter-widgets/base",
            "_view_module_version": "1.2.0",
            "_view_name": "LayoutView",
            "align_content": null,
            "align_items": null,
            "align_self": null,
            "border": null,
            "bottom": null,
            "display": null,
            "flex": null,
            "flex_flow": null,
            "grid_area": null,
            "grid_auto_columns": null,
            "grid_auto_flow": null,
            "grid_auto_rows": null,
            "grid_column": null,
            "grid_gap": null,
            "grid_row": null,
            "grid_template_areas": null,
            "grid_template_columns": null,
            "grid_template_rows": null,
            "height": null,
            "justify_content": null,
            "justify_items": null,
            "left": null,
            "margin": null,
            "max_height": null,
            "max_width": null,
            "min_height": null,
            "min_width": null,
            "object_fit": null,
            "object_position": null,
            "order": null,
            "overflow": null,
            "overflow_x": null,
            "overflow_y": null,
            "padding": null,
            "right": null,
            "top": null,
            "visibility": null,
            "width": null
          }
        },
        "42f478063a0e4641975e3e4734a560b7": {
          "model_module": "@jupyter-widgets/controls",
          "model_module_version": "1.5.0",
          "model_name": "ProgressStyleModel",
          "state": {
            "_model_module": "@jupyter-widgets/controls",
            "_model_module_version": "1.5.0",
            "_model_name": "ProgressStyleModel",
            "_view_count": null,
            "_view_module": "@jupyter-widgets/base",
            "_view_module_version": "1.2.0",
            "_view_name": "StyleView",
            "bar_color": null,
            "description_width": ""
          }
        },
        "445ac49cfd464a7fa3c7824b88cf793f": {
          "model_module": "@jupyter-widgets/controls",
          "model_module_version": "1.5.0",
          "model_name": "HTMLModel",
          "state": {
            "_dom_classes": [],
            "_model_module": "@jupyter-widgets/controls",
            "_model_module_version": "1.5.0",
            "_model_name": "HTMLModel",
            "_view_count": null,
            "_view_module": "@jupyter-widgets/controls",
            "_view_module_version": "1.5.0",
            "_view_name": "HTMLView",
            "description": "",
            "description_tooltip": null,
            "layout": "IPY_MODEL_bfd2016b4102488d809ad88396293f10",
            "placeholder": "​",
            "style": "IPY_MODEL_5305f1f14fbe4701bdd873579b8fddac",
            "value": "100%"
          }
        },
        "4468558157d94f35b6185d6a6e95c0c7": {
          "model_module": "@jupyter-widgets/controls",
          "model_module_version": "1.5.0",
          "model_name": "ProgressStyleModel",
          "state": {
            "_model_module": "@jupyter-widgets/controls",
            "_model_module_version": "1.5.0",
            "_model_name": "ProgressStyleModel",
            "_view_count": null,
            "_view_module": "@jupyter-widgets/base",
            "_view_module_version": "1.2.0",
            "_view_name": "StyleView",
            "bar_color": null,
            "description_width": ""
          }
        },
        "4580a5380543456191b9e46515b00d69": {
          "model_module": "@jupyter-widgets/controls",
          "model_module_version": "1.5.0",
          "model_name": "HTMLModel",
          "state": {
            "_dom_classes": [],
            "_model_module": "@jupyter-widgets/controls",
            "_model_module_version": "1.5.0",
            "_model_name": "HTMLModel",
            "_view_count": null,
            "_view_module": "@jupyter-widgets/controls",
            "_view_module_version": "1.5.0",
            "_view_name": "HTMLView",
            "description": "",
            "description_tooltip": null,
            "layout": "IPY_MODEL_ef811b1baffc4518b4938ea061d838d1",
            "placeholder": "​",
            "style": "IPY_MODEL_a74a0bcff2ae4627b33f2e1fffffeddf",
            "value": "epoch: 4 --&gt; training loss: 346.27897119522095: 100%"
          }
        },
        "49c8e17539b4499098aec7e43af25107": {
          "model_module": "@jupyter-widgets/controls",
          "model_module_version": "1.5.0",
          "model_name": "HTMLModel",
          "state": {
            "_dom_classes": [],
            "_model_module": "@jupyter-widgets/controls",
            "_model_module_version": "1.5.0",
            "_model_name": "HTMLModel",
            "_view_count": null,
            "_view_module": "@jupyter-widgets/controls",
            "_view_module_version": "1.5.0",
            "_view_name": "HTMLView",
            "description": "",
            "description_tooltip": null,
            "layout": "IPY_MODEL_21266506204a4037ae8660fa829cd59e",
            "placeholder": "​",
            "style": "IPY_MODEL_beeee14a485942aa8bfad303bd85d0cf",
            "value": "100%"
          }
        },
        "4dfc5c3f69e04ae6af0a3f30cc87b44a": {
          "model_module": "@jupyter-widgets/controls",
          "model_module_version": "1.5.0",
          "model_name": "HTMLModel",
          "state": {
            "_dom_classes": [],
            "_model_module": "@jupyter-widgets/controls",
            "_model_module_version": "1.5.0",
            "_model_name": "HTMLModel",
            "_view_count": null,
            "_view_module": "@jupyter-widgets/controls",
            "_view_module_version": "1.5.0",
            "_view_name": "HTMLView",
            "description": "",
            "description_tooltip": null,
            "layout": "IPY_MODEL_151d285a31a34303802fcf00b8a3ca9a",
            "placeholder": "​",
            "style": "IPY_MODEL_6d88c270f7684b56a28c4b51db3e460b",
            "value": "100%"
          }
        },
        "4e95ecc2dc6b4f16951360ced9c0b9d6": {
          "model_module": "@jupyter-widgets/base",
          "model_module_version": "1.2.0",
          "model_name": "LayoutModel",
          "state": {
            "_model_module": "@jupyter-widgets/base",
            "_model_module_version": "1.2.0",
            "_model_name": "LayoutModel",
            "_view_count": null,
            "_view_module": "@jupyter-widgets/base",
            "_view_module_version": "1.2.0",
            "_view_name": "LayoutView",
            "align_content": null,
            "align_items": null,
            "align_self": null,
            "border": null,
            "bottom": null,
            "display": null,
            "flex": null,
            "flex_flow": null,
            "grid_area": null,
            "grid_auto_columns": null,
            "grid_auto_flow": null,
            "grid_auto_rows": null,
            "grid_column": null,
            "grid_gap": null,
            "grid_row": null,
            "grid_template_areas": null,
            "grid_template_columns": null,
            "grid_template_rows": null,
            "height": null,
            "justify_content": null,
            "justify_items": null,
            "left": null,
            "margin": null,
            "max_height": null,
            "max_width": null,
            "min_height": null,
            "min_width": null,
            "object_fit": null,
            "object_position": null,
            "order": null,
            "overflow": null,
            "overflow_x": null,
            "overflow_y": null,
            "padding": null,
            "right": null,
            "top": null,
            "visibility": null,
            "width": null
          }
        },
        "4edd9cdeacfa45208ea0c0b0a01b6450": {
          "model_module": "@jupyter-widgets/base",
          "model_module_version": "1.2.0",
          "model_name": "LayoutModel",
          "state": {
            "_model_module": "@jupyter-widgets/base",
            "_model_module_version": "1.2.0",
            "_model_name": "LayoutModel",
            "_view_count": null,
            "_view_module": "@jupyter-widgets/base",
            "_view_module_version": "1.2.0",
            "_view_name": "LayoutView",
            "align_content": null,
            "align_items": null,
            "align_self": null,
            "border": null,
            "bottom": null,
            "display": null,
            "flex": null,
            "flex_flow": null,
            "grid_area": null,
            "grid_auto_columns": null,
            "grid_auto_flow": null,
            "grid_auto_rows": null,
            "grid_column": null,
            "grid_gap": null,
            "grid_row": null,
            "grid_template_areas": null,
            "grid_template_columns": null,
            "grid_template_rows": null,
            "height": null,
            "justify_content": null,
            "justify_items": null,
            "left": null,
            "margin": null,
            "max_height": null,
            "max_width": null,
            "min_height": null,
            "min_width": null,
            "object_fit": null,
            "object_position": null,
            "order": null,
            "overflow": null,
            "overflow_x": null,
            "overflow_y": null,
            "padding": null,
            "right": null,
            "top": null,
            "visibility": null,
            "width": null
          }
        },
        "4fbd30fd6d7c4e988c8ae3fd5829b6b8": {
          "model_module": "@jupyter-widgets/base",
          "model_module_version": "1.2.0",
          "model_name": "LayoutModel",
          "state": {
            "_model_module": "@jupyter-widgets/base",
            "_model_module_version": "1.2.0",
            "_model_name": "LayoutModel",
            "_view_count": null,
            "_view_module": "@jupyter-widgets/base",
            "_view_module_version": "1.2.0",
            "_view_name": "LayoutView",
            "align_content": null,
            "align_items": null,
            "align_self": null,
            "border": null,
            "bottom": null,
            "display": null,
            "flex": null,
            "flex_flow": null,
            "grid_area": null,
            "grid_auto_columns": null,
            "grid_auto_flow": null,
            "grid_auto_rows": null,
            "grid_column": null,
            "grid_gap": null,
            "grid_row": null,
            "grid_template_areas": null,
            "grid_template_columns": null,
            "grid_template_rows": null,
            "height": null,
            "justify_content": null,
            "justify_items": null,
            "left": null,
            "margin": null,
            "max_height": null,
            "max_width": null,
            "min_height": null,
            "min_width": null,
            "object_fit": null,
            "object_position": null,
            "order": null,
            "overflow": null,
            "overflow_x": null,
            "overflow_y": null,
            "padding": null,
            "right": null,
            "top": null,
            "visibility": null,
            "width": null
          }
        },
        "50b9c86f709344aa8a25b4dc11f4eb23": {
          "model_module": "@jupyter-widgets/controls",
          "model_module_version": "1.5.0",
          "model_name": "ProgressStyleModel",
          "state": {
            "_model_module": "@jupyter-widgets/controls",
            "_model_module_version": "1.5.0",
            "_model_name": "ProgressStyleModel",
            "_view_count": null,
            "_view_module": "@jupyter-widgets/base",
            "_view_module_version": "1.2.0",
            "_view_name": "StyleView",
            "bar_color": null,
            "description_width": ""
          }
        },
        "51e5041dc11c4081b08f7b9b65fdabfd": {
          "model_module": "@jupyter-widgets/controls",
          "model_module_version": "1.5.0",
          "model_name": "HTMLModel",
          "state": {
            "_dom_classes": [],
            "_model_module": "@jupyter-widgets/controls",
            "_model_module_version": "1.5.0",
            "_model_name": "HTMLModel",
            "_view_count": null,
            "_view_module": "@jupyter-widgets/controls",
            "_view_module_version": "1.5.0",
            "_view_name": "HTMLView",
            "description": "",
            "description_tooltip": null,
            "layout": "IPY_MODEL_cb40d4d25ed94a359e5bde5bc2507e7c",
            "placeholder": "​",
            "style": "IPY_MODEL_6b2c8e98fe4a4fb18d0738fe28acc802",
            "value": " 29/29 [00:35&lt;00:00,  1.05it/s]"
          }
        },
        "52120dc33c854f8c92ac088ae1782ab0": {
          "model_module": "@jupyter-widgets/controls",
          "model_module_version": "1.5.0",
          "model_name": "HBoxModel",
          "state": {
            "_dom_classes": [],
            "_model_module": "@jupyter-widgets/controls",
            "_model_module_version": "1.5.0",
            "_model_name": "HBoxModel",
            "_view_count": null,
            "_view_module": "@jupyter-widgets/controls",
            "_view_module_version": "1.5.0",
            "_view_name": "HBoxView",
            "box_style": "",
            "children": [
              "IPY_MODEL_3a129e36e70049c2a1da8bb53373f0de",
              "IPY_MODEL_659688482f00477aa8f522f3b4effa07",
              "IPY_MODEL_1e7d0e49231249abb9aaccc5bd876a79"
            ],
            "layout": "IPY_MODEL_b6c9ff7fa5d6462095fa4b7e646008ce"
          }
        },
        "5305f1f14fbe4701bdd873579b8fddac": {
          "model_module": "@jupyter-widgets/controls",
          "model_module_version": "1.5.0",
          "model_name": "DescriptionStyleModel",
          "state": {
            "_model_module": "@jupyter-widgets/controls",
            "_model_module_version": "1.5.0",
            "_model_name": "DescriptionStyleModel",
            "_view_count": null,
            "_view_module": "@jupyter-widgets/base",
            "_view_module_version": "1.2.0",
            "_view_name": "StyleView",
            "description_width": ""
          }
        },
        "53293dc4e85a490c8bf2454204144e21": {
          "model_module": "@jupyter-widgets/base",
          "model_module_version": "1.2.0",
          "model_name": "LayoutModel",
          "state": {
            "_model_module": "@jupyter-widgets/base",
            "_model_module_version": "1.2.0",
            "_model_name": "LayoutModel",
            "_view_count": null,
            "_view_module": "@jupyter-widgets/base",
            "_view_module_version": "1.2.0",
            "_view_name": "LayoutView",
            "align_content": null,
            "align_items": null,
            "align_self": null,
            "border": null,
            "bottom": null,
            "display": null,
            "flex": null,
            "flex_flow": null,
            "grid_area": null,
            "grid_auto_columns": null,
            "grid_auto_flow": null,
            "grid_auto_rows": null,
            "grid_column": null,
            "grid_gap": null,
            "grid_row": null,
            "grid_template_areas": null,
            "grid_template_columns": null,
            "grid_template_rows": null,
            "height": null,
            "justify_content": null,
            "justify_items": null,
            "left": null,
            "margin": null,
            "max_height": null,
            "max_width": null,
            "min_height": null,
            "min_width": null,
            "object_fit": null,
            "object_position": null,
            "order": null,
            "overflow": null,
            "overflow_x": null,
            "overflow_y": null,
            "padding": null,
            "right": null,
            "top": null,
            "visibility": null,
            "width": null
          }
        },
        "5397d580c4f14709a98ae3882afc304d": {
          "model_module": "@jupyter-widgets/base",
          "model_module_version": "1.2.0",
          "model_name": "LayoutModel",
          "state": {
            "_model_module": "@jupyter-widgets/base",
            "_model_module_version": "1.2.0",
            "_model_name": "LayoutModel",
            "_view_count": null,
            "_view_module": "@jupyter-widgets/base",
            "_view_module_version": "1.2.0",
            "_view_name": "LayoutView",
            "align_content": null,
            "align_items": null,
            "align_self": null,
            "border": null,
            "bottom": null,
            "display": null,
            "flex": null,
            "flex_flow": null,
            "grid_area": null,
            "grid_auto_columns": null,
            "grid_auto_flow": null,
            "grid_auto_rows": null,
            "grid_column": null,
            "grid_gap": null,
            "grid_row": null,
            "grid_template_areas": null,
            "grid_template_columns": null,
            "grid_template_rows": null,
            "height": null,
            "justify_content": null,
            "justify_items": null,
            "left": null,
            "margin": null,
            "max_height": null,
            "max_width": null,
            "min_height": null,
            "min_width": null,
            "object_fit": null,
            "object_position": null,
            "order": null,
            "overflow": null,
            "overflow_x": null,
            "overflow_y": null,
            "padding": null,
            "right": null,
            "top": null,
            "visibility": null,
            "width": null
          }
        },
        "54afd2f4dc3941108da6db315a1baecf": {
          "model_module": "@jupyter-widgets/controls",
          "model_module_version": "1.5.0",
          "model_name": "HTMLModel",
          "state": {
            "_dom_classes": [],
            "_model_module": "@jupyter-widgets/controls",
            "_model_module_version": "1.5.0",
            "_model_name": "HTMLModel",
            "_view_count": null,
            "_view_module": "@jupyter-widgets/controls",
            "_view_module_version": "1.5.0",
            "_view_name": "HTMLView",
            "description": "",
            "description_tooltip": null,
            "layout": "IPY_MODEL_a9388f49ec5a447087b4922add997930",
            "placeholder": "​",
            "style": "IPY_MODEL_28f0c192ad5748959da2ef18f79d5496",
            "value": " 118/118 [00:44&lt;00:00,  2.68it/s]"
          }
        },
        "576507dbc45245579e1668195e734441": {
          "model_module": "@jupyter-widgets/controls",
          "model_module_version": "1.5.0",
          "model_name": "DescriptionStyleModel",
          "state": {
            "_model_module": "@jupyter-widgets/controls",
            "_model_module_version": "1.5.0",
            "_model_name": "DescriptionStyleModel",
            "_view_count": null,
            "_view_module": "@jupyter-widgets/base",
            "_view_module_version": "1.2.0",
            "_view_name": "StyleView",
            "description_width": ""
          }
        },
        "577e8b0e76d242f89e3dc963dbf8f39e": {
          "model_module": "@jupyter-widgets/controls",
          "model_module_version": "1.5.0",
          "model_name": "ProgressStyleModel",
          "state": {
            "_model_module": "@jupyter-widgets/controls",
            "_model_module_version": "1.5.0",
            "_model_name": "ProgressStyleModel",
            "_view_count": null,
            "_view_module": "@jupyter-widgets/base",
            "_view_module_version": "1.2.0",
            "_view_name": "StyleView",
            "bar_color": null,
            "description_width": ""
          }
        },
        "5783fda541ad4dd5850714653789b032": {
          "model_module": "@jupyter-widgets/controls",
          "model_module_version": "1.5.0",
          "model_name": "HBoxModel",
          "state": {
            "_dom_classes": [],
            "_model_module": "@jupyter-widgets/controls",
            "_model_module_version": "1.5.0",
            "_model_name": "HBoxModel",
            "_view_count": null,
            "_view_module": "@jupyter-widgets/controls",
            "_view_module_version": "1.5.0",
            "_view_name": "HBoxView",
            "box_style": "",
            "children": [
              "IPY_MODEL_81e8464b063846769a77e2c15fef7e00",
              "IPY_MODEL_1149d13e8adb4423b36daae6de359e39",
              "IPY_MODEL_e2828459004949b9bfa067e962bf8eed"
            ],
            "layout": "IPY_MODEL_2caec280933e48808ced5ff13b38754c"
          }
        },
        "58d877dc01fd4733a5ece97096b46a19": {
          "model_module": "@jupyter-widgets/base",
          "model_module_version": "1.2.0",
          "model_name": "LayoutModel",
          "state": {
            "_model_module": "@jupyter-widgets/base",
            "_model_module_version": "1.2.0",
            "_model_name": "LayoutModel",
            "_view_count": null,
            "_view_module": "@jupyter-widgets/base",
            "_view_module_version": "1.2.0",
            "_view_name": "LayoutView",
            "align_content": null,
            "align_items": null,
            "align_self": null,
            "border": null,
            "bottom": null,
            "display": null,
            "flex": null,
            "flex_flow": null,
            "grid_area": null,
            "grid_auto_columns": null,
            "grid_auto_flow": null,
            "grid_auto_rows": null,
            "grid_column": null,
            "grid_gap": null,
            "grid_row": null,
            "grid_template_areas": null,
            "grid_template_columns": null,
            "grid_template_rows": null,
            "height": null,
            "justify_content": null,
            "justify_items": null,
            "left": null,
            "margin": null,
            "max_height": null,
            "max_width": null,
            "min_height": null,
            "min_width": null,
            "object_fit": null,
            "object_position": null,
            "order": null,
            "overflow": null,
            "overflow_x": null,
            "overflow_y": null,
            "padding": null,
            "right": null,
            "top": null,
            "visibility": null,
            "width": null
          }
        },
        "5a40b9546ef2452cb729411fc22c64b0": {
          "model_module": "@jupyter-widgets/base",
          "model_module_version": "1.2.0",
          "model_name": "LayoutModel",
          "state": {
            "_model_module": "@jupyter-widgets/base",
            "_model_module_version": "1.2.0",
            "_model_name": "LayoutModel",
            "_view_count": null,
            "_view_module": "@jupyter-widgets/base",
            "_view_module_version": "1.2.0",
            "_view_name": "LayoutView",
            "align_content": null,
            "align_items": null,
            "align_self": null,
            "border": null,
            "bottom": null,
            "display": null,
            "flex": null,
            "flex_flow": null,
            "grid_area": null,
            "grid_auto_columns": null,
            "grid_auto_flow": null,
            "grid_auto_rows": null,
            "grid_column": null,
            "grid_gap": null,
            "grid_row": null,
            "grid_template_areas": null,
            "grid_template_columns": null,
            "grid_template_rows": null,
            "height": null,
            "justify_content": null,
            "justify_items": null,
            "left": null,
            "margin": null,
            "max_height": null,
            "max_width": null,
            "min_height": null,
            "min_width": null,
            "object_fit": null,
            "object_position": null,
            "order": null,
            "overflow": null,
            "overflow_x": null,
            "overflow_y": null,
            "padding": null,
            "right": null,
            "top": null,
            "visibility": null,
            "width": null
          }
        },
        "5a618d744d6c4d6e9d6aec1f9bd0becf": {
          "model_module": "@jupyter-widgets/base",
          "model_module_version": "1.2.0",
          "model_name": "LayoutModel",
          "state": {
            "_model_module": "@jupyter-widgets/base",
            "_model_module_version": "1.2.0",
            "_model_name": "LayoutModel",
            "_view_count": null,
            "_view_module": "@jupyter-widgets/base",
            "_view_module_version": "1.2.0",
            "_view_name": "LayoutView",
            "align_content": null,
            "align_items": null,
            "align_self": null,
            "border": null,
            "bottom": null,
            "display": null,
            "flex": null,
            "flex_flow": null,
            "grid_area": null,
            "grid_auto_columns": null,
            "grid_auto_flow": null,
            "grid_auto_rows": null,
            "grid_column": null,
            "grid_gap": null,
            "grid_row": null,
            "grid_template_areas": null,
            "grid_template_columns": null,
            "grid_template_rows": null,
            "height": null,
            "justify_content": null,
            "justify_items": null,
            "left": null,
            "margin": null,
            "max_height": null,
            "max_width": null,
            "min_height": null,
            "min_width": null,
            "object_fit": null,
            "object_position": null,
            "order": null,
            "overflow": null,
            "overflow_x": null,
            "overflow_y": null,
            "padding": null,
            "right": null,
            "top": null,
            "visibility": null,
            "width": null
          }
        },
        "5ab027a9dc2e4c0289159a62616875f6": {
          "model_module": "@jupyter-widgets/base",
          "model_module_version": "1.2.0",
          "model_name": "LayoutModel",
          "state": {
            "_model_module": "@jupyter-widgets/base",
            "_model_module_version": "1.2.0",
            "_model_name": "LayoutModel",
            "_view_count": null,
            "_view_module": "@jupyter-widgets/base",
            "_view_module_version": "1.2.0",
            "_view_name": "LayoutView",
            "align_content": null,
            "align_items": null,
            "align_self": null,
            "border": null,
            "bottom": null,
            "display": null,
            "flex": null,
            "flex_flow": null,
            "grid_area": null,
            "grid_auto_columns": null,
            "grid_auto_flow": null,
            "grid_auto_rows": null,
            "grid_column": null,
            "grid_gap": null,
            "grid_row": null,
            "grid_template_areas": null,
            "grid_template_columns": null,
            "grid_template_rows": null,
            "height": null,
            "justify_content": null,
            "justify_items": null,
            "left": null,
            "margin": null,
            "max_height": null,
            "max_width": null,
            "min_height": null,
            "min_width": null,
            "object_fit": null,
            "object_position": null,
            "order": null,
            "overflow": null,
            "overflow_x": null,
            "overflow_y": null,
            "padding": null,
            "right": null,
            "top": null,
            "visibility": null,
            "width": null
          }
        },
        "5b192c858d2548c4844c2b9d432857d3": {
          "model_module": "@jupyter-widgets/base",
          "model_module_version": "1.2.0",
          "model_name": "LayoutModel",
          "state": {
            "_model_module": "@jupyter-widgets/base",
            "_model_module_version": "1.2.0",
            "_model_name": "LayoutModel",
            "_view_count": null,
            "_view_module": "@jupyter-widgets/base",
            "_view_module_version": "1.2.0",
            "_view_name": "LayoutView",
            "align_content": null,
            "align_items": null,
            "align_self": null,
            "border": null,
            "bottom": null,
            "display": null,
            "flex": null,
            "flex_flow": null,
            "grid_area": null,
            "grid_auto_columns": null,
            "grid_auto_flow": null,
            "grid_auto_rows": null,
            "grid_column": null,
            "grid_gap": null,
            "grid_row": null,
            "grid_template_areas": null,
            "grid_template_columns": null,
            "grid_template_rows": null,
            "height": null,
            "justify_content": null,
            "justify_items": null,
            "left": null,
            "margin": null,
            "max_height": null,
            "max_width": null,
            "min_height": null,
            "min_width": null,
            "object_fit": null,
            "object_position": null,
            "order": null,
            "overflow": null,
            "overflow_x": null,
            "overflow_y": null,
            "padding": null,
            "right": null,
            "top": null,
            "visibility": null,
            "width": null
          }
        },
        "5e1a34f30e5d46449935a6f41684788d": {
          "model_module": "@jupyter-widgets/controls",
          "model_module_version": "1.5.0",
          "model_name": "DescriptionStyleModel",
          "state": {
            "_model_module": "@jupyter-widgets/controls",
            "_model_module_version": "1.5.0",
            "_model_name": "DescriptionStyleModel",
            "_view_count": null,
            "_view_module": "@jupyter-widgets/base",
            "_view_module_version": "1.2.0",
            "_view_name": "StyleView",
            "description_width": ""
          }
        },
        "60e855c03145422e97c8ab37473655f1": {
          "model_module": "@jupyter-widgets/controls",
          "model_module_version": "1.5.0",
          "model_name": "DescriptionStyleModel",
          "state": {
            "_model_module": "@jupyter-widgets/controls",
            "_model_module_version": "1.5.0",
            "_model_name": "DescriptionStyleModel",
            "_view_count": null,
            "_view_module": "@jupyter-widgets/base",
            "_view_module_version": "1.2.0",
            "_view_name": "StyleView",
            "description_width": ""
          }
        },
        "61638aa6976548c19f649bd5570d91ce": {
          "model_module": "@jupyter-widgets/base",
          "model_module_version": "1.2.0",
          "model_name": "LayoutModel",
          "state": {
            "_model_module": "@jupyter-widgets/base",
            "_model_module_version": "1.2.0",
            "_model_name": "LayoutModel",
            "_view_count": null,
            "_view_module": "@jupyter-widgets/base",
            "_view_module_version": "1.2.0",
            "_view_name": "LayoutView",
            "align_content": null,
            "align_items": null,
            "align_self": null,
            "border": null,
            "bottom": null,
            "display": null,
            "flex": null,
            "flex_flow": null,
            "grid_area": null,
            "grid_auto_columns": null,
            "grid_auto_flow": null,
            "grid_auto_rows": null,
            "grid_column": null,
            "grid_gap": null,
            "grid_row": null,
            "grid_template_areas": null,
            "grid_template_columns": null,
            "grid_template_rows": null,
            "height": null,
            "justify_content": null,
            "justify_items": null,
            "left": null,
            "margin": null,
            "max_height": null,
            "max_width": null,
            "min_height": null,
            "min_width": null,
            "object_fit": null,
            "object_position": null,
            "order": null,
            "overflow": null,
            "overflow_x": null,
            "overflow_y": null,
            "padding": null,
            "right": null,
            "top": null,
            "visibility": null,
            "width": null
          }
        },
        "62da680cd1594662897c710603e4153d": {
          "model_module": "@jupyter-widgets/base",
          "model_module_version": "1.2.0",
          "model_name": "LayoutModel",
          "state": {
            "_model_module": "@jupyter-widgets/base",
            "_model_module_version": "1.2.0",
            "_model_name": "LayoutModel",
            "_view_count": null,
            "_view_module": "@jupyter-widgets/base",
            "_view_module_version": "1.2.0",
            "_view_name": "LayoutView",
            "align_content": null,
            "align_items": null,
            "align_self": null,
            "border": null,
            "bottom": null,
            "display": null,
            "flex": null,
            "flex_flow": null,
            "grid_area": null,
            "grid_auto_columns": null,
            "grid_auto_flow": null,
            "grid_auto_rows": null,
            "grid_column": null,
            "grid_gap": null,
            "grid_row": null,
            "grid_template_areas": null,
            "grid_template_columns": null,
            "grid_template_rows": null,
            "height": null,
            "justify_content": null,
            "justify_items": null,
            "left": null,
            "margin": null,
            "max_height": null,
            "max_width": null,
            "min_height": null,
            "min_width": null,
            "object_fit": null,
            "object_position": null,
            "order": null,
            "overflow": null,
            "overflow_x": null,
            "overflow_y": null,
            "padding": null,
            "right": null,
            "top": null,
            "visibility": null,
            "width": null
          }
        },
        "6455a0433a774e25b8ce148a72808b0d": {
          "model_module": "@jupyter-widgets/base",
          "model_module_version": "1.2.0",
          "model_name": "LayoutModel",
          "state": {
            "_model_module": "@jupyter-widgets/base",
            "_model_module_version": "1.2.0",
            "_model_name": "LayoutModel",
            "_view_count": null,
            "_view_module": "@jupyter-widgets/base",
            "_view_module_version": "1.2.0",
            "_view_name": "LayoutView",
            "align_content": null,
            "align_items": null,
            "align_self": null,
            "border": null,
            "bottom": null,
            "display": null,
            "flex": null,
            "flex_flow": null,
            "grid_area": null,
            "grid_auto_columns": null,
            "grid_auto_flow": null,
            "grid_auto_rows": null,
            "grid_column": null,
            "grid_gap": null,
            "grid_row": null,
            "grid_template_areas": null,
            "grid_template_columns": null,
            "grid_template_rows": null,
            "height": null,
            "justify_content": null,
            "justify_items": null,
            "left": null,
            "margin": null,
            "max_height": null,
            "max_width": null,
            "min_height": null,
            "min_width": null,
            "object_fit": null,
            "object_position": null,
            "order": null,
            "overflow": null,
            "overflow_x": null,
            "overflow_y": null,
            "padding": null,
            "right": null,
            "top": null,
            "visibility": null,
            "width": null
          }
        },
        "659688482f00477aa8f522f3b4effa07": {
          "model_module": "@jupyter-widgets/controls",
          "model_module_version": "1.5.0",
          "model_name": "FloatProgressModel",
          "state": {
            "_dom_classes": [],
            "_model_module": "@jupyter-widgets/controls",
            "_model_module_version": "1.5.0",
            "_model_name": "FloatProgressModel",
            "_view_count": null,
            "_view_module": "@jupyter-widgets/controls",
            "_view_module_version": "1.5.0",
            "_view_name": "ProgressView",
            "bar_style": "success",
            "description": "",
            "description_tooltip": null,
            "layout": "IPY_MODEL_b84171895e3e470586e63e42c7926dab",
            "max": 100,
            "min": 0,
            "orientation": "horizontal",
            "style": "IPY_MODEL_42f478063a0e4641975e3e4734a560b7",
            "value": 100
          }
        },
        "682cddcbf0434fce99803c058c427379": {
          "model_module": "@jupyter-widgets/controls",
          "model_module_version": "1.5.0",
          "model_name": "HTMLModel",
          "state": {
            "_dom_classes": [],
            "_model_module": "@jupyter-widgets/controls",
            "_model_module_version": "1.5.0",
            "_model_name": "HTMLModel",
            "_view_count": null,
            "_view_module": "@jupyter-widgets/controls",
            "_view_module_version": "1.5.0",
            "_view_name": "HTMLView",
            "description": "",
            "description_tooltip": null,
            "layout": "IPY_MODEL_c23a11e8d4124b31b678fea1130eea22",
            "placeholder": "​",
            "style": "IPY_MODEL_9ec8d93f6ccc4c26b156a0a3835f3d17",
            "value": " 29/29 [00:35&lt;00:00,  1.04it/s]"
          }
        },
        "68cd1522a88842d48a22134c69b806ef": {
          "model_module": "@jupyter-widgets/base",
          "model_module_version": "1.2.0",
          "model_name": "LayoutModel",
          "state": {
            "_model_module": "@jupyter-widgets/base",
            "_model_module_version": "1.2.0",
            "_model_name": "LayoutModel",
            "_view_count": null,
            "_view_module": "@jupyter-widgets/base",
            "_view_module_version": "1.2.0",
            "_view_name": "LayoutView",
            "align_content": null,
            "align_items": null,
            "align_self": null,
            "border": null,
            "bottom": null,
            "display": null,
            "flex": null,
            "flex_flow": null,
            "grid_area": null,
            "grid_auto_columns": null,
            "grid_auto_flow": null,
            "grid_auto_rows": null,
            "grid_column": null,
            "grid_gap": null,
            "grid_row": null,
            "grid_template_areas": null,
            "grid_template_columns": null,
            "grid_template_rows": null,
            "height": null,
            "justify_content": null,
            "justify_items": null,
            "left": null,
            "margin": null,
            "max_height": null,
            "max_width": null,
            "min_height": null,
            "min_width": null,
            "object_fit": null,
            "object_position": null,
            "order": null,
            "overflow": null,
            "overflow_x": null,
            "overflow_y": null,
            "padding": null,
            "right": null,
            "top": null,
            "visibility": null,
            "width": null
          }
        },
        "6989a4001f9a4eb6a4f9eeece1b1f358": {
          "model_module": "@jupyter-widgets/controls",
          "model_module_version": "1.5.0",
          "model_name": "FloatProgressModel",
          "state": {
            "_dom_classes": [],
            "_model_module": "@jupyter-widgets/controls",
            "_model_module_version": "1.5.0",
            "_model_name": "FloatProgressModel",
            "_view_count": null,
            "_view_module": "@jupyter-widgets/controls",
            "_view_module_version": "1.5.0",
            "_view_name": "ProgressView",
            "bar_style": "success",
            "description": "",
            "description_tooltip": null,
            "layout": "IPY_MODEL_cbb99d85988c4b66b3d358b0bc8de764",
            "max": 118,
            "min": 0,
            "orientation": "horizontal",
            "style": "IPY_MODEL_e36a27a4e7384c38ab8e4a4d37eab5fe",
            "value": 118
          }
        },
        "698f38c5768441fbada620dfe9521119": {
          "model_module": "@jupyter-widgets/controls",
          "model_module_version": "1.5.0",
          "model_name": "HBoxModel",
          "state": {
            "_dom_classes": [],
            "_model_module": "@jupyter-widgets/controls",
            "_model_module_version": "1.5.0",
            "_model_name": "HBoxModel",
            "_view_count": null,
            "_view_module": "@jupyter-widgets/controls",
            "_view_module_version": "1.5.0",
            "_view_name": "HBoxView",
            "box_style": "",
            "children": [
              "IPY_MODEL_d7c6dee034a6488a82ef3eae1c07c284",
              "IPY_MODEL_3b303aca08a24fcdbc2c5ec021990bf1",
              "IPY_MODEL_2a921a8dbd86409080eff7a4e37e9e28"
            ],
            "layout": "IPY_MODEL_dc4d36c1290242e1875b662f7123f2cf"
          }
        },
        "6a6d732e1a8042919ae82b57e74bcd0c": {
          "model_module": "@jupyter-widgets/controls",
          "model_module_version": "1.5.0",
          "model_name": "ProgressStyleModel",
          "state": {
            "_model_module": "@jupyter-widgets/controls",
            "_model_module_version": "1.5.0",
            "_model_name": "ProgressStyleModel",
            "_view_count": null,
            "_view_module": "@jupyter-widgets/base",
            "_view_module_version": "1.2.0",
            "_view_name": "StyleView",
            "bar_color": null,
            "description_width": ""
          }
        },
        "6b2c8e98fe4a4fb18d0738fe28acc802": {
          "model_module": "@jupyter-widgets/controls",
          "model_module_version": "1.5.0",
          "model_name": "DescriptionStyleModel",
          "state": {
            "_model_module": "@jupyter-widgets/controls",
            "_model_module_version": "1.5.0",
            "_model_name": "DescriptionStyleModel",
            "_view_count": null,
            "_view_module": "@jupyter-widgets/base",
            "_view_module_version": "1.2.0",
            "_view_name": "StyleView",
            "description_width": ""
          }
        },
        "6c1aed62e4424b64b47f22d833f35188": {
          "model_module": "@jupyter-widgets/controls",
          "model_module_version": "1.5.0",
          "model_name": "HBoxModel",
          "state": {
            "_dom_classes": [],
            "_model_module": "@jupyter-widgets/controls",
            "_model_module_version": "1.5.0",
            "_model_name": "HBoxModel",
            "_view_count": null,
            "_view_module": "@jupyter-widgets/controls",
            "_view_module_version": "1.5.0",
            "_view_name": "HBoxView",
            "box_style": "",
            "children": [
              "IPY_MODEL_fcb34b2801c946678c88ff95b998fae3",
              "IPY_MODEL_331a77f83ddc45cda3d40eda146f9a94",
              "IPY_MODEL_3c67987f6137499185ce53348febc78a"
            ],
            "layout": "IPY_MODEL_e3435bc6bdce4134a8d522861a4ae4ab"
          }
        },
        "6c2021b3b09f484d83a5f6b6bea6ea36": {
          "model_module": "@jupyter-widgets/base",
          "model_module_version": "1.2.0",
          "model_name": "LayoutModel",
          "state": {
            "_model_module": "@jupyter-widgets/base",
            "_model_module_version": "1.2.0",
            "_model_name": "LayoutModel",
            "_view_count": null,
            "_view_module": "@jupyter-widgets/base",
            "_view_module_version": "1.2.0",
            "_view_name": "LayoutView",
            "align_content": null,
            "align_items": null,
            "align_self": null,
            "border": null,
            "bottom": null,
            "display": null,
            "flex": null,
            "flex_flow": null,
            "grid_area": null,
            "grid_auto_columns": null,
            "grid_auto_flow": null,
            "grid_auto_rows": null,
            "grid_column": null,
            "grid_gap": null,
            "grid_row": null,
            "grid_template_areas": null,
            "grid_template_columns": null,
            "grid_template_rows": null,
            "height": null,
            "justify_content": null,
            "justify_items": null,
            "left": null,
            "margin": null,
            "max_height": null,
            "max_width": null,
            "min_height": null,
            "min_width": null,
            "object_fit": null,
            "object_position": null,
            "order": null,
            "overflow": null,
            "overflow_x": null,
            "overflow_y": null,
            "padding": null,
            "right": null,
            "top": null,
            "visibility": null,
            "width": null
          }
        },
        "6cf07a74f45e426397cf7e662395f7e7": {
          "model_module": "@jupyter-widgets/controls",
          "model_module_version": "1.5.0",
          "model_name": "HTMLModel",
          "state": {
            "_dom_classes": [],
            "_model_module": "@jupyter-widgets/controls",
            "_model_module_version": "1.5.0",
            "_model_name": "HTMLModel",
            "_view_count": null,
            "_view_module": "@jupyter-widgets/controls",
            "_view_module_version": "1.5.0",
            "_view_name": "HTMLView",
            "description": "",
            "description_tooltip": null,
            "layout": "IPY_MODEL_85da441232834505aafd91877dd5fc34",
            "placeholder": "​",
            "style": "IPY_MODEL_60e855c03145422e97c8ab37473655f1",
            "value": " 29/29 [00:35&lt;00:00,  1.05it/s]"
          }
        },
        "6d88c270f7684b56a28c4b51db3e460b": {
          "model_module": "@jupyter-widgets/controls",
          "model_module_version": "1.5.0",
          "model_name": "DescriptionStyleModel",
          "state": {
            "_model_module": "@jupyter-widgets/controls",
            "_model_module_version": "1.5.0",
            "_model_name": "DescriptionStyleModel",
            "_view_count": null,
            "_view_module": "@jupyter-widgets/base",
            "_view_module_version": "1.2.0",
            "_view_name": "StyleView",
            "description_width": ""
          }
        },
        "6fa143224ecb4f2ea8fc4c95c3fd9011": {
          "model_module": "@jupyter-widgets/controls",
          "model_module_version": "1.5.0",
          "model_name": "DescriptionStyleModel",
          "state": {
            "_model_module": "@jupyter-widgets/controls",
            "_model_module_version": "1.5.0",
            "_model_name": "DescriptionStyleModel",
            "_view_count": null,
            "_view_module": "@jupyter-widgets/base",
            "_view_module_version": "1.2.0",
            "_view_name": "StyleView",
            "description_width": ""
          }
        },
        "70806fe21e0d4a8999c4aa42c854241b": {
          "model_module": "@jupyter-widgets/controls",
          "model_module_version": "1.5.0",
          "model_name": "HBoxModel",
          "state": {
            "_dom_classes": [],
            "_model_module": "@jupyter-widgets/controls",
            "_model_module_version": "1.5.0",
            "_model_name": "HBoxModel",
            "_view_count": null,
            "_view_module": "@jupyter-widgets/controls",
            "_view_module_version": "1.5.0",
            "_view_name": "HBoxView",
            "box_style": "",
            "children": [
              "IPY_MODEL_fed8f24af9224153980fb9a154b3b7de",
              "IPY_MODEL_c5c4197966514ca3ba61ad20a1da0271",
              "IPY_MODEL_ef9ec9ac67fc48878f885a43bb5fec70"
            ],
            "layout": "IPY_MODEL_5b192c858d2548c4844c2b9d432857d3"
          }
        },
        "743dc29c5dc0472783ea362c7a419635": {
          "model_module": "@jupyter-widgets/base",
          "model_module_version": "1.2.0",
          "model_name": "LayoutModel",
          "state": {
            "_model_module": "@jupyter-widgets/base",
            "_model_module_version": "1.2.0",
            "_model_name": "LayoutModel",
            "_view_count": null,
            "_view_module": "@jupyter-widgets/base",
            "_view_module_version": "1.2.0",
            "_view_name": "LayoutView",
            "align_content": null,
            "align_items": null,
            "align_self": null,
            "border": null,
            "bottom": null,
            "display": null,
            "flex": null,
            "flex_flow": null,
            "grid_area": null,
            "grid_auto_columns": null,
            "grid_auto_flow": null,
            "grid_auto_rows": null,
            "grid_column": null,
            "grid_gap": null,
            "grid_row": null,
            "grid_template_areas": null,
            "grid_template_columns": null,
            "grid_template_rows": null,
            "height": null,
            "justify_content": null,
            "justify_items": null,
            "left": null,
            "margin": null,
            "max_height": null,
            "max_width": null,
            "min_height": null,
            "min_width": null,
            "object_fit": null,
            "object_position": null,
            "order": null,
            "overflow": null,
            "overflow_x": null,
            "overflow_y": null,
            "padding": null,
            "right": null,
            "top": null,
            "visibility": null,
            "width": null
          }
        },
        "74a0c14e658040ed8d7874864f84707b": {
          "model_module": "@jupyter-widgets/controls",
          "model_module_version": "1.5.0",
          "model_name": "HBoxModel",
          "state": {
            "_dom_classes": [],
            "_model_module": "@jupyter-widgets/controls",
            "_model_module_version": "1.5.0",
            "_model_name": "HBoxModel",
            "_view_count": null,
            "_view_module": "@jupyter-widgets/controls",
            "_view_module_version": "1.5.0",
            "_view_name": "HBoxView",
            "box_style": "",
            "children": [
              "IPY_MODEL_49c8e17539b4499098aec7e43af25107",
              "IPY_MODEL_86615c396f494e91b978e887903cd774",
              "IPY_MODEL_e677674d202e4972914369ed9f359400"
            ],
            "layout": "IPY_MODEL_53293dc4e85a490c8bf2454204144e21"
          }
        },
        "74bdfcfdedce41019723e44c9a029a24": {
          "model_module": "@jupyter-widgets/controls",
          "model_module_version": "1.5.0",
          "model_name": "FloatProgressModel",
          "state": {
            "_dom_classes": [],
            "_model_module": "@jupyter-widgets/controls",
            "_model_module_version": "1.5.0",
            "_model_name": "FloatProgressModel",
            "_view_count": null,
            "_view_module": "@jupyter-widgets/controls",
            "_view_module_version": "1.5.0",
            "_view_name": "ProgressView",
            "bar_style": "success",
            "description": "",
            "description_tooltip": null,
            "layout": "IPY_MODEL_6c2021b3b09f484d83a5f6b6bea6ea36",
            "max": 29,
            "min": 0,
            "orientation": "horizontal",
            "style": "IPY_MODEL_4468558157d94f35b6185d6a6e95c0c7",
            "value": 29
          }
        },
        "768280e1ab9b4259973020becd8cc7c2": {
          "model_module": "@jupyter-widgets/controls",
          "model_module_version": "1.5.0",
          "model_name": "ProgressStyleModel",
          "state": {
            "_model_module": "@jupyter-widgets/controls",
            "_model_module_version": "1.5.0",
            "_model_name": "ProgressStyleModel",
            "_view_count": null,
            "_view_module": "@jupyter-widgets/base",
            "_view_module_version": "1.2.0",
            "_view_name": "StyleView",
            "bar_color": null,
            "description_width": ""
          }
        },
        "7888968a004f40db8f5b22d2c101e0c5": {
          "model_module": "@jupyter-widgets/controls",
          "model_module_version": "1.5.0",
          "model_name": "HTMLModel",
          "state": {
            "_dom_classes": [],
            "_model_module": "@jupyter-widgets/controls",
            "_model_module_version": "1.5.0",
            "_model_name": "HTMLModel",
            "_view_count": null,
            "_view_module": "@jupyter-widgets/controls",
            "_view_module_version": "1.5.0",
            "_view_name": "HTMLView",
            "description": "",
            "description_tooltip": null,
            "layout": "IPY_MODEL_743dc29c5dc0472783ea362c7a419635",
            "placeholder": "​",
            "style": "IPY_MODEL_427368407c9443fc9e707a7ce6590067",
            "value": " 118/118 [00:42&lt;00:00,  2.73it/s]"
          }
        },
        "7a12370800fc461da12998064adf3e15": {
          "model_module": "@jupyter-widgets/controls",
          "model_module_version": "1.5.0",
          "model_name": "ProgressStyleModel",
          "state": {
            "_model_module": "@jupyter-widgets/controls",
            "_model_module_version": "1.5.0",
            "_model_name": "ProgressStyleModel",
            "_view_count": null,
            "_view_module": "@jupyter-widgets/base",
            "_view_module_version": "1.2.0",
            "_view_name": "StyleView",
            "bar_color": null,
            "description_width": ""
          }
        },
        "7a78ae4332a54caeabb6a257aa830346": {
          "model_module": "@jupyter-widgets/base",
          "model_module_version": "1.2.0",
          "model_name": "LayoutModel",
          "state": {
            "_model_module": "@jupyter-widgets/base",
            "_model_module_version": "1.2.0",
            "_model_name": "LayoutModel",
            "_view_count": null,
            "_view_module": "@jupyter-widgets/base",
            "_view_module_version": "1.2.0",
            "_view_name": "LayoutView",
            "align_content": null,
            "align_items": null,
            "align_self": null,
            "border": null,
            "bottom": null,
            "display": null,
            "flex": null,
            "flex_flow": null,
            "grid_area": null,
            "grid_auto_columns": null,
            "grid_auto_flow": null,
            "grid_auto_rows": null,
            "grid_column": null,
            "grid_gap": null,
            "grid_row": null,
            "grid_template_areas": null,
            "grid_template_columns": null,
            "grid_template_rows": null,
            "height": null,
            "justify_content": null,
            "justify_items": null,
            "left": null,
            "margin": null,
            "max_height": null,
            "max_width": null,
            "min_height": null,
            "min_width": null,
            "object_fit": null,
            "object_position": null,
            "order": null,
            "overflow": null,
            "overflow_x": null,
            "overflow_y": null,
            "padding": null,
            "right": null,
            "top": null,
            "visibility": null,
            "width": null
          }
        },
        "7a8c6ea871a644c9b020c657fabcb0f7": {
          "model_module": "@jupyter-widgets/controls",
          "model_module_version": "1.5.0",
          "model_name": "HBoxModel",
          "state": {
            "_dom_classes": [],
            "_model_module": "@jupyter-widgets/controls",
            "_model_module_version": "1.5.0",
            "_model_name": "HBoxModel",
            "_view_count": null,
            "_view_module": "@jupyter-widgets/controls",
            "_view_module_version": "1.5.0",
            "_view_name": "HBoxView",
            "box_style": "",
            "children": [
              "IPY_MODEL_8c67d33f25404b40b7738af024de78a3",
              "IPY_MODEL_8e6f76ad5cc342e3b4f29ed7896fe055",
              "IPY_MODEL_54afd2f4dc3941108da6db315a1baecf"
            ],
            "layout": "IPY_MODEL_c5da6bfdd79449dd82a607f413bbccf0"
          }
        },
        "7b4274c0c9e94dc58014e551c2de82f7": {
          "model_module": "@jupyter-widgets/controls",
          "model_module_version": "1.5.0",
          "model_name": "HTMLModel",
          "state": {
            "_dom_classes": [],
            "_model_module": "@jupyter-widgets/controls",
            "_model_module_version": "1.5.0",
            "_model_name": "HTMLModel",
            "_view_count": null,
            "_view_module": "@jupyter-widgets/controls",
            "_view_module_version": "1.5.0",
            "_view_name": "HTMLView",
            "description": "",
            "description_tooltip": null,
            "layout": "IPY_MODEL_58d877dc01fd4733a5ece97096b46a19",
            "placeholder": "​",
            "style": "IPY_MODEL_5e1a34f30e5d46449935a6f41684788d",
            "value": " 29/29 [00:35&lt;00:00,  1.05it/s]"
          }
        },
        "815ac39f6fc94fa1890179752a6f4aad": {
          "model_module": "@jupyter-widgets/base",
          "model_module_version": "1.2.0",
          "model_name": "LayoutModel",
          "state": {
            "_model_module": "@jupyter-widgets/base",
            "_model_module_version": "1.2.0",
            "_model_name": "LayoutModel",
            "_view_count": null,
            "_view_module": "@jupyter-widgets/base",
            "_view_module_version": "1.2.0",
            "_view_name": "LayoutView",
            "align_content": null,
            "align_items": null,
            "align_self": null,
            "border": null,
            "bottom": null,
            "display": null,
            "flex": null,
            "flex_flow": null,
            "grid_area": null,
            "grid_auto_columns": null,
            "grid_auto_flow": null,
            "grid_auto_rows": null,
            "grid_column": null,
            "grid_gap": null,
            "grid_row": null,
            "grid_template_areas": null,
            "grid_template_columns": null,
            "grid_template_rows": null,
            "height": null,
            "justify_content": null,
            "justify_items": null,
            "left": null,
            "margin": null,
            "max_height": null,
            "max_width": null,
            "min_height": null,
            "min_width": null,
            "object_fit": null,
            "object_position": null,
            "order": null,
            "overflow": null,
            "overflow_x": null,
            "overflow_y": null,
            "padding": null,
            "right": null,
            "top": null,
            "visibility": null,
            "width": null
          }
        },
        "81e8464b063846769a77e2c15fef7e00": {
          "model_module": "@jupyter-widgets/controls",
          "model_module_version": "1.5.0",
          "model_name": "HTMLModel",
          "state": {
            "_dom_classes": [],
            "_model_module": "@jupyter-widgets/controls",
            "_model_module_version": "1.5.0",
            "_model_name": "HTMLModel",
            "_view_count": null,
            "_view_module": "@jupyter-widgets/controls",
            "_view_module_version": "1.5.0",
            "_view_name": "HTMLView",
            "description": "",
            "description_tooltip": null,
            "layout": "IPY_MODEL_42e9c988951b41beaffde5705436c39c",
            "placeholder": "​",
            "style": "IPY_MODEL_297103a1212149ad9a133b19744e9068",
            "value": "100%"
          }
        },
        "81f40c4130b0422aa7dba84b2a19c39b": {
          "model_module": "@jupyter-widgets/base",
          "model_module_version": "1.2.0",
          "model_name": "LayoutModel",
          "state": {
            "_model_module": "@jupyter-widgets/base",
            "_model_module_version": "1.2.0",
            "_model_name": "LayoutModel",
            "_view_count": null,
            "_view_module": "@jupyter-widgets/base",
            "_view_module_version": "1.2.0",
            "_view_name": "LayoutView",
            "align_content": null,
            "align_items": null,
            "align_self": null,
            "border": null,
            "bottom": null,
            "display": null,
            "flex": null,
            "flex_flow": null,
            "grid_area": null,
            "grid_auto_columns": null,
            "grid_auto_flow": null,
            "grid_auto_rows": null,
            "grid_column": null,
            "grid_gap": null,
            "grid_row": null,
            "grid_template_areas": null,
            "grid_template_columns": null,
            "grid_template_rows": null,
            "height": null,
            "justify_content": null,
            "justify_items": null,
            "left": null,
            "margin": null,
            "max_height": null,
            "max_width": null,
            "min_height": null,
            "min_width": null,
            "object_fit": null,
            "object_position": null,
            "order": null,
            "overflow": null,
            "overflow_x": null,
            "overflow_y": null,
            "padding": null,
            "right": null,
            "top": null,
            "visibility": null,
            "width": null
          }
        },
        "83ae790c1cbf4f2eac908b4d076b90cf": {
          "model_module": "@jupyter-widgets/base",
          "model_module_version": "1.2.0",
          "model_name": "LayoutModel",
          "state": {
            "_model_module": "@jupyter-widgets/base",
            "_model_module_version": "1.2.0",
            "_model_name": "LayoutModel",
            "_view_count": null,
            "_view_module": "@jupyter-widgets/base",
            "_view_module_version": "1.2.0",
            "_view_name": "LayoutView",
            "align_content": null,
            "align_items": null,
            "align_self": null,
            "border": null,
            "bottom": null,
            "display": null,
            "flex": null,
            "flex_flow": null,
            "grid_area": null,
            "grid_auto_columns": null,
            "grid_auto_flow": null,
            "grid_auto_rows": null,
            "grid_column": null,
            "grid_gap": null,
            "grid_row": null,
            "grid_template_areas": null,
            "grid_template_columns": null,
            "grid_template_rows": null,
            "height": null,
            "justify_content": null,
            "justify_items": null,
            "left": null,
            "margin": null,
            "max_height": null,
            "max_width": null,
            "min_height": null,
            "min_width": null,
            "object_fit": null,
            "object_position": null,
            "order": null,
            "overflow": null,
            "overflow_x": null,
            "overflow_y": null,
            "padding": null,
            "right": null,
            "top": null,
            "visibility": null,
            "width": null
          }
        },
        "83ba589a9a344f02a4eb13bb3533e286": {
          "model_module": "@jupyter-widgets/controls",
          "model_module_version": "1.5.0",
          "model_name": "FloatProgressModel",
          "state": {
            "_dom_classes": [],
            "_model_module": "@jupyter-widgets/controls",
            "_model_module_version": "1.5.0",
            "_model_name": "FloatProgressModel",
            "_view_count": null,
            "_view_module": "@jupyter-widgets/controls",
            "_view_module_version": "1.5.0",
            "_view_name": "ProgressView",
            "bar_style": "success",
            "description": "",
            "description_tooltip": null,
            "layout": "IPY_MODEL_b2bef5c36a9748d4b55bea17eea4731e",
            "max": 29,
            "min": 0,
            "orientation": "horizontal",
            "style": "IPY_MODEL_d4797dfae4db4d57aeb3876a460cc986",
            "value": 29
          }
        },
        "85da441232834505aafd91877dd5fc34": {
          "model_module": "@jupyter-widgets/base",
          "model_module_version": "1.2.0",
          "model_name": "LayoutModel",
          "state": {
            "_model_module": "@jupyter-widgets/base",
            "_model_module_version": "1.2.0",
            "_model_name": "LayoutModel",
            "_view_count": null,
            "_view_module": "@jupyter-widgets/base",
            "_view_module_version": "1.2.0",
            "_view_name": "LayoutView",
            "align_content": null,
            "align_items": null,
            "align_self": null,
            "border": null,
            "bottom": null,
            "display": null,
            "flex": null,
            "flex_flow": null,
            "grid_area": null,
            "grid_auto_columns": null,
            "grid_auto_flow": null,
            "grid_auto_rows": null,
            "grid_column": null,
            "grid_gap": null,
            "grid_row": null,
            "grid_template_areas": null,
            "grid_template_columns": null,
            "grid_template_rows": null,
            "height": null,
            "justify_content": null,
            "justify_items": null,
            "left": null,
            "margin": null,
            "max_height": null,
            "max_width": null,
            "min_height": null,
            "min_width": null,
            "object_fit": null,
            "object_position": null,
            "order": null,
            "overflow": null,
            "overflow_x": null,
            "overflow_y": null,
            "padding": null,
            "right": null,
            "top": null,
            "visibility": null,
            "width": null
          }
        },
        "86615c396f494e91b978e887903cd774": {
          "model_module": "@jupyter-widgets/controls",
          "model_module_version": "1.5.0",
          "model_name": "FloatProgressModel",
          "state": {
            "_dom_classes": [],
            "_model_module": "@jupyter-widgets/controls",
            "_model_module_version": "1.5.0",
            "_model_name": "FloatProgressModel",
            "_view_count": null,
            "_view_module": "@jupyter-widgets/controls",
            "_view_module_version": "1.5.0",
            "_view_name": "ProgressView",
            "bar_style": "success",
            "description": "",
            "description_tooltip": null,
            "layout": "IPY_MODEL_2c554b572ef049a8aa0c043311ff1e45",
            "max": 29,
            "min": 0,
            "orientation": "horizontal",
            "style": "IPY_MODEL_088c7adcd0a84a95a8ecd4107ff03577",
            "value": 29
          }
        },
        "87404e0da2044119aa60c1d712e5708c": {
          "model_module": "@jupyter-widgets/controls",
          "model_module_version": "1.5.0",
          "model_name": "DescriptionStyleModel",
          "state": {
            "_model_module": "@jupyter-widgets/controls",
            "_model_module_version": "1.5.0",
            "_model_name": "DescriptionStyleModel",
            "_view_count": null,
            "_view_module": "@jupyter-widgets/base",
            "_view_module_version": "1.2.0",
            "_view_name": "StyleView",
            "description_width": ""
          }
        },
        "87fd61a7ac1d488b9a3c8c76c96640b9": {
          "model_module": "@jupyter-widgets/controls",
          "model_module_version": "1.5.0",
          "model_name": "HTMLModel",
          "state": {
            "_dom_classes": [],
            "_model_module": "@jupyter-widgets/controls",
            "_model_module_version": "1.5.0",
            "_model_name": "HTMLModel",
            "_view_count": null,
            "_view_module": "@jupyter-widgets/controls",
            "_view_module_version": "1.5.0",
            "_view_name": "HTMLView",
            "description": "",
            "description_tooltip": null,
            "layout": "IPY_MODEL_b90a02983f2b4b0c909dbeb71dcb85d1",
            "placeholder": "​",
            "style": "IPY_MODEL_bd32bc8486a6435b99ecec896580a6c0",
            "value": " 29/29 [00:35&lt;00:00,  1.03it/s]"
          }
        },
        "887400c052d84c45b465dd4162e5cbf8": {
          "model_module": "@jupyter-widgets/base",
          "model_module_version": "1.2.0",
          "model_name": "LayoutModel",
          "state": {
            "_model_module": "@jupyter-widgets/base",
            "_model_module_version": "1.2.0",
            "_model_name": "LayoutModel",
            "_view_count": null,
            "_view_module": "@jupyter-widgets/base",
            "_view_module_version": "1.2.0",
            "_view_name": "LayoutView",
            "align_content": null,
            "align_items": null,
            "align_self": null,
            "border": null,
            "bottom": null,
            "display": null,
            "flex": null,
            "flex_flow": null,
            "grid_area": null,
            "grid_auto_columns": null,
            "grid_auto_flow": null,
            "grid_auto_rows": null,
            "grid_column": null,
            "grid_gap": null,
            "grid_row": null,
            "grid_template_areas": null,
            "grid_template_columns": null,
            "grid_template_rows": null,
            "height": null,
            "justify_content": null,
            "justify_items": null,
            "left": null,
            "margin": null,
            "max_height": null,
            "max_width": null,
            "min_height": null,
            "min_width": null,
            "object_fit": null,
            "object_position": null,
            "order": null,
            "overflow": null,
            "overflow_x": null,
            "overflow_y": null,
            "padding": null,
            "right": null,
            "top": null,
            "visibility": null,
            "width": null
          }
        },
        "8a7d63270c6349efb0a163a17494cc84": {
          "model_module": "@jupyter-widgets/base",
          "model_module_version": "1.2.0",
          "model_name": "LayoutModel",
          "state": {
            "_model_module": "@jupyter-widgets/base",
            "_model_module_version": "1.2.0",
            "_model_name": "LayoutModel",
            "_view_count": null,
            "_view_module": "@jupyter-widgets/base",
            "_view_module_version": "1.2.0",
            "_view_name": "LayoutView",
            "align_content": null,
            "align_items": null,
            "align_self": null,
            "border": null,
            "bottom": null,
            "display": null,
            "flex": null,
            "flex_flow": null,
            "grid_area": null,
            "grid_auto_columns": null,
            "grid_auto_flow": null,
            "grid_auto_rows": null,
            "grid_column": null,
            "grid_gap": null,
            "grid_row": null,
            "grid_template_areas": null,
            "grid_template_columns": null,
            "grid_template_rows": null,
            "height": null,
            "justify_content": null,
            "justify_items": null,
            "left": null,
            "margin": null,
            "max_height": null,
            "max_width": null,
            "min_height": null,
            "min_width": null,
            "object_fit": null,
            "object_position": null,
            "order": null,
            "overflow": null,
            "overflow_x": null,
            "overflow_y": null,
            "padding": null,
            "right": null,
            "top": null,
            "visibility": null,
            "width": null
          }
        },
        "8ae75ccca4e64efd8551c0b5e968e0c9": {
          "model_module": "@jupyter-widgets/base",
          "model_module_version": "1.2.0",
          "model_name": "LayoutModel",
          "state": {
            "_model_module": "@jupyter-widgets/base",
            "_model_module_version": "1.2.0",
            "_model_name": "LayoutModel",
            "_view_count": null,
            "_view_module": "@jupyter-widgets/base",
            "_view_module_version": "1.2.0",
            "_view_name": "LayoutView",
            "align_content": null,
            "align_items": null,
            "align_self": null,
            "border": null,
            "bottom": null,
            "display": null,
            "flex": null,
            "flex_flow": null,
            "grid_area": null,
            "grid_auto_columns": null,
            "grid_auto_flow": null,
            "grid_auto_rows": null,
            "grid_column": null,
            "grid_gap": null,
            "grid_row": null,
            "grid_template_areas": null,
            "grid_template_columns": null,
            "grid_template_rows": null,
            "height": null,
            "justify_content": null,
            "justify_items": null,
            "left": null,
            "margin": null,
            "max_height": null,
            "max_width": null,
            "min_height": null,
            "min_width": null,
            "object_fit": null,
            "object_position": null,
            "order": null,
            "overflow": null,
            "overflow_x": null,
            "overflow_y": null,
            "padding": null,
            "right": null,
            "top": null,
            "visibility": null,
            "width": null
          }
        },
        "8b7367c2a85e447588d4b61cd2640cba": {
          "model_module": "@jupyter-widgets/controls",
          "model_module_version": "1.5.0",
          "model_name": "HTMLModel",
          "state": {
            "_dom_classes": [],
            "_model_module": "@jupyter-widgets/controls",
            "_model_module_version": "1.5.0",
            "_model_name": "HTMLModel",
            "_view_count": null,
            "_view_module": "@jupyter-widgets/controls",
            "_view_module_version": "1.5.0",
            "_view_name": "HTMLView",
            "description": "",
            "description_tooltip": null,
            "layout": "IPY_MODEL_e90af47c5c3847f485d32c1f73801e6d",
            "placeholder": "​",
            "style": "IPY_MODEL_fdfaf67468a04b368872690b074c1f28",
            "value": "100%"
          }
        },
        "8c67d33f25404b40b7738af024de78a3": {
          "model_module": "@jupyter-widgets/controls",
          "model_module_version": "1.5.0",
          "model_name": "HTMLModel",
          "state": {
            "_dom_classes": [],
            "_model_module": "@jupyter-widgets/controls",
            "_model_module_version": "1.5.0",
            "_model_name": "HTMLModel",
            "_view_count": null,
            "_view_module": "@jupyter-widgets/controls",
            "_view_module_version": "1.5.0",
            "_view_name": "HTMLView",
            "description": "",
            "description_tooltip": null,
            "layout": "IPY_MODEL_d913f3e7f0a24f49abe89fe94ffc777e",
            "placeholder": "​",
            "style": "IPY_MODEL_87404e0da2044119aa60c1d712e5708c",
            "value": "100%"
          }
        },
        "8e6f76ad5cc342e3b4f29ed7896fe055": {
          "model_module": "@jupyter-widgets/controls",
          "model_module_version": "1.5.0",
          "model_name": "FloatProgressModel",
          "state": {
            "_dom_classes": [],
            "_model_module": "@jupyter-widgets/controls",
            "_model_module_version": "1.5.0",
            "_model_name": "FloatProgressModel",
            "_view_count": null,
            "_view_module": "@jupyter-widgets/controls",
            "_view_module_version": "1.5.0",
            "_view_name": "ProgressView",
            "bar_style": "success",
            "description": "",
            "description_tooltip": null,
            "layout": "IPY_MODEL_399163198dfb440f93455c50277b8b86",
            "max": 118,
            "min": 0,
            "orientation": "horizontal",
            "style": "IPY_MODEL_7a12370800fc461da12998064adf3e15",
            "value": 118
          }
        },
        "8ea87e65046e4839b56f57131eda74bf": {
          "model_module": "@jupyter-widgets/controls",
          "model_module_version": "1.5.0",
          "model_name": "FloatProgressModel",
          "state": {
            "_dom_classes": [],
            "_model_module": "@jupyter-widgets/controls",
            "_model_module_version": "1.5.0",
            "_model_name": "FloatProgressModel",
            "_view_count": null,
            "_view_module": "@jupyter-widgets/controls",
            "_view_module_version": "1.5.0",
            "_view_name": "ProgressView",
            "bar_style": "success",
            "description": "",
            "description_tooltip": null,
            "layout": "IPY_MODEL_8ae75ccca4e64efd8551c0b5e968e0c9",
            "max": 29,
            "min": 0,
            "orientation": "horizontal",
            "style": "IPY_MODEL_13daebeabfe4455fa09c86052a448bd9",
            "value": 29
          }
        },
        "8f6b1e7c2c1d4de49e36d7818fbad34d": {
          "model_module": "@jupyter-widgets/base",
          "model_module_version": "1.2.0",
          "model_name": "LayoutModel",
          "state": {
            "_model_module": "@jupyter-widgets/base",
            "_model_module_version": "1.2.0",
            "_model_name": "LayoutModel",
            "_view_count": null,
            "_view_module": "@jupyter-widgets/base",
            "_view_module_version": "1.2.0",
            "_view_name": "LayoutView",
            "align_content": null,
            "align_items": null,
            "align_self": null,
            "border": null,
            "bottom": null,
            "display": null,
            "flex": null,
            "flex_flow": null,
            "grid_area": null,
            "grid_auto_columns": null,
            "grid_auto_flow": null,
            "grid_auto_rows": null,
            "grid_column": null,
            "grid_gap": null,
            "grid_row": null,
            "grid_template_areas": null,
            "grid_template_columns": null,
            "grid_template_rows": null,
            "height": null,
            "justify_content": null,
            "justify_items": null,
            "left": null,
            "margin": null,
            "max_height": null,
            "max_width": null,
            "min_height": null,
            "min_width": null,
            "object_fit": null,
            "object_position": null,
            "order": null,
            "overflow": null,
            "overflow_x": null,
            "overflow_y": null,
            "padding": null,
            "right": null,
            "top": null,
            "visibility": null,
            "width": null
          }
        },
        "909bdd8bf5604e78a734334fd9dcdaf1": {
          "model_module": "@jupyter-widgets/controls",
          "model_module_version": "1.5.0",
          "model_name": "HTMLModel",
          "state": {
            "_dom_classes": [],
            "_model_module": "@jupyter-widgets/controls",
            "_model_module_version": "1.5.0",
            "_model_name": "HTMLModel",
            "_view_count": null,
            "_view_module": "@jupyter-widgets/controls",
            "_view_module_version": "1.5.0",
            "_view_name": "HTMLView",
            "description": "",
            "description_tooltip": null,
            "layout": "IPY_MODEL_a3f00092fac7493280bdfe9e49ccf6fe",
            "placeholder": "​",
            "style": "IPY_MODEL_db6c285eef544f62a858a8be2e300f58",
            "value": "training loss 7.3670710837468505     |: 100%"
          }
        },
        "92ac9fe2757d4f66af158d6fbfa86870": {
          "model_module": "@jupyter-widgets/controls",
          "model_module_version": "1.5.0",
          "model_name": "FloatProgressModel",
          "state": {
            "_dom_classes": [],
            "_model_module": "@jupyter-widgets/controls",
            "_model_module_version": "1.5.0",
            "_model_name": "FloatProgressModel",
            "_view_count": null,
            "_view_module": "@jupyter-widgets/controls",
            "_view_module_version": "1.5.0",
            "_view_name": "ProgressView",
            "bar_style": "success",
            "description": "",
            "description_tooltip": null,
            "layout": "IPY_MODEL_5a618d744d6c4d6e9d6aec1f9bd0becf",
            "max": 118,
            "min": 0,
            "orientation": "horizontal",
            "style": "IPY_MODEL_768280e1ab9b4259973020becd8cc7c2",
            "value": 118
          }
        },
        "93b63232c5e74dadaa3f8df75779e5d1": {
          "model_module": "@jupyter-widgets/base",
          "model_module_version": "1.2.0",
          "model_name": "LayoutModel",
          "state": {
            "_model_module": "@jupyter-widgets/base",
            "_model_module_version": "1.2.0",
            "_model_name": "LayoutModel",
            "_view_count": null,
            "_view_module": "@jupyter-widgets/base",
            "_view_module_version": "1.2.0",
            "_view_name": "LayoutView",
            "align_content": null,
            "align_items": null,
            "align_self": null,
            "border": null,
            "bottom": null,
            "display": null,
            "flex": null,
            "flex_flow": null,
            "grid_area": null,
            "grid_auto_columns": null,
            "grid_auto_flow": null,
            "grid_auto_rows": null,
            "grid_column": null,
            "grid_gap": null,
            "grid_row": null,
            "grid_template_areas": null,
            "grid_template_columns": null,
            "grid_template_rows": null,
            "height": null,
            "justify_content": null,
            "justify_items": null,
            "left": null,
            "margin": null,
            "max_height": null,
            "max_width": null,
            "min_height": null,
            "min_width": null,
            "object_fit": null,
            "object_position": null,
            "order": null,
            "overflow": null,
            "overflow_x": null,
            "overflow_y": null,
            "padding": null,
            "right": null,
            "top": null,
            "visibility": null,
            "width": null
          }
        },
        "950ed35e062e407685d7bbcf5c122d99": {
          "model_module": "@jupyter-widgets/base",
          "model_module_version": "1.2.0",
          "model_name": "LayoutModel",
          "state": {
            "_model_module": "@jupyter-widgets/base",
            "_model_module_version": "1.2.0",
            "_model_name": "LayoutModel",
            "_view_count": null,
            "_view_module": "@jupyter-widgets/base",
            "_view_module_version": "1.2.0",
            "_view_name": "LayoutView",
            "align_content": null,
            "align_items": null,
            "align_self": null,
            "border": null,
            "bottom": null,
            "display": null,
            "flex": null,
            "flex_flow": null,
            "grid_area": null,
            "grid_auto_columns": null,
            "grid_auto_flow": null,
            "grid_auto_rows": null,
            "grid_column": null,
            "grid_gap": null,
            "grid_row": null,
            "grid_template_areas": null,
            "grid_template_columns": null,
            "grid_template_rows": null,
            "height": null,
            "justify_content": null,
            "justify_items": null,
            "left": null,
            "margin": null,
            "max_height": null,
            "max_width": null,
            "min_height": null,
            "min_width": null,
            "object_fit": null,
            "object_position": null,
            "order": null,
            "overflow": null,
            "overflow_x": null,
            "overflow_y": null,
            "padding": null,
            "right": null,
            "top": null,
            "visibility": null,
            "width": null
          }
        },
        "9827d5da3627497abb33feefb1f86365": {
          "model_module": "@jupyter-widgets/controls",
          "model_module_version": "1.5.0",
          "model_name": "ProgressStyleModel",
          "state": {
            "_model_module": "@jupyter-widgets/controls",
            "_model_module_version": "1.5.0",
            "_model_name": "ProgressStyleModel",
            "_view_count": null,
            "_view_module": "@jupyter-widgets/base",
            "_view_module_version": "1.2.0",
            "_view_name": "StyleView",
            "bar_color": null,
            "description_width": ""
          }
        },
        "9a0cefe0ccce42fb858b3defda5d21dd": {
          "model_module": "@jupyter-widgets/controls",
          "model_module_version": "1.5.0",
          "model_name": "DescriptionStyleModel",
          "state": {
            "_model_module": "@jupyter-widgets/controls",
            "_model_module_version": "1.5.0",
            "_model_name": "DescriptionStyleModel",
            "_view_count": null,
            "_view_module": "@jupyter-widgets/base",
            "_view_module_version": "1.2.0",
            "_view_name": "StyleView",
            "description_width": ""
          }
        },
        "9a29237575994982b284acf593a396cb": {
          "model_module": "@jupyter-widgets/controls",
          "model_module_version": "1.5.0",
          "model_name": "HBoxModel",
          "state": {
            "_dom_classes": [],
            "_model_module": "@jupyter-widgets/controls",
            "_model_module_version": "1.5.0",
            "_model_name": "HBoxModel",
            "_view_count": null,
            "_view_module": "@jupyter-widgets/controls",
            "_view_module_version": "1.5.0",
            "_view_name": "HBoxView",
            "box_style": "",
            "children": [
              "IPY_MODEL_8b7367c2a85e447588d4b61cd2640cba",
              "IPY_MODEL_74bdfcfdedce41019723e44c9a029a24",
              "IPY_MODEL_87fd61a7ac1d488b9a3c8c76c96640b9"
            ],
            "layout": "IPY_MODEL_f4efffa268b64d3e9e24e6f87ec63cdb"
          }
        },
        "9ec8d93f6ccc4c26b156a0a3835f3d17": {
          "model_module": "@jupyter-widgets/controls",
          "model_module_version": "1.5.0",
          "model_name": "DescriptionStyleModel",
          "state": {
            "_model_module": "@jupyter-widgets/controls",
            "_model_module_version": "1.5.0",
            "_model_name": "DescriptionStyleModel",
            "_view_count": null,
            "_view_module": "@jupyter-widgets/base",
            "_view_module_version": "1.2.0",
            "_view_name": "StyleView",
            "description_width": ""
          }
        },
        "a132e8f15a8648f58bbc5f07b4142042": {
          "model_module": "@jupyter-widgets/controls",
          "model_module_version": "1.5.0",
          "model_name": "HBoxModel",
          "state": {
            "_dom_classes": [],
            "_model_module": "@jupyter-widgets/controls",
            "_model_module_version": "1.5.0",
            "_model_name": "HBoxModel",
            "_view_count": null,
            "_view_module": "@jupyter-widgets/controls",
            "_view_module_version": "1.5.0",
            "_view_name": "HBoxView",
            "box_style": "",
            "children": [
              "IPY_MODEL_bf1aee7a9b094b7fb3d466274bd5e1e2",
              "IPY_MODEL_92ac9fe2757d4f66af158d6fbfa86870",
              "IPY_MODEL_c6020b797dbb4513bf4a95c270df7f64"
            ],
            "layout": "IPY_MODEL_d9a99d9e866a4da0ba9c5714e9e64b78"
          }
        },
        "a25807b9b20b4c9bbea41fcd758fb1ca": {
          "model_module": "@jupyter-widgets/controls",
          "model_module_version": "1.5.0",
          "model_name": "DescriptionStyleModel",
          "state": {
            "_model_module": "@jupyter-widgets/controls",
            "_model_module_version": "1.5.0",
            "_model_name": "DescriptionStyleModel",
            "_view_count": null,
            "_view_module": "@jupyter-widgets/base",
            "_view_module_version": "1.2.0",
            "_view_name": "StyleView",
            "description_width": ""
          }
        },
        "a3f00092fac7493280bdfe9e49ccf6fe": {
          "model_module": "@jupyter-widgets/base",
          "model_module_version": "1.2.0",
          "model_name": "LayoutModel",
          "state": {
            "_model_module": "@jupyter-widgets/base",
            "_model_module_version": "1.2.0",
            "_model_name": "LayoutModel",
            "_view_count": null,
            "_view_module": "@jupyter-widgets/base",
            "_view_module_version": "1.2.0",
            "_view_name": "LayoutView",
            "align_content": null,
            "align_items": null,
            "align_self": null,
            "border": null,
            "bottom": null,
            "display": null,
            "flex": null,
            "flex_flow": null,
            "grid_area": null,
            "grid_auto_columns": null,
            "grid_auto_flow": null,
            "grid_auto_rows": null,
            "grid_column": null,
            "grid_gap": null,
            "grid_row": null,
            "grid_template_areas": null,
            "grid_template_columns": null,
            "grid_template_rows": null,
            "height": null,
            "justify_content": null,
            "justify_items": null,
            "left": null,
            "margin": null,
            "max_height": null,
            "max_width": null,
            "min_height": null,
            "min_width": null,
            "object_fit": null,
            "object_position": null,
            "order": null,
            "overflow": null,
            "overflow_x": null,
            "overflow_y": null,
            "padding": null,
            "right": null,
            "top": null,
            "visibility": null,
            "width": null
          }
        },
        "a4dcc580b94b43079e2ff7a2a61a0994": {
          "model_module": "@jupyter-widgets/base",
          "model_module_version": "1.2.0",
          "model_name": "LayoutModel",
          "state": {
            "_model_module": "@jupyter-widgets/base",
            "_model_module_version": "1.2.0",
            "_model_name": "LayoutModel",
            "_view_count": null,
            "_view_module": "@jupyter-widgets/base",
            "_view_module_version": "1.2.0",
            "_view_name": "LayoutView",
            "align_content": null,
            "align_items": null,
            "align_self": null,
            "border": null,
            "bottom": null,
            "display": null,
            "flex": null,
            "flex_flow": null,
            "grid_area": null,
            "grid_auto_columns": null,
            "grid_auto_flow": null,
            "grid_auto_rows": null,
            "grid_column": null,
            "grid_gap": null,
            "grid_row": null,
            "grid_template_areas": null,
            "grid_template_columns": null,
            "grid_template_rows": null,
            "height": null,
            "justify_content": null,
            "justify_items": null,
            "left": null,
            "margin": null,
            "max_height": null,
            "max_width": null,
            "min_height": null,
            "min_width": null,
            "object_fit": null,
            "object_position": null,
            "order": null,
            "overflow": null,
            "overflow_x": null,
            "overflow_y": null,
            "padding": null,
            "right": null,
            "top": null,
            "visibility": null,
            "width": null
          }
        },
        "a6b465d25839467f9d26b8a99c0269a3": {
          "model_module": "@jupyter-widgets/base",
          "model_module_version": "1.2.0",
          "model_name": "LayoutModel",
          "state": {
            "_model_module": "@jupyter-widgets/base",
            "_model_module_version": "1.2.0",
            "_model_name": "LayoutModel",
            "_view_count": null,
            "_view_module": "@jupyter-widgets/base",
            "_view_module_version": "1.2.0",
            "_view_name": "LayoutView",
            "align_content": null,
            "align_items": null,
            "align_self": null,
            "border": null,
            "bottom": null,
            "display": null,
            "flex": null,
            "flex_flow": null,
            "grid_area": null,
            "grid_auto_columns": null,
            "grid_auto_flow": null,
            "grid_auto_rows": null,
            "grid_column": null,
            "grid_gap": null,
            "grid_row": null,
            "grid_template_areas": null,
            "grid_template_columns": null,
            "grid_template_rows": null,
            "height": null,
            "justify_content": null,
            "justify_items": null,
            "left": null,
            "margin": null,
            "max_height": null,
            "max_width": null,
            "min_height": null,
            "min_width": null,
            "object_fit": null,
            "object_position": null,
            "order": null,
            "overflow": null,
            "overflow_x": null,
            "overflow_y": null,
            "padding": null,
            "right": null,
            "top": null,
            "visibility": null,
            "width": null
          }
        },
        "a74a0bcff2ae4627b33f2e1fffffeddf": {
          "model_module": "@jupyter-widgets/controls",
          "model_module_version": "1.5.0",
          "model_name": "DescriptionStyleModel",
          "state": {
            "_model_module": "@jupyter-widgets/controls",
            "_model_module_version": "1.5.0",
            "_model_name": "DescriptionStyleModel",
            "_view_count": null,
            "_view_module": "@jupyter-widgets/base",
            "_view_module_version": "1.2.0",
            "_view_name": "StyleView",
            "description_width": ""
          }
        },
        "a814ebfddfb74b62996203d180d272c7": {
          "model_module": "@jupyter-widgets/base",
          "model_module_version": "1.2.0",
          "model_name": "LayoutModel",
          "state": {
            "_model_module": "@jupyter-widgets/base",
            "_model_module_version": "1.2.0",
            "_model_name": "LayoutModel",
            "_view_count": null,
            "_view_module": "@jupyter-widgets/base",
            "_view_module_version": "1.2.0",
            "_view_name": "LayoutView",
            "align_content": null,
            "align_items": null,
            "align_self": null,
            "border": null,
            "bottom": null,
            "display": null,
            "flex": null,
            "flex_flow": null,
            "grid_area": null,
            "grid_auto_columns": null,
            "grid_auto_flow": null,
            "grid_auto_rows": null,
            "grid_column": null,
            "grid_gap": null,
            "grid_row": null,
            "grid_template_areas": null,
            "grid_template_columns": null,
            "grid_template_rows": null,
            "height": null,
            "justify_content": null,
            "justify_items": null,
            "left": null,
            "margin": null,
            "max_height": null,
            "max_width": null,
            "min_height": null,
            "min_width": null,
            "object_fit": null,
            "object_position": null,
            "order": null,
            "overflow": null,
            "overflow_x": null,
            "overflow_y": null,
            "padding": null,
            "right": null,
            "top": null,
            "visibility": null,
            "width": null
          }
        },
        "a8b04ef5d3a446fda65c0c060254dde6": {
          "model_module": "@jupyter-widgets/controls",
          "model_module_version": "1.5.0",
          "model_name": "HBoxModel",
          "state": {
            "_dom_classes": [],
            "_model_module": "@jupyter-widgets/controls",
            "_model_module_version": "1.5.0",
            "_model_name": "HBoxModel",
            "_view_count": null,
            "_view_module": "@jupyter-widgets/controls",
            "_view_module_version": "1.5.0",
            "_view_name": "HBoxView",
            "box_style": "",
            "children": [
              "IPY_MODEL_dde20482879548c8b114c3f086899191",
              "IPY_MODEL_8ea87e65046e4839b56f57131eda74bf",
              "IPY_MODEL_682cddcbf0434fce99803c058c427379"
            ],
            "layout": "IPY_MODEL_22c9cf694c48425e82eaf7c36db67b30"
          }
        },
        "a9388f49ec5a447087b4922add997930": {
          "model_module": "@jupyter-widgets/base",
          "model_module_version": "1.2.0",
          "model_name": "LayoutModel",
          "state": {
            "_model_module": "@jupyter-widgets/base",
            "_model_module_version": "1.2.0",
            "_model_name": "LayoutModel",
            "_view_count": null,
            "_view_module": "@jupyter-widgets/base",
            "_view_module_version": "1.2.0",
            "_view_name": "LayoutView",
            "align_content": null,
            "align_items": null,
            "align_self": null,
            "border": null,
            "bottom": null,
            "display": null,
            "flex": null,
            "flex_flow": null,
            "grid_area": null,
            "grid_auto_columns": null,
            "grid_auto_flow": null,
            "grid_auto_rows": null,
            "grid_column": null,
            "grid_gap": null,
            "grid_row": null,
            "grid_template_areas": null,
            "grid_template_columns": null,
            "grid_template_rows": null,
            "height": null,
            "justify_content": null,
            "justify_items": null,
            "left": null,
            "margin": null,
            "max_height": null,
            "max_width": null,
            "min_height": null,
            "min_width": null,
            "object_fit": null,
            "object_position": null,
            "order": null,
            "overflow": null,
            "overflow_x": null,
            "overflow_y": null,
            "padding": null,
            "right": null,
            "top": null,
            "visibility": null,
            "width": null
          }
        },
        "aa95a99db583426dad0ccc9aeac4fa30": {
          "model_module": "@jupyter-widgets/controls",
          "model_module_version": "1.5.0",
          "model_name": "HTMLModel",
          "state": {
            "_dom_classes": [],
            "_model_module": "@jupyter-widgets/controls",
            "_model_module_version": "1.5.0",
            "_model_name": "HTMLModel",
            "_view_count": null,
            "_view_module": "@jupyter-widgets/controls",
            "_view_module_version": "1.5.0",
            "_view_name": "HTMLView",
            "description": "",
            "description_tooltip": null,
            "layout": "IPY_MODEL_61638aa6976548c19f649bd5570d91ce",
            "placeholder": "​",
            "style": "IPY_MODEL_30176967d7d64e629d3715df2a5ac31b",
            "value": "100%"
          }
        },
        "af2fb00d333346119fd59597948a9c0a": {
          "model_module": "@jupyter-widgets/base",
          "model_module_version": "1.2.0",
          "model_name": "LayoutModel",
          "state": {
            "_model_module": "@jupyter-widgets/base",
            "_model_module_version": "1.2.0",
            "_model_name": "LayoutModel",
            "_view_count": null,
            "_view_module": "@jupyter-widgets/base",
            "_view_module_version": "1.2.0",
            "_view_name": "LayoutView",
            "align_content": null,
            "align_items": null,
            "align_self": null,
            "border": null,
            "bottom": null,
            "display": null,
            "flex": null,
            "flex_flow": null,
            "grid_area": null,
            "grid_auto_columns": null,
            "grid_auto_flow": null,
            "grid_auto_rows": null,
            "grid_column": null,
            "grid_gap": null,
            "grid_row": null,
            "grid_template_areas": null,
            "grid_template_columns": null,
            "grid_template_rows": null,
            "height": null,
            "justify_content": null,
            "justify_items": null,
            "left": null,
            "margin": null,
            "max_height": null,
            "max_width": null,
            "min_height": null,
            "min_width": null,
            "object_fit": null,
            "object_position": null,
            "order": null,
            "overflow": null,
            "overflow_x": null,
            "overflow_y": null,
            "padding": null,
            "right": null,
            "top": null,
            "visibility": null,
            "width": null
          }
        },
        "af63b4dc12634b99ab4bd39a26b90154": {
          "model_module": "@jupyter-widgets/controls",
          "model_module_version": "1.5.0",
          "model_name": "DescriptionStyleModel",
          "state": {
            "_model_module": "@jupyter-widgets/controls",
            "_model_module_version": "1.5.0",
            "_model_name": "DescriptionStyleModel",
            "_view_count": null,
            "_view_module": "@jupyter-widgets/base",
            "_view_module_version": "1.2.0",
            "_view_name": "StyleView",
            "description_width": ""
          }
        },
        "b097d4b8046b4811a8109665e8c31bcb": {
          "model_module": "@jupyter-widgets/base",
          "model_module_version": "1.2.0",
          "model_name": "LayoutModel",
          "state": {
            "_model_module": "@jupyter-widgets/base",
            "_model_module_version": "1.2.0",
            "_model_name": "LayoutModel",
            "_view_count": null,
            "_view_module": "@jupyter-widgets/base",
            "_view_module_version": "1.2.0",
            "_view_name": "LayoutView",
            "align_content": null,
            "align_items": null,
            "align_self": null,
            "border": null,
            "bottom": null,
            "display": null,
            "flex": null,
            "flex_flow": null,
            "grid_area": null,
            "grid_auto_columns": null,
            "grid_auto_flow": null,
            "grid_auto_rows": null,
            "grid_column": null,
            "grid_gap": null,
            "grid_row": null,
            "grid_template_areas": null,
            "grid_template_columns": null,
            "grid_template_rows": null,
            "height": null,
            "justify_content": null,
            "justify_items": null,
            "left": null,
            "margin": null,
            "max_height": null,
            "max_width": null,
            "min_height": null,
            "min_width": null,
            "object_fit": null,
            "object_position": null,
            "order": null,
            "overflow": null,
            "overflow_x": null,
            "overflow_y": null,
            "padding": null,
            "right": null,
            "top": null,
            "visibility": null,
            "width": null
          }
        },
        "b17ff05532144a45847d19c128341697": {
          "model_module": "@jupyter-widgets/controls",
          "model_module_version": "1.5.0",
          "model_name": "FloatProgressModel",
          "state": {
            "_dom_classes": [],
            "_model_module": "@jupyter-widgets/controls",
            "_model_module_version": "1.5.0",
            "_model_name": "FloatProgressModel",
            "_view_count": null,
            "_view_module": "@jupyter-widgets/controls",
            "_view_module_version": "1.5.0",
            "_view_name": "ProgressView",
            "bar_style": "success",
            "description": "",
            "description_tooltip": null,
            "layout": "IPY_MODEL_93b63232c5e74dadaa3f8df75779e5d1",
            "max": 5,
            "min": 0,
            "orientation": "horizontal",
            "style": "IPY_MODEL_9827d5da3627497abb33feefb1f86365",
            "value": 5
          }
        },
        "b2bef5c36a9748d4b55bea17eea4731e": {
          "model_module": "@jupyter-widgets/base",
          "model_module_version": "1.2.0",
          "model_name": "LayoutModel",
          "state": {
            "_model_module": "@jupyter-widgets/base",
            "_model_module_version": "1.2.0",
            "_model_name": "LayoutModel",
            "_view_count": null,
            "_view_module": "@jupyter-widgets/base",
            "_view_module_version": "1.2.0",
            "_view_name": "LayoutView",
            "align_content": null,
            "align_items": null,
            "align_self": null,
            "border": null,
            "bottom": null,
            "display": null,
            "flex": null,
            "flex_flow": null,
            "grid_area": null,
            "grid_auto_columns": null,
            "grid_auto_flow": null,
            "grid_auto_rows": null,
            "grid_column": null,
            "grid_gap": null,
            "grid_row": null,
            "grid_template_areas": null,
            "grid_template_columns": null,
            "grid_template_rows": null,
            "height": null,
            "justify_content": null,
            "justify_items": null,
            "left": null,
            "margin": null,
            "max_height": null,
            "max_width": null,
            "min_height": null,
            "min_width": null,
            "object_fit": null,
            "object_position": null,
            "order": null,
            "overflow": null,
            "overflow_x": null,
            "overflow_y": null,
            "padding": null,
            "right": null,
            "top": null,
            "visibility": null,
            "width": null
          }
        },
        "b4575ce02152483b81b1c840007e4e90": {
          "model_module": "@jupyter-widgets/controls",
          "model_module_version": "1.5.0",
          "model_name": "FloatProgressModel",
          "state": {
            "_dom_classes": [],
            "_model_module": "@jupyter-widgets/controls",
            "_model_module_version": "1.5.0",
            "_model_name": "FloatProgressModel",
            "_view_count": null,
            "_view_module": "@jupyter-widgets/controls",
            "_view_module_version": "1.5.0",
            "_view_name": "ProgressView",
            "bar_style": "success",
            "description": "",
            "description_tooltip": null,
            "layout": "IPY_MODEL_4fbd30fd6d7c4e988c8ae3fd5829b6b8",
            "max": 29,
            "min": 0,
            "orientation": "horizontal",
            "style": "IPY_MODEL_133d9ec8f9dd4d998bb5c873ec2c2add",
            "value": 29
          }
        },
        "b4dfb4fc9d92427eb01152f0c9f4d1a1": {
          "model_module": "@jupyter-widgets/controls",
          "model_module_version": "1.5.0",
          "model_name": "FloatProgressModel",
          "state": {
            "_dom_classes": [],
            "_model_module": "@jupyter-widgets/controls",
            "_model_module_version": "1.5.0",
            "_model_name": "FloatProgressModel",
            "_view_count": null,
            "_view_module": "@jupyter-widgets/controls",
            "_view_module_version": "1.5.0",
            "_view_name": "ProgressView",
            "bar_style": "success",
            "description": "",
            "description_tooltip": null,
            "layout": "IPY_MODEL_4e95ecc2dc6b4f16951360ced9c0b9d6",
            "max": 37,
            "min": 0,
            "orientation": "horizontal",
            "style": "IPY_MODEL_e506a6f79d5141fab066f8a8ac5a7be8",
            "value": 37
          }
        },
        "b4fe78ba2ab8410a8880f66365eccd7d": {
          "model_module": "@jupyter-widgets/controls",
          "model_module_version": "1.5.0",
          "model_name": "HTMLModel",
          "state": {
            "_dom_classes": [],
            "_model_module": "@jupyter-widgets/controls",
            "_model_module_version": "1.5.0",
            "_model_name": "HTMLModel",
            "_view_count": null,
            "_view_module": "@jupyter-widgets/controls",
            "_view_module_version": "1.5.0",
            "_view_name": "HTMLView",
            "description": "",
            "description_tooltip": null,
            "layout": "IPY_MODEL_5397d580c4f14709a98ae3882afc304d",
            "placeholder": "​",
            "style": "IPY_MODEL_576507dbc45245579e1668195e734441",
            "value": " 37/37 [03:55&lt;00:00,  6.78s/it]"
          }
        },
        "b5032a83e39149539719e3e4724330a1": {
          "model_module": "@jupyter-widgets/base",
          "model_module_version": "1.2.0",
          "model_name": "LayoutModel",
          "state": {
            "_model_module": "@jupyter-widgets/base",
            "_model_module_version": "1.2.0",
            "_model_name": "LayoutModel",
            "_view_count": null,
            "_view_module": "@jupyter-widgets/base",
            "_view_module_version": "1.2.0",
            "_view_name": "LayoutView",
            "align_content": null,
            "align_items": null,
            "align_self": null,
            "border": null,
            "bottom": null,
            "display": null,
            "flex": null,
            "flex_flow": null,
            "grid_area": null,
            "grid_auto_columns": null,
            "grid_auto_flow": null,
            "grid_auto_rows": null,
            "grid_column": null,
            "grid_gap": null,
            "grid_row": null,
            "grid_template_areas": null,
            "grid_template_columns": null,
            "grid_template_rows": null,
            "height": null,
            "justify_content": null,
            "justify_items": null,
            "left": null,
            "margin": null,
            "max_height": null,
            "max_width": null,
            "min_height": null,
            "min_width": null,
            "object_fit": null,
            "object_position": null,
            "order": null,
            "overflow": null,
            "overflow_x": null,
            "overflow_y": null,
            "padding": null,
            "right": null,
            "top": null,
            "visibility": null,
            "width": null
          }
        },
        "b617fd931cf9445794deb3069e7d6979": {
          "model_module": "@jupyter-widgets/controls",
          "model_module_version": "1.5.0",
          "model_name": "DescriptionStyleModel",
          "state": {
            "_model_module": "@jupyter-widgets/controls",
            "_model_module_version": "1.5.0",
            "_model_name": "DescriptionStyleModel",
            "_view_count": null,
            "_view_module": "@jupyter-widgets/base",
            "_view_module_version": "1.2.0",
            "_view_name": "StyleView",
            "description_width": ""
          }
        },
        "b6c9ff7fa5d6462095fa4b7e646008ce": {
          "model_module": "@jupyter-widgets/base",
          "model_module_version": "1.2.0",
          "model_name": "LayoutModel",
          "state": {
            "_model_module": "@jupyter-widgets/base",
            "_model_module_version": "1.2.0",
            "_model_name": "LayoutModel",
            "_view_count": null,
            "_view_module": "@jupyter-widgets/base",
            "_view_module_version": "1.2.0",
            "_view_name": "LayoutView",
            "align_content": null,
            "align_items": null,
            "align_self": null,
            "border": null,
            "bottom": null,
            "display": null,
            "flex": null,
            "flex_flow": null,
            "grid_area": null,
            "grid_auto_columns": null,
            "grid_auto_flow": null,
            "grid_auto_rows": null,
            "grid_column": null,
            "grid_gap": null,
            "grid_row": null,
            "grid_template_areas": null,
            "grid_template_columns": null,
            "grid_template_rows": null,
            "height": null,
            "justify_content": null,
            "justify_items": null,
            "left": null,
            "margin": null,
            "max_height": null,
            "max_width": null,
            "min_height": null,
            "min_width": null,
            "object_fit": null,
            "object_position": null,
            "order": null,
            "overflow": null,
            "overflow_x": null,
            "overflow_y": null,
            "padding": null,
            "right": null,
            "top": null,
            "visibility": null,
            "width": null
          }
        },
        "b84171895e3e470586e63e42c7926dab": {
          "model_module": "@jupyter-widgets/base",
          "model_module_version": "1.2.0",
          "model_name": "LayoutModel",
          "state": {
            "_model_module": "@jupyter-widgets/base",
            "_model_module_version": "1.2.0",
            "_model_name": "LayoutModel",
            "_view_count": null,
            "_view_module": "@jupyter-widgets/base",
            "_view_module_version": "1.2.0",
            "_view_name": "LayoutView",
            "align_content": null,
            "align_items": null,
            "align_self": null,
            "border": null,
            "bottom": null,
            "display": null,
            "flex": null,
            "flex_flow": null,
            "grid_area": null,
            "grid_auto_columns": null,
            "grid_auto_flow": null,
            "grid_auto_rows": null,
            "grid_column": null,
            "grid_gap": null,
            "grid_row": null,
            "grid_template_areas": null,
            "grid_template_columns": null,
            "grid_template_rows": null,
            "height": null,
            "justify_content": null,
            "justify_items": null,
            "left": null,
            "margin": null,
            "max_height": null,
            "max_width": null,
            "min_height": null,
            "min_width": null,
            "object_fit": null,
            "object_position": null,
            "order": null,
            "overflow": null,
            "overflow_x": null,
            "overflow_y": null,
            "padding": null,
            "right": null,
            "top": null,
            "visibility": null,
            "width": null
          }
        },
        "b8809a72af1142f683f74c98008ccbaf": {
          "model_module": "@jupyter-widgets/controls",
          "model_module_version": "1.5.0",
          "model_name": "HBoxModel",
          "state": {
            "_dom_classes": [],
            "_model_module": "@jupyter-widgets/controls",
            "_model_module_version": "1.5.0",
            "_model_name": "HBoxModel",
            "_view_count": null,
            "_view_module": "@jupyter-widgets/controls",
            "_view_module_version": "1.5.0",
            "_view_name": "HBoxView",
            "box_style": "",
            "children": [
              "IPY_MODEL_909bdd8bf5604e78a734334fd9dcdaf1",
              "IPY_MODEL_b4dfb4fc9d92427eb01152f0c9f4d1a1",
              "IPY_MODEL_b4fe78ba2ab8410a8880f66365eccd7d"
            ],
            "layout": "IPY_MODEL_c45f4e8fbdf344f781a80d3ecb2d1dba"
          }
        },
        "b883b35237a5479db15db87b0b7e5dae": {
          "model_module": "@jupyter-widgets/controls",
          "model_module_version": "1.5.0",
          "model_name": "FloatProgressModel",
          "state": {
            "_dom_classes": [],
            "_model_module": "@jupyter-widgets/controls",
            "_model_module_version": "1.5.0",
            "_model_name": "FloatProgressModel",
            "_view_count": null,
            "_view_module": "@jupyter-widgets/controls",
            "_view_module_version": "1.5.0",
            "_view_name": "ProgressView",
            "bar_style": "success",
            "description": "",
            "description_tooltip": null,
            "layout": "IPY_MODEL_401af115a0d248449c9261be1953df66",
            "max": 29,
            "min": 0,
            "orientation": "horizontal",
            "style": "IPY_MODEL_e8423e1d1b6e4fec8ab93dd3d372e830",
            "value": 29
          }
        },
        "b90a02983f2b4b0c909dbeb71dcb85d1": {
          "model_module": "@jupyter-widgets/base",
          "model_module_version": "1.2.0",
          "model_name": "LayoutModel",
          "state": {
            "_model_module": "@jupyter-widgets/base",
            "_model_module_version": "1.2.0",
            "_model_name": "LayoutModel",
            "_view_count": null,
            "_view_module": "@jupyter-widgets/base",
            "_view_module_version": "1.2.0",
            "_view_name": "LayoutView",
            "align_content": null,
            "align_items": null,
            "align_self": null,
            "border": null,
            "bottom": null,
            "display": null,
            "flex": null,
            "flex_flow": null,
            "grid_area": null,
            "grid_auto_columns": null,
            "grid_auto_flow": null,
            "grid_auto_rows": null,
            "grid_column": null,
            "grid_gap": null,
            "grid_row": null,
            "grid_template_areas": null,
            "grid_template_columns": null,
            "grid_template_rows": null,
            "height": null,
            "justify_content": null,
            "justify_items": null,
            "left": null,
            "margin": null,
            "max_height": null,
            "max_width": null,
            "min_height": null,
            "min_width": null,
            "object_fit": null,
            "object_position": null,
            "order": null,
            "overflow": null,
            "overflow_x": null,
            "overflow_y": null,
            "padding": null,
            "right": null,
            "top": null,
            "visibility": null,
            "width": null
          }
        },
        "bd32bc8486a6435b99ecec896580a6c0": {
          "model_module": "@jupyter-widgets/controls",
          "model_module_version": "1.5.0",
          "model_name": "DescriptionStyleModel",
          "state": {
            "_model_module": "@jupyter-widgets/controls",
            "_model_module_version": "1.5.0",
            "_model_name": "DescriptionStyleModel",
            "_view_count": null,
            "_view_module": "@jupyter-widgets/base",
            "_view_module_version": "1.2.0",
            "_view_name": "StyleView",
            "description_width": ""
          }
        },
        "bda8d306f96245f5a5683303514fc5e2": {
          "model_module": "@jupyter-widgets/controls",
          "model_module_version": "1.5.0",
          "model_name": "ProgressStyleModel",
          "state": {
            "_model_module": "@jupyter-widgets/controls",
            "_model_module_version": "1.5.0",
            "_model_name": "ProgressStyleModel",
            "_view_count": null,
            "_view_module": "@jupyter-widgets/base",
            "_view_module_version": "1.2.0",
            "_view_name": "StyleView",
            "bar_color": null,
            "description_width": ""
          }
        },
        "beeee14a485942aa8bfad303bd85d0cf": {
          "model_module": "@jupyter-widgets/controls",
          "model_module_version": "1.5.0",
          "model_name": "DescriptionStyleModel",
          "state": {
            "_model_module": "@jupyter-widgets/controls",
            "_model_module_version": "1.5.0",
            "_model_name": "DescriptionStyleModel",
            "_view_count": null,
            "_view_module": "@jupyter-widgets/base",
            "_view_module_version": "1.2.0",
            "_view_name": "StyleView",
            "description_width": ""
          }
        },
        "bf1aee7a9b094b7fb3d466274bd5e1e2": {
          "model_module": "@jupyter-widgets/controls",
          "model_module_version": "1.5.0",
          "model_name": "HTMLModel",
          "state": {
            "_dom_classes": [],
            "_model_module": "@jupyter-widgets/controls",
            "_model_module_version": "1.5.0",
            "_model_name": "HTMLModel",
            "_view_count": null,
            "_view_module": "@jupyter-widgets/controls",
            "_view_module_version": "1.5.0",
            "_view_name": "HTMLView",
            "description": "",
            "description_tooltip": null,
            "layout": "IPY_MODEL_7a78ae4332a54caeabb6a257aa830346",
            "placeholder": "​",
            "style": "IPY_MODEL_a25807b9b20b4c9bbea41fcd758fb1ca",
            "value": "100%"
          }
        },
        "bfd2016b4102488d809ad88396293f10": {
          "model_module": "@jupyter-widgets/base",
          "model_module_version": "1.2.0",
          "model_name": "LayoutModel",
          "state": {
            "_model_module": "@jupyter-widgets/base",
            "_model_module_version": "1.2.0",
            "_model_name": "LayoutModel",
            "_view_count": null,
            "_view_module": "@jupyter-widgets/base",
            "_view_module_version": "1.2.0",
            "_view_name": "LayoutView",
            "align_content": null,
            "align_items": null,
            "align_self": null,
            "border": null,
            "bottom": null,
            "display": null,
            "flex": null,
            "flex_flow": null,
            "grid_area": null,
            "grid_auto_columns": null,
            "grid_auto_flow": null,
            "grid_auto_rows": null,
            "grid_column": null,
            "grid_gap": null,
            "grid_row": null,
            "grid_template_areas": null,
            "grid_template_columns": null,
            "grid_template_rows": null,
            "height": null,
            "justify_content": null,
            "justify_items": null,
            "left": null,
            "margin": null,
            "max_height": null,
            "max_width": null,
            "min_height": null,
            "min_width": null,
            "object_fit": null,
            "object_position": null,
            "order": null,
            "overflow": null,
            "overflow_x": null,
            "overflow_y": null,
            "padding": null,
            "right": null,
            "top": null,
            "visibility": null,
            "width": null
          }
        },
        "c14a524c9f744855ac5d4c59a2938a87": {
          "model_module": "@jupyter-widgets/controls",
          "model_module_version": "1.5.0",
          "model_name": "HTMLModel",
          "state": {
            "_dom_classes": [],
            "_model_module": "@jupyter-widgets/controls",
            "_model_module_version": "1.5.0",
            "_model_name": "HTMLModel",
            "_view_count": null,
            "_view_module": "@jupyter-widgets/controls",
            "_view_module_version": "1.5.0",
            "_view_name": "HTMLView",
            "description": "",
            "description_tooltip": null,
            "layout": "IPY_MODEL_cac8e638a10147879e0c820fd9951837",
            "placeholder": "​",
            "style": "IPY_MODEL_af63b4dc12634b99ab4bd39a26b90154",
            "value": "100%"
          }
        },
        "c23a11e8d4124b31b678fea1130eea22": {
          "model_module": "@jupyter-widgets/base",
          "model_module_version": "1.2.0",
          "model_name": "LayoutModel",
          "state": {
            "_model_module": "@jupyter-widgets/base",
            "_model_module_version": "1.2.0",
            "_model_name": "LayoutModel",
            "_view_count": null,
            "_view_module": "@jupyter-widgets/base",
            "_view_module_version": "1.2.0",
            "_view_name": "LayoutView",
            "align_content": null,
            "align_items": null,
            "align_self": null,
            "border": null,
            "bottom": null,
            "display": null,
            "flex": null,
            "flex_flow": null,
            "grid_area": null,
            "grid_auto_columns": null,
            "grid_auto_flow": null,
            "grid_auto_rows": null,
            "grid_column": null,
            "grid_gap": null,
            "grid_row": null,
            "grid_template_areas": null,
            "grid_template_columns": null,
            "grid_template_rows": null,
            "height": null,
            "justify_content": null,
            "justify_items": null,
            "left": null,
            "margin": null,
            "max_height": null,
            "max_width": null,
            "min_height": null,
            "min_width": null,
            "object_fit": null,
            "object_position": null,
            "order": null,
            "overflow": null,
            "overflow_x": null,
            "overflow_y": null,
            "padding": null,
            "right": null,
            "top": null,
            "visibility": null,
            "width": null
          }
        },
        "c31d349928b04a91960879f23dcc1e0d": {
          "model_module": "@jupyter-widgets/base",
          "model_module_version": "1.2.0",
          "model_name": "LayoutModel",
          "state": {
            "_model_module": "@jupyter-widgets/base",
            "_model_module_version": "1.2.0",
            "_model_name": "LayoutModel",
            "_view_count": null,
            "_view_module": "@jupyter-widgets/base",
            "_view_module_version": "1.2.0",
            "_view_name": "LayoutView",
            "align_content": null,
            "align_items": null,
            "align_self": null,
            "border": null,
            "bottom": null,
            "display": null,
            "flex": null,
            "flex_flow": null,
            "grid_area": null,
            "grid_auto_columns": null,
            "grid_auto_flow": null,
            "grid_auto_rows": null,
            "grid_column": null,
            "grid_gap": null,
            "grid_row": null,
            "grid_template_areas": null,
            "grid_template_columns": null,
            "grid_template_rows": null,
            "height": null,
            "justify_content": null,
            "justify_items": null,
            "left": null,
            "margin": null,
            "max_height": null,
            "max_width": null,
            "min_height": null,
            "min_width": null,
            "object_fit": null,
            "object_position": null,
            "order": null,
            "overflow": null,
            "overflow_x": null,
            "overflow_y": null,
            "padding": null,
            "right": null,
            "top": null,
            "visibility": null,
            "width": null
          }
        },
        "c45f4e8fbdf344f781a80d3ecb2d1dba": {
          "model_module": "@jupyter-widgets/base",
          "model_module_version": "1.2.0",
          "model_name": "LayoutModel",
          "state": {
            "_model_module": "@jupyter-widgets/base",
            "_model_module_version": "1.2.0",
            "_model_name": "LayoutModel",
            "_view_count": null,
            "_view_module": "@jupyter-widgets/base",
            "_view_module_version": "1.2.0",
            "_view_name": "LayoutView",
            "align_content": null,
            "align_items": null,
            "align_self": null,
            "border": null,
            "bottom": null,
            "display": null,
            "flex": null,
            "flex_flow": null,
            "grid_area": null,
            "grid_auto_columns": null,
            "grid_auto_flow": null,
            "grid_auto_rows": null,
            "grid_column": null,
            "grid_gap": null,
            "grid_row": null,
            "grid_template_areas": null,
            "grid_template_columns": null,
            "grid_template_rows": null,
            "height": null,
            "justify_content": null,
            "justify_items": null,
            "left": null,
            "margin": null,
            "max_height": null,
            "max_width": null,
            "min_height": null,
            "min_width": null,
            "object_fit": null,
            "object_position": null,
            "order": null,
            "overflow": null,
            "overflow_x": null,
            "overflow_y": null,
            "padding": null,
            "right": null,
            "top": null,
            "visibility": null,
            "width": null
          }
        },
        "c5a568e9be5549f7862f9bac33c27be9": {
          "model_module": "@jupyter-widgets/controls",
          "model_module_version": "1.5.0",
          "model_name": "HTMLModel",
          "state": {
            "_dom_classes": [],
            "_model_module": "@jupyter-widgets/controls",
            "_model_module_version": "1.5.0",
            "_model_name": "HTMLModel",
            "_view_count": null,
            "_view_module": "@jupyter-widgets/controls",
            "_view_module_version": "1.5.0",
            "_view_name": "HTMLView",
            "description": "",
            "description_tooltip": null,
            "layout": "IPY_MODEL_a4dcc580b94b43079e2ff7a2a61a0994",
            "placeholder": "​",
            "style": "IPY_MODEL_d4e09c81612c4143bb72df266bcf2837",
            "value": " 29/29 [00:35&lt;00:00,  1.06it/s]"
          }
        },
        "c5c4197966514ca3ba61ad20a1da0271": {
          "model_module": "@jupyter-widgets/controls",
          "model_module_version": "1.5.0",
          "model_name": "FloatProgressModel",
          "state": {
            "_dom_classes": [],
            "_model_module": "@jupyter-widgets/controls",
            "_model_module_version": "1.5.0",
            "_model_name": "FloatProgressModel",
            "_view_count": null,
            "_view_module": "@jupyter-widgets/controls",
            "_view_module_version": "1.5.0",
            "_view_name": "ProgressView",
            "bar_style": "success",
            "description": "",
            "description_tooltip": null,
            "layout": "IPY_MODEL_1c0ba0bfbd6d491ca4d222c24b906fbb",
            "max": 118,
            "min": 0,
            "orientation": "horizontal",
            "style": "IPY_MODEL_42a38bde729044b1bc36db1aa94fb7ae",
            "value": 118
          }
        },
        "c5da6bfdd79449dd82a607f413bbccf0": {
          "model_module": "@jupyter-widgets/base",
          "model_module_version": "1.2.0",
          "model_name": "LayoutModel",
          "state": {
            "_model_module": "@jupyter-widgets/base",
            "_model_module_version": "1.2.0",
            "_model_name": "LayoutModel",
            "_view_count": null,
            "_view_module": "@jupyter-widgets/base",
            "_view_module_version": "1.2.0",
            "_view_name": "LayoutView",
            "align_content": null,
            "align_items": null,
            "align_self": null,
            "border": null,
            "bottom": null,
            "display": null,
            "flex": null,
            "flex_flow": null,
            "grid_area": null,
            "grid_auto_columns": null,
            "grid_auto_flow": null,
            "grid_auto_rows": null,
            "grid_column": null,
            "grid_gap": null,
            "grid_row": null,
            "grid_template_areas": null,
            "grid_template_columns": null,
            "grid_template_rows": null,
            "height": null,
            "justify_content": null,
            "justify_items": null,
            "left": null,
            "margin": null,
            "max_height": null,
            "max_width": null,
            "min_height": null,
            "min_width": null,
            "object_fit": null,
            "object_position": null,
            "order": null,
            "overflow": null,
            "overflow_x": null,
            "overflow_y": null,
            "padding": null,
            "right": null,
            "top": null,
            "visibility": null,
            "width": null
          }
        },
        "c5e4408ca3e64dc4b35d1d539eb79ba9": {
          "model_module": "@jupyter-widgets/controls",
          "model_module_version": "1.5.0",
          "model_name": "DescriptionStyleModel",
          "state": {
            "_model_module": "@jupyter-widgets/controls",
            "_model_module_version": "1.5.0",
            "_model_name": "DescriptionStyleModel",
            "_view_count": null,
            "_view_module": "@jupyter-widgets/base",
            "_view_module_version": "1.2.0",
            "_view_name": "StyleView",
            "description_width": ""
          }
        },
        "c6020b797dbb4513bf4a95c270df7f64": {
          "model_module": "@jupyter-widgets/controls",
          "model_module_version": "1.5.0",
          "model_name": "HTMLModel",
          "state": {
            "_dom_classes": [],
            "_model_module": "@jupyter-widgets/controls",
            "_model_module_version": "1.5.0",
            "_model_name": "HTMLModel",
            "_view_count": null,
            "_view_module": "@jupyter-widgets/controls",
            "_view_module_version": "1.5.0",
            "_view_name": "HTMLView",
            "description": "",
            "description_tooltip": null,
            "layout": "IPY_MODEL_df7b4757acf04e0db5a0bc8f68f6cc55",
            "placeholder": "​",
            "style": "IPY_MODEL_f32a1c7a72b747a8a10744d115f44ad5",
            "value": " 118/118 [00:43&lt;00:00,  2.68it/s]"
          }
        },
        "c610cb90d02d45c0bc9e2d4e8e2349f9": {
          "model_module": "@jupyter-widgets/base",
          "model_module_version": "1.2.0",
          "model_name": "LayoutModel",
          "state": {
            "_model_module": "@jupyter-widgets/base",
            "_model_module_version": "1.2.0",
            "_model_name": "LayoutModel",
            "_view_count": null,
            "_view_module": "@jupyter-widgets/base",
            "_view_module_version": "1.2.0",
            "_view_name": "LayoutView",
            "align_content": null,
            "align_items": null,
            "align_self": null,
            "border": null,
            "bottom": null,
            "display": null,
            "flex": null,
            "flex_flow": null,
            "grid_area": null,
            "grid_auto_columns": null,
            "grid_auto_flow": null,
            "grid_auto_rows": null,
            "grid_column": null,
            "grid_gap": null,
            "grid_row": null,
            "grid_template_areas": null,
            "grid_template_columns": null,
            "grid_template_rows": null,
            "height": null,
            "justify_content": null,
            "justify_items": null,
            "left": null,
            "margin": null,
            "max_height": null,
            "max_width": null,
            "min_height": null,
            "min_width": null,
            "object_fit": null,
            "object_position": null,
            "order": null,
            "overflow": null,
            "overflow_x": null,
            "overflow_y": null,
            "padding": null,
            "right": null,
            "top": null,
            "visibility": null,
            "width": null
          }
        },
        "c8b0f02633244153a3312583f9d833bb": {
          "model_module": "@jupyter-widgets/controls",
          "model_module_version": "1.5.0",
          "model_name": "FloatProgressModel",
          "state": {
            "_dom_classes": [],
            "_model_module": "@jupyter-widgets/controls",
            "_model_module_version": "1.5.0",
            "_model_name": "FloatProgressModel",
            "_view_count": null,
            "_view_module": "@jupyter-widgets/controls",
            "_view_module_version": "1.5.0",
            "_view_name": "ProgressView",
            "bar_style": "success",
            "description": "",
            "description_tooltip": null,
            "layout": "IPY_MODEL_c31d349928b04a91960879f23dcc1e0d",
            "max": 29,
            "min": 0,
            "orientation": "horizontal",
            "style": "IPY_MODEL_d47a816d3a6044d596f023d4436d9c9a",
            "value": 29
          }
        },
        "cac8e638a10147879e0c820fd9951837": {
          "model_module": "@jupyter-widgets/base",
          "model_module_version": "1.2.0",
          "model_name": "LayoutModel",
          "state": {
            "_model_module": "@jupyter-widgets/base",
            "_model_module_version": "1.2.0",
            "_model_name": "LayoutModel",
            "_view_count": null,
            "_view_module": "@jupyter-widgets/base",
            "_view_module_version": "1.2.0",
            "_view_name": "LayoutView",
            "align_content": null,
            "align_items": null,
            "align_self": null,
            "border": null,
            "bottom": null,
            "display": null,
            "flex": null,
            "flex_flow": null,
            "grid_area": null,
            "grid_auto_columns": null,
            "grid_auto_flow": null,
            "grid_auto_rows": null,
            "grid_column": null,
            "grid_gap": null,
            "grid_row": null,
            "grid_template_areas": null,
            "grid_template_columns": null,
            "grid_template_rows": null,
            "height": null,
            "justify_content": null,
            "justify_items": null,
            "left": null,
            "margin": null,
            "max_height": null,
            "max_width": null,
            "min_height": null,
            "min_width": null,
            "object_fit": null,
            "object_position": null,
            "order": null,
            "overflow": null,
            "overflow_x": null,
            "overflow_y": null,
            "padding": null,
            "right": null,
            "top": null,
            "visibility": null,
            "width": null
          }
        },
        "cb40d4d25ed94a359e5bde5bc2507e7c": {
          "model_module": "@jupyter-widgets/base",
          "model_module_version": "1.2.0",
          "model_name": "LayoutModel",
          "state": {
            "_model_module": "@jupyter-widgets/base",
            "_model_module_version": "1.2.0",
            "_model_name": "LayoutModel",
            "_view_count": null,
            "_view_module": "@jupyter-widgets/base",
            "_view_module_version": "1.2.0",
            "_view_name": "LayoutView",
            "align_content": null,
            "align_items": null,
            "align_self": null,
            "border": null,
            "bottom": null,
            "display": null,
            "flex": null,
            "flex_flow": null,
            "grid_area": null,
            "grid_auto_columns": null,
            "grid_auto_flow": null,
            "grid_auto_rows": null,
            "grid_column": null,
            "grid_gap": null,
            "grid_row": null,
            "grid_template_areas": null,
            "grid_template_columns": null,
            "grid_template_rows": null,
            "height": null,
            "justify_content": null,
            "justify_items": null,
            "left": null,
            "margin": null,
            "max_height": null,
            "max_width": null,
            "min_height": null,
            "min_width": null,
            "object_fit": null,
            "object_position": null,
            "order": null,
            "overflow": null,
            "overflow_x": null,
            "overflow_y": null,
            "padding": null,
            "right": null,
            "top": null,
            "visibility": null,
            "width": null
          }
        },
        "cbb99d85988c4b66b3d358b0bc8de764": {
          "model_module": "@jupyter-widgets/base",
          "model_module_version": "1.2.0",
          "model_name": "LayoutModel",
          "state": {
            "_model_module": "@jupyter-widgets/base",
            "_model_module_version": "1.2.0",
            "_model_name": "LayoutModel",
            "_view_count": null,
            "_view_module": "@jupyter-widgets/base",
            "_view_module_version": "1.2.0",
            "_view_name": "LayoutView",
            "align_content": null,
            "align_items": null,
            "align_self": null,
            "border": null,
            "bottom": null,
            "display": null,
            "flex": null,
            "flex_flow": null,
            "grid_area": null,
            "grid_auto_columns": null,
            "grid_auto_flow": null,
            "grid_auto_rows": null,
            "grid_column": null,
            "grid_gap": null,
            "grid_row": null,
            "grid_template_areas": null,
            "grid_template_columns": null,
            "grid_template_rows": null,
            "height": null,
            "justify_content": null,
            "justify_items": null,
            "left": null,
            "margin": null,
            "max_height": null,
            "max_width": null,
            "min_height": null,
            "min_width": null,
            "object_fit": null,
            "object_position": null,
            "order": null,
            "overflow": null,
            "overflow_x": null,
            "overflow_y": null,
            "padding": null,
            "right": null,
            "top": null,
            "visibility": null,
            "width": null
          }
        },
        "cc81378d25024821ad6facc567faae73": {
          "model_module": "@jupyter-widgets/controls",
          "model_module_version": "1.5.0",
          "model_name": "FloatProgressModel",
          "state": {
            "_dom_classes": [],
            "_model_module": "@jupyter-widgets/controls",
            "_model_module_version": "1.5.0",
            "_model_name": "FloatProgressModel",
            "_view_count": null,
            "_view_module": "@jupyter-widgets/controls",
            "_view_module_version": "1.5.0",
            "_view_name": "ProgressView",
            "bar_style": "success",
            "description": "",
            "description_tooltip": null,
            "layout": "IPY_MODEL_5a40b9546ef2452cb729411fc22c64b0",
            "max": 29,
            "min": 0,
            "orientation": "horizontal",
            "style": "IPY_MODEL_34ae8779a4774356ac7ab20cc2bff095",
            "value": 29
          }
        },
        "cea85dfee7db43c4a79fc2ce6cf222f4": {
          "model_module": "@jupyter-widgets/controls",
          "model_module_version": "1.5.0",
          "model_name": "DescriptionStyleModel",
          "state": {
            "_model_module": "@jupyter-widgets/controls",
            "_model_module_version": "1.5.0",
            "_model_name": "DescriptionStyleModel",
            "_view_count": null,
            "_view_module": "@jupyter-widgets/base",
            "_view_module_version": "1.2.0",
            "_view_name": "StyleView",
            "description_width": ""
          }
        },
        "ceba4667fc3b4ad392c7b4c1ee87ce48": {
          "model_module": "@jupyter-widgets/controls",
          "model_module_version": "1.5.0",
          "model_name": "HBoxModel",
          "state": {
            "_dom_classes": [],
            "_model_module": "@jupyter-widgets/controls",
            "_model_module_version": "1.5.0",
            "_model_name": "HBoxModel",
            "_view_count": null,
            "_view_module": "@jupyter-widgets/controls",
            "_view_module_version": "1.5.0",
            "_view_name": "HBoxView",
            "box_style": "",
            "children": [
              "IPY_MODEL_f8af8824849d43428fd63129c498a080",
              "IPY_MODEL_cc81378d25024821ad6facc567faae73",
              "IPY_MODEL_7b4274c0c9e94dc58014e551c2de82f7"
            ],
            "layout": "IPY_MODEL_0e507bd6864c40d0bcdab277f91d23b5"
          }
        },
        "d30f18c0caa7406986f4fda952351ed9": {
          "model_module": "@jupyter-widgets/controls",
          "model_module_version": "1.5.0",
          "model_name": "DescriptionStyleModel",
          "state": {
            "_model_module": "@jupyter-widgets/controls",
            "_model_module_version": "1.5.0",
            "_model_name": "DescriptionStyleModel",
            "_view_count": null,
            "_view_module": "@jupyter-widgets/base",
            "_view_module_version": "1.2.0",
            "_view_name": "StyleView",
            "description_width": ""
          }
        },
        "d34f760f4d004ea6bf6437d1b8c1eeef": {
          "model_module": "@jupyter-widgets/base",
          "model_module_version": "1.2.0",
          "model_name": "LayoutModel",
          "state": {
            "_model_module": "@jupyter-widgets/base",
            "_model_module_version": "1.2.0",
            "_model_name": "LayoutModel",
            "_view_count": null,
            "_view_module": "@jupyter-widgets/base",
            "_view_module_version": "1.2.0",
            "_view_name": "LayoutView",
            "align_content": null,
            "align_items": null,
            "align_self": null,
            "border": null,
            "bottom": null,
            "display": null,
            "flex": null,
            "flex_flow": null,
            "grid_area": null,
            "grid_auto_columns": null,
            "grid_auto_flow": null,
            "grid_auto_rows": null,
            "grid_column": null,
            "grid_gap": null,
            "grid_row": null,
            "grid_template_areas": null,
            "grid_template_columns": null,
            "grid_template_rows": null,
            "height": null,
            "justify_content": null,
            "justify_items": null,
            "left": null,
            "margin": null,
            "max_height": null,
            "max_width": null,
            "min_height": null,
            "min_width": null,
            "object_fit": null,
            "object_position": null,
            "order": null,
            "overflow": null,
            "overflow_x": null,
            "overflow_y": null,
            "padding": null,
            "right": null,
            "top": null,
            "visibility": null,
            "width": null
          }
        },
        "d4797dfae4db4d57aeb3876a460cc986": {
          "model_module": "@jupyter-widgets/controls",
          "model_module_version": "1.5.0",
          "model_name": "ProgressStyleModel",
          "state": {
            "_model_module": "@jupyter-widgets/controls",
            "_model_module_version": "1.5.0",
            "_model_name": "ProgressStyleModel",
            "_view_count": null,
            "_view_module": "@jupyter-widgets/base",
            "_view_module_version": "1.2.0",
            "_view_name": "StyleView",
            "bar_color": null,
            "description_width": ""
          }
        },
        "d47a816d3a6044d596f023d4436d9c9a": {
          "model_module": "@jupyter-widgets/controls",
          "model_module_version": "1.5.0",
          "model_name": "ProgressStyleModel",
          "state": {
            "_model_module": "@jupyter-widgets/controls",
            "_model_module_version": "1.5.0",
            "_model_name": "ProgressStyleModel",
            "_view_count": null,
            "_view_module": "@jupyter-widgets/base",
            "_view_module_version": "1.2.0",
            "_view_name": "StyleView",
            "bar_color": null,
            "description_width": ""
          }
        },
        "d4e09c81612c4143bb72df266bcf2837": {
          "model_module": "@jupyter-widgets/controls",
          "model_module_version": "1.5.0",
          "model_name": "DescriptionStyleModel",
          "state": {
            "_model_module": "@jupyter-widgets/controls",
            "_model_module_version": "1.5.0",
            "_model_name": "DescriptionStyleModel",
            "_view_count": null,
            "_view_module": "@jupyter-widgets/base",
            "_view_module_version": "1.2.0",
            "_view_name": "StyleView",
            "description_width": ""
          }
        },
        "d527aca70c4b4ae4ae0bd057ec4c49f2": {
          "model_module": "@jupyter-widgets/controls",
          "model_module_version": "1.5.0",
          "model_name": "DescriptionStyleModel",
          "state": {
            "_model_module": "@jupyter-widgets/controls",
            "_model_module_version": "1.5.0",
            "_model_name": "DescriptionStyleModel",
            "_view_count": null,
            "_view_module": "@jupyter-widgets/base",
            "_view_module_version": "1.2.0",
            "_view_name": "StyleView",
            "description_width": ""
          }
        },
        "d7c6dee034a6488a82ef3eae1c07c284": {
          "model_module": "@jupyter-widgets/controls",
          "model_module_version": "1.5.0",
          "model_name": "HTMLModel",
          "state": {
            "_dom_classes": [],
            "_model_module": "@jupyter-widgets/controls",
            "_model_module_version": "1.5.0",
            "_model_name": "HTMLModel",
            "_view_count": null,
            "_view_module": "@jupyter-widgets/controls",
            "_view_module_version": "1.5.0",
            "_view_name": "HTMLView",
            "description": "",
            "description_tooltip": null,
            "layout": "IPY_MODEL_8f6b1e7c2c1d4de49e36d7818fbad34d",
            "placeholder": "​",
            "style": "IPY_MODEL_0c58fd93094949448869e8167955e8ea",
            "value": "100%"
          }
        },
        "d913f3e7f0a24f49abe89fe94ffc777e": {
          "model_module": "@jupyter-widgets/base",
          "model_module_version": "1.2.0",
          "model_name": "LayoutModel",
          "state": {
            "_model_module": "@jupyter-widgets/base",
            "_model_module_version": "1.2.0",
            "_model_name": "LayoutModel",
            "_view_count": null,
            "_view_module": "@jupyter-widgets/base",
            "_view_module_version": "1.2.0",
            "_view_name": "LayoutView",
            "align_content": null,
            "align_items": null,
            "align_self": null,
            "border": null,
            "bottom": null,
            "display": null,
            "flex": null,
            "flex_flow": null,
            "grid_area": null,
            "grid_auto_columns": null,
            "grid_auto_flow": null,
            "grid_auto_rows": null,
            "grid_column": null,
            "grid_gap": null,
            "grid_row": null,
            "grid_template_areas": null,
            "grid_template_columns": null,
            "grid_template_rows": null,
            "height": null,
            "justify_content": null,
            "justify_items": null,
            "left": null,
            "margin": null,
            "max_height": null,
            "max_width": null,
            "min_height": null,
            "min_width": null,
            "object_fit": null,
            "object_position": null,
            "order": null,
            "overflow": null,
            "overflow_x": null,
            "overflow_y": null,
            "padding": null,
            "right": null,
            "top": null,
            "visibility": null,
            "width": null
          }
        },
        "d9a99d9e866a4da0ba9c5714e9e64b78": {
          "model_module": "@jupyter-widgets/base",
          "model_module_version": "1.2.0",
          "model_name": "LayoutModel",
          "state": {
            "_model_module": "@jupyter-widgets/base",
            "_model_module_version": "1.2.0",
            "_model_name": "LayoutModel",
            "_view_count": null,
            "_view_module": "@jupyter-widgets/base",
            "_view_module_version": "1.2.0",
            "_view_name": "LayoutView",
            "align_content": null,
            "align_items": null,
            "align_self": null,
            "border": null,
            "bottom": null,
            "display": null,
            "flex": null,
            "flex_flow": null,
            "grid_area": null,
            "grid_auto_columns": null,
            "grid_auto_flow": null,
            "grid_auto_rows": null,
            "grid_column": null,
            "grid_gap": null,
            "grid_row": null,
            "grid_template_areas": null,
            "grid_template_columns": null,
            "grid_template_rows": null,
            "height": null,
            "justify_content": null,
            "justify_items": null,
            "left": null,
            "margin": null,
            "max_height": null,
            "max_width": null,
            "min_height": null,
            "min_width": null,
            "object_fit": null,
            "object_position": null,
            "order": null,
            "overflow": null,
            "overflow_x": null,
            "overflow_y": null,
            "padding": null,
            "right": null,
            "top": null,
            "visibility": null,
            "width": null
          }
        },
        "db6c285eef544f62a858a8be2e300f58": {
          "model_module": "@jupyter-widgets/controls",
          "model_module_version": "1.5.0",
          "model_name": "DescriptionStyleModel",
          "state": {
            "_model_module": "@jupyter-widgets/controls",
            "_model_module_version": "1.5.0",
            "_model_name": "DescriptionStyleModel",
            "_view_count": null,
            "_view_module": "@jupyter-widgets/base",
            "_view_module_version": "1.2.0",
            "_view_name": "StyleView",
            "description_width": ""
          }
        },
        "dc4d36c1290242e1875b662f7123f2cf": {
          "model_module": "@jupyter-widgets/base",
          "model_module_version": "1.2.0",
          "model_name": "LayoutModel",
          "state": {
            "_model_module": "@jupyter-widgets/base",
            "_model_module_version": "1.2.0",
            "_model_name": "LayoutModel",
            "_view_count": null,
            "_view_module": "@jupyter-widgets/base",
            "_view_module_version": "1.2.0",
            "_view_name": "LayoutView",
            "align_content": null,
            "align_items": null,
            "align_self": null,
            "border": null,
            "bottom": null,
            "display": null,
            "flex": null,
            "flex_flow": null,
            "grid_area": null,
            "grid_auto_columns": null,
            "grid_auto_flow": null,
            "grid_auto_rows": null,
            "grid_column": null,
            "grid_gap": null,
            "grid_row": null,
            "grid_template_areas": null,
            "grid_template_columns": null,
            "grid_template_rows": null,
            "height": null,
            "justify_content": null,
            "justify_items": null,
            "left": null,
            "margin": null,
            "max_height": null,
            "max_width": null,
            "min_height": null,
            "min_width": null,
            "object_fit": null,
            "object_position": null,
            "order": null,
            "overflow": null,
            "overflow_x": null,
            "overflow_y": null,
            "padding": null,
            "right": null,
            "top": null,
            "visibility": null,
            "width": null
          }
        },
        "dc6810171ff042c8a90c7af16cb79a62": {
          "model_module": "@jupyter-widgets/base",
          "model_module_version": "1.2.0",
          "model_name": "LayoutModel",
          "state": {
            "_model_module": "@jupyter-widgets/base",
            "_model_module_version": "1.2.0",
            "_model_name": "LayoutModel",
            "_view_count": null,
            "_view_module": "@jupyter-widgets/base",
            "_view_module_version": "1.2.0",
            "_view_name": "LayoutView",
            "align_content": null,
            "align_items": null,
            "align_self": null,
            "border": null,
            "bottom": null,
            "display": null,
            "flex": null,
            "flex_flow": null,
            "grid_area": null,
            "grid_auto_columns": null,
            "grid_auto_flow": null,
            "grid_auto_rows": null,
            "grid_column": null,
            "grid_gap": null,
            "grid_row": null,
            "grid_template_areas": null,
            "grid_template_columns": null,
            "grid_template_rows": null,
            "height": null,
            "justify_content": null,
            "justify_items": null,
            "left": null,
            "margin": null,
            "max_height": null,
            "max_width": null,
            "min_height": null,
            "min_width": null,
            "object_fit": null,
            "object_position": null,
            "order": null,
            "overflow": null,
            "overflow_x": null,
            "overflow_y": null,
            "padding": null,
            "right": null,
            "top": null,
            "visibility": null,
            "width": null
          }
        },
        "dde20482879548c8b114c3f086899191": {
          "model_module": "@jupyter-widgets/controls",
          "model_module_version": "1.5.0",
          "model_name": "HTMLModel",
          "state": {
            "_dom_classes": [],
            "_model_module": "@jupyter-widgets/controls",
            "_model_module_version": "1.5.0",
            "_model_name": "HTMLModel",
            "_view_count": null,
            "_view_module": "@jupyter-widgets/controls",
            "_view_module_version": "1.5.0",
            "_view_name": "HTMLView",
            "description": "",
            "description_tooltip": null,
            "layout": "IPY_MODEL_6455a0433a774e25b8ce148a72808b0d",
            "placeholder": "​",
            "style": "IPY_MODEL_e330915318674e209e3930981a90d7a9",
            "value": "100%"
          }
        },
        "df75745379fb45138aaf869e85806660": {
          "model_module": "@jupyter-widgets/controls",
          "model_module_version": "1.5.0",
          "model_name": "HBoxModel",
          "state": {
            "_dom_classes": [],
            "_model_module": "@jupyter-widgets/controls",
            "_model_module_version": "1.5.0",
            "_model_name": "HBoxModel",
            "_view_count": null,
            "_view_module": "@jupyter-widgets/controls",
            "_view_module_version": "1.5.0",
            "_view_name": "HBoxView",
            "box_style": "",
            "children": [
              "IPY_MODEL_4580a5380543456191b9e46515b00d69",
              "IPY_MODEL_b17ff05532144a45847d19c128341697",
              "IPY_MODEL_3ed29aa899c6405ea9dc421aeeeb5d4a"
            ],
            "layout": "IPY_MODEL_411c69dcfa2d4bbaa556e6e62f6dbb4e"
          }
        },
        "df7b4757acf04e0db5a0bc8f68f6cc55": {
          "model_module": "@jupyter-widgets/base",
          "model_module_version": "1.2.0",
          "model_name": "LayoutModel",
          "state": {
            "_model_module": "@jupyter-widgets/base",
            "_model_module_version": "1.2.0",
            "_model_name": "LayoutModel",
            "_view_count": null,
            "_view_module": "@jupyter-widgets/base",
            "_view_module_version": "1.2.0",
            "_view_name": "LayoutView",
            "align_content": null,
            "align_items": null,
            "align_self": null,
            "border": null,
            "bottom": null,
            "display": null,
            "flex": null,
            "flex_flow": null,
            "grid_area": null,
            "grid_auto_columns": null,
            "grid_auto_flow": null,
            "grid_auto_rows": null,
            "grid_column": null,
            "grid_gap": null,
            "grid_row": null,
            "grid_template_areas": null,
            "grid_template_columns": null,
            "grid_template_rows": null,
            "height": null,
            "justify_content": null,
            "justify_items": null,
            "left": null,
            "margin": null,
            "max_height": null,
            "max_width": null,
            "min_height": null,
            "min_width": null,
            "object_fit": null,
            "object_position": null,
            "order": null,
            "overflow": null,
            "overflow_x": null,
            "overflow_y": null,
            "padding": null,
            "right": null,
            "top": null,
            "visibility": null,
            "width": null
          }
        },
        "e2828459004949b9bfa067e962bf8eed": {
          "model_module": "@jupyter-widgets/controls",
          "model_module_version": "1.5.0",
          "model_name": "HTMLModel",
          "state": {
            "_dom_classes": [],
            "_model_module": "@jupyter-widgets/controls",
            "_model_module_version": "1.5.0",
            "_model_name": "HTMLModel",
            "_view_count": null,
            "_view_module": "@jupyter-widgets/controls",
            "_view_module_version": "1.5.0",
            "_view_name": "HTMLView",
            "description": "",
            "description_tooltip": null,
            "layout": "IPY_MODEL_4edd9cdeacfa45208ea0c0b0a01b6450",
            "placeholder": "​",
            "style": "IPY_MODEL_380d562f242c416ab83f8653cbb61ca7",
            "value": " 29/29 [00:35&lt;00:00,  1.04it/s]"
          }
        },
        "e330915318674e209e3930981a90d7a9": {
          "model_module": "@jupyter-widgets/controls",
          "model_module_version": "1.5.0",
          "model_name": "DescriptionStyleModel",
          "state": {
            "_model_module": "@jupyter-widgets/controls",
            "_model_module_version": "1.5.0",
            "_model_name": "DescriptionStyleModel",
            "_view_count": null,
            "_view_module": "@jupyter-widgets/base",
            "_view_module_version": "1.2.0",
            "_view_name": "StyleView",
            "description_width": ""
          }
        },
        "e3435bc6bdce4134a8d522861a4ae4ab": {
          "model_module": "@jupyter-widgets/base",
          "model_module_version": "1.2.0",
          "model_name": "LayoutModel",
          "state": {
            "_model_module": "@jupyter-widgets/base",
            "_model_module_version": "1.2.0",
            "_model_name": "LayoutModel",
            "_view_count": null,
            "_view_module": "@jupyter-widgets/base",
            "_view_module_version": "1.2.0",
            "_view_name": "LayoutView",
            "align_content": null,
            "align_items": null,
            "align_self": null,
            "border": null,
            "bottom": null,
            "display": null,
            "flex": null,
            "flex_flow": null,
            "grid_area": null,
            "grid_auto_columns": null,
            "grid_auto_flow": null,
            "grid_auto_rows": null,
            "grid_column": null,
            "grid_gap": null,
            "grid_row": null,
            "grid_template_areas": null,
            "grid_template_columns": null,
            "grid_template_rows": null,
            "height": null,
            "justify_content": null,
            "justify_items": null,
            "left": null,
            "margin": null,
            "max_height": null,
            "max_width": null,
            "min_height": null,
            "min_width": null,
            "object_fit": null,
            "object_position": null,
            "order": null,
            "overflow": null,
            "overflow_x": null,
            "overflow_y": null,
            "padding": null,
            "right": null,
            "top": null,
            "visibility": null,
            "width": null
          }
        },
        "e36a27a4e7384c38ab8e4a4d37eab5fe": {
          "model_module": "@jupyter-widgets/controls",
          "model_module_version": "1.5.0",
          "model_name": "ProgressStyleModel",
          "state": {
            "_model_module": "@jupyter-widgets/controls",
            "_model_module_version": "1.5.0",
            "_model_name": "ProgressStyleModel",
            "_view_count": null,
            "_view_module": "@jupyter-widgets/base",
            "_view_module_version": "1.2.0",
            "_view_name": "StyleView",
            "bar_color": null,
            "description_width": ""
          }
        },
        "e3e246b023004f63b5cf15b6584ffe22": {
          "model_module": "@jupyter-widgets/base",
          "model_module_version": "1.2.0",
          "model_name": "LayoutModel",
          "state": {
            "_model_module": "@jupyter-widgets/base",
            "_model_module_version": "1.2.0",
            "_model_name": "LayoutModel",
            "_view_count": null,
            "_view_module": "@jupyter-widgets/base",
            "_view_module_version": "1.2.0",
            "_view_name": "LayoutView",
            "align_content": null,
            "align_items": null,
            "align_self": null,
            "border": null,
            "bottom": null,
            "display": null,
            "flex": null,
            "flex_flow": null,
            "grid_area": null,
            "grid_auto_columns": null,
            "grid_auto_flow": null,
            "grid_auto_rows": null,
            "grid_column": null,
            "grid_gap": null,
            "grid_row": null,
            "grid_template_areas": null,
            "grid_template_columns": null,
            "grid_template_rows": null,
            "height": null,
            "justify_content": null,
            "justify_items": null,
            "left": null,
            "margin": null,
            "max_height": null,
            "max_width": null,
            "min_height": null,
            "min_width": null,
            "object_fit": null,
            "object_position": null,
            "order": null,
            "overflow": null,
            "overflow_x": null,
            "overflow_y": null,
            "padding": null,
            "right": null,
            "top": null,
            "visibility": null,
            "width": null
          }
        },
        "e506a6f79d5141fab066f8a8ac5a7be8": {
          "model_module": "@jupyter-widgets/controls",
          "model_module_version": "1.5.0",
          "model_name": "ProgressStyleModel",
          "state": {
            "_model_module": "@jupyter-widgets/controls",
            "_model_module_version": "1.5.0",
            "_model_name": "ProgressStyleModel",
            "_view_count": null,
            "_view_module": "@jupyter-widgets/base",
            "_view_module_version": "1.2.0",
            "_view_name": "StyleView",
            "bar_color": null,
            "description_width": ""
          }
        },
        "e677674d202e4972914369ed9f359400": {
          "model_module": "@jupyter-widgets/controls",
          "model_module_version": "1.5.0",
          "model_name": "HTMLModel",
          "state": {
            "_dom_classes": [],
            "_model_module": "@jupyter-widgets/controls",
            "_model_module_version": "1.5.0",
            "_model_name": "HTMLModel",
            "_view_count": null,
            "_view_module": "@jupyter-widgets/controls",
            "_view_module_version": "1.5.0",
            "_view_name": "HTMLView",
            "description": "",
            "description_tooltip": null,
            "layout": "IPY_MODEL_37a1a51d368b4968873feb88fe28c125",
            "placeholder": "​",
            "style": "IPY_MODEL_9a0cefe0ccce42fb858b3defda5d21dd",
            "value": " 29/29 [00:35&lt;00:00,  1.03it/s]"
          }
        },
        "e8423e1d1b6e4fec8ab93dd3d372e830": {
          "model_module": "@jupyter-widgets/controls",
          "model_module_version": "1.5.0",
          "model_name": "ProgressStyleModel",
          "state": {
            "_model_module": "@jupyter-widgets/controls",
            "_model_module_version": "1.5.0",
            "_model_name": "ProgressStyleModel",
            "_view_count": null,
            "_view_module": "@jupyter-widgets/base",
            "_view_module_version": "1.2.0",
            "_view_name": "StyleView",
            "bar_color": null,
            "description_width": ""
          }
        },
        "e8ee55f81ee44cafb406df58556b6ff7": {
          "model_module": "@jupyter-widgets/controls",
          "model_module_version": "1.5.0",
          "model_name": "DescriptionStyleModel",
          "state": {
            "_model_module": "@jupyter-widgets/controls",
            "_model_module_version": "1.5.0",
            "_model_name": "DescriptionStyleModel",
            "_view_count": null,
            "_view_module": "@jupyter-widgets/base",
            "_view_module_version": "1.2.0",
            "_view_name": "StyleView",
            "description_width": ""
          }
        },
        "e90af47c5c3847f485d32c1f73801e6d": {
          "model_module": "@jupyter-widgets/base",
          "model_module_version": "1.2.0",
          "model_name": "LayoutModel",
          "state": {
            "_model_module": "@jupyter-widgets/base",
            "_model_module_version": "1.2.0",
            "_model_name": "LayoutModel",
            "_view_count": null,
            "_view_module": "@jupyter-widgets/base",
            "_view_module_version": "1.2.0",
            "_view_name": "LayoutView",
            "align_content": null,
            "align_items": null,
            "align_self": null,
            "border": null,
            "bottom": null,
            "display": null,
            "flex": null,
            "flex_flow": null,
            "grid_area": null,
            "grid_auto_columns": null,
            "grid_auto_flow": null,
            "grid_auto_rows": null,
            "grid_column": null,
            "grid_gap": null,
            "grid_row": null,
            "grid_template_areas": null,
            "grid_template_columns": null,
            "grid_template_rows": null,
            "height": null,
            "justify_content": null,
            "justify_items": null,
            "left": null,
            "margin": null,
            "max_height": null,
            "max_width": null,
            "min_height": null,
            "min_width": null,
            "object_fit": null,
            "object_position": null,
            "order": null,
            "overflow": null,
            "overflow_x": null,
            "overflow_y": null,
            "padding": null,
            "right": null,
            "top": null,
            "visibility": null,
            "width": null
          }
        },
        "ef811b1baffc4518b4938ea061d838d1": {
          "model_module": "@jupyter-widgets/base",
          "model_module_version": "1.2.0",
          "model_name": "LayoutModel",
          "state": {
            "_model_module": "@jupyter-widgets/base",
            "_model_module_version": "1.2.0",
            "_model_name": "LayoutModel",
            "_view_count": null,
            "_view_module": "@jupyter-widgets/base",
            "_view_module_version": "1.2.0",
            "_view_name": "LayoutView",
            "align_content": null,
            "align_items": null,
            "align_self": null,
            "border": null,
            "bottom": null,
            "display": null,
            "flex": null,
            "flex_flow": null,
            "grid_area": null,
            "grid_auto_columns": null,
            "grid_auto_flow": null,
            "grid_auto_rows": null,
            "grid_column": null,
            "grid_gap": null,
            "grid_row": null,
            "grid_template_areas": null,
            "grid_template_columns": null,
            "grid_template_rows": null,
            "height": null,
            "justify_content": null,
            "justify_items": null,
            "left": null,
            "margin": null,
            "max_height": null,
            "max_width": null,
            "min_height": null,
            "min_width": null,
            "object_fit": null,
            "object_position": null,
            "order": null,
            "overflow": null,
            "overflow_x": null,
            "overflow_y": null,
            "padding": null,
            "right": null,
            "top": null,
            "visibility": null,
            "width": null
          }
        },
        "ef9ec9ac67fc48878f885a43bb5fec70": {
          "model_module": "@jupyter-widgets/controls",
          "model_module_version": "1.5.0",
          "model_name": "HTMLModel",
          "state": {
            "_dom_classes": [],
            "_model_module": "@jupyter-widgets/controls",
            "_model_module_version": "1.5.0",
            "_model_name": "HTMLModel",
            "_view_count": null,
            "_view_module": "@jupyter-widgets/controls",
            "_view_module_version": "1.5.0",
            "_view_name": "HTMLView",
            "description": "",
            "description_tooltip": null,
            "layout": "IPY_MODEL_09f38a6ecc6c45bfab0a1fed7650a7ef",
            "placeholder": "​",
            "style": "IPY_MODEL_2c5b68a5d9e94b909549c2efd242e191",
            "value": " 118/118 [00:42&lt;00:00,  2.84it/s]"
          }
        },
        "f32a1c7a72b747a8a10744d115f44ad5": {
          "model_module": "@jupyter-widgets/controls",
          "model_module_version": "1.5.0",
          "model_name": "DescriptionStyleModel",
          "state": {
            "_model_module": "@jupyter-widgets/controls",
            "_model_module_version": "1.5.0",
            "_model_name": "DescriptionStyleModel",
            "_view_count": null,
            "_view_module": "@jupyter-widgets/base",
            "_view_module_version": "1.2.0",
            "_view_name": "StyleView",
            "description_width": ""
          }
        },
        "f4efffa268b64d3e9e24e6f87ec63cdb": {
          "model_module": "@jupyter-widgets/base",
          "model_module_version": "1.2.0",
          "model_name": "LayoutModel",
          "state": {
            "_model_module": "@jupyter-widgets/base",
            "_model_module_version": "1.2.0",
            "_model_name": "LayoutModel",
            "_view_count": null,
            "_view_module": "@jupyter-widgets/base",
            "_view_module_version": "1.2.0",
            "_view_name": "LayoutView",
            "align_content": null,
            "align_items": null,
            "align_self": null,
            "border": null,
            "bottom": null,
            "display": null,
            "flex": null,
            "flex_flow": null,
            "grid_area": null,
            "grid_auto_columns": null,
            "grid_auto_flow": null,
            "grid_auto_rows": null,
            "grid_column": null,
            "grid_gap": null,
            "grid_row": null,
            "grid_template_areas": null,
            "grid_template_columns": null,
            "grid_template_rows": null,
            "height": null,
            "justify_content": null,
            "justify_items": null,
            "left": null,
            "margin": null,
            "max_height": null,
            "max_width": null,
            "min_height": null,
            "min_width": null,
            "object_fit": null,
            "object_position": null,
            "order": null,
            "overflow": null,
            "overflow_x": null,
            "overflow_y": null,
            "padding": null,
            "right": null,
            "top": null,
            "visibility": null,
            "width": null
          }
        },
        "f637e555cf334de4b5189b48aa6bf814": {
          "model_module": "@jupyter-widgets/controls",
          "model_module_version": "1.5.0",
          "model_name": "HTMLModel",
          "state": {
            "_dom_classes": [],
            "_model_module": "@jupyter-widgets/controls",
            "_model_module_version": "1.5.0",
            "_model_name": "HTMLModel",
            "_view_count": null,
            "_view_module": "@jupyter-widgets/controls",
            "_view_module_version": "1.5.0",
            "_view_name": "HTMLView",
            "description": "",
            "description_tooltip": null,
            "layout": "IPY_MODEL_af2fb00d333346119fd59597948a9c0a",
            "placeholder": "​",
            "style": "IPY_MODEL_d527aca70c4b4ae4ae0bd057ec4c49f2",
            "value": " 29/29 [00:35&lt;00:00,  1.04it/s]"
          }
        },
        "f8af8824849d43428fd63129c498a080": {
          "model_module": "@jupyter-widgets/controls",
          "model_module_version": "1.5.0",
          "model_name": "HTMLModel",
          "state": {
            "_dom_classes": [],
            "_model_module": "@jupyter-widgets/controls",
            "_model_module_version": "1.5.0",
            "_model_name": "HTMLModel",
            "_view_count": null,
            "_view_module": "@jupyter-widgets/controls",
            "_view_module_version": "1.5.0",
            "_view_name": "HTMLView",
            "description": "",
            "description_tooltip": null,
            "layout": "IPY_MODEL_62da680cd1594662897c710603e4153d",
            "placeholder": "​",
            "style": "IPY_MODEL_b617fd931cf9445794deb3069e7d6979",
            "value": "100%"
          }
        },
        "fcb34b2801c946678c88ff95b998fae3": {
          "model_module": "@jupyter-widgets/controls",
          "model_module_version": "1.5.0",
          "model_name": "HTMLModel",
          "state": {
            "_dom_classes": [],
            "_model_module": "@jupyter-widgets/controls",
            "_model_module_version": "1.5.0",
            "_model_name": "HTMLModel",
            "_view_count": null,
            "_view_module": "@jupyter-widgets/controls",
            "_view_module_version": "1.5.0",
            "_view_name": "HTMLView",
            "description": "",
            "description_tooltip": null,
            "layout": "IPY_MODEL_815ac39f6fc94fa1890179752a6f4aad",
            "placeholder": "​",
            "style": "IPY_MODEL_1605451e25b9485c9499a001b8259bef",
            "value": "100%"
          }
        },
        "fcddbfa59c104f3995b1171b2c26e9dc": {
          "model_module": "@jupyter-widgets/base",
          "model_module_version": "1.2.0",
          "model_name": "LayoutModel",
          "state": {
            "_model_module": "@jupyter-widgets/base",
            "_model_module_version": "1.2.0",
            "_model_name": "LayoutModel",
            "_view_count": null,
            "_view_module": "@jupyter-widgets/base",
            "_view_module_version": "1.2.0",
            "_view_name": "LayoutView",
            "align_content": null,
            "align_items": null,
            "align_self": null,
            "border": null,
            "bottom": null,
            "display": null,
            "flex": null,
            "flex_flow": null,
            "grid_area": null,
            "grid_auto_columns": null,
            "grid_auto_flow": null,
            "grid_auto_rows": null,
            "grid_column": null,
            "grid_gap": null,
            "grid_row": null,
            "grid_template_areas": null,
            "grid_template_columns": null,
            "grid_template_rows": null,
            "height": null,
            "justify_content": null,
            "justify_items": null,
            "left": null,
            "margin": null,
            "max_height": null,
            "max_width": null,
            "min_height": null,
            "min_width": null,
            "object_fit": null,
            "object_position": null,
            "order": null,
            "overflow": null,
            "overflow_x": null,
            "overflow_y": null,
            "padding": null,
            "right": null,
            "top": null,
            "visibility": null,
            "width": null
          }
        },
        "fdfaf67468a04b368872690b074c1f28": {
          "model_module": "@jupyter-widgets/controls",
          "model_module_version": "1.5.0",
          "model_name": "DescriptionStyleModel",
          "state": {
            "_model_module": "@jupyter-widgets/controls",
            "_model_module_version": "1.5.0",
            "_model_name": "DescriptionStyleModel",
            "_view_count": null,
            "_view_module": "@jupyter-widgets/base",
            "_view_module_version": "1.2.0",
            "_view_name": "StyleView",
            "description_width": ""
          }
        },
        "fed8f24af9224153980fb9a154b3b7de": {
          "model_module": "@jupyter-widgets/controls",
          "model_module_version": "1.5.0",
          "model_name": "HTMLModel",
          "state": {
            "_dom_classes": [],
            "_model_module": "@jupyter-widgets/controls",
            "_model_module_version": "1.5.0",
            "_model_name": "HTMLModel",
            "_view_count": null,
            "_view_module": "@jupyter-widgets/controls",
            "_view_module_version": "1.5.0",
            "_view_name": "HTMLView",
            "description": "",
            "description_tooltip": null,
            "layout": "IPY_MODEL_83ae790c1cbf4f2eac908b4d076b90cf",
            "placeholder": "​",
            "style": "IPY_MODEL_e8ee55f81ee44cafb406df58556b6ff7",
            "value": "100%"
          }
        }
      }
    }
  },
  "nbformat": 4,
  "nbformat_minor": 0
}
