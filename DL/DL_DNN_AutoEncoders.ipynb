{
  "nbformat": 4,
  "nbformat_minor": 0,
  "metadata": {
    "accelerator": "GPU",
    "colab": {
      "name": "DL_DNN_AutoEncoders.ipynb",
      "provenance": [],
      "collapsed_sections": []
    },
    "kernelspec": {
      "display_name": "Python 3",
      "name": "python3"
    },
    "language_info": {
      "name": "python"
    }
  },
  "cells": [
    {
      "cell_type": "code",
      "metadata": {
        "colab": {
          "base_uri": "https://localhost:8080/"
        },
        "id": "XNsrCKei44oI",
        "outputId": "30bb5b02-8e15-4696-c478-a082a7b3f648"
      },
      "source": [
        "!wget https://github.com/MorvanZhou/PyTorch-Tutorial/raw/master/tutorial-contents-notebooks/mnist/processed/training.pt"
      ],
      "execution_count": null,
      "outputs": [
        {
          "output_type": "stream",
          "name": "stdout",
          "text": [
            "--2021-10-26 04:19:17--  https://github.com/MorvanZhou/PyTorch-Tutorial/raw/master/tutorial-contents-notebooks/mnist/processed/training.pt\n",
            "Resolving github.com (github.com)... 140.82.112.4\n",
            "Connecting to github.com (github.com)|140.82.112.4|:443... connected.\n",
            "HTTP request sent, awaiting response... 302 Found\n",
            "Location: https://raw.githubusercontent.com/MorvanZhou/PyTorch-Tutorial/master/tutorial-contents-notebooks/mnist/processed/training.pt [following]\n",
            "--2021-10-26 04:19:18--  https://raw.githubusercontent.com/MorvanZhou/PyTorch-Tutorial/master/tutorial-contents-notebooks/mnist/processed/training.pt\n",
            "Resolving raw.githubusercontent.com (raw.githubusercontent.com)... 185.199.110.133, 185.199.111.133, 185.199.109.133, ...\n",
            "Connecting to raw.githubusercontent.com (raw.githubusercontent.com)|185.199.110.133|:443... connected.\n",
            "HTTP request sent, awaiting response... 200 OK\n",
            "Length: 47520431 (45M) [application/octet-stream]\n",
            "Saving to: ‘training.pt’\n",
            "\n",
            "training.pt         100%[===================>]  45.32M   102MB/s    in 0.4s    \n",
            "\n",
            "2021-10-26 04:19:19 (102 MB/s) - ‘training.pt’ saved [47520431/47520431]\n",
            "\n"
          ]
        }
      ]
    },
    {
      "cell_type": "code",
      "metadata": {
        "id": "HrLl8Two4_Mo"
      },
      "source": [
        "import torch\n",
        "import torch.nn as nn\n",
        "import torch.nn.functional as F\n",
        "from torch.utils.data import TensorDataset, DataLoader\n",
        "from torch.optim import Adam\n",
        "import matplotlib.pyplot as plt\n",
        "import tqdm"
      ],
      "execution_count": null,
      "outputs": []
    },
    {
      "cell_type": "code",
      "metadata": {
        "id": "lbjrw0zT6f4v"
      },
      "source": [
        "def normalise_x(x):\n",
        "    return (x - x.min())/(x.max() - x.min())"
      ],
      "execution_count": null,
      "outputs": []
    },
    {
      "cell_type": "code",
      "metadata": {
        "id": "pVYXwHUX5l-6"
      },
      "source": [
        "X_train, y_train = torch.load('training.pt')\n",
        "X_train = X_train.reshape(-1,28*28)\n",
        "X_train = normalise_x(X_train)\n",
        "train_tensor_data = TensorDataset(X_train.float(), X_train.float())\n",
        "train_dl = DataLoader(train_tensor_data, batch_size=128, shuffle=True)"
      ],
      "execution_count": null,
      "outputs": []
    },
    {
      "cell_type": "code",
      "metadata": {
        "id": "cx9_3MrW5ybK"
      },
      "source": [
        "device = torch.device('cuda')"
      ],
      "execution_count": null,
      "outputs": []
    },
    {
      "cell_type": "code",
      "metadata": {
        "id": "3vvswn2y6BPK"
      },
      "source": [
        "class DNN_Autoencoder(nn.Module):\n",
        "\n",
        "    def __init__(self):\n",
        "\n",
        "        super(DNN_Autoencoder, self).__init__()\n",
        "\n",
        "        self.enc_fc1 = nn.Linear(in_features = 28*28, out_features = 128)\n",
        "        self.enc_fc2 = nn.Linear(in_features = 128, out_features = 28)\n",
        "        self.dec_fc1 = nn.Linear(in_features = 28, out_features = 128)\n",
        "        self.dec_fc2 = nn.Linear(in_features = 128, out_features = 28*28)\n",
        "\n",
        "    def encoder(self, x):\n",
        "\n",
        "        x = self.enc_fc1(x)\n",
        "        x = F.relu(x)\n",
        "        x = self.enc_fc2(x)\n",
        "\n",
        "        return x\n",
        "    \n",
        "    def decoder(self, x):\n",
        "\n",
        "        x = self.dec_fc1(x)\n",
        "        x = F.relu(x)\n",
        "        x = self.dec_fc2(x)\n",
        "\n",
        "        return x\n",
        "\n",
        "    def forward(self, x):\n",
        "\n",
        "        x = self.encoder(x)\n",
        "        x = F.relu(x)\n",
        "        x = self.decoder(x)\n",
        "\n",
        "        return x"
      ],
      "execution_count": null,
      "outputs": []
    },
    {
      "cell_type": "code",
      "metadata": {
        "id": "I4I_DnEX7ojP"
      },
      "source": [
        "AE = DNN_Autoencoder()\n",
        "AE = AE.to(device)\n",
        "opt = Adam(params = AE.parameters(), lr=1e-2)"
      ],
      "execution_count": null,
      "outputs": []
    },
    {
      "cell_type": "code",
      "metadata": {
        "id": "Nk8WZrjm8K6N"
      },
      "source": [
        "def trainer(epochs):\n",
        "\n",
        "    for epoch in range(epochs):\n",
        "\n",
        "        training_loss = 0.0\n",
        "\n",
        "        for batch, target in train_dl:\n",
        "\n",
        "            batch = batch.to(device)\n",
        "            target = target.to(device)\n",
        "\n",
        "            preds = AE(batch)\n",
        "\n",
        "            loss = F.mse_loss(preds, target)\n",
        "            training_loss += loss.item()\n",
        "\n",
        "            loss.backward()\n",
        "            opt.step()\n",
        "            opt.zero_grad()\n",
        "\n",
        "        if epoch%(epochs//10) == 0:\n",
        "            print(f\"Epoch: {epoch}    Training loss: {training_loss}\")"
      ],
      "execution_count": null,
      "outputs": []
    },
    {
      "cell_type": "code",
      "metadata": {
        "colab": {
          "base_uri": "https://localhost:8080/"
        },
        "id": "xOpJIhyH9Hzv",
        "outputId": "59800ce9-da8d-4d48-a171-1b026f8dde9e"
      },
      "source": [
        "trainer(100)"
      ],
      "execution_count": null,
      "outputs": [
        {
          "output_type": "stream",
          "name": "stdout",
          "text": [
            "Epoch: 0    Training loss: 17.580722626298666\n",
            "Epoch: 10    Training loss: 13.134700046852231\n",
            "Epoch: 20    Training loss: 13.005562519654632\n",
            "Epoch: 30    Training loss: 12.93203934840858\n",
            "Epoch: 40    Training loss: 12.899282108992338\n"
          ]
        }
      ]
    },
    {
      "cell_type": "code",
      "metadata": {
        "id": "-R6xdTa39I8w"
      },
      "source": [
        "plt.imshow(X_train[300].reshape(28,28))"
      ],
      "execution_count": null,
      "outputs": []
    },
    {
      "cell_type": "code",
      "metadata": {
        "id": "G-nwFug79l7-"
      },
      "source": [
        "plt.imshow(AE(X_train[300].float().to(device)).detach().cpu().numpy().reshape(28,28))"
      ],
      "execution_count": null,
      "outputs": []
    },
    {
      "cell_type": "code",
      "metadata": {
        "id": "pXT9v9Ha956O"
      },
      "source": [
        "from sklearn.manifold import TSNE\n",
        "t =TSNE()"
      ],
      "execution_count": null,
      "outputs": []
    },
    {
      "cell_type": "code",
      "metadata": {
        "colab": {
          "background_save": true
        },
        "id": "XzTff7TJ-ShV"
      },
      "source": [
        "data_reduced = AE.encoder(X_train.float().to(device))\n",
        "tsne_mat = t.fit_transform(data_reduced.detach().cpu().numpy())"
      ],
      "execution_count": null,
      "outputs": []
    },
    {
      "cell_type": "code",
      "metadata": {
        "id": "uxJVHyarAgV_"
      },
      "source": [
        "plt.scatter(tsne_mat[:,0], tsne_mat[:,1], c=y_train.detach().cpu().numpy())"
      ],
      "execution_count": null,
      "outputs": []
    }
  ]
}