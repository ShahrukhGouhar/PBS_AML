{
  "nbformat": 4,
  "nbformat_minor": 0,
  "metadata": {
    "colab": {
      "name": "DL_Variational_autoencoder.ipynb",
      "provenance": [],
      "collapsed_sections": []
    },
    "kernelspec": {
      "display_name": "Python 3",
      "name": "python3"
    },
    "language_info": {
      "name": "python"
    }
  },
  "cells": [
    {
      "cell_type": "markdown",
      "metadata": {
        "id": "_QmKRR6Xm2Jk"
      },
      "source": [
        "$$ Cross\\ Entropy\\ loss\\ =\\  -\\sum {PlogQ} $$\n",
        "$$ KL\\ Divergence\\ Loss\\ =\\ -\\frac{1}{2}(1\\ +\\ log(\\sigma ^{2}) - \\mu^{2} - \\sigma^{2})\\ for\\ Gaussian\\ distribution$$ "
      ]
    },
    {
      "cell_type": "code",
      "metadata": {
        "colab": {
          "base_uri": "https://localhost:8080/"
        },
        "id": "Mx0kkaEPml3h",
        "outputId": "84fde952-c87f-40be-f9ae-89fc1cbebb9b"
      },
      "source": [
        "!wget https://github.com/MorvanZhou/PyTorch-Tutorial/raw/master/tutorial-contents-notebooks/mnist/processed/training.pt"
      ],
      "execution_count": null,
      "outputs": [
        {
          "name": "stdout",
          "output_type": "stream",
          "text": [
            "--2021-10-25 13:25:33--  https://github.com/MorvanZhou/PyTorch-Tutorial/raw/master/tutorial-contents-notebooks/mnist/processed/training.pt\n",
            "Resolving github.com (github.com)... 140.82.113.4\n",
            "Connecting to github.com (github.com)|140.82.113.4|:443... connected.\n",
            "HTTP request sent, awaiting response... 302 Found\n",
            "Location: https://raw.githubusercontent.com/MorvanZhou/PyTorch-Tutorial/master/tutorial-contents-notebooks/mnist/processed/training.pt [following]\n",
            "--2021-10-25 13:25:33--  https://raw.githubusercontent.com/MorvanZhou/PyTorch-Tutorial/master/tutorial-contents-notebooks/mnist/processed/training.pt\n",
            "Resolving raw.githubusercontent.com (raw.githubusercontent.com)... 185.199.110.133, 185.199.108.133, 185.199.109.133, ...\n",
            "Connecting to raw.githubusercontent.com (raw.githubusercontent.com)|185.199.110.133|:443... connected.\n",
            "HTTP request sent, awaiting response... 200 OK\n",
            "Length: 47520431 (45M) [application/octet-stream]\n",
            "Saving to: ‘training.pt’\n",
            "\n",
            "training.pt         100%[===================>]  45.32M   164MB/s    in 0.3s    \n",
            "\n",
            "2021-10-25 13:25:34 (164 MB/s) - ‘training.pt’ saved [47520431/47520431]\n",
            "\n"
          ]
        }
      ]
    },
    {
      "cell_type": "code",
      "metadata": {
        "id": "IvaUrO7DmvWd"
      },
      "source": [
        "import torch\n",
        "import torch.nn as nn\n",
        "import torch.nn.functional as F\n",
        "from torch.utils.data import DataLoader, TensorDataset\n",
        "from torch.optim import Adam"
      ],
      "execution_count": null,
      "outputs": []
    },
    {
      "cell_type": "code",
      "metadata": {
        "id": "1TmhUPhfoOS0"
      },
      "source": [
        "device = torch.device('cuda')\n",
        "X_train, _ = torch.load('training.pt')\n",
        "X_train = X_train.reshape(-1,1,28,28)"
      ],
      "execution_count": null,
      "outputs": []
    },
    {
      "cell_type": "code",
      "metadata": {
        "id": "E7PLDcdhocEn"
      },
      "source": [
        "bs = 512\n",
        "train_data_loader_vae = DataLoader(TensorDataset(X_train.float(), X_train.float()), batch_size = 64, shuffle=True)"
      ],
      "execution_count": null,
      "outputs": []
    },
    {
      "cell_type": "code",
      "metadata": {
        "id": "DoA5I1XYomOe"
      },
      "source": [
        "class VAE(nn.Module):\n",
        "\n",
        "    def __init__(self):\n",
        "\n",
        "        super(VAE, self).__init__()\n",
        "        self.enc_cv1 = nn.Conv2d(in_channels=1, out_channels=4*8, kernel_size= 4, padding = 1, stride=2)\n",
        "        self.enc_cv2 = nn.Conv2d(in_channels=4*8, out_channels=8*8, kernel_size= 4, padding = 1, stride=2)\n",
        "        self.enc_cv3 = nn.Conv2d(in_channels=8*8, out_channels=16*8, kernel_size= 3, padding = 0, stride=2)\n",
        "        self.enc_cv4 = nn.Conv2d(in_channels=16*8, out_channels=32*8, kernel_size= 2, padding = 0, stride=2)\n",
        "        self.enc_mean = nn.Linear(in_features = 32*8, out_features=20)\n",
        "        self.enc_var = nn.Linear(in_features=32*8, out_features = 20)\n",
        "\n",
        "        self.dec_fc = nn.Linear(in_features=20, out_features= 32*8)\n",
        "        self.dec_cv1 = nn.ConvTranspose2d(in_channels=32*8, out_channels = 16*8, stride = 2, kernel_size = 3, padding = 0) \n",
        "        self.dec_cv2 = nn.ConvTranspose2d(in_channels=16*8, out_channels = 8*8, stride = 2, kernel_size = 3, padding = 0) \n",
        "        self.dec_cv3 = nn.ConvTranspose2d(in_channels=8*8, out_channels = 4*8, stride = 2, kernel_size = 4, padding = 1) \n",
        "        self.dec_cv4 = nn.ConvTranspose2d(in_channels=4*8, out_channels = 1, stride = 2, kernel_size = 4, padding = 1)\n",
        "\n",
        "    def encoder(self, x):\n",
        "\n",
        "        x = F.relu(self.enc_cv1(x))\n",
        "        x = F.relu(self.enc_cv2(x))\n",
        "        x = F.relu(self.enc_cv3(x))\n",
        "        x = F.relu(self.enc_cv4(x))\n",
        "\n",
        "        x = x.view(x.size()[0], -1)\n",
        "\n",
        "        mu = self.enc_mean(x)\n",
        "        log_var = self.enc_var(x)\n",
        "\n",
        "        std = torch.exp(0.5*log_var)\n",
        "        eps = torch.randn_like(std)\n",
        "        z = mu + (eps*std) \n",
        "\n",
        "        return z, mu, log_var\n",
        "\n",
        "    \n",
        "    def decoder(self, x):\n",
        "\n",
        "        x = F.relu(self.dec_fc(x))\n",
        "        x = x.reshape(-1,32*8,1,1)\n",
        "\n",
        "        x = F.relu(self.dec_cv1(x))\n",
        "        x = F.relu(self.dec_cv2(x))\n",
        "        x = F.relu(self.dec_cv3(x))\n",
        "        x = F.relu(self.dec_cv4(x))\n",
        "\n",
        "        return x\n",
        "\n",
        "    def forward(self, x):\n",
        "\n",
        "        enc_out, mu, log_var = self.encoder(x)\n",
        "        dec_out = self.decoder(enc_out)\n",
        "\n",
        "        return dec_out, mu, log_var"
      ],
      "execution_count": null,
      "outputs": []
    },
    {
      "cell_type": "code",
      "metadata": {
        "id": "6V6a0DaNtgTO"
      },
      "source": [
        "model_vae = VAE()\n",
        "device = torch.device(\"cpu\")\n",
        "model_vae = model_vae.to(device)\n",
        "opt = Adam(model_vae.parameters())"
      ],
      "execution_count": null,
      "outputs": []
    },
    {
      "cell_type": "code",
      "metadata": {
        "colab": {
          "background_save": true
        },
        "id": "TjaPoYUttHpm",
        "outputId": "10f45234-086a-48af-9d8f-379f90961d88"
      },
      "source": [
        "for epoch in range(200):\n",
        "\n",
        "    training_loss_vae = 0.0\n",
        "    for data_vae, _ in train_data_loader_vae:\n",
        "        data_vae = data_vae.to(device)\n",
        "\n",
        "        opt.zero_grad()\n",
        "        output, mu, log_var = model_vae(data_vae)\n",
        "\n",
        "        loss_vae = F.mse_loss(output, data_vae, reduction = 'mean') - \\\n",
        "        0.5*torch.mean(1+log_var - mu.pow(2) - log_var.exp())*(1/(epoch+1))\n",
        "\n",
        "        loss_vae.backward()\n",
        "        opt.step()\n",
        "        training_loss_vae+=loss_vae.item()\n",
        "\n",
        "    if (epoch+1)%10==0:\n",
        "        print(f\"Epoch{epoch} Training loss: {training_loss}\")"
      ],
      "execution_count": null,
      "outputs": [
        {
          "ename": "NameError",
          "evalue": "ignored",
          "output_type": "error",
          "traceback": [
            "\u001b[0;31m---------------------------------------------------------------------------\u001b[0m",
            "\u001b[0;31mNameError\u001b[0m                                 Traceback (most recent call last)",
            "\u001b[0;32m<ipython-input-26-c98caeb2c95c>\u001b[0m in \u001b[0;36m<module>\u001b[0;34m()\u001b[0m\n\u001b[1;32m     15\u001b[0m \u001b[0;34m\u001b[0m\u001b[0m\n\u001b[1;32m     16\u001b[0m     \u001b[0;32mif\u001b[0m \u001b[0;34m(\u001b[0m\u001b[0mepoch\u001b[0m\u001b[0;34m+\u001b[0m\u001b[0;36m1\u001b[0m\u001b[0;34m)\u001b[0m\u001b[0;34m%\u001b[0m\u001b[0;36m10\u001b[0m\u001b[0;34m==\u001b[0m\u001b[0;36m0\u001b[0m\u001b[0;34m:\u001b[0m\u001b[0;34m\u001b[0m\u001b[0;34m\u001b[0m\u001b[0m\n\u001b[0;32m---> 17\u001b[0;31m         \u001b[0mprint\u001b[0m\u001b[0;34m(\u001b[0m\u001b[0;34mf\"Epoch{epoch} Training loss: {training_loss}\"\u001b[0m\u001b[0;34m)\u001b[0m\u001b[0;34m\u001b[0m\u001b[0;34m\u001b[0m\u001b[0m\n\u001b[0m",
            "\u001b[0;31mNameError\u001b[0m: name 'training_loss' is not defined"
          ]
        }
      ]
    },
    {
      "cell_type": "code",
      "metadata": {
        "id": "NgHTEsXDx7WE"
      },
      "source": [
        "import matplotlib.pyplot as plt\n",
        "with torch.no_grad():\n",
        "    noise = np.random.normal(0,1, size=20)\n",
        "    noise = torch.from_numpy(noise).float().to(device)\n",
        "    generated_image = model_vae.decoder(noise)\n",
        "\n",
        "    plt.imshow(generated_image.cpu().detach().numpy().reshape(28,28))"
      ],
      "execution_count": null,
      "outputs": []
    },
    {
      "cell_type": "code",
      "metadata": {
        "id": "HFwaCOvfuO-S"
      },
      "source": [
        ""
      ],
      "execution_count": null,
      "outputs": []
    }
  ]
}