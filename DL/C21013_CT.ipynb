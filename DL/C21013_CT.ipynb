{
  "nbformat": 4,
  "nbformat_minor": 0,
  "metadata": {
    "colab": {
      "name": "C21013_CT.ipynb",
      "provenance": [],
      "collapsed_sections": [
        "7CWzxWFWUY8E",
        "NXvhnW2TUhRV"
      ]
    },
    "kernelspec": {
      "name": "python3",
      "display_name": "Python 3"
    },
    "language_info": {
      "name": "python"
    },
    "accelerator": "GPU",
    "widgets": {
      "application/vnd.jupyter.widget-state+json": {
        "6cfe819130d74c24aa79fce66d7765f9": {
          "model_module": "@jupyter-widgets/controls",
          "model_name": "HBoxModel",
          "model_module_version": "1.5.0",
          "state": {
            "_view_name": "HBoxView",
            "_dom_classes": [],
            "_model_name": "HBoxModel",
            "_view_module": "@jupyter-widgets/controls",
            "_model_module_version": "1.5.0",
            "_view_count": null,
            "_view_module_version": "1.5.0",
            "box_style": "",
            "layout": "IPY_MODEL_aa6a2e59ed7a44a2a624aca1852b5f66",
            "_model_module": "@jupyter-widgets/controls",
            "children": [
              "IPY_MODEL_3c9aab10edf44981bca2baf922781f10",
              "IPY_MODEL_879656f972a541e68ceaf056b595db69",
              "IPY_MODEL_e3b73f8f21ab4ed09d29dc53d212668c"
            ]
          }
        },
        "aa6a2e59ed7a44a2a624aca1852b5f66": {
          "model_module": "@jupyter-widgets/base",
          "model_name": "LayoutModel",
          "model_module_version": "1.2.0",
          "state": {
            "_view_name": "LayoutView",
            "grid_template_rows": null,
            "right": null,
            "justify_content": null,
            "_view_module": "@jupyter-widgets/base",
            "overflow": null,
            "_model_module_version": "1.2.0",
            "_view_count": null,
            "flex_flow": null,
            "width": null,
            "min_width": null,
            "border": null,
            "align_items": null,
            "bottom": null,
            "_model_module": "@jupyter-widgets/base",
            "top": null,
            "grid_column": null,
            "overflow_y": null,
            "overflow_x": null,
            "grid_auto_flow": null,
            "grid_area": null,
            "grid_template_columns": null,
            "flex": null,
            "_model_name": "LayoutModel",
            "justify_items": null,
            "grid_row": null,
            "max_height": null,
            "align_content": null,
            "visibility": null,
            "align_self": null,
            "height": null,
            "min_height": null,
            "padding": null,
            "grid_auto_rows": null,
            "grid_gap": null,
            "max_width": null,
            "order": null,
            "_view_module_version": "1.2.0",
            "grid_template_areas": null,
            "object_position": null,
            "object_fit": null,
            "grid_auto_columns": null,
            "margin": null,
            "display": null,
            "left": null
          }
        },
        "3c9aab10edf44981bca2baf922781f10": {
          "model_module": "@jupyter-widgets/controls",
          "model_name": "HTMLModel",
          "model_module_version": "1.5.0",
          "state": {
            "_view_name": "HTMLView",
            "style": "IPY_MODEL_c01189bf426f46528685083054d67267",
            "_dom_classes": [],
            "description": "",
            "_model_name": "HTMLModel",
            "placeholder": "​",
            "_view_module": "@jupyter-widgets/controls",
            "_model_module_version": "1.5.0",
            "value": "training loss 1.5684364289045334     |: 100%",
            "_view_count": null,
            "_view_module_version": "1.5.0",
            "description_tooltip": null,
            "_model_module": "@jupyter-widgets/controls",
            "layout": "IPY_MODEL_665d4188ce7d47c4bdef06c02865bd8c"
          }
        },
        "879656f972a541e68ceaf056b595db69": {
          "model_module": "@jupyter-widgets/controls",
          "model_name": "FloatProgressModel",
          "model_module_version": "1.5.0",
          "state": {
            "_view_name": "ProgressView",
            "style": "IPY_MODEL_c92f1d01b35b4143b2ef083e17e5ebd3",
            "_dom_classes": [],
            "description": "",
            "_model_name": "FloatProgressModel",
            "bar_style": "success",
            "max": 300,
            "_view_module": "@jupyter-widgets/controls",
            "_model_module_version": "1.5.0",
            "value": 300,
            "_view_count": null,
            "_view_module_version": "1.5.0",
            "orientation": "horizontal",
            "min": 0,
            "description_tooltip": null,
            "_model_module": "@jupyter-widgets/controls",
            "layout": "IPY_MODEL_650ebc3112d347148a3c731eec32c44d"
          }
        },
        "e3b73f8f21ab4ed09d29dc53d212668c": {
          "model_module": "@jupyter-widgets/controls",
          "model_name": "HTMLModel",
          "model_module_version": "1.5.0",
          "state": {
            "_view_name": "HTMLView",
            "style": "IPY_MODEL_c4d01bc5449842e9866066d413fbbd25",
            "_dom_classes": [],
            "description": "",
            "_model_name": "HTMLModel",
            "placeholder": "​",
            "_view_module": "@jupyter-widgets/controls",
            "_model_module_version": "1.5.0",
            "value": " 300/300 [06:32&lt;00:00,  1.29s/it]",
            "_view_count": null,
            "_view_module_version": "1.5.0",
            "description_tooltip": null,
            "_model_module": "@jupyter-widgets/controls",
            "layout": "IPY_MODEL_6c14d00dc92444478a432f6686c8606f"
          }
        },
        "c01189bf426f46528685083054d67267": {
          "model_module": "@jupyter-widgets/controls",
          "model_name": "DescriptionStyleModel",
          "model_module_version": "1.5.0",
          "state": {
            "_view_name": "StyleView",
            "_model_name": "DescriptionStyleModel",
            "description_width": "",
            "_view_module": "@jupyter-widgets/base",
            "_model_module_version": "1.5.0",
            "_view_count": null,
            "_view_module_version": "1.2.0",
            "_model_module": "@jupyter-widgets/controls"
          }
        },
        "665d4188ce7d47c4bdef06c02865bd8c": {
          "model_module": "@jupyter-widgets/base",
          "model_name": "LayoutModel",
          "model_module_version": "1.2.0",
          "state": {
            "_view_name": "LayoutView",
            "grid_template_rows": null,
            "right": null,
            "justify_content": null,
            "_view_module": "@jupyter-widgets/base",
            "overflow": null,
            "_model_module_version": "1.2.0",
            "_view_count": null,
            "flex_flow": null,
            "width": null,
            "min_width": null,
            "border": null,
            "align_items": null,
            "bottom": null,
            "_model_module": "@jupyter-widgets/base",
            "top": null,
            "grid_column": null,
            "overflow_y": null,
            "overflow_x": null,
            "grid_auto_flow": null,
            "grid_area": null,
            "grid_template_columns": null,
            "flex": null,
            "_model_name": "LayoutModel",
            "justify_items": null,
            "grid_row": null,
            "max_height": null,
            "align_content": null,
            "visibility": null,
            "align_self": null,
            "height": null,
            "min_height": null,
            "padding": null,
            "grid_auto_rows": null,
            "grid_gap": null,
            "max_width": null,
            "order": null,
            "_view_module_version": "1.2.0",
            "grid_template_areas": null,
            "object_position": null,
            "object_fit": null,
            "grid_auto_columns": null,
            "margin": null,
            "display": null,
            "left": null
          }
        },
        "c92f1d01b35b4143b2ef083e17e5ebd3": {
          "model_module": "@jupyter-widgets/controls",
          "model_name": "ProgressStyleModel",
          "model_module_version": "1.5.0",
          "state": {
            "_view_name": "StyleView",
            "_model_name": "ProgressStyleModel",
            "description_width": "",
            "_view_module": "@jupyter-widgets/base",
            "_model_module_version": "1.5.0",
            "_view_count": null,
            "_view_module_version": "1.2.0",
            "bar_color": null,
            "_model_module": "@jupyter-widgets/controls"
          }
        },
        "650ebc3112d347148a3c731eec32c44d": {
          "model_module": "@jupyter-widgets/base",
          "model_name": "LayoutModel",
          "model_module_version": "1.2.0",
          "state": {
            "_view_name": "LayoutView",
            "grid_template_rows": null,
            "right": null,
            "justify_content": null,
            "_view_module": "@jupyter-widgets/base",
            "overflow": null,
            "_model_module_version": "1.2.0",
            "_view_count": null,
            "flex_flow": null,
            "width": null,
            "min_width": null,
            "border": null,
            "align_items": null,
            "bottom": null,
            "_model_module": "@jupyter-widgets/base",
            "top": null,
            "grid_column": null,
            "overflow_y": null,
            "overflow_x": null,
            "grid_auto_flow": null,
            "grid_area": null,
            "grid_template_columns": null,
            "flex": null,
            "_model_name": "LayoutModel",
            "justify_items": null,
            "grid_row": null,
            "max_height": null,
            "align_content": null,
            "visibility": null,
            "align_self": null,
            "height": null,
            "min_height": null,
            "padding": null,
            "grid_auto_rows": null,
            "grid_gap": null,
            "max_width": null,
            "order": null,
            "_view_module_version": "1.2.0",
            "grid_template_areas": null,
            "object_position": null,
            "object_fit": null,
            "grid_auto_columns": null,
            "margin": null,
            "display": null,
            "left": null
          }
        },
        "c4d01bc5449842e9866066d413fbbd25": {
          "model_module": "@jupyter-widgets/controls",
          "model_name": "DescriptionStyleModel",
          "model_module_version": "1.5.0",
          "state": {
            "_view_name": "StyleView",
            "_model_name": "DescriptionStyleModel",
            "description_width": "",
            "_view_module": "@jupyter-widgets/base",
            "_model_module_version": "1.5.0",
            "_view_count": null,
            "_view_module_version": "1.2.0",
            "_model_module": "@jupyter-widgets/controls"
          }
        },
        "6c14d00dc92444478a432f6686c8606f": {
          "model_module": "@jupyter-widgets/base",
          "model_name": "LayoutModel",
          "model_module_version": "1.2.0",
          "state": {
            "_view_name": "LayoutView",
            "grid_template_rows": null,
            "right": null,
            "justify_content": null,
            "_view_module": "@jupyter-widgets/base",
            "overflow": null,
            "_model_module_version": "1.2.0",
            "_view_count": null,
            "flex_flow": null,
            "width": null,
            "min_width": null,
            "border": null,
            "align_items": null,
            "bottom": null,
            "_model_module": "@jupyter-widgets/base",
            "top": null,
            "grid_column": null,
            "overflow_y": null,
            "overflow_x": null,
            "grid_auto_flow": null,
            "grid_area": null,
            "grid_template_columns": null,
            "flex": null,
            "_model_name": "LayoutModel",
            "justify_items": null,
            "grid_row": null,
            "max_height": null,
            "align_content": null,
            "visibility": null,
            "align_self": null,
            "height": null,
            "min_height": null,
            "padding": null,
            "grid_auto_rows": null,
            "grid_gap": null,
            "max_width": null,
            "order": null,
            "_view_module_version": "1.2.0",
            "grid_template_areas": null,
            "object_position": null,
            "object_fit": null,
            "grid_auto_columns": null,
            "margin": null,
            "display": null,
            "left": null
          }
        },
        "f312c1d43ac24e568652c99426e93abc": {
          "model_module": "@jupyter-widgets/controls",
          "model_name": "HBoxModel",
          "model_module_version": "1.5.0",
          "state": {
            "_view_name": "HBoxView",
            "_dom_classes": [],
            "_model_name": "HBoxModel",
            "_view_module": "@jupyter-widgets/controls",
            "_model_module_version": "1.5.0",
            "_view_count": null,
            "_view_module_version": "1.5.0",
            "box_style": "",
            "layout": "IPY_MODEL_112da13f9c034aeba5f9955d17d9e4f8",
            "_model_module": "@jupyter-widgets/controls",
            "children": [
              "IPY_MODEL_af4c9914dc0c47358ba2948e06d5271c",
              "IPY_MODEL_2c3bcfa3106d49d1b6ddf64a919728d4",
              "IPY_MODEL_f0f31f09ea794e3ba4d516ea20d2e9af"
            ]
          }
        },
        "112da13f9c034aeba5f9955d17d9e4f8": {
          "model_module": "@jupyter-widgets/base",
          "model_name": "LayoutModel",
          "model_module_version": "1.2.0",
          "state": {
            "_view_name": "LayoutView",
            "grid_template_rows": null,
            "right": null,
            "justify_content": null,
            "_view_module": "@jupyter-widgets/base",
            "overflow": null,
            "_model_module_version": "1.2.0",
            "_view_count": null,
            "flex_flow": null,
            "width": null,
            "min_width": null,
            "border": null,
            "align_items": null,
            "bottom": null,
            "_model_module": "@jupyter-widgets/base",
            "top": null,
            "grid_column": null,
            "overflow_y": null,
            "overflow_x": null,
            "grid_auto_flow": null,
            "grid_area": null,
            "grid_template_columns": null,
            "flex": null,
            "_model_name": "LayoutModel",
            "justify_items": null,
            "grid_row": null,
            "max_height": null,
            "align_content": null,
            "visibility": null,
            "align_self": null,
            "height": null,
            "min_height": null,
            "padding": null,
            "grid_auto_rows": null,
            "grid_gap": null,
            "max_width": null,
            "order": null,
            "_view_module_version": "1.2.0",
            "grid_template_areas": null,
            "object_position": null,
            "object_fit": null,
            "grid_auto_columns": null,
            "margin": null,
            "display": null,
            "left": null
          }
        },
        "af4c9914dc0c47358ba2948e06d5271c": {
          "model_module": "@jupyter-widgets/controls",
          "model_name": "HTMLModel",
          "model_module_version": "1.5.0",
          "state": {
            "_view_name": "HTMLView",
            "style": "IPY_MODEL_2cf2971ffa694a168b57bd6c7629241f",
            "_dom_classes": [],
            "description": "",
            "_model_name": "HTMLModel",
            "placeholder": "​",
            "_view_module": "@jupyter-widgets/controls",
            "_model_module_version": "1.5.0",
            "value": "training loss 0.4730518274009228     |: 100%",
            "_view_count": null,
            "_view_module_version": "1.5.0",
            "description_tooltip": null,
            "_model_module": "@jupyter-widgets/controls",
            "layout": "IPY_MODEL_6d3102f6f5ab459f8c100c7965870f8a"
          }
        },
        "2c3bcfa3106d49d1b6ddf64a919728d4": {
          "model_module": "@jupyter-widgets/controls",
          "model_name": "FloatProgressModel",
          "model_module_version": "1.5.0",
          "state": {
            "_view_name": "ProgressView",
            "style": "IPY_MODEL_12d2770f244942e4b5c16bf2b97b95fd",
            "_dom_classes": [],
            "description": "",
            "_model_name": "FloatProgressModel",
            "bar_style": "success",
            "max": 350,
            "_view_module": "@jupyter-widgets/controls",
            "_model_module_version": "1.5.0",
            "value": 350,
            "_view_count": null,
            "_view_module_version": "1.5.0",
            "orientation": "horizontal",
            "min": 0,
            "description_tooltip": null,
            "_model_module": "@jupyter-widgets/controls",
            "layout": "IPY_MODEL_9c795c43a9a340dd9d03262d5106808f"
          }
        },
        "f0f31f09ea794e3ba4d516ea20d2e9af": {
          "model_module": "@jupyter-widgets/controls",
          "model_name": "HTMLModel",
          "model_module_version": "1.5.0",
          "state": {
            "_view_name": "HTMLView",
            "style": "IPY_MODEL_1368da4e515849e9b6323afd21a8f323",
            "_dom_classes": [],
            "description": "",
            "_model_name": "HTMLModel",
            "placeholder": "​",
            "_view_module": "@jupyter-widgets/controls",
            "_model_module_version": "1.5.0",
            "value": " 350/350 [00:43&lt;00:00,  8.31it/s]",
            "_view_count": null,
            "_view_module_version": "1.5.0",
            "description_tooltip": null,
            "_model_module": "@jupyter-widgets/controls",
            "layout": "IPY_MODEL_5893a86f159149808ae4e24faa02f4ae"
          }
        },
        "2cf2971ffa694a168b57bd6c7629241f": {
          "model_module": "@jupyter-widgets/controls",
          "model_name": "DescriptionStyleModel",
          "model_module_version": "1.5.0",
          "state": {
            "_view_name": "StyleView",
            "_model_name": "DescriptionStyleModel",
            "description_width": "",
            "_view_module": "@jupyter-widgets/base",
            "_model_module_version": "1.5.0",
            "_view_count": null,
            "_view_module_version": "1.2.0",
            "_model_module": "@jupyter-widgets/controls"
          }
        },
        "6d3102f6f5ab459f8c100c7965870f8a": {
          "model_module": "@jupyter-widgets/base",
          "model_name": "LayoutModel",
          "model_module_version": "1.2.0",
          "state": {
            "_view_name": "LayoutView",
            "grid_template_rows": null,
            "right": null,
            "justify_content": null,
            "_view_module": "@jupyter-widgets/base",
            "overflow": null,
            "_model_module_version": "1.2.0",
            "_view_count": null,
            "flex_flow": null,
            "width": null,
            "min_width": null,
            "border": null,
            "align_items": null,
            "bottom": null,
            "_model_module": "@jupyter-widgets/base",
            "top": null,
            "grid_column": null,
            "overflow_y": null,
            "overflow_x": null,
            "grid_auto_flow": null,
            "grid_area": null,
            "grid_template_columns": null,
            "flex": null,
            "_model_name": "LayoutModel",
            "justify_items": null,
            "grid_row": null,
            "max_height": null,
            "align_content": null,
            "visibility": null,
            "align_self": null,
            "height": null,
            "min_height": null,
            "padding": null,
            "grid_auto_rows": null,
            "grid_gap": null,
            "max_width": null,
            "order": null,
            "_view_module_version": "1.2.0",
            "grid_template_areas": null,
            "object_position": null,
            "object_fit": null,
            "grid_auto_columns": null,
            "margin": null,
            "display": null,
            "left": null
          }
        },
        "12d2770f244942e4b5c16bf2b97b95fd": {
          "model_module": "@jupyter-widgets/controls",
          "model_name": "ProgressStyleModel",
          "model_module_version": "1.5.0",
          "state": {
            "_view_name": "StyleView",
            "_model_name": "ProgressStyleModel",
            "description_width": "",
            "_view_module": "@jupyter-widgets/base",
            "_model_module_version": "1.5.0",
            "_view_count": null,
            "_view_module_version": "1.2.0",
            "bar_color": null,
            "_model_module": "@jupyter-widgets/controls"
          }
        },
        "9c795c43a9a340dd9d03262d5106808f": {
          "model_module": "@jupyter-widgets/base",
          "model_name": "LayoutModel",
          "model_module_version": "1.2.0",
          "state": {
            "_view_name": "LayoutView",
            "grid_template_rows": null,
            "right": null,
            "justify_content": null,
            "_view_module": "@jupyter-widgets/base",
            "overflow": null,
            "_model_module_version": "1.2.0",
            "_view_count": null,
            "flex_flow": null,
            "width": null,
            "min_width": null,
            "border": null,
            "align_items": null,
            "bottom": null,
            "_model_module": "@jupyter-widgets/base",
            "top": null,
            "grid_column": null,
            "overflow_y": null,
            "overflow_x": null,
            "grid_auto_flow": null,
            "grid_area": null,
            "grid_template_columns": null,
            "flex": null,
            "_model_name": "LayoutModel",
            "justify_items": null,
            "grid_row": null,
            "max_height": null,
            "align_content": null,
            "visibility": null,
            "align_self": null,
            "height": null,
            "min_height": null,
            "padding": null,
            "grid_auto_rows": null,
            "grid_gap": null,
            "max_width": null,
            "order": null,
            "_view_module_version": "1.2.0",
            "grid_template_areas": null,
            "object_position": null,
            "object_fit": null,
            "grid_auto_columns": null,
            "margin": null,
            "display": null,
            "left": null
          }
        },
        "1368da4e515849e9b6323afd21a8f323": {
          "model_module": "@jupyter-widgets/controls",
          "model_name": "DescriptionStyleModel",
          "model_module_version": "1.5.0",
          "state": {
            "_view_name": "StyleView",
            "_model_name": "DescriptionStyleModel",
            "description_width": "",
            "_view_module": "@jupyter-widgets/base",
            "_model_module_version": "1.5.0",
            "_view_count": null,
            "_view_module_version": "1.2.0",
            "_model_module": "@jupyter-widgets/controls"
          }
        },
        "5893a86f159149808ae4e24faa02f4ae": {
          "model_module": "@jupyter-widgets/base",
          "model_name": "LayoutModel",
          "model_module_version": "1.2.0",
          "state": {
            "_view_name": "LayoutView",
            "grid_template_rows": null,
            "right": null,
            "justify_content": null,
            "_view_module": "@jupyter-widgets/base",
            "overflow": null,
            "_model_module_version": "1.2.0",
            "_view_count": null,
            "flex_flow": null,
            "width": null,
            "min_width": null,
            "border": null,
            "align_items": null,
            "bottom": null,
            "_model_module": "@jupyter-widgets/base",
            "top": null,
            "grid_column": null,
            "overflow_y": null,
            "overflow_x": null,
            "grid_auto_flow": null,
            "grid_area": null,
            "grid_template_columns": null,
            "flex": null,
            "_model_name": "LayoutModel",
            "justify_items": null,
            "grid_row": null,
            "max_height": null,
            "align_content": null,
            "visibility": null,
            "align_self": null,
            "height": null,
            "min_height": null,
            "padding": null,
            "grid_auto_rows": null,
            "grid_gap": null,
            "max_width": null,
            "order": null,
            "_view_module_version": "1.2.0",
            "grid_template_areas": null,
            "object_position": null,
            "object_fit": null,
            "grid_auto_columns": null,
            "margin": null,
            "display": null,
            "left": null
          }
        }
      }
    }
  },
  "cells": [
    {
      "cell_type": "markdown",
      "metadata": {
        "id": "7CWzxWFWUY8E"
      },
      "source": [
        "# Q1. \n",
        "Take the MNIST dataset and sample 20000 images from the training dataset. Convert\n",
        "the single channel images into 3 channel images by adding two more duplicate layers of\n",
        "the respective images to itself. Run a CNN autoencoder to generate the single channel\n",
        "images from the 3 channel images."
      ]
    },
    {
      "cell_type": "code",
      "metadata": {
        "id": "9mMTkb6pLV2O"
      },
      "source": [
        "# Importing modules\n",
        "\n",
        "import torch\n",
        "import torch.nn as nn\n",
        "import torch.nn.functional as F\n",
        "from torch.optim import Adam\n",
        "from torch.utils.data import DataLoader, TensorDataset\n",
        "# from torchvision import transforms, datasets\n",
        "# import PIL\n",
        "import matplotlib.pyplot as plt\n",
        "from tqdm.auto import tqdm\n",
        "import numpy as np\n",
        "\n",
        "device = torch.device('cuda')"
      ],
      "execution_count": 117,
      "outputs": []
    },
    {
      "cell_type": "code",
      "metadata": {
        "colab": {
          "base_uri": "https://localhost:8080/"
        },
        "id": "pXV2R28XLzBW",
        "outputId": "126a96b5-27c9-4225-c453-94e799eead44"
      },
      "source": [
        "# Loading Data\n",
        "!wget https://github.com/MorvanZhou/PyTorch-Tutorial/raw/master/tutorial-contents-notebooks/mnist/processed/training.pt"
      ],
      "execution_count": 118,
      "outputs": [
        {
          "output_type": "stream",
          "name": "stdout",
          "text": [
            "--2021-10-29 09:30:45--  https://github.com/MorvanZhou/PyTorch-Tutorial/raw/master/tutorial-contents-notebooks/mnist/processed/training.pt\n",
            "Resolving github.com (github.com)... 140.82.113.4\n",
            "Connecting to github.com (github.com)|140.82.113.4|:443... connected.\n",
            "HTTP request sent, awaiting response... 302 Found\n",
            "Location: https://raw.githubusercontent.com/MorvanZhou/PyTorch-Tutorial/master/tutorial-contents-notebooks/mnist/processed/training.pt [following]\n",
            "--2021-10-29 09:30:45--  https://raw.githubusercontent.com/MorvanZhou/PyTorch-Tutorial/master/tutorial-contents-notebooks/mnist/processed/training.pt\n",
            "Resolving raw.githubusercontent.com (raw.githubusercontent.com)... 185.199.108.133, 185.199.109.133, 185.199.110.133, ...\n",
            "Connecting to raw.githubusercontent.com (raw.githubusercontent.com)|185.199.108.133|:443... connected.\n",
            "HTTP request sent, awaiting response... 200 OK\n",
            "Length: 47520431 (45M) [application/octet-stream]\n",
            "Saving to: ‘training.pt.2’\n",
            "\n",
            "training.pt.2       100%[===================>]  45.32M   148MB/s    in 0.3s    \n",
            "\n",
            "2021-10-29 09:30:46 (148 MB/s) - ‘training.pt.2’ saved [47520431/47520431]\n",
            "\n"
          ]
        }
      ]
    },
    {
      "cell_type": "code",
      "metadata": {
        "colab": {
          "base_uri": "https://localhost:8080/"
        },
        "id": "Fn3LhtlML9sx",
        "outputId": "8f00aa6d-5ccf-4871-916b-a1506acc91d7"
      },
      "source": [
        "# Loading data\n",
        "x_train, _ = torch.load('training.pt')\n",
        "x_train = x_train.float()\n",
        "x_train.shape"
      ],
      "execution_count": 119,
      "outputs": [
        {
          "output_type": "execute_result",
          "data": {
            "text/plain": [
              "torch.Size([60000, 28, 28])"
            ]
          },
          "metadata": {},
          "execution_count": 119
        }
      ]
    },
    {
      "cell_type": "code",
      "metadata": {
        "colab": {
          "base_uri": "https://localhost:8080/"
        },
        "id": "taBarofhTClm",
        "outputId": "a4456985-5248-47da-8229-ba3cf626c3cd"
      },
      "source": [
        "# Making a copy of x_train. Will be used as target later\n",
        "from copy import deepcopy\n",
        "y_train = deepcopy(x_train)\n",
        "y_train.size()"
      ],
      "execution_count": 120,
      "outputs": [
        {
          "output_type": "execute_result",
          "data": {
            "text/plain": [
              "torch.Size([60000, 28, 28])"
            ]
          },
          "metadata": {},
          "execution_count": 120
        }
      ]
    },
    {
      "cell_type": "code",
      "metadata": {
        "colab": {
          "base_uri": "https://localhost:8080/",
          "height": 265
        },
        "id": "ty0MPUleR5N2",
        "outputId": "a2e80dae-8244-412e-f6cf-a6a16cb57498"
      },
      "source": [
        "plt.imshow(x_train[0])\n",
        "plt.show()"
      ],
      "execution_count": 121,
      "outputs": [
        {
          "output_type": "display_data",
          "data": {
            "image/png": "[encoded data removed]",
            "text/plain": [
              "<Figure size 432x288 with 1 Axes>"
            ]
          },
          "metadata": {
            "needs_background": "light"
          }
        }
      ]
    },
    {
      "cell_type": "code",
      "metadata": {
        "colab": {
          "base_uri": "https://localhost:8080/"
        },
        "id": "_LN9OLCdPZgJ",
        "outputId": "fbc9c5af-bb02-46ec-b60c-4a430938dd72"
      },
      "source": [
        "# Adding 2 more layers of same image to create 3 channel image\n",
        "x_train = x_train.view(60000,1,28,28)\n",
        "print(x_train.size())\n",
        "x_train = torch.cat((x_train,x_train,x_train),dim=1,)\n",
        "print(x_train.size())"
      ],
      "execution_count": 122,
      "outputs": [
        {
          "output_type": "stream",
          "name": "stdout",
          "text": [
            "torch.Size([60000, 1, 28, 28])\n",
            "torch.Size([60000, 3, 28, 28])\n"
          ]
        }
      ]
    },
    {
      "cell_type": "code",
      "metadata": {
        "colab": {
          "base_uri": "https://localhost:8080/",
          "height": 265
        },
        "id": "OciCmDGaSBuO",
        "outputId": "a6bdb2ef-88e1-4673-feef-5fc30e2526cf"
      },
      "source": [
        "plt.imshow(x_train[0][1])\n",
        "plt.show()"
      ],
      "execution_count": 123,
      "outputs": [
        {
          "output_type": "display_data",
          "data": {
            "image/png": "[encoded data removed]",
            "text/plain": [
              "<Figure size 432x288 with 1 Axes>"
            ]
          },
          "metadata": {
            "needs_background": "light"
          }
        }
      ]
    },
    {
      "cell_type": "code",
      "metadata": {
        "colab": {
          "base_uri": "https://localhost:8080/"
        },
        "id": "7RwIUv-iQcXf",
        "outputId": "4cbe660e-311e-4679-b43a-4077e6e7f5a5"
      },
      "source": [
        "# Reshaping x_train before fedding to network\n",
        "x_train = x_train.reshape(-1,3*28*28)  # Important. Do this here and not inside loop i.e. (batch.reshape(..))\n",
        "y_train = y_train.reshape(-1,28*28)  # Important. Do this here and not inside loop i.e. (batch.reshape(..))\n",
        "\n",
        "print(x_train.size())\n",
        "train_data_loader = DataLoader(TensorDataset(x_train,y_train),batch_size=512, shuffle=True)\n",
        "for batch,target in train_data_loader:\n",
        "    print(batch.size(),target.size())  # Should be 3*28*28=2352 and 28*28=784\n",
        "    break"
      ],
      "execution_count": 124,
      "outputs": [
        {
          "output_type": "stream",
          "name": "stdout",
          "text": [
            "torch.Size([60000, 2352])\n",
            "torch.Size([512, 2352]) torch.Size([512, 784])\n"
          ]
        }
      ]
    },
    {
      "cell_type": "code",
      "metadata": {
        "id": "dF_bI6mcPrM_"
      },
      "source": [
        "class autoEncode(nn.Module):\n",
        "\n",
        "    def __init__(self):\n",
        "\n",
        "        \"\"\"\n",
        "        constructor of class\n",
        "        3 layers in encoder and 3 layers in decoder\n",
        "        \"\"\"\n",
        "        super(autoEncode, self).__init__()\n",
        "        # self.bn1 = nn.BatchNorm2d(num_features=3*28*28)\n",
        "        self.en_fc1 = nn.Linear(in_features=3*28*28,out_features=128)\n",
        "        self.en_fc2 = nn.Linear(in_features=128,out_features=256)\n",
        "        self.en_fc3 = nn.Linear(in_features=256,out_features=25)\n",
        "\n",
        "        self.de_fc1 = nn.Linear(in_features=25,out_features=256)\n",
        "        self.de_fc2 = nn.Linear(in_features=256,out_features=128)\n",
        "        self.de_fc3 = nn.Linear(in_features=128,out_features=28*28)\n",
        "\n",
        "\n",
        "    def encoder(self,x):\n",
        "\n",
        "        \"\"\"\n",
        "        encoder function\n",
        "        \"\"\"\n",
        "\n",
        "        x = self.en_fc1(x)\n",
        "        x = F.relu(x)\n",
        "        x= self.en_fc2(x)\n",
        "        x = F.relu(x)\n",
        "        x= self.en_fc3(x)\n",
        "        x = F.relu(x)\n",
        "\n",
        "        return x\n",
        "\n",
        "    \n",
        "    def decoder(self,x):\n",
        "\n",
        "        \"\"\"\n",
        "        decoder function\n",
        "        \"\"\"\n",
        "\n",
        "        x = self.de_fc1(x)\n",
        "        x = F.relu(x)\n",
        "        x= self.de_fc2(x)\n",
        "        x = F.relu(x)\n",
        "        x= self.de_fc3(x)\n",
        "        x = F.relu(x)\n",
        "\n",
        "        return x \n",
        "\n",
        "    def forward(self,x):\n",
        "        \n",
        "        x = self.encoder(x)\n",
        "        x = self.decoder(x)\n",
        "        return x"
      ],
      "execution_count": 125,
      "outputs": []
    },
    {
      "cell_type": "code",
      "metadata": {
        "colab": {
          "base_uri": "https://localhost:8080/"
        },
        "id": "tBc9voSBQAHx",
        "outputId": "316a80b9-9ce9-40cd-edac-9d94ba278182"
      },
      "source": [
        "device = torch.device('cuda')\n",
        "try:\n",
        "    del model\n",
        "except:\n",
        "    print('No model found')\n",
        "else:\n",
        "    print('model deleted')\n",
        "finally:\n",
        "    model = autoEncode()\n",
        "    model = model.to(device)\n",
        "    print('model instantiated')"
      ],
      "execution_count": 126,
      "outputs": [
        {
          "output_type": "stream",
          "name": "stdout",
          "text": [
            "model deleted\n",
            "model instantiated\n"
          ]
        }
      ]
    },
    {
      "cell_type": "code",
      "metadata": {
        "id": "9emyNtFaQF0z"
      },
      "source": [
        "opt = Adam(model.parameters(), lr=0.001)"
      ],
      "execution_count": 127,
      "outputs": []
    },
    {
      "cell_type": "code",
      "metadata": {
        "id": "gkcXn_uTQQgr"
      },
      "source": [
        "# Function to carry out training\n",
        "\n",
        "def train(model:nn.Module,\n",
        "          data_loader:DataLoader,\n",
        "          optimizer = torch.optim.Optimizer):\n",
        "    \n",
        "    model.train()\n",
        "    training_loss = 0.0\n",
        "    for batch,target in data_loader:\n",
        "        batch = batch.to(device)\n",
        "        target = target.to(device)\n",
        "\n",
        "        out = model(batch)\n",
        "        loss = F.mse_loss(out/255,target/255)\n",
        "        loss.backward()\n",
        "        opt.step()\n",
        "        opt.zero_grad()\n",
        "\n",
        "        training_loss += loss.item()\n",
        "\n",
        "    return training_loss"
      ],
      "execution_count": 128,
      "outputs": []
    },
    {
      "cell_type": "code",
      "metadata": {
        "colab": {
          "base_uri": "https://localhost:8080/",
          "height": 236,
          "referenced_widgets": [
            "6cfe819130d74c24aa79fce66d7765f9",
            "aa6a2e59ed7a44a2a624aca1852b5f66",
            "3c9aab10edf44981bca2baf922781f10",
            "879656f972a541e68ceaf056b595db69",
            "e3b73f8f21ab4ed09d29dc53d212668c",
            "c01189bf426f46528685083054d67267",
            "665d4188ce7d47c4bdef06c02865bd8c",
            "c92f1d01b35b4143b2ef083e17e5ebd3",
            "650ebc3112d347148a3c731eec32c44d",
            "c4d01bc5449842e9866066d413fbbd25",
            "6c14d00dc92444478a432f6686c8606f"
          ]
        },
        "id": "fgOqYmZbQ2Jy",
        "outputId": "5e600749-255d-40bd-af50-8fd3ae9230b2"
      },
      "source": [
        "# Training auto encoder\n",
        "\n",
        "tq = tqdm(range(300))  # training for 300 epochs\n",
        "\n",
        "training_loss = []\n",
        "\n",
        "desc = 0\n",
        "for epoch in tq:\n",
        "    tq.set_description(desc=f'training loss {desc}     |')\n",
        "    t_loss = train(model=model,data_loader=train_data_loader, optimizer=opt)\n",
        "    training_loss.append(t_loss)\n",
        "    desc = t_loss\n",
        "    if (epoch+1) in [5,10,15,20,25,50,55,75,105,250,300,400,550,600,750,800,850,900,950,1000,1100,1200,1300,1500,1700,1800,1950,2000]:\n",
        "        print('epoch: ',epoch+1, 'training_loss: ',training_loss[epoch])"
      ],
      "execution_count": 129,
      "outputs": [
        {
          "output_type": "display_data",
          "data": {
            "application/vnd.jupyter.widget-view+json": {
              "model_id": "6cfe819130d74c24aa79fce66d7765f9",
              "version_minor": 0,
              "version_major": 2
            },
            "text/plain": [
              "  0%|          | 0/300 [00:00<?, ?it/s]"
            ]
          },
          "metadata": {}
        },
        {
          "output_type": "stream",
          "name": "stdout",
          "text": [
            "epoch:  5 training_loss:  2.624269103631377\n",
            "epoch:  10 training_loss:  2.3206730857491493\n",
            "epoch:  15 training_loss:  2.195180846378207\n",
            "epoch:  20 training_loss:  2.1191037595272064\n",
            "epoch:  25 training_loss:  2.061743412166834\n",
            "epoch:  50 training_loss:  1.8927278649061918\n",
            "epoch:  55 training_loss:  1.8703487068414688\n",
            "epoch:  75 training_loss:  1.793236662633717\n",
            "epoch:  105 training_loss:  1.7326642563566566\n",
            "epoch:  250 training_loss:  1.5861841347068548\n",
            "epoch:  300 training_loss:  1.5612758779898286\n"
          ]
        }
      ]
    },
    {
      "cell_type": "code",
      "metadata": {
        "colab": {
          "base_uri": "https://localhost:8080/",
          "height": 282
        },
        "id": "pi-BbYjdQ6w1",
        "outputId": "c9932621-b097-4ecb-d3bd-8b44d16a20c2"
      },
      "source": [
        "# Looking into the output of model\n",
        "output = model(x_train.to(device)) # Prediction by model or model output\n",
        "print(output.size())\n",
        "\n",
        "output = output.detach().cpu().numpy()\n",
        "plt.imshow(output[0].reshape(28,28))\n",
        "plt.show()"
      ],
      "execution_count": 130,
      "outputs": [
        {
          "output_type": "stream",
          "name": "stdout",
          "text": [
            "torch.Size([60000, 784])\n"
          ]
        },
        {
          "output_type": "display_data",
          "data": {
            "image/png": "[encoded data removed]",
            "text/plain": [
              "<Figure size 432x288 with 1 Axes>"
            ]
          },
          "metadata": {
            "needs_background": "light"
          }
        }
      ]
    },
    {
      "cell_type": "code",
      "metadata": {
        "id": "AA0jzPrpSkWR"
      },
      "source": [
        ""
      ],
      "execution_count": null,
      "outputs": []
    },
    {
      "cell_type": "markdown",
      "metadata": {
        "id": "NXvhnW2TUhRV"
      },
      "source": [
        "# Q2\n",
        "Try to build a neural network which will take images of number one from the MNIST\n",
        "training data and produce image of number two."
      ]
    },
    {
      "cell_type": "code",
      "metadata": {
        "id": "zGEUsmIkUsnn"
      },
      "source": [
        "torch.cuda.empty_cache()"
      ],
      "execution_count": 131,
      "outputs": []
    },
    {
      "cell_type": "code",
      "metadata": {
        "id": "5Ul8izABUzBs"
      },
      "source": [
        "del model, opt, x_train, y_train,train_data_loader"
      ],
      "execution_count": 132,
      "outputs": []
    },
    {
      "cell_type": "code",
      "metadata": {
        "colab": {
          "base_uri": "https://localhost:8080/"
        },
        "id": "u8VvZZ6fVTsS",
        "outputId": "d303ddbc-6253-4eb6-9155-592485a80aa0"
      },
      "source": [
        "!wget https://github.com/MorvanZhou/PyTorch-Tutorial/raw/master/tutorial-contents-notebooks/mnist/processed/training.pt"
      ],
      "execution_count": 133,
      "outputs": [
        {
          "output_type": "stream",
          "name": "stdout",
          "text": [
            "--2021-10-29 09:38:10--  https://github.com/MorvanZhou/PyTorch-Tutorial/raw/master/tutorial-contents-notebooks/mnist/processed/training.pt\n",
            "Resolving github.com (github.com)... 140.82.112.3\n",
            "Connecting to github.com (github.com)|140.82.112.3|:443... connected.\n",
            "HTTP request sent, awaiting response... 302 Found\n",
            "Location: https://raw.githubusercontent.com/MorvanZhou/PyTorch-Tutorial/master/tutorial-contents-notebooks/mnist/processed/training.pt [following]\n",
            "--2021-10-29 09:38:11--  https://raw.githubusercontent.com/MorvanZhou/PyTorch-Tutorial/master/tutorial-contents-notebooks/mnist/processed/training.pt\n",
            "Resolving raw.githubusercontent.com (raw.githubusercontent.com)... 185.199.110.133, 185.199.109.133, 185.199.111.133, ...\n",
            "Connecting to raw.githubusercontent.com (raw.githubusercontent.com)|185.199.110.133|:443... connected.\n",
            "HTTP request sent, awaiting response... 200 OK\n",
            "Length: 47520431 (45M) [application/octet-stream]\n",
            "Saving to: ‘training.pt.3’\n",
            "\n",
            "training.pt.3       100%[===================>]  45.32M   151MB/s    in 0.3s    \n",
            "\n",
            "2021-10-29 09:38:11 (151 MB/s) - ‘training.pt.3’ saved [47520431/47520431]\n",
            "\n"
          ]
        }
      ]
    },
    {
      "cell_type": "code",
      "metadata": {
        "id": "doY1ZWFYUhRX"
      },
      "source": [
        "import torch\n",
        "import torch.nn as nn\n",
        "import torch.nn.functional as F\n",
        "from torch.optim import Adam\n",
        "from torch.utils.data import DataLoader, TensorDataset\n",
        "# from torchvision import transforms, datasets\n",
        "# import PIL\n",
        "import matplotlib.pyplot as plt\n",
        "from tqdm.auto import tqdm\n",
        "import numpy as np\n",
        "\n",
        "device = torch.device('cuda')"
      ],
      "execution_count": 134,
      "outputs": []
    },
    {
      "cell_type": "code",
      "metadata": {
        "id": "0v7Mn5P7U-HV"
      },
      "source": [
        "x_train, y_train = torch.load('training.pt')\n",
        "x_train = x_train.float()"
      ],
      "execution_count": 135,
      "outputs": []
    },
    {
      "cell_type": "code",
      "metadata": {
        "id": "BVt3xi0bVZh2"
      },
      "source": [
        "idx_1 = torch.where(y_train == 1)[0]\n",
        "idx_2 = torch.where(y_train == 2)[0]\n",
        "\n",
        "x_t = x_train[idx_1] # predictor\n",
        "y_t = x_train[idx_2] # target\n",
        "\n",
        "# Making number of observation in predictor and target equal\n",
        "if len(idx_1) < len(idx_2):\n",
        "    y_t = y_t[:len(idx_1)]\n",
        "else:\n",
        "    x_t = x_t[:len(idx_2)]"
      ],
      "execution_count": 136,
      "outputs": []
    },
    {
      "cell_type": "code",
      "metadata": {
        "colab": {
          "base_uri": "https://localhost:8080/"
        },
        "id": "tqb27dM5Vd5c",
        "outputId": "05f86d8a-1b2f-4bc9-984b-6bd67db26301"
      },
      "source": [
        "x_t.size(),y_t.size()"
      ],
      "execution_count": 137,
      "outputs": [
        {
          "output_type": "execute_result",
          "data": {
            "text/plain": [
              "(torch.Size([5958, 28, 28]), torch.Size([5958, 28, 28]))"
            ]
          },
          "metadata": {},
          "execution_count": 137
        }
      ]
    },
    {
      "cell_type": "code",
      "metadata": {
        "colab": {
          "base_uri": "https://localhost:8080/",
          "height": 513
        },
        "id": "_hGSqvnxWVBW",
        "outputId": "4b932e96-9e18-4572-a661-aae442f85af5"
      },
      "source": [
        "plt.imshow(x_t[0])\n",
        "plt.show()\n",
        "\n",
        "plt.imshow(y_t[0])\n",
        "plt.show()"
      ],
      "execution_count": 138,
      "outputs": [
        {
          "output_type": "display_data",
          "data": {
            "image/png": "[encoded data removed]",
            "text/plain": [
              "<Figure size 432x288 with 1 Axes>"
            ]
          },
          "metadata": {
            "needs_background": "light"
          }
        },
        {
          "output_type": "display_data",
          "data": {
            "image/png": "[encoded data removed]",
            "text/plain": [
              "<Figure size 432x288 with 1 Axes>"
            ]
          },
          "metadata": {
            "needs_background": "light"
          }
        }
      ]
    },
    {
      "cell_type": "code",
      "metadata": {
        "id": "fhnbrPSIWrL7"
      },
      "source": [
        "x_t = x_t.reshape(-1,28*28)  # Important. Do this here and not inside loop i.e. (batch.reshape(..))\n",
        "y_t = y_t.reshape(-1,28*28)  # Important. Do this here and not inside loop i.e. (batch.reshape(..))"
      ],
      "execution_count": 139,
      "outputs": []
    },
    {
      "cell_type": "code",
      "metadata": {
        "colab": {
          "base_uri": "https://localhost:8080/"
        },
        "id": "HXj7qek5XWTF",
        "outputId": "342b9c0e-9505-40e7-90bf-006bb071e595"
      },
      "source": [
        "train_data_loader = DataLoader(TensorDataset(x_t,y_t),batch_size=512, shuffle=True)\n",
        "for batch,target in train_data_loader:\n",
        "    print(batch.size(),target.size())  # Should be 28*28=784 and 28*28=784\n",
        "    break"
      ],
      "execution_count": 140,
      "outputs": [
        {
          "output_type": "stream",
          "name": "stdout",
          "text": [
            "torch.Size([512, 784]) torch.Size([512, 784])\n"
          ]
        }
      ]
    },
    {
      "cell_type": "code",
      "metadata": {
        "id": "YNXvx0y2W-WF"
      },
      "source": [
        "class autoEncode(nn.Module):\n",
        "\n",
        "    def __init__(self):\n",
        "\n",
        "        super(autoEncode, self).__init__()\n",
        "        # self.bn1 = nn.BatchNorm2d(num_features=3*28*28)\n",
        "        self.en_fc1 = nn.Linear(in_features=28*28,out_features=128)\n",
        "        self.en_fc2 = nn.Linear(in_features=128,out_features=256)\n",
        "        self.en_fc3 = nn.Linear(in_features=256,out_features=25)\n",
        "\n",
        "        self.de_fc1 = nn.Linear(in_features=25,out_features=256)\n",
        "        self.de_fc2 = nn.Linear(in_features=256,out_features=128)\n",
        "        self.de_fc3 = nn.Linear(in_features=128,out_features=28*28)\n",
        "\n",
        "\n",
        "    def encoder(self,x):\n",
        "\n",
        "        x = self.en_fc1(x)\n",
        "        x = F.relu(x)\n",
        "        x= self.en_fc2(x)\n",
        "        x = F.relu(x)\n",
        "        x= self.en_fc3(x)\n",
        "        x = F.relu(x)\n",
        "\n",
        "        return x\n",
        "\n",
        "    \n",
        "    def decoder(self,x):\n",
        "\n",
        "        x = self.de_fc1(x)\n",
        "        x = F.relu(x)\n",
        "        x= self.de_fc2(x)\n",
        "        x = F.relu(x)\n",
        "        x= self.de_fc3(x)\n",
        "        x = F.relu(x)\n",
        "\n",
        "        return x \n",
        "\n",
        "    def forward(self,x):\n",
        "\n",
        "        x = self.encoder(x)\n",
        "        x = self.decoder(x)\n",
        "        return x"
      ],
      "execution_count": 141,
      "outputs": []
    },
    {
      "cell_type": "code",
      "metadata": {
        "colab": {
          "base_uri": "https://localhost:8080/"
        },
        "id": "uAFL86twXhst",
        "outputId": "8df52660-9ece-40d2-ddec-7d509a782d77"
      },
      "source": [
        "device = torch.device('cuda')\n",
        "try:\n",
        "    del model\n",
        "except:\n",
        "    print('No model found')\n",
        "else:\n",
        "    print('model deleted')\n",
        "finally:\n",
        "    model = autoEncode()\n",
        "    model = model.to(device)\n",
        "    print('model instantiated')"
      ],
      "execution_count": 142,
      "outputs": [
        {
          "output_type": "stream",
          "name": "stdout",
          "text": [
            "No model found\n",
            "model instantiated\n"
          ]
        }
      ]
    },
    {
      "cell_type": "code",
      "metadata": {
        "id": "uOtYUYNmXz5b"
      },
      "source": [
        "opt = Adam(model.parameters(), lr=0.001)"
      ],
      "execution_count": 143,
      "outputs": []
    },
    {
      "cell_type": "code",
      "metadata": {
        "id": "fqbSOHD0Xz5c"
      },
      "source": [
        "# Training function\n",
        "def train(model:nn.Module,\n",
        "          data_loader:DataLoader,\n",
        "          optimizer = torch.optim.Optimizer):\n",
        "    \n",
        "    model.train()\n",
        "    training_loss = 0.0\n",
        "    for batch,target in data_loader:\n",
        "        batch = batch.to(device)\n",
        "        target = target.to(device)\n",
        "\n",
        "        out = model(batch)\n",
        "        loss = F.mse_loss(out/255,target/255)\n",
        "        loss.backward()\n",
        "        opt.step()\n",
        "        opt.zero_grad()\n",
        "\n",
        "        training_loss += loss.item()\n",
        "\n",
        "    return training_loss"
      ],
      "execution_count": 144,
      "outputs": []
    },
    {
      "cell_type": "code",
      "metadata": {
        "colab": {
          "base_uri": "https://localhost:8080/",
          "height": 236,
          "referenced_widgets": [
            "f312c1d43ac24e568652c99426e93abc",
            "112da13f9c034aeba5f9955d17d9e4f8",
            "af4c9914dc0c47358ba2948e06d5271c",
            "2c3bcfa3106d49d1b6ddf64a919728d4",
            "f0f31f09ea794e3ba4d516ea20d2e9af",
            "2cf2971ffa694a168b57bd6c7629241f",
            "6d3102f6f5ab459f8c100c7965870f8a",
            "12d2770f244942e4b5c16bf2b97b95fd",
            "9c795c43a9a340dd9d03262d5106808f",
            "1368da4e515849e9b6323afd21a8f323",
            "5893a86f159149808ae4e24faa02f4ae"
          ]
        },
        "id": "G29by5ExXz5c",
        "outputId": "7f5a0dbc-f3d8-4ed6-c9d1-e2e3368f3998"
      },
      "source": [
        "tq = tqdm(range(350)) # Training for 350 epochs\n",
        "\n",
        "training_loss = []\n",
        "\n",
        "desc = 0\n",
        "for epoch in tq:\n",
        "    tq.set_description(desc=f'training loss {desc}     |')\n",
        "    t_loss = train(model=model,data_loader=train_data_loader, optimizer=opt)\n",
        "    training_loss.append(t_loss)\n",
        "    desc = t_loss\n",
        "    if (epoch+1) in [5,10,15,20,25,50,55,75,105,250,300,400,550,600,750,800,850,900,950,1000,1100,1200,1300,1500,1700,1800,1950,2000]:\n",
        "        print('epoch: ',epoch+1, 'training_loss: ',training_loss[epoch])"
      ],
      "execution_count": 145,
      "outputs": [
        {
          "output_type": "display_data",
          "data": {
            "application/vnd.jupyter.widget-view+json": {
              "model_id": "f312c1d43ac24e568652c99426e93abc",
              "version_minor": 0,
              "version_major": 2
            },
            "text/plain": [
              "  0%|          | 0/350 [00:00<?, ?it/s]"
            ]
          },
          "metadata": {}
        },
        {
          "output_type": "stream",
          "name": "stdout",
          "text": [
            "epoch:  5 training_loss:  0.9242249950766563\n",
            "epoch:  10 training_loss:  0.9175471886992455\n",
            "epoch:  15 training_loss:  0.9161640927195549\n",
            "epoch:  20 training_loss:  0.913067415356636\n",
            "epoch:  25 training_loss:  0.9115711599588394\n",
            "epoch:  50 training_loss:  0.9059146270155907\n",
            "epoch:  55 training_loss:  0.8994143009185791\n",
            "epoch:  75 training_loss:  0.8422797173261642\n",
            "epoch:  105 training_loss:  0.8011621460318565\n",
            "epoch:  250 training_loss:  0.5553793832659721\n",
            "epoch:  300 training_loss:  0.5033101364970207\n"
          ]
        }
      ]
    },
    {
      "cell_type": "code",
      "metadata": {
        "colab": {
          "base_uri": "https://localhost:8080/",
          "height": 562
        },
        "id": "9kHvpygRXz5d",
        "outputId": "103831b2-dc49-4a9b-d94e-ef89c8ecd9db"
      },
      "source": [
        "output = model(x_t.to(device))  # Model output\n",
        "print(output.size())\n",
        "output = output.detach().cpu().numpy()\n",
        "\n",
        "plt.imshow(x_t[0].detach().cpu().numpy().reshape(28,28))\n",
        "plt.title('input image')\n",
        "plt.show()\n",
        "\n",
        "plt.imshow(output[0].reshape(28,28))\n",
        "plt.title('output image')\n",
        "\n",
        "plt.show()"
      ],
      "execution_count": 147,
      "outputs": [
        {
          "output_type": "stream",
          "name": "stdout",
          "text": [
            "torch.Size([5958, 784])\n"
          ]
        },
        {
          "output_type": "display_data",
          "data": {
            "image/png": "[encoded data removed]",
            "text/plain": [
              "<Figure size 432x288 with 1 Axes>"
            ]
          },
          "metadata": {
            "needs_background": "light"
          }
        },
        {
          "output_type": "display_data",
          "data": {
            "image/png": "[encoded data removed]",
            "text/plain": [
              "<Figure size 432x288 with 1 Axes>"
            ]
          },
          "metadata": {
            "needs_background": "light"
          }
        }
      ]
    },
    {
      "cell_type": "code",
      "metadata": {
        "id": "2f9pYKcAYJPG"
      },
      "source": [
        ""
      ],
      "execution_count": null,
      "outputs": []
    }
  ]
}