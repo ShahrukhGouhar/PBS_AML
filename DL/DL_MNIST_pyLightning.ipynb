{
  "nbformat": 4,
  "nbformat_minor": 0,
  "metadata": {
    "colab": {
      "name": "DL_MNIST_pyLightning",
      "provenance": [],
      "collapsed_sections": []
    },
    "kernelspec": {
      "name": "python3",
      "display_name": "Python 3"
    },
    "language_info": {
      "name": "python"
    },
    "accelerator": "GPU"
  },
  "cells": [
    {
      "cell_type": "code",
      "metadata": {
        "colab": {
          "base_uri": "https://localhost:8080/"
        },
        "id": "gO1sK9Dgt0qH",
        "outputId": "590c3924-ad85-4679-b43a-ef2b79c5a3e7"
      },
      "source": [
        "!wget https://github.com/MorvanZhou/PyTorch-Tutorial/raw/master/tutorial-contents-notebooks/mnist/processed/training.pt\n",
        "!wget https://github.com/MorvanZhou/PyTorch-Tutorial/raw/master/tutorial-contents-notebooks/mnist/processed/test.pt"
      ],
      "execution_count": null,
      "outputs": [
        {
          "output_type": "stream",
          "name": "stdout",
          "text": [
            "--2021-09-29 10:42:00--  https://github.com/MorvanZhou/PyTorch-Tutorial/raw/master/tutorial-contents-notebooks/mnist/processed/training.pt\n",
            "Resolving github.com (github.com)... 140.82.112.3\n",
            "Connecting to github.com (github.com)|140.82.112.3|:443... connected.\n",
            "HTTP request sent, awaiting response... 302 Found\n",
            "Location: https://raw.githubusercontent.com/MorvanZhou/PyTorch-Tutorial/master/tutorial-contents-notebooks/mnist/processed/training.pt [following]\n",
            "--2021-09-29 10:42:00--  https://raw.githubusercontent.com/MorvanZhou/PyTorch-Tutorial/master/tutorial-contents-notebooks/mnist/processed/training.pt\n",
            "Resolving raw.githubusercontent.com (raw.githubusercontent.com)... 185.199.110.133, 185.199.109.133, 185.199.108.133, ...\n",
            "Connecting to raw.githubusercontent.com (raw.githubusercontent.com)|185.199.110.133|:443... connected.\n",
            "HTTP request sent, awaiting response... 200 OK\n",
            "Length: 47520431 (45M) [application/octet-stream]\n",
            "Saving to: ‘training.pt’\n",
            "\n",
            "training.pt         100%[===================>]  45.32M   130MB/s    in 0.3s    \n",
            "\n",
            "2021-09-29 10:42:01 (130 MB/s) - ‘training.pt’ saved [47520431/47520431]\n",
            "\n",
            "--2021-09-29 10:42:01--  https://github.com/MorvanZhou/PyTorch-Tutorial/raw/master/tutorial-contents-notebooks/mnist/processed/test.pt\n",
            "Resolving github.com (github.com)... 140.82.114.4\n",
            "Connecting to github.com (github.com)|140.82.114.4|:443... connected.\n",
            "HTTP request sent, awaiting response... 302 Found\n",
            "Location: https://raw.githubusercontent.com/MorvanZhou/PyTorch-Tutorial/master/tutorial-contents-notebooks/mnist/processed/test.pt [following]\n",
            "--2021-09-29 10:42:01--  https://raw.githubusercontent.com/MorvanZhou/PyTorch-Tutorial/master/tutorial-contents-notebooks/mnist/processed/test.pt\n",
            "Resolving raw.githubusercontent.com (raw.githubusercontent.com)... 185.199.109.133, 185.199.110.133, 185.199.108.133, ...\n",
            "Connecting to raw.githubusercontent.com (raw.githubusercontent.com)|185.199.109.133|:443... connected.\n",
            "HTTP request sent, awaiting response... 200 OK\n",
            "Length: 7920431 (7.6M) [application/octet-stream]\n",
            "Saving to: ‘test.pt’\n",
            "\n",
            "test.pt             100%[===================>]   7.55M  --.-KB/s    in 0.1s    \n",
            "\n",
            "2021-09-29 10:42:02 (70.9 MB/s) - ‘test.pt’ saved [7920431/7920431]\n",
            "\n"
          ]
        }
      ]
    },
    {
      "cell_type": "code",
      "metadata": {
        "colab": {
          "base_uri": "https://localhost:8080/"
        },
        "id": "O79jk5gOJf6Q",
        "outputId": "bc774285-e855-4fd7-fcbb-d4dd24cca8ce"
      },
      "source": [
        "!pip install pytorch-lightning"
      ],
      "execution_count": null,
      "outputs": [
        {
          "output_type": "stream",
          "name": "stdout",
          "text": [
            "Collecting pytorch-lightning\n",
            "  Downloading pytorch_lightning-1.4.8-py3-none-any.whl (924 kB)\n",
            "\u001b[?25l\r\u001b[K     |▍                               | 10 kB 26.1 MB/s eta 0:00:01\r\u001b[K     |▊                               | 20 kB 25.6 MB/s eta 0:00:01\r\u001b[K     |█                               | 30 kB 12.1 MB/s eta 0:00:01\r\u001b[K     |█▍                              | 40 kB 9.4 MB/s eta 0:00:01\r\u001b[K     |█▊                              | 51 kB 5.1 MB/s eta 0:00:01\r\u001b[K     |██▏                             | 61 kB 5.5 MB/s eta 0:00:01\r\u001b[K     |██▌                             | 71 kB 6.0 MB/s eta 0:00:01\r\u001b[K     |██▉                             | 81 kB 6.7 MB/s eta 0:00:01\r\u001b[K     |███▏                            | 92 kB 6.1 MB/s eta 0:00:01\r\u001b[K     |███▌                            | 102 kB 5.4 MB/s eta 0:00:01\r\u001b[K     |████                            | 112 kB 5.4 MB/s eta 0:00:01\r\u001b[K     |████▎                           | 122 kB 5.4 MB/s eta 0:00:01\r\u001b[K     |████▋                           | 133 kB 5.4 MB/s eta 0:00:01\r\u001b[K     |█████                           | 143 kB 5.4 MB/s eta 0:00:01\r\u001b[K     |█████▎                          | 153 kB 5.4 MB/s eta 0:00:01\r\u001b[K     |█████▊                          | 163 kB 5.4 MB/s eta 0:00:01\r\u001b[K     |██████                          | 174 kB 5.4 MB/s eta 0:00:01\r\u001b[K     |██████▍                         | 184 kB 5.4 MB/s eta 0:00:01\r\u001b[K     |██████▊                         | 194 kB 5.4 MB/s eta 0:00:01\r\u001b[K     |███████                         | 204 kB 5.4 MB/s eta 0:00:01\r\u001b[K     |███████▌                        | 215 kB 5.4 MB/s eta 0:00:01\r\u001b[K     |███████▉                        | 225 kB 5.4 MB/s eta 0:00:01\r\u001b[K     |████████▏                       | 235 kB 5.4 MB/s eta 0:00:01\r\u001b[K     |████████▌                       | 245 kB 5.4 MB/s eta 0:00:01\r\u001b[K     |████████▉                       | 256 kB 5.4 MB/s eta 0:00:01\r\u001b[K     |█████████▏                      | 266 kB 5.4 MB/s eta 0:00:01\r\u001b[K     |█████████▋                      | 276 kB 5.4 MB/s eta 0:00:01\r\u001b[K     |██████████                      | 286 kB 5.4 MB/s eta 0:00:01\r\u001b[K     |██████████▎                     | 296 kB 5.4 MB/s eta 0:00:01\r\u001b[K     |██████████▋                     | 307 kB 5.4 MB/s eta 0:00:01\r\u001b[K     |███████████                     | 317 kB 5.4 MB/s eta 0:00:01\r\u001b[K     |███████████▍                    | 327 kB 5.4 MB/s eta 0:00:01\r\u001b[K     |███████████▊                    | 337 kB 5.4 MB/s eta 0:00:01\r\u001b[K     |████████████                    | 348 kB 5.4 MB/s eta 0:00:01\r\u001b[K     |████████████▍                   | 358 kB 5.4 MB/s eta 0:00:01\r\u001b[K     |████████████▊                   | 368 kB 5.4 MB/s eta 0:00:01\r\u001b[K     |█████████████▏                  | 378 kB 5.4 MB/s eta 0:00:01\r\u001b[K     |█████████████▌                  | 389 kB 5.4 MB/s eta 0:00:01\r\u001b[K     |█████████████▉                  | 399 kB 5.4 MB/s eta 0:00:01\r\u001b[K     |██████████████▏                 | 409 kB 5.4 MB/s eta 0:00:01\r\u001b[K     |██████████████▌                 | 419 kB 5.4 MB/s eta 0:00:01\r\u001b[K     |███████████████                 | 430 kB 5.4 MB/s eta 0:00:01\r\u001b[K     |███████████████▎                | 440 kB 5.4 MB/s eta 0:00:01\r\u001b[K     |███████████████▋                | 450 kB 5.4 MB/s eta 0:00:01\r\u001b[K     |████████████████                | 460 kB 5.4 MB/s eta 0:00:01\r\u001b[K     |████████████████▎               | 471 kB 5.4 MB/s eta 0:00:01\r\u001b[K     |████████████████▊               | 481 kB 5.4 MB/s eta 0:00:01\r\u001b[K     |█████████████████               | 491 kB 5.4 MB/s eta 0:00:01\r\u001b[K     |█████████████████▍              | 501 kB 5.4 MB/s eta 0:00:01\r\u001b[K     |█████████████████▊              | 512 kB 5.4 MB/s eta 0:00:01\r\u001b[K     |██████████████████              | 522 kB 5.4 MB/s eta 0:00:01\r\u001b[K     |██████████████████▍             | 532 kB 5.4 MB/s eta 0:00:01\r\u001b[K     |██████████████████▉             | 542 kB 5.4 MB/s eta 0:00:01\r\u001b[K     |███████████████████▏            | 552 kB 5.4 MB/s eta 0:00:01\r\u001b[K     |███████████████████▌            | 563 kB 5.4 MB/s eta 0:00:01\r\u001b[K     |███████████████████▉            | 573 kB 5.4 MB/s eta 0:00:01\r\u001b[K     |████████████████████▏           | 583 kB 5.4 MB/s eta 0:00:01\r\u001b[K     |████████████████████▋           | 593 kB 5.4 MB/s eta 0:00:01\r\u001b[K     |█████████████████████           | 604 kB 5.4 MB/s eta 0:00:01\r\u001b[K     |█████████████████████▎          | 614 kB 5.4 MB/s eta 0:00:01\r\u001b[K     |█████████████████████▋          | 624 kB 5.4 MB/s eta 0:00:01\r\u001b[K     |██████████████████████          | 634 kB 5.4 MB/s eta 0:00:01\r\u001b[K     |██████████████████████▍         | 645 kB 5.4 MB/s eta 0:00:01\r\u001b[K     |██████████████████████▊         | 655 kB 5.4 MB/s eta 0:00:01\r\u001b[K     |███████████████████████         | 665 kB 5.4 MB/s eta 0:00:01\r\u001b[K     |███████████████████████▍        | 675 kB 5.4 MB/s eta 0:00:01\r\u001b[K     |███████████████████████▊        | 686 kB 5.4 MB/s eta 0:00:01\r\u001b[K     |████████████████████████▏       | 696 kB 5.4 MB/s eta 0:00:01\r\u001b[K     |████████████████████████▌       | 706 kB 5.4 MB/s eta 0:00:01\r\u001b[K     |████████████████████████▉       | 716 kB 5.4 MB/s eta 0:00:01\r\u001b[K     |█████████████████████████▏      | 727 kB 5.4 MB/s eta 0:00:01\r\u001b[K     |█████████████████████████▌      | 737 kB 5.4 MB/s eta 0:00:01\r\u001b[K     |█████████████████████████▉      | 747 kB 5.4 MB/s eta 0:00:01\r\u001b[K     |██████████████████████████▎     | 757 kB 5.4 MB/s eta 0:00:01\r\u001b[K     |██████████████████████████▋     | 768 kB 5.4 MB/s eta 0:00:01\r\u001b[K     |███████████████████████████     | 778 kB 5.4 MB/s eta 0:00:01\r\u001b[K     |███████████████████████████▎    | 788 kB 5.4 MB/s eta 0:00:01\r\u001b[K     |███████████████████████████▋    | 798 kB 5.4 MB/s eta 0:00:01\r\u001b[K     |████████████████████████████    | 808 kB 5.4 MB/s eta 0:00:01\r\u001b[K     |████████████████████████████▍   | 819 kB 5.4 MB/s eta 0:00:01\r\u001b[K     |████████████████████████████▊   | 829 kB 5.4 MB/s eta 0:00:01\r\u001b[K     |█████████████████████████████   | 839 kB 5.4 MB/s eta 0:00:01\r\u001b[K     |█████████████████████████████▍  | 849 kB 5.4 MB/s eta 0:00:01\r\u001b[K     |█████████████████████████████▉  | 860 kB 5.4 MB/s eta 0:00:01\r\u001b[K     |██████████████████████████████▏ | 870 kB 5.4 MB/s eta 0:00:01\r\u001b[K     |██████████████████████████████▌ | 880 kB 5.4 MB/s eta 0:00:01\r\u001b[K     |██████████████████████████████▉ | 890 kB 5.4 MB/s eta 0:00:01\r\u001b[K     |███████████████████████████████▏| 901 kB 5.4 MB/s eta 0:00:01\r\u001b[K     |███████████████████████████████▋| 911 kB 5.4 MB/s eta 0:00:01\r\u001b[K     |████████████████████████████████| 921 kB 5.4 MB/s eta 0:00:01\r\u001b[K     |████████████████████████████████| 924 kB 5.4 MB/s \n",
            "\u001b[?25hRequirement already satisfied: numpy>=1.17.2 in /usr/local/lib/python3.7/dist-packages (from pytorch-lightning) (1.19.5)\n",
            "Requirement already satisfied: packaging>=17.0 in /usr/local/lib/python3.7/dist-packages (from pytorch-lightning) (21.0)\n",
            "Collecting pyDeprecate==0.3.1\n",
            "  Downloading pyDeprecate-0.3.1-py3-none-any.whl (10 kB)\n",
            "Requirement already satisfied: torch>=1.6 in /usr/local/lib/python3.7/dist-packages (from pytorch-lightning) (1.9.0+cu102)\n",
            "Requirement already satisfied: tqdm>=4.41.0 in /usr/local/lib/python3.7/dist-packages (from pytorch-lightning) (4.62.3)\n",
            "Collecting PyYAML>=5.1\n",
            "  Downloading PyYAML-5.4.1-cp37-cp37m-manylinux1_x86_64.whl (636 kB)\n",
            "\u001b[K     |████████████████████████████████| 636 kB 39.5 MB/s \n",
            "\u001b[?25hCollecting future>=0.17.1\n",
            "  Downloading future-0.18.2.tar.gz (829 kB)\n",
            "\u001b[K     |████████████████████████████████| 829 kB 48.7 MB/s \n",
            "\u001b[?25hRequirement already satisfied: tensorboard>=2.2.0 in /usr/local/lib/python3.7/dist-packages (from pytorch-lightning) (2.6.0)\n",
            "Collecting fsspec[http]!=2021.06.0,>=2021.05.0\n",
            "  Downloading fsspec-2021.9.0-py3-none-any.whl (123 kB)\n",
            "\u001b[K     |████████████████████████████████| 123 kB 45.5 MB/s \n",
            "\u001b[?25hCollecting torchmetrics>=0.4.0\n",
            "  Downloading torchmetrics-0.5.1-py3-none-any.whl (282 kB)\n",
            "\u001b[K     |████████████████████████████████| 282 kB 52.2 MB/s \n",
            "\u001b[?25hRequirement already satisfied: typing-extensions in /usr/local/lib/python3.7/dist-packages (from pytorch-lightning) (3.7.4.3)\n",
            "Requirement already satisfied: requests in /usr/local/lib/python3.7/dist-packages (from fsspec[http]!=2021.06.0,>=2021.05.0->pytorch-lightning) (2.23.0)\n",
            "Collecting aiohttp\n",
            "  Downloading aiohttp-3.7.4.post0-cp37-cp37m-manylinux2014_x86_64.whl (1.3 MB)\n",
            "\u001b[K     |████████████████████████████████| 1.3 MB 41.0 MB/s \n",
            "\u001b[?25hRequirement already satisfied: pyparsing>=2.0.2 in /usr/local/lib/python3.7/dist-packages (from packaging>=17.0->pytorch-lightning) (2.4.7)\n",
            "Requirement already satisfied: tensorboard-plugin-wit>=1.6.0 in /usr/local/lib/python3.7/dist-packages (from tensorboard>=2.2.0->pytorch-lightning) (1.8.0)\n",
            "Requirement already satisfied: markdown>=2.6.8 in /usr/local/lib/python3.7/dist-packages (from tensorboard>=2.2.0->pytorch-lightning) (3.3.4)\n",
            "Requirement already satisfied: grpcio>=1.24.3 in /usr/local/lib/python3.7/dist-packages (from tensorboard>=2.2.0->pytorch-lightning) (1.40.0)\n",
            "Requirement already satisfied: protobuf>=3.6.0 in /usr/local/lib/python3.7/dist-packages (from tensorboard>=2.2.0->pytorch-lightning) (3.17.3)\n",
            "Requirement already satisfied: google-auth<2,>=1.6.3 in /usr/local/lib/python3.7/dist-packages (from tensorboard>=2.2.0->pytorch-lightning) (1.35.0)\n",
            "Requirement already satisfied: tensorboard-data-server<0.7.0,>=0.6.0 in /usr/local/lib/python3.7/dist-packages (from tensorboard>=2.2.0->pytorch-lightning) (0.6.1)\n",
            "Requirement already satisfied: absl-py>=0.4 in /usr/local/lib/python3.7/dist-packages (from tensorboard>=2.2.0->pytorch-lightning) (0.12.0)\n",
            "Requirement already satisfied: werkzeug>=0.11.15 in /usr/local/lib/python3.7/dist-packages (from tensorboard>=2.2.0->pytorch-lightning) (1.0.1)\n",
            "Requirement already satisfied: google-auth-oauthlib<0.5,>=0.4.1 in /usr/local/lib/python3.7/dist-packages (from tensorboard>=2.2.0->pytorch-lightning) (0.4.6)\n",
            "Requirement already satisfied: wheel>=0.26 in /usr/local/lib/python3.7/dist-packages (from tensorboard>=2.2.0->pytorch-lightning) (0.37.0)\n",
            "Requirement already satisfied: setuptools>=41.0.0 in /usr/local/lib/python3.7/dist-packages (from tensorboard>=2.2.0->pytorch-lightning) (57.4.0)\n",
            "Requirement already satisfied: six in /usr/local/lib/python3.7/dist-packages (from absl-py>=0.4->tensorboard>=2.2.0->pytorch-lightning) (1.15.0)\n",
            "Requirement already satisfied: rsa<5,>=3.1.4 in /usr/local/lib/python3.7/dist-packages (from google-auth<2,>=1.6.3->tensorboard>=2.2.0->pytorch-lightning) (4.7.2)\n",
            "Requirement already satisfied: pyasn1-modules>=0.2.1 in /usr/local/lib/python3.7/dist-packages (from google-auth<2,>=1.6.3->tensorboard>=2.2.0->pytorch-lightning) (0.2.8)\n",
            "Requirement already satisfied: cachetools<5.0,>=2.0.0 in /usr/local/lib/python3.7/dist-packages (from google-auth<2,>=1.6.3->tensorboard>=2.2.0->pytorch-lightning) (4.2.2)\n",
            "Requirement already satisfied: requests-oauthlib>=0.7.0 in /usr/local/lib/python3.7/dist-packages (from google-auth-oauthlib<0.5,>=0.4.1->tensorboard>=2.2.0->pytorch-lightning) (1.3.0)\n",
            "Requirement already satisfied: importlib-metadata in /usr/local/lib/python3.7/dist-packages (from markdown>=2.6.8->tensorboard>=2.2.0->pytorch-lightning) (4.8.1)\n",
            "Requirement already satisfied: pyasn1<0.5.0,>=0.4.6 in /usr/local/lib/python3.7/dist-packages (from pyasn1-modules>=0.2.1->google-auth<2,>=1.6.3->tensorboard>=2.2.0->pytorch-lightning) (0.4.8)\n",
            "Requirement already satisfied: certifi>=2017.4.17 in /usr/local/lib/python3.7/dist-packages (from requests->fsspec[http]!=2021.06.0,>=2021.05.0->pytorch-lightning) (2021.5.30)\n",
            "Requirement already satisfied: urllib3!=1.25.0,!=1.25.1,<1.26,>=1.21.1 in /usr/local/lib/python3.7/dist-packages (from requests->fsspec[http]!=2021.06.0,>=2021.05.0->pytorch-lightning) (1.24.3)\n",
            "Requirement already satisfied: chardet<4,>=3.0.2 in /usr/local/lib/python3.7/dist-packages (from requests->fsspec[http]!=2021.06.0,>=2021.05.0->pytorch-lightning) (3.0.4)\n",
            "Requirement already satisfied: idna<3,>=2.5 in /usr/local/lib/python3.7/dist-packages (from requests->fsspec[http]!=2021.06.0,>=2021.05.0->pytorch-lightning) (2.10)\n",
            "Requirement already satisfied: oauthlib>=3.0.0 in /usr/local/lib/python3.7/dist-packages (from requests-oauthlib>=0.7.0->google-auth-oauthlib<0.5,>=0.4.1->tensorboard>=2.2.0->pytorch-lightning) (3.1.1)\n",
            "Requirement already satisfied: attrs>=17.3.0 in /usr/local/lib/python3.7/dist-packages (from aiohttp->fsspec[http]!=2021.06.0,>=2021.05.0->pytorch-lightning) (21.2.0)\n",
            "Collecting yarl<2.0,>=1.0\n",
            "  Downloading yarl-1.6.3-cp37-cp37m-manylinux2014_x86_64.whl (294 kB)\n",
            "\u001b[K     |████████████████████████████████| 294 kB 47.2 MB/s \n",
            "\u001b[?25hCollecting async-timeout<4.0,>=3.0\n",
            "  Downloading async_timeout-3.0.1-py3-none-any.whl (8.2 kB)\n",
            "Collecting multidict<7.0,>=4.5\n",
            "  Downloading multidict-5.1.0-cp37-cp37m-manylinux2014_x86_64.whl (142 kB)\n",
            "\u001b[K     |████████████████████████████████| 142 kB 50.7 MB/s \n",
            "\u001b[?25hRequirement already satisfied: zipp>=0.5 in /usr/local/lib/python3.7/dist-packages (from importlib-metadata->markdown>=2.6.8->tensorboard>=2.2.0->pytorch-lightning) (3.5.0)\n",
            "Building wheels for collected packages: future\n",
            "  Building wheel for future (setup.py) ... \u001b[?25l\u001b[?25hdone\n",
            "  Created wheel for future: filename=future-0.18.2-py3-none-any.whl size=491070 sha256=ff6c6a9d4b9b84e811018317e97737a91f2d81d41b9daa21348f9cbddcc45b67\n",
            "  Stored in directory: /root/.cache/pip/wheels/56/b0/fe/4410d17b32f1f0c3cf54cdfb2bc04d7b4b8f4ae377e2229ba0\n",
            "Successfully built future\n",
            "Installing collected packages: multidict, yarl, async-timeout, fsspec, aiohttp, torchmetrics, PyYAML, pyDeprecate, future, pytorch-lightning\n",
            "  Attempting uninstall: PyYAML\n",
            "    Found existing installation: PyYAML 3.13\n",
            "    Uninstalling PyYAML-3.13:\n",
            "      Successfully uninstalled PyYAML-3.13\n",
            "  Attempting uninstall: future\n",
            "    Found existing installation: future 0.16.0\n",
            "    Uninstalling future-0.16.0:\n",
            "      Successfully uninstalled future-0.16.0\n",
            "Successfully installed PyYAML-5.4.1 aiohttp-3.7.4.post0 async-timeout-3.0.1 fsspec-2021.9.0 future-0.18.2 multidict-5.1.0 pyDeprecate-0.3.1 pytorch-lightning-1.4.8 torchmetrics-0.5.1 yarl-1.6.3\n"
          ]
        }
      ]
    },
    {
      "cell_type": "code",
      "metadata": {
        "id": "eNcQqQRNuZXq"
      },
      "source": [
        "import torch\n",
        "import torch.nn as nn\n",
        "import torch.nn.functional as F\n",
        "from torch.utils.data import DataLoader, TensorDataset, random_split\n",
        "from torch.optim import Adam\n",
        "import pytorch_lightning\n",
        "from torchvision import transforms, datasets"
      ],
      "execution_count": null,
      "outputs": []
    },
    {
      "cell_type": "code",
      "metadata": {
        "id": "hxqLDk2Huoda"
      },
      "source": [
        "device = torch.device('cuda')"
      ],
      "execution_count": null,
      "outputs": []
    },
    {
      "cell_type": "code",
      "metadata": {
        "id": "Uo7d-UMWJo1R"
      },
      "source": [
        "GPU_COUNT = min(1, torch.cuda.device_count())\n",
        "BATCH_SIZE = 256 if torch.cuda.is_available() else 64"
      ],
      "execution_count": null,
      "outputs": []
    },
    {
      "cell_type": "code",
      "metadata": {
        "colab": {
          "base_uri": "https://localhost:8080/",
          "height": 311
        },
        "id": "TNKiCgo1Joxw",
        "outputId": "d4102179-8ca1-4a68-fe88-e15426f216f1"
      },
      "source": [
        "train_data, val_data = random_split(TensorDataset(full_training_data), [40000,20000])"
      ],
      "execution_count": null,
      "outputs": [
        {
          "output_type": "error",
          "ename": "AttributeError",
          "evalue": "ignored",
          "traceback": [
            "\u001b[0;31m---------------------------------------------------------------------------\u001b[0m",
            "\u001b[0;31mAttributeError\u001b[0m                            Traceback (most recent call last)",
            "\u001b[0;32m<ipython-input-12-0118e67c0e7f>\u001b[0m in \u001b[0;36m<module>\u001b[0;34m()\u001b[0m\n\u001b[0;32m----> 1\u001b[0;31m \u001b[0mtrain_data\u001b[0m\u001b[0;34m,\u001b[0m \u001b[0mval_data\u001b[0m \u001b[0;34m=\u001b[0m \u001b[0mrandom_split\u001b[0m\u001b[0;34m(\u001b[0m\u001b[0mTensorDataset\u001b[0m\u001b[0;34m(\u001b[0m\u001b[0mfull_training_data\u001b[0m\u001b[0;34m)\u001b[0m\u001b[0;34m,\u001b[0m \u001b[0;34m[\u001b[0m\u001b[0;36m40000\u001b[0m\u001b[0;34m,\u001b[0m\u001b[0;36m20000\u001b[0m\u001b[0;34m]\u001b[0m\u001b[0;34m)\u001b[0m\u001b[0;34m\u001b[0m\u001b[0;34m\u001b[0m\u001b[0m\n\u001b[0m",
            "\u001b[0;32m/usr/local/lib/python3.7/dist-packages/torch/utils/data/dataset.py\u001b[0m in \u001b[0;36m__init__\u001b[0;34m(self, *tensors)\u001b[0m\n\u001b[1;32m    203\u001b[0m \u001b[0;34m\u001b[0m\u001b[0m\n\u001b[1;32m    204\u001b[0m     \u001b[0;32mdef\u001b[0m \u001b[0m__init__\u001b[0m\u001b[0;34m(\u001b[0m\u001b[0mself\u001b[0m\u001b[0;34m,\u001b[0m \u001b[0;34m*\u001b[0m\u001b[0mtensors\u001b[0m\u001b[0;34m:\u001b[0m \u001b[0mTensor\u001b[0m\u001b[0;34m)\u001b[0m \u001b[0;34m->\u001b[0m \u001b[0;32mNone\u001b[0m\u001b[0;34m:\u001b[0m\u001b[0;34m\u001b[0m\u001b[0;34m\u001b[0m\u001b[0m\n\u001b[0;32m--> 205\u001b[0;31m         \u001b[0;32massert\u001b[0m \u001b[0mall\u001b[0m\u001b[0;34m(\u001b[0m\u001b[0mtensors\u001b[0m\u001b[0;34m[\u001b[0m\u001b[0;36m0\u001b[0m\u001b[0;34m]\u001b[0m\u001b[0;34m.\u001b[0m\u001b[0msize\u001b[0m\u001b[0;34m(\u001b[0m\u001b[0;36m0\u001b[0m\u001b[0;34m)\u001b[0m \u001b[0;34m==\u001b[0m \u001b[0mtensor\u001b[0m\u001b[0;34m.\u001b[0m\u001b[0msize\u001b[0m\u001b[0;34m(\u001b[0m\u001b[0;36m0\u001b[0m\u001b[0;34m)\u001b[0m \u001b[0;32mfor\u001b[0m \u001b[0mtensor\u001b[0m \u001b[0;32min\u001b[0m \u001b[0mtensors\u001b[0m\u001b[0;34m)\u001b[0m\u001b[0;34m,\u001b[0m \u001b[0;34m\"Size mismatch between tensors\"\u001b[0m\u001b[0;34m\u001b[0m\u001b[0;34m\u001b[0m\u001b[0m\n\u001b[0m\u001b[1;32m    206\u001b[0m         \u001b[0mself\u001b[0m\u001b[0;34m.\u001b[0m\u001b[0mtensors\u001b[0m \u001b[0;34m=\u001b[0m \u001b[0mtensors\u001b[0m\u001b[0;34m\u001b[0m\u001b[0;34m\u001b[0m\u001b[0m\n\u001b[1;32m    207\u001b[0m \u001b[0;34m\u001b[0m\u001b[0m\n",
            "\u001b[0;32m/usr/local/lib/python3.7/dist-packages/torch/utils/data/dataset.py\u001b[0m in \u001b[0;36m<genexpr>\u001b[0;34m(.0)\u001b[0m\n\u001b[1;32m    203\u001b[0m \u001b[0;34m\u001b[0m\u001b[0m\n\u001b[1;32m    204\u001b[0m     \u001b[0;32mdef\u001b[0m \u001b[0m__init__\u001b[0m\u001b[0;34m(\u001b[0m\u001b[0mself\u001b[0m\u001b[0;34m,\u001b[0m \u001b[0;34m*\u001b[0m\u001b[0mtensors\u001b[0m\u001b[0;34m:\u001b[0m \u001b[0mTensor\u001b[0m\u001b[0;34m)\u001b[0m \u001b[0;34m->\u001b[0m \u001b[0;32mNone\u001b[0m\u001b[0;34m:\u001b[0m\u001b[0;34m\u001b[0m\u001b[0;34m\u001b[0m\u001b[0m\n\u001b[0;32m--> 205\u001b[0;31m         \u001b[0;32massert\u001b[0m \u001b[0mall\u001b[0m\u001b[0;34m(\u001b[0m\u001b[0mtensors\u001b[0m\u001b[0;34m[\u001b[0m\u001b[0;36m0\u001b[0m\u001b[0;34m]\u001b[0m\u001b[0;34m.\u001b[0m\u001b[0msize\u001b[0m\u001b[0;34m(\u001b[0m\u001b[0;36m0\u001b[0m\u001b[0;34m)\u001b[0m \u001b[0;34m==\u001b[0m \u001b[0mtensor\u001b[0m\u001b[0;34m.\u001b[0m\u001b[0msize\u001b[0m\u001b[0;34m(\u001b[0m\u001b[0;36m0\u001b[0m\u001b[0;34m)\u001b[0m \u001b[0;32mfor\u001b[0m \u001b[0mtensor\u001b[0m \u001b[0;32min\u001b[0m \u001b[0mtensors\u001b[0m\u001b[0;34m)\u001b[0m\u001b[0;34m,\u001b[0m \u001b[0;34m\"Size mismatch between tensors\"\u001b[0m\u001b[0;34m\u001b[0m\u001b[0;34m\u001b[0m\u001b[0m\n\u001b[0m\u001b[1;32m    206\u001b[0m         \u001b[0mself\u001b[0m\u001b[0;34m.\u001b[0m\u001b[0mtensors\u001b[0m \u001b[0;34m=\u001b[0m \u001b[0mtensors\u001b[0m\u001b[0;34m\u001b[0m\u001b[0;34m\u001b[0m\u001b[0m\n\u001b[1;32m    207\u001b[0m \u001b[0;34m\u001b[0m\u001b[0m\n",
            "\u001b[0;31mAttributeError\u001b[0m: 'tuple' object has no attribute 'size'"
          ]
        }
      ]
    },
    {
      "cell_type": "code",
      "metadata": {
        "id": "pu4JO-DrKdam"
      },
      "source": [
        "train_loader = DataLoader()"
      ],
      "execution_count": null,
      "outputs": []
    },
    {
      "cell_type": "code",
      "metadata": {
        "id": "WM3n6OdVK-lU"
      },
      "source": [
        "class MNIST_Lightning(pl.LightningModule):\n",
        "\n",
        "    def __innit__(self, train_loader, val_loader=None, test_loader = None, learning_rate=0.001):\n",
        "        super(MNIST_Lightning, self).__init__()\n",
        "\n",
        "        self.train_loader = train_loader\n",
        "        self.val_loader = val_loader\n",
        "        self.test_loader = test_loader\n",
        "        self.learning_rate = learning_rate\n",
        "        self.h1 = nn.Linear(in_features=28*28, out_features=128)\n",
        "        self.out = nn.Linear(in_features=128, out_features=10)\n",
        "\n",
        "    def forward(self, x):\n",
        "\n",
        "        x = x.view(x.size()[0],-1)\n",
        "        x = self.h1(x)\n",
        "        x = F.relu(x)\n",
        "        x = self.out(x)\n",
        "        return x\n",
        "\n",
        "    def training_step(self, batch, batch_idx):\n",
        "        x, y = batch\n",
        "        output = torch.softmax(self(x), dim=1)\n",
        "        loss = F.cross_entropy(output, y)\n",
        "        return loss\n",
        "\n",
        "    def validation_step(self, batch, batch_idx):\n",
        "        x,y = batch\n",
        "        output = torch.softmax(self(x), dim=1)\n",
        "        loss = F.cross_entropy(output, y)\n",
        "        pred = torch.argmax(output, dim=1)\n",
        "        acc = accuracy(pred, y)\n",
        "\n",
        "        self.log('Validation loss', loss, prog_bar = True)\n",
        "        self.log('Validation accuracy', acc, prog_bar=True)\n",
        "\n",
        "        return loss\n",
        "\n",
        "        def test_step(self, batch, batch_idx):\n",
        "            return self.validation_step(batch, batch_idx)\n",
        "\n",
        "        def train_dataloader(self):\n",
        "            return self.train_loader\n",
        "        \n",
        "        def val_dataloader(self):\n",
        "            return self.val_loader\n",
        "\n",
        "        def test_dataloader(self):\n",
        "            return self.test_loader\n",
        "\n",
        "        def configure_optimizers(self):\n",
        "            return Adm(self.parameters(), lr = self.learning_rate)\n"
      ],
      "execution_count": null,
      "outputs": []
    },
    {
      "cell_type": "code",
      "metadata": {
        "id": "FnNOfI-WTayx"
      },
      "source": [
        "model = MNIST_Lightning(train_loader, val_loader=val_loader, test_loader=test_loader)\n",
        "trainer = pl.Trainer(\n",
        "    gpus = GPU_COUNT,\n",
        "    max_epochs = 50,\n",
        "    progress_bar_reresh_rate=20\n",
        ") "
      ],
      "execution_count": null,
      "outputs": []
    },
    {
      "cell_type": "code",
      "metadata": {
        "id": "woe3LQe2Tyyf"
      },
      "source": [
        "trainer.fit(model)"
      ],
      "execution_count": null,
      "outputs": []
    }
  ]
}