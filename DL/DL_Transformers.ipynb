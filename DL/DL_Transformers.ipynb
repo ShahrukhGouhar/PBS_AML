{
  "nbformat": 4,
  "nbformat_minor": 0,
  "metadata": {
    "colab": {
      "name": "DL_Transformers.ipynb",
      "provenance": [],
      "collapsed_sections": [
        "2TOPZJvcquJM",
        "8I9St1naonCz",
        "cwXM-8Ba7wfI",
        "t5HAdLSUoqKB",
        "4SZuHPRpo6yU"
      ]
    },
    "kernelspec": {
      "name": "python3",
      "display_name": "Python 3"
    },
    "language_info": {
      "name": "python"
    },
    "accelerator": "GPU"
  },
  "cells": [
    {
      "cell_type": "markdown",
      "metadata": {
        "id": "2TOPZJvcquJM"
      },
      "source": [
        "# Initialization"
      ]
    },
    {
      "cell_type": "code",
      "metadata": {
        "id": "ebJFFZnR8oTr"
      },
      "source": [
        "import torch\n",
        "import torch.nn as nn\n",
        "# from torch.optim import Adam"
      ],
      "execution_count": null,
      "outputs": []
    },
    {
      "cell_type": "markdown",
      "metadata": {
        "id": "8I9St1naonCz"
      },
      "source": [
        "# Self-attention module"
      ]
    },
    {
      "cell_type": "code",
      "metadata": {
        "id": "gNN0gFKUAGuq"
      },
      "source": [
        "class SelfAttention(nn.Module):\n",
        "\n",
        "    def __init__(self, embed_size, heads):\n",
        "\n",
        "        super(SelfAttention, self).__init__()\n",
        "\n",
        "        self.embed_size = embed_size\n",
        "        self.heads = heads\n",
        "        self.head_dim = embed_size // heads\n",
        "\n",
        "        assert (self.head_dim * heads == embed_size), \"Embed size needs to be divisible by heads\"\n",
        "\n",
        "        # Working individually in each head\n",
        "        self.value_weights  = nn.Linear(self.head_dim, self.head_dim, bias=False)\n",
        "        self.key_weights    = nn.Linear(self.head_dim, self.head_dim, bias=False)\n",
        "        self.query_weights = nn.Linear(self.head_dim, self.head_dim, bias=False)\n",
        "\n",
        "        # Concatenating the heads with Wz\n",
        "        self.fc_out  = nn.Linear(heads*self.head_dim, self.embed_size)\n",
        "\n",
        "    def forward(self, values, keys, query, mask):\n",
        "\n",
        "        N = query.shape[0] # 2\n",
        "        value_len, key_len, query_len = values.shape[1], keys.shape[1], query.shape[1] # 9\n",
        "\n",
        "        # Current shape of keys, query and values = (2, 9, 512) [Batch, Sequence_length, Embed_size]\n",
        "        \n",
        "        # Split embedding into multiple heads\n",
        "\n",
        "        values  = values.reshape(N, value_len, self.heads, self.head_dim) # Shape = (2,9,4,128)\n",
        "        keys    = keys.reshape(N, key_len, self.heads, self.head_dim) # Shape = (2,9,4,128)\n",
        "        queries = query.reshape(N, query_len, self.heads, self.head_dim) # Shape = (2,9,4,128)\n",
        "\n",
        "        values = self.value_weights(values)\n",
        "        keys = self.key_weights(keys)\n",
        "        queries = self.query_weights(queries)\n",
        "\n",
        "        energy = torch.einsum(\"nqhd,nkhd->nhqk\",[queries, keys]) # Shape = [2, 4, 9, 9]\n",
        "        # queries shape: (N, query_len, heads, head_dim)\n",
        "        # keys shape:    (N, key_len,   heads, head_dim)\n",
        "        # energy shape:  (N, heads, query_len, key_len)\n",
        "       \n",
        "        if mask is not None:  # Masking for decoder block and BERT\n",
        "            energy = energy.masked_fill(mask==0, float(\"-1e20\"))\n",
        "\n",
        "        attended = torch.softmax(energy / (self.embed_size**0.5), dim=3) # Shape = [2, 4, 9, 9]  Why we are taking the dim as 3? https://stackoverflow.com/questions/49036993/pytorch-softmax-what-dimension-to-use\n",
        "        # We are keeping the softmax dim as 3, i.e. keys, because we want the total prob of keys' association with the query as 1\n",
        "        # attention shape: (N, heads, query_len, key_len)\n",
        "\n",
        "        out = torch.einsum(\"nhql,nlhd->nqhd\",[attended, values]).reshape(N, query_len, self.heads*self.head_dim)  # Shape = (2, 9, 512)\n",
        "        # attention shape: (N, heads, query_len, key_len)\n",
        "        # values shape :   (N, value_len,   heads, head_dim)\n",
        "        # out shape: (N, query_len, heads, head_dim) then flatten by concatenating\n",
        "\n",
        "        out = self.fc_out(out)  # Shape = (2, 9, 512)\n",
        "\n",
        "        return out"
      ],
      "execution_count": null,
      "outputs": []
    },
    {
      "cell_type": "markdown",
      "metadata": {
        "id": "cwXM-8Ba7wfI"
      },
      "source": [
        "# Internal transformer block"
      ]
    },
    {
      "cell_type": "code",
      "metadata": {
        "id": "OKvI3gQ9FJTb"
      },
      "source": [
        "class TransformerBlock(nn.Module):\n",
        "\n",
        "    def __init__(self, embed_size, heads, dropout, forward_expansion):\n",
        "\n",
        "        super(TransformerBlock, self).__init__()\n",
        "\n",
        "        self.attention = SelfAttention(embed_size, heads)\n",
        "        self.norm1 = nn.LayerNorm(embed_size)\n",
        "\n",
        "        self.feed_forward = nn.Sequential(\n",
        "            nn.Linear(embed_size, forward_expansion*embed_size),\n",
        "            nn.ReLU(),\n",
        "            nn.Linear(forward_expansion*embed_size, embed_size)\n",
        "        )\n",
        "\n",
        "        self.drop = nn.Dropout(dropout)\n",
        "\n",
        "        self.norm2 = nn.LayerNorm(embed_size) ###### 512!!!!!!!!!!!!!!!!!!!!!!!!!!!!!!!!    Each word is normalised in the sequence on its own\n",
        "\n",
        "    def forward(self, value, key, query, mask):\n",
        "    \n",
        "    # Receiving the word + positional embeddings combined , mask\n",
        "\n",
        "        attention = self.attention(value, key, query, mask) # Shape: (2,9,512) ###################### Attention layer\n",
        "\n",
        "        x = self.drop(self.norm1(attention + query))        # Normalization layer\n",
        "        \n",
        "        forward = self.feed_forward(x)                      # MLP       \n",
        "\n",
        "        out = self.drop(self.norm2(forward + x)) # Shape: (2,9,512) #Normalization layer\n",
        "\n",
        "        # print(\"Attention: \", attention)\n",
        "        # print(\"Query: \", query)\n",
        "        # print(\"Key: \", key)\n",
        "        # print(\"Value: \", value)\n",
        "\n",
        "        return out"
      ],
      "execution_count": null,
      "outputs": []
    },
    {
      "cell_type": "markdown",
      "metadata": {
        "id": "t5HAdLSUoqKB"
      },
      "source": [
        "# Encoder"
      ]
    },
    {
      "cell_type": "code",
      "metadata": {
        "id": "Rqiw3YtOHi4b"
      },
      "source": [
        "class Encoder(nn.Module):\n",
        "\n",
        "    def __init__(\n",
        "        self,\n",
        "        src_vocab_size,\n",
        "        embed_size,\n",
        "        num_layers,\n",
        "        heads,\n",
        "        device,\n",
        "        forward_expansion,\n",
        "        dropout,\n",
        "        max_length):\n",
        "\n",
        "        super(Encoder, self).__init__()\n",
        "\n",
        "        self.embed_size = embed_size\n",
        "        self.device = device\n",
        "        self.word_embedding = nn.Embedding(src_vocab_size, embed_size) # 10 , 512\n",
        "        self.position_embedding = nn.Embedding(max_length, embed_size) # 100, 512\n",
        "\n",
        "        self.layers = nn.ModuleList(\n",
        "            [\n",
        "             TransformerBlock(\n",
        "                 embed_size,\n",
        "                 heads,\n",
        "                 dropout=dropout,\n",
        "                 forward_expansion = forward_expansion\n",
        "             ) for _ in range(num_layers)\n",
        "            ]\n",
        "        )\n",
        "\n",
        "        self.drop = nn.Dropout(dropout)\n",
        "\n",
        "    def forward(self, x, mask):\n",
        "\n",
        "        N, seq_length = x.shape  # 2, 9\n",
        "\n",
        "        positions = torch.arange(0,seq_length).expand(N, seq_length).to(device)       # Tensor:    [[0, 1, 2, 3, 4, 5, 6, 7, 8], [0, 1, 2, 3, 4, 5, 6, 7, 8]]\n",
        "        \n",
        "        out = self.drop(self.word_embedding(x) + self.position_embedding(positions))  # out is sum of 'word' & 'position' embedding values with shape [2,9,512]\n",
        "\n",
        "        for layer in self.layers: \n",
        "            out = layer(out, out, out, mask) # value, key, query, mask\n",
        "\n",
        "        return out"
      ],
      "execution_count": null,
      "outputs": []
    },
    {
      "cell_type": "markdown",
      "metadata": {
        "id": "4SZuHPRpo6yU"
      },
      "source": [
        "# Encoder init"
      ]
    },
    {
      "cell_type": "code",
      "metadata": {
        "id": "-WQiuEP8Ukr2"
      },
      "source": [
        "device = torch.device(\"cuda\")\n",
        "enc = Encoder(\n",
        "        src_vocab_size=10,   # This is the max\n",
        "        embed_size=512,\n",
        "        num_layers=6,\n",
        "        forward_expansion=4,\n",
        "        heads=4,\n",
        "        dropout=0,\n",
        "        device=torch.device(\"cuda\"),\n",
        "        max_length=100)\n",
        "enc = enc.to(device)\n",
        "x = torch.tensor([[1, 5, 6, 4, 3, 9, 5, 2, 0], [1, 8, 7, 3, 4, 5, 6, 7, 2]]).to(device)"
      ],
      "execution_count": null,
      "outputs": []
    },
    {
      "cell_type": "code",
      "metadata": {
        "id": "Z5fiDGWC0iGh"
      },
      "source": [
        "encoded_input = enc(x, mask=None)"
      ],
      "execution_count": null,
      "outputs": []
    },
    {
      "cell_type": "code",
      "metadata": {
        "colab": {
          "base_uri": "https://localhost:8080/"
        },
        "id": "cvLDH191oKhV",
        "outputId": "a968cd59-63e5-4cbf-8679-bf0128ef95da"
      },
      "source": [
        "encoded_input.shape"
      ],
      "execution_count": null,
      "outputs": [
        {
          "output_type": "execute_result",
          "data": {
            "text/plain": [
              "torch.Size([2, 9, 512])"
            ]
          },
          "metadata": {},
          "execution_count": 29
        }
      ]
    },
    {
      "cell_type": "markdown",
      "metadata": {
        "id": "pxsrCOqXowYA"
      },
      "source": [
        "# Decoder"
      ]
    },
    {
      "cell_type": "code",
      "metadata": {
        "id": "gyrAly0NNMfy"
      },
      "source": [
        "class DecoderBlock(nn.Module):\n",
        "\n",
        "    def __init__(self, embed_size, heads, forward_expansion, dropout, device):\n",
        "\n",
        "        super(DecoderBlock, self).__init__()\n",
        "\n",
        "        self.attention = SelfAttention(embed_size, heads)\n",
        "        self.norm = nn.LayerNorm(embed_size)\n",
        "        # self.dropout = dropout\n",
        "        self.transformer_block =TransformerBlock(\n",
        "            embed_size, heads, dropout, forward_expansion\n",
        "        )\n",
        "        self.drop = nn.Dropout(dropout)\n",
        "\n",
        "    def forward(self, x, value, key, src_mask, trg_mask):\n",
        "\n",
        "        # Masked multi-head attention\n",
        "        attention = self.attention(x,x,x,trg_mask) # value, key, query, mask\n",
        "\n",
        "        query = self.drop(self.norm(attention+x))\n",
        "\n",
        "        # Main transformer block including the interaction attention block\n",
        "        # Note that the query is coming from the MM attention unit, i.e. indirectly the target\n",
        "        out = self.transformer_block(value, key, query, src_mask)\n",
        "        return out"
      ],
      "execution_count": null,
      "outputs": []
    },
    {
      "cell_type": "code",
      "metadata": {
        "id": "N007yQkhOimq"
      },
      "source": [
        "class Decoder(nn.Module):\n",
        "\n",
        "    def __init__(\n",
        "        self,\n",
        "        trg_vocab_size,\n",
        "        embed_size,\n",
        "        num_layers,\n",
        "        heads,\n",
        "        forward_expansion,\n",
        "        dropout,\n",
        "        device,\n",
        "        max_length\n",
        "        ):\n",
        "\n",
        "        super(Decoder, self).__init__()\n",
        "\n",
        "        self.device = device\n",
        "        self.word_embedding = nn.Embedding(trg_vocab_size, embed_size)\n",
        "        self.position_embedding = nn.Embedding(max_length, embed_size)\n",
        "\n",
        "        self.layers = nn.ModuleList(\n",
        "            [DecoderBlock(\n",
        "                embed_size, heads, forward_expansion, dropout, device\n",
        "                ) for _ in range(num_layers)\n",
        "            ]\n",
        "        )\n",
        "\n",
        "        self.fc_out = nn.Linear(embed_size, trg_vocab_size)\n",
        "        self.drop = nn.Dropout(dropout)\n",
        "    \n",
        "    def forward(self, x, enc_out, src_mask, trg_mask):\n",
        "        \n",
        "        N, seq_length = x.shape\n",
        "        positions = torch.arange(0, seq_length).expand(N, seq_length).to(device) # absolutely similar to encoder\n",
        "        x = self.drop((self.word_embedding(x) + self.position_embedding(positions)))\n",
        "\n",
        "        # Entering into the decoder block\n",
        "        for layer in self.layers:\n",
        "            x = layer(x, enc_out, enc_out, src_mask, trg_mask) # x, value, key\n",
        "            # Here x is from the trg dataset. value and key are encoder outputs coming from the encoder block\n",
        "            # x goes into the MM attention unit and generates the query, value and key are used from the encoded data to predict the next target\n",
        "        \n",
        "        out = torch.softmax(self.fc_out(x), dim=2)\n",
        "\n",
        "        return out"
      ],
      "execution_count": null,
      "outputs": []
    },
    {
      "cell_type": "markdown",
      "metadata": {
        "id": "aICxiUjPo2P_"
      },
      "source": [
        "# Transformer"
      ]
    },
    {
      "cell_type": "code",
      "metadata": {
        "id": "TyTZWShjQVun"
      },
      "source": [
        "class Transformer(nn.Module):\n",
        "    \n",
        "    def __init__(\n",
        "        self,\n",
        "        src_vocab_size,\n",
        "        trg_vocab_size,\n",
        "        src_pad_idx,\n",
        "        trg_pad_idx,\n",
        "        embed_size=512,\n",
        "        num_layers=6,\n",
        "        forward_expansion=4,\n",
        "        heads=4,\n",
        "        dropout=0,\n",
        "        device=\"cuda\",\n",
        "        max_length=100):\n",
        "\n",
        "        super(Transformer, self).__init__()\n",
        "\n",
        "        self.encoder = Encoder(\n",
        "            src_vocab_size,\n",
        "            embed_size,\n",
        "            num_layers,\n",
        "            heads,\n",
        "            device,\n",
        "            forward_expansion,\n",
        "            dropout,\n",
        "            max_length)\n",
        "        \n",
        "        self.decoder = Decoder(\n",
        "            trg_vocab_size,\n",
        "            embed_size,\n",
        "            num_layers,\n",
        "            heads,\n",
        "            forward_expansion,\n",
        "            dropout,\n",
        "            device,\n",
        "            max_length)\n",
        "        \n",
        "        self.src_pad_idx = src_pad_idx\n",
        "        self.trg_pad_idx = trg_pad_idx\n",
        "        self.device = device\n",
        "\n",
        "    def make_src_mask(self, src):\n",
        "        src_mask = (src!= self.src_pad_idx).unsqueeze(1).unsqueeze(2)\n",
        "        # (N, 1, 1, src_len)\n",
        "        return src_mask.to(device)\n",
        "\n",
        "    def make_trg_mask(self, trg):\n",
        "        N, trg_len = trg.shape\n",
        "        trg_mask = torch.tril(torch.ones(trg_len, trg_len)).expand(N,1,trg_len, trg_len)\n",
        "\n",
        "        return trg_mask.to(device)\n",
        "\n",
        "    def forward(self, src, trg):\n",
        "        src_mask = self.make_src_mask(src)\n",
        "        trg_mask = self.make_trg_mask(trg)\n",
        "        enc_src  = self.encoder(src, src_mask)\n",
        "        out      = self.decoder(trg, enc_src, src_mask, trg_mask)\n",
        "        return out"
      ],
      "execution_count": null,
      "outputs": []
    },
    {
      "cell_type": "markdown",
      "metadata": {
        "id": "jMt3VckNo4Eu"
      },
      "source": [
        "# Transformer init"
      ]
    },
    {
      "cell_type": "code",
      "metadata": {
        "colab": {
          "base_uri": "https://localhost:8080/"
        },
        "id": "rFevRMBVSn3O",
        "outputId": "94232a9e-2fe5-4d90-d47f-8cf41cccfde1"
      },
      "source": [
        "device = torch.device(\"cuda\")\n",
        "x = torch.tensor([[1, 5, 6, 4, 3, 9, 5, 2, 0], [1, 8, 7, 3, 4, 5, 6, 7, 2]]).to(device)\n",
        "trg = torch.tensor([[0, 1, 7, 4, 3, 5, 9, 2, 0], [0, 1, 5, 6, 2, 4, 7, 6, 2]]).to(device)\n",
        "\n",
        "src_pad_idx, trg_pad_idx = 0, 0\n",
        "src_vocab_size, trg_vocab_size = 10, 10\n",
        "\n",
        "model = Transformer(src_vocab_size, trg_vocab_size, src_pad_idx, trg_pad_idx).to(device)\n",
        "\n",
        "out = model(x, trg[:,:-1]).argmax(axis=2)\n",
        "print(out.shape)"
      ],
      "execution_count": null,
      "outputs": [
        {
          "output_type": "stream",
          "name": "stdout",
          "text": [
            "torch.Size([2, 8])\n"
          ]
        }
      ]
    },
    {
      "cell_type": "code",
      "metadata": {
        "id": "KZ9CezJApQQp",
        "colab": {
          "base_uri": "https://localhost:8080/"
        },
        "outputId": "fca6e82c-3b8e-4e6a-cbe4-c296ffbe7967"
      },
      "source": [
        "out"
      ],
      "execution_count": null,
      "outputs": [
        {
          "output_type": "execute_result",
          "data": {
            "text/plain": [
              "tensor([[5, 5, 2, 2, 9, 4, 2, 2],\n",
              "        [5, 6, 8, 8, 8, 2, 3, 7]], device='cuda:0')"
            ]
          },
          "metadata": {},
          "execution_count": 40
        }
      ]
    },
    {
      "cell_type": "code",
      "metadata": {
        "id": "YU53RMrZTPaG"
      },
      "source": [
        ""
      ],
      "execution_count": null,
      "outputs": []
    }
  ]
}